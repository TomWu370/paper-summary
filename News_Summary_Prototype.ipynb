{
 "cells": [
  {
   "cell_type": "markdown",
   "metadata": {
    "id": "LR4bovYL4CJz"
   },
   "source": [
    "## Dissertation Project - News Summary Dissertation [100 marks]\n",
    "\n",
    "### Motivation \n",
    "\n",
    "> 1. Provide tools for anyone needing to speed up their research process\n",
    "> 2. Providing ways for user to quickly determine whether a piece of research is beneficial for their specific search terms\n",
    "\n",
    "\n"
   ]
  },
  {
   "cell_type": "code",
   "execution_count": 290,
   "metadata": {},
   "outputs": [
    {
     "data": {
      "text/html": [
       "<script>\n",
       "code_show=true; \n",
       "function code_toggle() {\n",
       " if (code_show){\n",
       " $('div.input').hide();\n",
       " } else {\n",
       " $('div.input').show();\n",
       " }\n",
       " code_show = !code_show\n",
       "} \n",
       "$( document ).ready(code_toggle);\n",
       "</script>\n",
       "<form action=\"javascript:code_toggle()\"><input type=\"submit\" value=\"Toggle code.\"></form>"
      ],
      "text/plain": [
       "<IPython.core.display.HTML object>"
      ]
     },
     "execution_count": 290,
     "metadata": {},
     "output_type": "execute_result"
    }
   ],
   "source": [
    "from IPython.display import HTML\n",
    "\n",
    "HTML('''<script>\n",
    "code_show=true; \n",
    "function code_toggle() {\n",
    " if (code_show){\n",
    " $('div.input').hide();\n",
    " } else {\n",
    " $('div.input').show();\n",
    " }\n",
    " code_show = !code_show\n",
    "} \n",
    "$( document ).ready(code_toggle);\n",
    "</script>\n",
    "<form action=\"javascript:code_toggle()\"><input type=\"submit\" value=\"Toggle code.\"></form>''')"
   ]
  },
  {
   "cell_type": "markdown",
   "metadata": {},
   "source": [
    "### Imports"
   ]
  },
  {
   "cell_type": "code",
   "execution_count": 1,
   "metadata": {},
   "outputs": [],
   "source": [
    "import torch\n",
    "import torch.nn as nn\n",
    "import torchvision\n",
    "from torchvision import transforms\n",
    "import torchvision.models as models\n",
    "from torch.utils.data import Dataset, DataLoader, random_split\n",
    "from torch.nn.utils.rnn import pack_padded_sequence, pad_packed_sequence\n",
    "import pandas as pd\n",
    "import matplotlib.pyplot as plt\n",
    "from collections import Counter\n",
    "import os\n",
    "import numpy as np\n",
    "from PIL import Image\n",
    "from sklearn.model_selection import train_test_split\n",
    "from sklearn.feature_extraction.text import ENGLISH_STOP_WORDS\n",
    "import string\n",
    "import random\n",
    "from tqdm.notebook import tqdm\n",
    "import ipywidgets as widgets\n",
    "import fitz\n",
    "\n",
    "import numpy as np \n",
    "import pandas as pd\n",
    "import math\n",
    "\n",
    "import json\n",
    "\n",
    "DATASET = \"./Dataset/\""
   ]
  },
  {
   "cell_type": "markdown",
   "metadata": {},
   "source": [
    "Detect which device (CPU/GPU) to use."
   ]
  },
  {
   "cell_type": "code",
   "execution_count": 2,
   "metadata": {},
   "outputs": [
    {
     "name": "stdout",
     "output_type": "stream",
     "text": [
      "Using device: cuda\n"
     ]
    }
   ],
   "source": [
    "seed = 0\n",
    "random.seed(seed)\n",
    "torch.manual_seed(seed)\n",
    "torch.cuda.manual_seed(seed) \n",
    "torch.cuda.manual_seed_all(seed)\n",
    "device = torch.device('cuda' if torch.cuda.is_available() else 'cpu')\n",
    "print('Using device:', device)"
   ]
  },
  {
   "cell_type": "markdown",
   "metadata": {},
   "source": [
    "### Overview\n",
    "\n",
    "Summarisation model\n",
    "> 1. Dataset preprocessing\n",
    "> 2. Dataloader\n",
    "> 3. RNN model definition\n",
    "> 4. Model training\n",
    "> 5. Model prediction evaluation\n",
    "> 6. Dataset Exploration\n",
    "> 7. Dataset modification/Data Augmentation\n",
    "> 8. Model improvement\n",
    "> 9. Model finalisation and evaluation\n",
    "\n",
    "Paper querying\n",
    "> 1. Attention on query (Return usefulness percentage\n",
    "> 2. Evaluate performance\n"
   ]
  },
  {
   "cell_type": "markdown",
   "metadata": {},
   "source": [
    "# Data preprocessing"
   ]
  },
  {
   "cell_type": "code",
   "execution_count": 5,
   "metadata": {},
   "outputs": [],
   "source": [
    "# # Comment this block if dataset is reorganised\n",
    "# DATA_DIR = \"SSN/papers.SSN.jsonl\"\n",
    "# dataset_path = DATASET+DATA_DIR\n",
    "# with open(dataset_path) as f:\n",
    "#     lines = f.read().splitlines()\n",
    "# df_inter = pd.DataFrame(lines)\n",
    "# df_inter.columns = ['json_element']\n",
    "# df_final = pd.json_normalize(df_inter['json_element'].apply(json.loads))\n",
    "# df_final.to_json(\"./Dataset/SSN/SSN_Dataset.json\")\n",
    "# df_final"
   ]
  },
  {
   "cell_type": "code",
   "execution_count": null,
   "metadata": {},
   "outputs": [],
   "source": [
    "# for i,summary in df_final.iterrows():\n",
    "#     temp = summary[\"abstract\"]\n",
    "#     print(type(summary[\"abstract\"]))\n",
    "#     break"
   ]
  },
  {
   "cell_type": "code",
   "execution_count": 236,
   "metadata": {},
   "outputs": [],
   "source": [
    "# #Comment this block if dataset is shortened\n",
    "# DATA_DIR = \"SSN/SSN_Dataset.json\"\n",
    "# dataset_path = DATASET+DATA_DIR\n",
    "# df = pd.read_json(dataset_path)\n",
    "# df"
   ]
  },
  {
   "cell_type": "code",
   "execution_count": 32,
   "metadata": {},
   "outputs": [
    {
     "data": {
      "text/plain": [
       "['introduction',\n",
       " 'quantum information theory preliminaries',\n",
       " 'kk-minimal and kk-maximal operator spaces',\n",
       " 'kk-super minimal and kk-super maximal operator systems',\n",
       " 'norms on operator systems',\n",
       " 'contractive maps as separability criteria']"
      ]
     },
     "execution_count": 32,
     "metadata": {},
     "output_type": "execute_result"
    }
   ],
   "source": [
    "# df.iloc[140794][\"section_names\"]"
   ]
  },
  {
   "cell_type": "markdown",
   "metadata": {},
   "source": [
    "Function to return index for conclusion section"
   ]
  },
  {
   "cell_type": "code",
   "execution_count": 12,
   "metadata": {},
   "outputs": [],
   "source": [
    "# def trim_index(row):\n",
    "#     return [row.index(x)+1 for x in row if x.startswith('conclusion') or x.startswith(\"summar\")]"
   ]
  },
  {
   "cell_type": "code",
   "execution_count": 13,
   "metadata": {},
   "outputs": [],
   "source": [
    "# def trim_text(text, index):\n",
    "#     return text[0:index]"
   ]
  },
  {
   "cell_type": "code",
   "execution_count": 14,
   "metadata": {},
   "outputs": [
    {
     "name": "stdout",
     "output_type": "stream",
     "text": [
      "49413\n"
     ]
    }
   ],
   "source": [
    "# # Comment this block if dataset is shortened\n",
    "# # Trim text after conclusion\n",
    "# indexes = []\n",
    "# for i, row in df.iterrows():\n",
    "#     section = row[\"section_names\"]\n",
    "#     #print(section)\n",
    "#     index = trim_index(section)\n",
    "#     #print(index)\n",
    "#     if not index:\n",
    "#         indexes.append(i)\n",
    "#     # if section can be filtered\n",
    "#     else:\n",
    "#         index = index[0]\n",
    "#         abstract = row[\"abstract\"]\n",
    "#         text = row[\"text\"]\n",
    "#         section = row[\"section_names\"]\n",
    "#         df.at[i, \"section_names\"] = trim_text(section, index)\n",
    "#         df.at[i, \"abstract\"] = trim_text(abstract, index)\n",
    "#         df.at[i, \"text\"] = trim_text(text, index)\n",
    "# # dropping rows in dataframe that can't easily filter out reference section\n",
    "# print(len(indexes))\n",
    "# df.drop(indexes, inplace=True)\n",
    "# df.to_json(\"./Dataset/SSN/SSN_Dataset_Short.json\")"
   ]
  },
  {
   "cell_type": "markdown",
   "metadata": {},
   "source": [
    "35% of paper will be removed from the dataset due to it not having conclusion(s) and summary(ies) in their section titles, making it difficult to filter out the reference and appendix text"
   ]
  },
  {
   "cell_type": "code",
   "execution_count": 259,
   "metadata": {
    "scrolled": true
   },
   "outputs": [],
   "source": [
    "# DATA_DIR = \"SSN/SSN_Dataset_Short.json\"\n",
    "# dataset_path = DATASET+DATA_DIR\n",
    "# df = pd.read_json(dataset_path)\n",
    "# df.reset_index(drop=True, inplace=True)\n",
    "# df"
   ]
  },
  {
   "cell_type": "markdown",
   "metadata": {},
   "source": [
    "See diversity in papers, select only computer science"
   ]
  },
  {
   "cell_type": "code",
   "execution_count": 249,
   "metadata": {},
   "outputs": [
    {
     "data": {
      "text/plain": [
       "[Physics]                          41291\n",
       "[Computer science]                 19695\n",
       "[Mathematics]                      17047\n",
       "[Computer science, Mathematics]     5075\n",
       "[]                                  3162\n",
       "                                   ...  \n",
       "[Geology, Philosophy]                  1\n",
       "[Computer science, Philosophy]         1\n",
       "[Art, Computer science]                1\n",
       "[Materials science, Geography]         1\n",
       "[Biology, Computer science]            1\n",
       "Name: domain, Length: 156, dtype: int64"
      ]
     },
     "execution_count": 249,
     "metadata": {},
     "output_type": "execute_result"
    }
   ],
   "source": [
    "# plot_points = df['domain'].value_counts()\n",
    "# plot_points"
   ]
  },
  {
   "cell_type": "code",
   "execution_count": 260,
   "metadata": {},
   "outputs": [],
   "source": [
    "# df = df.loc[df['domain'].isin([['Computer science']])]\n",
    "# df.to_json(\"./Dataset/SSN/SSN_Dataset_CompSci_Short.json\")\n",
    "# df"
   ]
  },
  {
   "cell_type": "code",
   "execution_count": 3,
   "metadata": {},
   "outputs": [
    {
     "data": {
      "text/html": [
       "<div>\n",
       "<style scoped>\n",
       "    .dataframe tbody tr th:only-of-type {\n",
       "        vertical-align: middle;\n",
       "    }\n",
       "\n",
       "    .dataframe tbody tr th {\n",
       "        vertical-align: top;\n",
       "    }\n",
       "\n",
       "    .dataframe thead th {\n",
       "        text-align: right;\n",
       "    }\n",
       "</style>\n",
       "<table border=\"1\" class=\"dataframe\">\n",
       "  <thead>\n",
       "    <tr style=\"text-align: right;\">\n",
       "      <th></th>\n",
       "      <th>id</th>\n",
       "      <th>text</th>\n",
       "      <th>abstract</th>\n",
       "    </tr>\n",
       "  </thead>\n",
       "  <tbody>\n",
       "    <tr>\n",
       "      <th>0</th>\n",
       "      <td>0001d1afc246a7964130f43ae940af6bc6c57f01</td>\n",
       "      <td>By . Associated Press . PUBLISHED: . 14:11 EST...</td>\n",
       "      <td>Bishop John Folda, of North Dakota, is taking ...</td>\n",
       "    </tr>\n",
       "    <tr>\n",
       "      <th>1</th>\n",
       "      <td>0002095e55fcbd3a2f366d9bf92a95433dc305ef</td>\n",
       "      <td>(CNN) -- Ralph Mata was an internal affairs li...</td>\n",
       "      <td>Criminal complaint: Cop used his role to help ...</td>\n",
       "    </tr>\n",
       "    <tr>\n",
       "      <th>2</th>\n",
       "      <td>00027e965c8264c35cc1bc55556db388da82b07f</td>\n",
       "      <td>A drunk driver who killed a young woman in a h...</td>\n",
       "      <td>Craig Eccleston-Todd, 27, had drunk at least t...</td>\n",
       "    </tr>\n",
       "    <tr>\n",
       "      <th>3</th>\n",
       "      <td>0002c17436637c4fe1837c935c04de47adb18e9a</td>\n",
       "      <td>(CNN) -- With a breezy sweep of his pen Presid...</td>\n",
       "      <td>Nina dos Santos says Europe must be ready to a...</td>\n",
       "    </tr>\n",
       "    <tr>\n",
       "      <th>4</th>\n",
       "      <td>0003ad6ef0c37534f80b55b4235108024b407f0b</td>\n",
       "      <td>Fleetwood are the only team still to have a 10...</td>\n",
       "      <td>Fleetwood top of League One after 2-0 win at S...</td>\n",
       "    </tr>\n",
       "    <tr>\n",
       "      <th>...</th>\n",
       "      <td>...</td>\n",
       "      <td>...</td>\n",
       "      <td>...</td>\n",
       "    </tr>\n",
       "    <tr>\n",
       "      <th>287108</th>\n",
       "      <td>fffdfb56fdf1a12d364562cc2b9b1d4de7481dee</td>\n",
       "      <td>By . James Rush . Former first daughter Chelse...</td>\n",
       "      <td>Chelsea Clinton said question of running for o...</td>\n",
       "    </tr>\n",
       "    <tr>\n",
       "      <th>287109</th>\n",
       "      <td>fffeecb8690b85de8c3faed80adbc7a978f9ae2a</td>\n",
       "      <td>An apologetic Vanilla Ice has given his first ...</td>\n",
       "      <td>Vanilla Ice, 47 - real name Robert Van Winkle ...</td>\n",
       "    </tr>\n",
       "    <tr>\n",
       "      <th>287110</th>\n",
       "      <td>ffff5231e4c71544bc6c97015cdb16c60e42b3f4</td>\n",
       "      <td>America's most lethal sniper claimed he wished...</td>\n",
       "      <td>America's most lethal sniper made comment in i...</td>\n",
       "    </tr>\n",
       "    <tr>\n",
       "      <th>287111</th>\n",
       "      <td>ffff924b14a8d82058b6c1c5368ff1113c1632af</td>\n",
       "      <td>By . Sara Malm . PUBLISHED: . 12:19 EST, 8 Mar...</td>\n",
       "      <td>A swarm of more than one million has crossed b...</td>\n",
       "    </tr>\n",
       "    <tr>\n",
       "      <th>287112</th>\n",
       "      <td>ffffd563a96104f5cf4493cfa701a65f31b06abf</td>\n",
       "      <td>(CNN)Former Florida Gov. Jeb Bush has decided ...</td>\n",
       "      <td>Other 2016 hopefuls maintain that Bush's annou...</td>\n",
       "    </tr>\n",
       "  </tbody>\n",
       "</table>\n",
       "<p>287113 rows × 3 columns</p>\n",
       "</div>"
      ],
      "text/plain": [
       "                                              id  \\\n",
       "0       0001d1afc246a7964130f43ae940af6bc6c57f01   \n",
       "1       0002095e55fcbd3a2f366d9bf92a95433dc305ef   \n",
       "2       00027e965c8264c35cc1bc55556db388da82b07f   \n",
       "3       0002c17436637c4fe1837c935c04de47adb18e9a   \n",
       "4       0003ad6ef0c37534f80b55b4235108024b407f0b   \n",
       "...                                          ...   \n",
       "287108  fffdfb56fdf1a12d364562cc2b9b1d4de7481dee   \n",
       "287109  fffeecb8690b85de8c3faed80adbc7a978f9ae2a   \n",
       "287110  ffff5231e4c71544bc6c97015cdb16c60e42b3f4   \n",
       "287111  ffff924b14a8d82058b6c1c5368ff1113c1632af   \n",
       "287112  ffffd563a96104f5cf4493cfa701a65f31b06abf   \n",
       "\n",
       "                                                     text  \\\n",
       "0       By . Associated Press . PUBLISHED: . 14:11 EST...   \n",
       "1       (CNN) -- Ralph Mata was an internal affairs li...   \n",
       "2       A drunk driver who killed a young woman in a h...   \n",
       "3       (CNN) -- With a breezy sweep of his pen Presid...   \n",
       "4       Fleetwood are the only team still to have a 10...   \n",
       "...                                                   ...   \n",
       "287108  By . James Rush . Former first daughter Chelse...   \n",
       "287109  An apologetic Vanilla Ice has given his first ...   \n",
       "287110  America's most lethal sniper claimed he wished...   \n",
       "287111  By . Sara Malm . PUBLISHED: . 12:19 EST, 8 Mar...   \n",
       "287112  (CNN)Former Florida Gov. Jeb Bush has decided ...   \n",
       "\n",
       "                                                 abstract  \n",
       "0       Bishop John Folda, of North Dakota, is taking ...  \n",
       "1       Criminal complaint: Cop used his role to help ...  \n",
       "2       Craig Eccleston-Todd, 27, had drunk at least t...  \n",
       "3       Nina dos Santos says Europe must be ready to a...  \n",
       "4       Fleetwood top of League One after 2-0 win at S...  \n",
       "...                                                   ...  \n",
       "287108  Chelsea Clinton said question of running for o...  \n",
       "287109  Vanilla Ice, 47 - real name Robert Van Winkle ...  \n",
       "287110  America's most lethal sniper made comment in i...  \n",
       "287111  A swarm of more than one million has crossed b...  \n",
       "287112  Other 2016 hopefuls maintain that Bush's annou...  \n",
       "\n",
       "[287113 rows x 3 columns]"
      ]
     },
     "execution_count": 3,
     "metadata": {},
     "output_type": "execute_result"
    }
   ],
   "source": [
    "DATA_DIR = \"cnn_dailymail/train.csv\"\n",
    "dataset_path = DATASET+DATA_DIR\n",
    "df = pd.read_csv(dataset_path)\n",
    "df = df.rename(columns={'article': 'text', 'highlights': 'abstract'})\n",
    "df"
   ]
  },
  {
   "cell_type": "code",
   "execution_count": 15,
   "metadata": {},
   "outputs": [
    {
     "data": {
      "text/html": [
       "<div>\n",
       "<style scoped>\n",
       "    .dataframe tbody tr th:only-of-type {\n",
       "        vertical-align: middle;\n",
       "    }\n",
       "\n",
       "    .dataframe tbody tr th {\n",
       "        vertical-align: top;\n",
       "    }\n",
       "\n",
       "    .dataframe thead th {\n",
       "        text-align: right;\n",
       "    }\n",
       "</style>\n",
       "<table border=\"1\" class=\"dataframe\">\n",
       "  <thead>\n",
       "    <tr style=\"text-align: right;\">\n",
       "      <th></th>\n",
       "      <th>paper_id</th>\n",
       "      <th>title</th>\n",
       "      <th>abstract</th>\n",
       "      <th>section_names</th>\n",
       "      <th>domain</th>\n",
       "      <th>text</th>\n",
       "    </tr>\n",
       "  </thead>\n",
       "  <tbody>\n",
       "    <tr>\n",
       "      <th>0</th>\n",
       "      <td>9195903</td>\n",
       "      <td>Robust Face Alignment Using a Mixture of Invar...</td>\n",
       "      <td>[face alignment , which is the task of finding...</td>\n",
       "      <td>[introduction, previous work, our approach, su...</td>\n",
       "      <td>[Computer science]</td>\n",
       "      <td>[[face alignment refers to finding the pixel l...</td>\n",
       "    </tr>\n",
       "    <tr>\n",
       "      <th>1</th>\n",
       "      <td>56895423</td>\n",
       "      <td>TEST: A Terminology Extraction System for Tech...</td>\n",
       "      <td>[tracking developments in the highly dynamic d...</td>\n",
       "      <td>[introduction, related work, dataset preparati...</td>\n",
       "      <td>[Computer science]</td>\n",
       "      <td>[[with the ubiquity of online resources and th...</td>\n",
       "    </tr>\n",
       "    <tr>\n",
       "      <th>2</th>\n",
       "      <td>15943840</td>\n",
       "      <td>Dynamic autotuning of adaptive fast multipole ...</td>\n",
       "      <td>[we discuss an implementation of adaptive fast...</td>\n",
       "      <td>[introduction, fast multipole methods, well-se...</td>\n",
       "      <td>[Computer science]</td>\n",
       "      <td>[[the inlineform0 -body simulation is an ubiqu...</td>\n",
       "    </tr>\n",
       "    <tr>\n",
       "      <th>3</th>\n",
       "      <td>189927954</td>\n",
       "      <td>NLH: A Blind Pixel-level Non-local Method for ...</td>\n",
       "      <td>[non - local self similarity ( nss ) is a powe...</td>\n",
       "      <td>[introduction, related work, proposed blind pi...</td>\n",
       "      <td>[Computer science]</td>\n",
       "      <td>[[digital images are often subject to noise de...</td>\n",
       "    </tr>\n",
       "    <tr>\n",
       "      <th>4</th>\n",
       "      <td>202120843</td>\n",
       "      <td>Adversarial Examples with Difficult Common Wor...</td>\n",
       "      <td>[despite the success of deep models for paraph...</td>\n",
       "      <td>[introduction, deep paraphrase identification,...</td>\n",
       "      <td>[Computer science]</td>\n",
       "      <td>[[paraphrase identification is to determine wh...</td>\n",
       "    </tr>\n",
       "    <tr>\n",
       "      <th>...</th>\n",
       "      <td>...</td>\n",
       "      <td>...</td>\n",
       "      <td>...</td>\n",
       "      <td>...</td>\n",
       "      <td>...</td>\n",
       "      <td>...</td>\n",
       "    </tr>\n",
       "    <tr>\n",
       "      <th>19690</th>\n",
       "      <td>16595919</td>\n",
       "      <td>Domain Adaptation of Recurrent Neural Networks...</td>\n",
       "      <td>[the goal of this paper is to use multi - task...</td>\n",
       "      <td>[introduction, model, data, experiments, train...</td>\n",
       "      <td>[Computer science]</td>\n",
       "      <td>[[slot filling models are a useful method for ...</td>\n",
       "    </tr>\n",
       "    <tr>\n",
       "      <th>19691</th>\n",
       "      <td>54202209</td>\n",
       "      <td>Anchor Box Optimization for Object Detection</td>\n",
       "      <td>[in this paper , we propose a general approach...</td>\n",
       "      <td>[introduction, related work, relative offset p...</td>\n",
       "      <td>[Computer science]</td>\n",
       "      <td>[[object detection plays an important role in ...</td>\n",
       "    </tr>\n",
       "    <tr>\n",
       "      <th>19692</th>\n",
       "      <td>1853209</td>\n",
       "      <td>Construction of polar codes for arbitrary disc...</td>\n",
       "      <td>[it is known that polar codes can be efficient...</td>\n",
       "      <td>[introduction, preliminaries on polar coding, ...</td>\n",
       "      <td>[Computer science]</td>\n",
       "      <td>[[arıkan 's polar codes   form the first expli...</td>\n",
       "    </tr>\n",
       "    <tr>\n",
       "      <th>19693</th>\n",
       "      <td>16428243</td>\n",
       "      <td>Action Recognition with Joint Attention on Mul...</td>\n",
       "      <td>[we propose a novel deep supervised neural net...</td>\n",
       "      <td>[introduction, related work, integrating track...</td>\n",
       "      <td>[Computer science]</td>\n",
       "      <td>[[action recognition and description   of vide...</td>\n",
       "    </tr>\n",
       "    <tr>\n",
       "      <th>19694</th>\n",
       "      <td>182952990</td>\n",
       "      <td>UBC-NLP at SemEval-2019 Task 6:Ensemble Learni...</td>\n",
       "      <td>[we examine learning offensive content on twit...</td>\n",
       "      <td>[introduction, data, pre-processing, data inte...</td>\n",
       "      <td>[Computer science]</td>\n",
       "      <td>[[with the proliferation of social media , mil...</td>\n",
       "    </tr>\n",
       "  </tbody>\n",
       "</table>\n",
       "<p>19695 rows × 6 columns</p>\n",
       "</div>"
      ],
      "text/plain": [
       "        paper_id                                              title  \\\n",
       "0        9195903  Robust Face Alignment Using a Mixture of Invar...   \n",
       "1       56895423  TEST: A Terminology Extraction System for Tech...   \n",
       "2       15943840  Dynamic autotuning of adaptive fast multipole ...   \n",
       "3      189927954  NLH: A Blind Pixel-level Non-local Method for ...   \n",
       "4      202120843  Adversarial Examples with Difficult Common Wor...   \n",
       "...          ...                                                ...   \n",
       "19690   16595919  Domain Adaptation of Recurrent Neural Networks...   \n",
       "19691   54202209       Anchor Box Optimization for Object Detection   \n",
       "19692    1853209  Construction of polar codes for arbitrary disc...   \n",
       "19693   16428243  Action Recognition with Joint Attention on Mul...   \n",
       "19694  182952990  UBC-NLP at SemEval-2019 Task 6:Ensemble Learni...   \n",
       "\n",
       "                                                abstract  \\\n",
       "0      [face alignment , which is the task of finding...   \n",
       "1      [tracking developments in the highly dynamic d...   \n",
       "2      [we discuss an implementation of adaptive fast...   \n",
       "3      [non - local self similarity ( nss ) is a powe...   \n",
       "4      [despite the success of deep models for paraph...   \n",
       "...                                                  ...   \n",
       "19690  [the goal of this paper is to use multi - task...   \n",
       "19691  [in this paper , we propose a general approach...   \n",
       "19692  [it is known that polar codes can be efficient...   \n",
       "19693  [we propose a novel deep supervised neural net...   \n",
       "19694  [we examine learning offensive content on twit...   \n",
       "\n",
       "                                           section_names              domain  \\\n",
       "0      [introduction, previous work, our approach, su...  [Computer science]   \n",
       "1      [introduction, related work, dataset preparati...  [Computer science]   \n",
       "2      [introduction, fast multipole methods, well-se...  [Computer science]   \n",
       "3      [introduction, related work, proposed blind pi...  [Computer science]   \n",
       "4      [introduction, deep paraphrase identification,...  [Computer science]   \n",
       "...                                                  ...                 ...   \n",
       "19690  [introduction, model, data, experiments, train...  [Computer science]   \n",
       "19691  [introduction, related work, relative offset p...  [Computer science]   \n",
       "19692  [introduction, preliminaries on polar coding, ...  [Computer science]   \n",
       "19693  [introduction, related work, integrating track...  [Computer science]   \n",
       "19694  [introduction, data, pre-processing, data inte...  [Computer science]   \n",
       "\n",
       "                                                    text  \n",
       "0      [[face alignment refers to finding the pixel l...  \n",
       "1      [[with the ubiquity of online resources and th...  \n",
       "2      [[the inlineform0 -body simulation is an ubiqu...  \n",
       "3      [[digital images are often subject to noise de...  \n",
       "4      [[paraphrase identification is to determine wh...  \n",
       "...                                                  ...  \n",
       "19690  [[slot filling models are a useful method for ...  \n",
       "19691  [[object detection plays an important role in ...  \n",
       "19692  [[arıkan 's polar codes   form the first expli...  \n",
       "19693  [[action recognition and description   of vide...  \n",
       "19694  [[with the proliferation of social media , mil...  \n",
       "\n",
       "[19695 rows x 6 columns]"
      ]
     },
     "execution_count": 15,
     "metadata": {},
     "output_type": "execute_result"
    }
   ],
   "source": [
    "DATA_DIR = \"SSN/SSN_Dataset_CompSci_Short.json\"\n",
    "dataset_path = DATASET+DATA_DIR\n",
    "df = pd.read_json(dataset_path)\n",
    "df.reset_index(drop=True, inplace=True)\n",
    "df"
   ]
  },
  {
   "cell_type": "code",
   "execution_count": 4,
   "metadata": {},
   "outputs": [
    {
     "data": {
      "text/html": [
       "<div>\n",
       "<style scoped>\n",
       "    .dataframe tbody tr th:only-of-type {\n",
       "        vertical-align: middle;\n",
       "    }\n",
       "\n",
       "    .dataframe tbody tr th {\n",
       "        vertical-align: top;\n",
       "    }\n",
       "\n",
       "    .dataframe thead th {\n",
       "        text-align: right;\n",
       "    }\n",
       "</style>\n",
       "<table border=\"1\" class=\"dataframe\">\n",
       "  <thead>\n",
       "    <tr style=\"text-align: right;\">\n",
       "      <th></th>\n",
       "      <th>abstract</th>\n",
       "      <th>text</th>\n",
       "    </tr>\n",
       "  </thead>\n",
       "  <tbody>\n",
       "    <tr>\n",
       "      <th>0</th>\n",
       "      <td>Bishop John Folda, of North Dakota, is taking ...</td>\n",
       "      <td>By . Associated Press . PUBLISHED: . 14:11 EST...</td>\n",
       "    </tr>\n",
       "    <tr>\n",
       "      <th>1</th>\n",
       "      <td>Criminal complaint: Cop used his role to help ...</td>\n",
       "      <td>(CNN) -- Ralph Mata was an internal affairs li...</td>\n",
       "    </tr>\n",
       "    <tr>\n",
       "      <th>2</th>\n",
       "      <td>Craig Eccleston-Todd, 27, had drunk at least t...</td>\n",
       "      <td>A drunk driver who killed a young woman in a h...</td>\n",
       "    </tr>\n",
       "    <tr>\n",
       "      <th>3</th>\n",
       "      <td>Nina dos Santos says Europe must be ready to a...</td>\n",
       "      <td>(CNN) -- With a breezy sweep of his pen Presid...</td>\n",
       "    </tr>\n",
       "    <tr>\n",
       "      <th>4</th>\n",
       "      <td>Fleetwood top of League One after 2-0 win at S...</td>\n",
       "      <td>Fleetwood are the only team still to have a 10...</td>\n",
       "    </tr>\n",
       "    <tr>\n",
       "      <th>...</th>\n",
       "      <td>...</td>\n",
       "      <td>...</td>\n",
       "    </tr>\n",
       "    <tr>\n",
       "      <th>287108</th>\n",
       "      <td>Chelsea Clinton said question of running for o...</td>\n",
       "      <td>By . James Rush . Former first daughter Chelse...</td>\n",
       "    </tr>\n",
       "    <tr>\n",
       "      <th>287109</th>\n",
       "      <td>Vanilla Ice, 47 - real name Robert Van Winkle ...</td>\n",
       "      <td>An apologetic Vanilla Ice has given his first ...</td>\n",
       "    </tr>\n",
       "    <tr>\n",
       "      <th>287110</th>\n",
       "      <td>America's most lethal sniper made comment in i...</td>\n",
       "      <td>America's most lethal sniper claimed he wished...</td>\n",
       "    </tr>\n",
       "    <tr>\n",
       "      <th>287111</th>\n",
       "      <td>A swarm of more than one million has crossed b...</td>\n",
       "      <td>By . Sara Malm . PUBLISHED: . 12:19 EST, 8 Mar...</td>\n",
       "    </tr>\n",
       "    <tr>\n",
       "      <th>287112</th>\n",
       "      <td>Other 2016 hopefuls maintain that Bush's annou...</td>\n",
       "      <td>(CNN)Former Florida Gov. Jeb Bush has decided ...</td>\n",
       "    </tr>\n",
       "  </tbody>\n",
       "</table>\n",
       "<p>287113 rows × 2 columns</p>\n",
       "</div>"
      ],
      "text/plain": [
       "                                                 abstract  \\\n",
       "0       Bishop John Folda, of North Dakota, is taking ...   \n",
       "1       Criminal complaint: Cop used his role to help ...   \n",
       "2       Craig Eccleston-Todd, 27, had drunk at least t...   \n",
       "3       Nina dos Santos says Europe must be ready to a...   \n",
       "4       Fleetwood top of League One after 2-0 win at S...   \n",
       "...                                                   ...   \n",
       "287108  Chelsea Clinton said question of running for o...   \n",
       "287109  Vanilla Ice, 47 - real name Robert Van Winkle ...   \n",
       "287110  America's most lethal sniper made comment in i...   \n",
       "287111  A swarm of more than one million has crossed b...   \n",
       "287112  Other 2016 hopefuls maintain that Bush's annou...   \n",
       "\n",
       "                                                     text  \n",
       "0       By . Associated Press . PUBLISHED: . 14:11 EST...  \n",
       "1       (CNN) -- Ralph Mata was an internal affairs li...  \n",
       "2       A drunk driver who killed a young woman in a h...  \n",
       "3       (CNN) -- With a breezy sweep of his pen Presid...  \n",
       "4       Fleetwood are the only team still to have a 10...  \n",
       "...                                                   ...  \n",
       "287108  By . James Rush . Former first daughter Chelse...  \n",
       "287109  An apologetic Vanilla Ice has given his first ...  \n",
       "287110  America's most lethal sniper claimed he wished...  \n",
       "287111  By . Sara Malm . PUBLISHED: . 12:19 EST, 8 Mar...  \n",
       "287112  (CNN)Former Florida Gov. Jeb Bush has decided ...  \n",
       "\n",
       "[287113 rows x 2 columns]"
      ]
     },
     "execution_count": 4,
     "metadata": {},
     "output_type": "execute_result"
    }
   ],
   "source": [
    "summary_df = df[[\"abstract\", \"text\"]]\n",
    "summary_df"
   ]
  },
  {
   "cell_type": "markdown",
   "metadata": {},
   "source": [
    "Check if any columns contain empty values"
   ]
  },
  {
   "cell_type": "code",
   "execution_count": 8,
   "metadata": {},
   "outputs": [
    {
     "data": {
      "text/plain": [
       "abstract    False\n",
       "text        False\n",
       "dtype: bool"
      ]
     },
     "execution_count": 8,
     "metadata": {},
     "output_type": "execute_result"
    }
   ],
   "source": [
    "# summary_df.isnull().any()"
   ]
  },
  {
   "cell_type": "markdown",
   "metadata": {},
   "source": [
    "\\'hi\\' \\ is used for space <br>\n",
    "random space, which is used for reference [15] quote box <br>\n",
    "sec ref is hyperlink to a section <br>\n",
    "fig ref is hyperlink to a figure <br>\n",
    "inlineform <br>\n",
    "displayform are both symbols, both contains numbers in string <br>\n",
    "remove all forms and remove all symbols but keep numbers <br>"
   ]
  },
  {
   "cell_type": "code",
   "execution_count": 5,
   "metadata": {},
   "outputs": [],
   "source": [
    "def contain_let(string):\n",
    "    return any(char.isalpha() for char in string)"
   ]
  },
  {
   "cell_type": "code",
   "execution_count": 6,
   "metadata": {},
   "outputs": [],
   "source": [
    "def contain_num(string):\n",
    "    return any(char.isdigit() for char in string)"
   ]
  },
  {
   "cell_type": "code",
   "execution_count": 7,
   "metadata": {},
   "outputs": [],
   "source": [
    "def contain_special(string, allowed):\n",
    "    '''\n",
    "    allowed is a list containing allowed symbols to pass detection\n",
    "    '''\n",
    "    return any(not(char.isalpha() or char.isdigit()) and (char not in allowed) for char in string)"
   ]
  },
  {
   "cell_type": "code",
   "execution_count": 8,
   "metadata": {},
   "outputs": [],
   "source": [
    "def cleanLine(line, text=True, aug=False):\n",
    "    \"text parameter is to indicate whether the line is from text or abstract\"\n",
    "    symbols = [\"'\", \"’\"]\n",
    "    stop_words = list(ENGLISH_STOP_WORDS)\n",
    "    \n",
    "    clean_line = line.lower()\n",
    "\n",
    "    # fix apostrophes in line by removing apostrophe with no following alphabet character\n",
    "    clean_line = clean_line.replace(\"'\", \" \")\n",
    "    clean_line = clean_line.replace(\",\", \" \")\n",
    "#     # remove apostrophe if last character is apostrophe\n",
    "#     if clean_line and (clean_line[-1] == \"'\"):\n",
    "#         clean_line = clean_line[0:len(clean_line)-1]\n",
    "#     # fix apostrophes in line by removing space before single quote\n",
    "#     clean_line = clean_line.replace(\" '\", \"'\")\n",
    "\n",
    "\n",
    "    # clean line = clean line remove forms\n",
    "    words = clean_line.split()\n",
    "    #  remove forms, words with special characters inside\n",
    "    # if contain letter and number\n",
    "    # if contain special character not in allowed symbols and removing punctuations\n",
    "    # then remove\n",
    "    words = [x.replace(x, \"\") if (contain_let(x) and contain_num(x))\n",
    "             or contain_special(x, symbols)\n",
    "             else x for x in words]\n",
    "\n",
    "    # remove empty strings\n",
    "    words = filter(None, words)\n",
    "\n",
    "    # stop words from sklearn, remove stop words\n",
    "    if text:\n",
    "        words = [x for x in words if not x in stop_words]\n",
    "    # remove from line randomly\n",
    "    if text and aug:\n",
    "        choices = random.choices(words, k=math.floor(len(line)*0.2))\n",
    "        words.remove(choices)\n",
    "        \n",
    "     # combine the items into 1 string\n",
    "    clean_line = ' '.join(words)\n",
    "\n",
    "    \n",
    "\n",
    "    return clean_line"
   ]
  },
  {
   "cell_type": "code",
   "execution_count": 13,
   "metadata": {},
   "outputs": [],
   "source": [
    "def concatParagraph(paragraph, text=True):\n",
    "    clean_paragraph = \"\"\n",
    "    for line in paragraph:\n",
    "        lines = cleanLine(line)\n",
    "        clean_paragraph += cleanLine(lines, text) + \" \"\n",
    "        #print(clean_paragraph)\n",
    "        \n",
    "    return(clean_paragraph.strip())"
   ]
  },
  {
   "cell_type": "code",
   "execution_count": 14,
   "metadata": {},
   "outputs": [],
   "source": [
    "def concatPaper(paper, text=True):\n",
    "    clean_paper = \"\"\n",
    "    for paragraph in paper:\n",
    "        clean_paper += concatParagraph(paragraph, text) + \" \"\n",
    "    return(clean_paper.strip())"
   ]
  },
  {
   "cell_type": "code",
   "execution_count": 23,
   "metadata": {
    "scrolled": true
   },
   "outputs": [
    {
     "data": {
      "application/vnd.jupyter.widget-view+json": {
       "model_id": "f30fb65217c94eea8eb479f7b22a0cd9",
       "version_major": 2,
       "version_minor": 0
      },
      "text/plain": [
       "  0%|          | 0/287113 [00:00<?, ?it/s]"
      ]
     },
     "metadata": {},
     "output_type": "display_data"
    }
   ],
   "source": [
    "import time\n",
    "interval = 0.0001\n",
    "aug_chance = 0.5\n",
    "for i, row in tqdm(summary_df.iterrows(), total=summary_df.shape[0]):\n",
    "    abstract = row[\"abstract\"]\n",
    "    paper = row[\"text\"]\n",
    "    \n",
    "#     summary_df.at[i, \"abstract\"] = concatParagraph(abstract, text=False)\n",
    "#     summary_df.at[i, \"text\"] = concatPaper(paper)\n",
    "    if random.random() > aug_chance:\n",
    "        row_val = cleanLine(paper, text=True, aug=True)\n",
    "        new_row = pd.Series([abstract, row_val], index=summary_df.columns)\n",
    "        df_summary = df_summary.append(row1,ignore_index=True) \n",
    "        df_summary\n",
    "    summary_df.at[i, \"abstract\"] = cleanLine(abstract, text=True)\n",
    "    summary_df.at[i, \"text\"] = cleanLine(paper)\n",
    "    time.sleep(interval)"
   ]
  },
  {
   "cell_type": "code",
   "execution_count": 24,
   "metadata": {},
   "outputs": [
    {
     "data": {
      "text/html": [
       "<div>\n",
       "<style scoped>\n",
       "    .dataframe tbody tr th:only-of-type {\n",
       "        vertical-align: middle;\n",
       "    }\n",
       "\n",
       "    .dataframe tbody tr th {\n",
       "        vertical-align: top;\n",
       "    }\n",
       "\n",
       "    .dataframe thead th {\n",
       "        text-align: right;\n",
       "    }\n",
       "</style>\n",
       "<table border=\"1\" class=\"dataframe\">\n",
       "  <thead>\n",
       "    <tr style=\"text-align: right;\">\n",
       "      <th></th>\n",
       "      <th>abstract</th>\n",
       "      <th>text</th>\n",
       "    </tr>\n",
       "  </thead>\n",
       "  <tbody>\n",
       "    <tr>\n",
       "      <th>0</th>\n",
       "      <td>bishop john folda of north dakota is taking ti...</td>\n",
       "      <td>associated press est 25 october 2013 est 25 oc...</td>\n",
       "    </tr>\n",
       "    <tr>\n",
       "      <th>1</th>\n",
       "      <td>criminal cop used his role to help cocaine tra...</td>\n",
       "      <td>ralph mata internal affairs lieutenant police ...</td>\n",
       "    </tr>\n",
       "    <tr>\n",
       "      <th>2</th>\n",
       "      <td>craig 27 had drunk at least three pints before...</td>\n",
       "      <td>drunk driver killed young woman crash checking...</td>\n",
       "    </tr>\n",
       "    <tr>\n",
       "      <th>3</th>\n",
       "      <td>nina dos santos says europe must be ready to a...</td>\n",
       "      <td>breezy sweep pen president vladimir putin wrot...</td>\n",
       "    </tr>\n",
       "    <tr>\n",
       "      <th>4</th>\n",
       "      <td>fleetwood top of league one after win at scunt...</td>\n",
       "      <td>fleetwood team record sky bet league win scunt...</td>\n",
       "    </tr>\n",
       "    <tr>\n",
       "      <th>...</th>\n",
       "      <td>...</td>\n",
       "      <td>...</td>\n",
       "    </tr>\n",
       "    <tr>\n",
       "      <th>287108</th>\n",
       "      <td>chelsea clinton said question of running for o...</td>\n",
       "      <td>james rush daughter chelsea clinton indicated ...</td>\n",
       "    </tr>\n",
       "    <tr>\n",
       "      <th>287109</th>\n",
       "      <td>vanilla ice 47 real name robert van winkle was...</td>\n",
       "      <td>apologetic vanilla ice given proper interview ...</td>\n",
       "    </tr>\n",
       "    <tr>\n",
       "      <th>287110</th>\n",
       "      <td>america s most lethal sniper made comment in i...</td>\n",
       "      <td>america s lethal sniper claimed wished d kille...</td>\n",
       "    </tr>\n",
       "    <tr>\n",
       "      <th>287111</th>\n",
       "      <td>a swarm of more than one million has crossed b...</td>\n",
       "      <td>sara malm est 8 march 2013 est 8 march 2013 is...</td>\n",
       "    </tr>\n",
       "    <tr>\n",
       "      <th>287112</th>\n",
       "      <td>other 2016 hopefuls maintain that bush s annou...</td>\n",
       "      <td>florida jeb bush decided presidential bid conv...</td>\n",
       "    </tr>\n",
       "  </tbody>\n",
       "</table>\n",
       "<p>287113 rows × 2 columns</p>\n",
       "</div>"
      ],
      "text/plain": [
       "                                                 abstract  \\\n",
       "0       bishop john folda of north dakota is taking ti...   \n",
       "1       criminal cop used his role to help cocaine tra...   \n",
       "2       craig 27 had drunk at least three pints before...   \n",
       "3       nina dos santos says europe must be ready to a...   \n",
       "4       fleetwood top of league one after win at scunt...   \n",
       "...                                                   ...   \n",
       "287108  chelsea clinton said question of running for o...   \n",
       "287109  vanilla ice 47 real name robert van winkle was...   \n",
       "287110  america s most lethal sniper made comment in i...   \n",
       "287111  a swarm of more than one million has crossed b...   \n",
       "287112  other 2016 hopefuls maintain that bush s annou...   \n",
       "\n",
       "                                                     text  \n",
       "0       associated press est 25 october 2013 est 25 oc...  \n",
       "1       ralph mata internal affairs lieutenant police ...  \n",
       "2       drunk driver killed young woman crash checking...  \n",
       "3       breezy sweep pen president vladimir putin wrot...  \n",
       "4       fleetwood team record sky bet league win scunt...  \n",
       "...                                                   ...  \n",
       "287108  james rush daughter chelsea clinton indicated ...  \n",
       "287109  apologetic vanilla ice given proper interview ...  \n",
       "287110  america s lethal sniper claimed wished d kille...  \n",
       "287111  sara malm est 8 march 2013 est 8 march 2013 is...  \n",
       "287112  florida jeb bush decided presidential bid conv...  \n",
       "\n",
       "[287113 rows x 2 columns]"
      ]
     },
     "execution_count": 24,
     "metadata": {},
     "output_type": "execute_result"
    }
   ],
   "source": [
    "summary_df.to_csv(\"./Dataset/cnn_dailymail/cleaned_cnn_train.csv\")\n",
    "summary_df"
   ]
  },
  {
   "cell_type": "code",
   "execution_count": 8,
   "metadata": {},
   "outputs": [
    {
     "data": {
      "text/html": [
       "<div>\n",
       "<style scoped>\n",
       "    .dataframe tbody tr th:only-of-type {\n",
       "        vertical-align: middle;\n",
       "    }\n",
       "\n",
       "    .dataframe tbody tr th {\n",
       "        vertical-align: top;\n",
       "    }\n",
       "\n",
       "    .dataframe thead th {\n",
       "        text-align: right;\n",
       "    }\n",
       "</style>\n",
       "<table border=\"1\" class=\"dataframe\">\n",
       "  <thead>\n",
       "    <tr style=\"text-align: right;\">\n",
       "      <th></th>\n",
       "      <th>Unnamed: 0</th>\n",
       "      <th>abstract</th>\n",
       "      <th>text</th>\n",
       "    </tr>\n",
       "  </thead>\n",
       "  <tbody>\n",
       "    <tr>\n",
       "      <th>0</th>\n",
       "      <td>0</td>\n",
       "      <td>bishop john folda of north dakota is taking ti...</td>\n",
       "      <td>associated press est 25 october 2013 est 25 oc...</td>\n",
       "    </tr>\n",
       "    <tr>\n",
       "      <th>1</th>\n",
       "      <td>62</td>\n",
       "      <td>the virgin group was founded by richard branso...</td>\n",
       "      <td>virgin leading branded venture capital organiz...</td>\n",
       "    </tr>\n",
       "    <tr>\n",
       "      <th>2</th>\n",
       "      <td>82</td>\n",
       "      <td>two men filmed taking ipad from canoe rental o...</td>\n",
       "      <td>chris pleasance police hunting thieves florida...</td>\n",
       "    </tr>\n",
       "    <tr>\n",
       "      <th>3</th>\n",
       "      <td>96</td>\n",
       "      <td>zhu sanni 23 had been left alone at home for t...</td>\n",
       "      <td>est 9 january 2014 est 9 january 2014 woman no...</td>\n",
       "    </tr>\n",
       "    <tr>\n",
       "      <th>4</th>\n",
       "      <td>97</td>\n",
       "      <td>bottles are almost exclusively from and not fo...</td>\n",
       "      <td>kabul afghanistan thousands bottles alcohol de...</td>\n",
       "    </tr>\n",
       "    <tr>\n",
       "      <th>...</th>\n",
       "      <td>...</td>\n",
       "      <td>...</td>\n",
       "      <td>...</td>\n",
       "    </tr>\n",
       "    <tr>\n",
       "      <th>195</th>\n",
       "      <td>3635</td>\n",
       "      <td>bradford council mistakenly fitted a french ti...</td>\n",
       "      <td>traffic wardens fining drivers council mistake...</td>\n",
       "    </tr>\n",
       "    <tr>\n",
       "      <th>196</th>\n",
       "      <td>3673</td>\n",
       "      <td>daniel coriat beat his mother elizabeth to dea...</td>\n",
       "      <td>tara brady est 28 january 2013 est 28 january ...</td>\n",
       "    </tr>\n",
       "    <tr>\n",
       "      <th>197</th>\n",
       "      <td>3682</td>\n",
       "      <td>william lerner owns imperial parking systems l...</td>\n",
       "      <td>rachel quigley est 20 august 2013 est 20 augus...</td>\n",
       "    </tr>\n",
       "    <tr>\n",
       "      <th>198</th>\n",
       "      <td>3685</td>\n",
       "      <td>allardyce is not surprised that kouyate has dr...</td>\n",
       "      <td>sean gallagher mailonline west ham manager sam...</td>\n",
       "    </tr>\n",
       "    <tr>\n",
       "      <th>199</th>\n",
       "      <td>3740</td>\n",
       "      <td>dirk anderson 29 landed on the roof of a parki...</td>\n",
       "      <td>man celebrating friend s impending marriage fe...</td>\n",
       "    </tr>\n",
       "  </tbody>\n",
       "</table>\n",
       "<p>200 rows × 3 columns</p>\n",
       "</div>"
      ],
      "text/plain": [
       "     Unnamed: 0                                           abstract  \\\n",
       "0             0  bishop john folda of north dakota is taking ti...   \n",
       "1            62  the virgin group was founded by richard branso...   \n",
       "2            82  two men filmed taking ipad from canoe rental o...   \n",
       "3            96  zhu sanni 23 had been left alone at home for t...   \n",
       "4            97  bottles are almost exclusively from and not fo...   \n",
       "..          ...                                                ...   \n",
       "195        3635  bradford council mistakenly fitted a french ti...   \n",
       "196        3673  daniel coriat beat his mother elizabeth to dea...   \n",
       "197        3682  william lerner owns imperial parking systems l...   \n",
       "198        3685  allardyce is not surprised that kouyate has dr...   \n",
       "199        3740  dirk anderson 29 landed on the roof of a parki...   \n",
       "\n",
       "                                                  text  \n",
       "0    associated press est 25 october 2013 est 25 oc...  \n",
       "1    virgin leading branded venture capital organiz...  \n",
       "2    chris pleasance police hunting thieves florida...  \n",
       "3    est 9 january 2014 est 9 january 2014 woman no...  \n",
       "4    kabul afghanistan thousands bottles alcohol de...  \n",
       "..                                                 ...  \n",
       "195  traffic wardens fining drivers council mistake...  \n",
       "196  tara brady est 28 january 2013 est 28 january ...  \n",
       "197  rachel quigley est 20 august 2013 est 20 augus...  \n",
       "198  sean gallagher mailonline west ham manager sam...  \n",
       "199  man celebrating friend s impending marriage fe...  \n",
       "\n",
       "[200 rows x 3 columns]"
      ]
     },
     "execution_count": 8,
     "metadata": {},
     "output_type": "execute_result"
    }
   ],
   "source": [
    "DATA_DIR = \"cnn_dailymail/cleaned_cnn_train_120.csv\"\n",
    "dataset_path = DATASET+DATA_DIR\n",
    "df = pd.read_csv(dataset_path)[:200]\n",
    "df"
   ]
  },
  {
   "cell_type": "code",
   "execution_count": 9,
   "metadata": {},
   "outputs": [],
   "source": [
    "# rows = []\n",
    "\n",
    "# t_max= 150\n",
    "# a_max=  40\n",
    "# t_min=  80\n",
    "# a_min=  14\n",
    "# for i, row in df.iterrows():\n",
    "#     t_word = len(row[\"text\"].split())\n",
    "#     a_word = len(row[\"abstract\"].split())\n",
    "#     if ((t_word > t_max or t_word < t_min) or (a_word > a_max or a_word < a_min)):\n",
    "#         rows.append(i)\n",
    "# df.drop(rows, inplace=True)\n",
    "# df.reset_index(drop=True, inplace=True)\n",
    "# df.to_csv(\"./Dataset/cnn_dailymail/cleaned_cnn_train_120.csv\", index=False)\n",
    "# df"
   ]
  },
  {
   "cell_type": "code",
   "execution_count": 10,
   "metadata": {},
   "outputs": [],
   "source": [
    "class Vocabulary(object):\n",
    "    \"\"\" Simple vocabulary wrapper which maps every unique word to an integer ID. \"\"\"\n",
    "    def __init__(self):\n",
    "        # intially, set both the IDs and words to dictionaries with special tokens\n",
    "        self.word2idx = {'<start>': 0, '<end>': 1, '<pad>':2, '<unk>':3}\n",
    "        self.idx2word = {0: '<start>', 1: '<end>', 2: '<pad>', 3: '<unk>'}\n",
    "        self.idx = 4\n",
    "\n",
    "    def add_word(self, word):\n",
    "        # if the word does not already exist in the dictionary, add it\n",
    "        if not word in self.word2idx:\n",
    "            # this will convert each word to index and index to word as you saw in the tutorials\n",
    "            self.word2idx[word] = self.idx\n",
    "            self.idx2word[self.idx] = word\n",
    "            # increment the ID for the next word\n",
    "            self.idx += 1\n",
    "\n",
    "    def __call__(self, word):\n",
    "        # if we try to access a word not in the dictionary, return the id for <unk>\n",
    "        if not word in self.word2idx:\n",
    "            return self.word2idx['<unk>']\n",
    "        return self.word2idx[word]\n",
    "    \n",
    "    ## added function for utility\n",
    "    def get_word(self,index):\n",
    "        # this returns the word when given an index\n",
    "        return self.idx2word[index]\n",
    "\n",
    "    def __len__(self):\n",
    "        return len(self.word2idx)\n"
   ]
  },
  {
   "cell_type": "code",
   "execution_count": 11,
   "metadata": {},
   "outputs": [],
   "source": [
    "def build_vocab(data, freq):\n",
    "    \"\"\" \n",
    "    Parses training set token file captions and builds a Vocabulary object and dataframe for \n",
    "    the image and caption data\n",
    "\n",
    "    Returns:\n",
    "        vocab (Vocabulary): Vocabulary object containing all words appearing more than min_frequency\n",
    "    \"\"\"\n",
    "    MIN_FREQUENCY = freq\n",
    "    word_mapping = Counter()\n",
    "\n",
    "    # for index in df.index:\n",
    "    for text in tqdm(data):\n",
    "        for word in text.split():\n",
    "            #print(word)\n",
    "            if word in word_mapping:\n",
    "                word_mapping[word] += 1\n",
    "            else:\n",
    "                word_mapping[word] = 1\n",
    "\n",
    "    # create a vocab instance\n",
    "    vocab = Vocabulary()\n",
    "\n",
    "    # add the words to the vocabulary\n",
    "    for word in word_mapping:\n",
    "        if word_mapping[word] > MIN_FREQUENCY:\n",
    "            vocab.add_word(word)\n",
    "\n",
    "    return vocab\n"
   ]
  },
  {
   "cell_type": "markdown",
   "metadata": {},
   "source": [
    "Convert DF to text"
   ]
  },
  {
   "cell_type": "code",
   "execution_count": 12,
   "metadata": {},
   "outputs": [],
   "source": [
    "# text_txt = df['text']\n",
    "# text_txt.to_csv(\"text_cnn.txt\", header=False,index=False)\n",
    "# abstract_txt = df['abstract']\n",
    "# abstract_txt.to_csv(\"abstract_cnn.txt\", header=False,index=False)\n",
    "\n",
    "# # write to file. "
   ]
  },
  {
   "cell_type": "code",
   "execution_count": 13,
   "metadata": {},
   "outputs": [],
   "source": [
    "# vocab_model = fasttext.train_unsupervised('text_NoStop.txt', minn=2, epoch=10)\n",
    "# vocab_model.save_model(\"fastText_NoStop.bin\")"
   ]
  },
  {
   "cell_type": "code",
   "execution_count": 14,
   "metadata": {},
   "outputs": [
    {
     "data": {
      "application/vnd.jupyter.widget-view+json": {
       "model_id": "4273efcd270843bfa718c0a8317b8dc7",
       "version_major": 2,
       "version_minor": 0
      },
      "text/plain": [
       "  0%|          | 0/200 [00:00<?, ?it/s]"
      ]
     },
     "metadata": {},
     "output_type": "display_data"
    }
   ],
   "source": [
    "abstract_vocab = build_vocab(df[\"abstract\"], 0)"
   ]
  },
  {
   "cell_type": "code",
   "execution_count": 15,
   "metadata": {},
   "outputs": [
    {
     "data": {
      "application/vnd.jupyter.widget-view+json": {
       "model_id": "4540af2095ce424ebf064723d0aac9e2",
       "version_major": 2,
       "version_minor": 0
      },
      "text/plain": [
       "  0%|          | 0/200 [00:00<?, ?it/s]"
      ]
     },
     "metadata": {},
     "output_type": "display_data"
    }
   ],
   "source": [
    "text_vocab = build_vocab(df[\"text\"], 0)"
   ]
  },
  {
   "cell_type": "code",
   "execution_count": 16,
   "metadata": {},
   "outputs": [
    {
     "name": "stdout",
     "output_type": "stream",
     "text": [
      "abstract vocab 2597\n",
      "text vocab 7536\n"
     ]
    }
   ],
   "source": [
    "print(\"abstract vocab\", len(abstract_vocab))\n",
    "print(\"text vocab\", len(text_vocab))"
   ]
  },
  {
   "cell_type": "code",
   "execution_count": 17,
   "metadata": {},
   "outputs": [],
   "source": [
    "def tokenise(vocab, text):\n",
    "    word_ids = []\n",
    "    for word in text.split():\n",
    "        word_ids.append(vocab(word))\n",
    "    #word_ids.append(vocab(\"<end>\"))\n",
    "#     while len(word_ids) < max_len:\n",
    "#             word_ids.append(vocab(\"<pad>\"))\n",
    "    return word_ids"
   ]
  },
  {
   "cell_type": "code",
   "execution_count": 252,
   "metadata": {},
   "outputs": [],
   "source": [
    "ABSTRACT_MAX = 50\n",
    "TEXT_MAX = 150"
   ]
  },
  {
   "cell_type": "code",
   "execution_count": 19,
   "metadata": {},
   "outputs": [],
   "source": [
    "class SSNDataset(Dataset):\n",
    "    def __init__(self, df, a_vocab, t_vocab):\n",
    "\n",
    "        self.df = df\n",
    "        self.a_vocab = a_vocab\n",
    "        self.t_vocab = t_vocab\n",
    "        self.abstract_max_len = ABSTRACT_MAX\n",
    "        self.text_max_len = TEXT_MAX\n",
    "\n",
    "    def __getitem__(self, index):\n",
    "        # return word_id\n",
    "        abstract = self.df.iloc[index][\"abstract\"]\n",
    "        text = self.df.iloc[index][\"text\"]\n",
    "        \n",
    "        a_word_ids = tokenise(self.a_vocab, abstract)\n",
    "        t_word_ids = tokenise(self.t_vocab, text)\n",
    "\n",
    "        a_length = len(a_word_ids)\n",
    "        t_length = len(t_word_ids)\n",
    "    \n",
    "        return a_word_ids, t_word_ids#torch.tensor(a_word_ids), torch.tensor(t_word_ids)#a_word_ids, t_word_ids\n",
    "\n",
    "    def __len__(self):\n",
    "        return len(self.df)\n"
   ]
  },
  {
   "cell_type": "code",
   "execution_count": 20,
   "metadata": {},
   "outputs": [],
   "source": [
    "def find_max_list(lis):\n",
    "    list_len = [len(i) for i in lis]\n",
    "    return (max(list_len))"
   ]
  },
  {
   "cell_type": "code",
   "execution_count": 21,
   "metadata": {},
   "outputs": [],
   "source": [
    "def text_collate_fn(data):\n",
    "    \"\"\" Creates mini-batch tensors from the list of tuples (image, caption).\n",
    "    Args:\n",
    "        data: list of tuple of 2 word ids\n",
    "        - abstract id\n",
    "        - text id\n",
    "    Returns:\n",
    "        abstract list ids\n",
    "        text list ids\n",
    "    \"\"\"\n",
    "\n",
    "    \n",
    "    abstracts, texts = zip(*data)\n",
    "    abstract_list = []\n",
    "    text_list = []\n",
    "    for i in range(len(texts)):\n",
    "        while len(texts[i]) < find_max_list(texts):\n",
    "            texts[i].append(text_vocab(\"<pad>\"))\n",
    "        text_list.append(torch.tensor(texts[i]))\n",
    "        \n",
    "    for i in range(len(abstracts)):\n",
    "        \n",
    "        while len(abstracts[i]) < ABSTRACT_MAX:\n",
    "            abstracts[i].append(abstract_vocab(\"<pad>\"))\n",
    "        abstract_list.append(torch.tensor(abstracts[i]))\n",
    "\n",
    "\n",
    "#     abstracts = torch.tensor(abstracts)\n",
    "#     texts = torch.tensor(texts)\n",
    "#     abstracts = [ torch.Tensor(abstract).to(device) for abstract in abstracts ]\n",
    "# if batch size is 1 then use [0]\n",
    "    abstracts = torch.stack(tuple(abstract_list), 0)\n",
    "    texts = torch.stack(tuple(text_list), 0)\n",
    "    #abstracts = abstracts.unsqueeze(0)\n",
    "#     abstracts = torch.nn.utils.rnn.pad_sequence(abstracts)\n",
    "#     abstracts = torch.stack(abstracts, 0)\n",
    "#     texts = torch.stack(texts, 0)\n",
    "    #texts = texts.unsqueeze(0)\n",
    "\n",
    "    return abstracts, texts\n"
   ]
  },
  {
   "cell_type": "markdown",
   "metadata": {},
   "source": [
    "# Dataloader"
   ]
  },
  {
   "cell_type": "markdown",
   "metadata": {},
   "source": [
    "Split dataset"
   ]
  },
  {
   "cell_type": "code",
   "execution_count": 22,
   "metadata": {},
   "outputs": [],
   "source": [
    "train_data, test_data = train_test_split(df, random_state=seed, train_size = 0.999)\n",
    "train_data, valid_data = train_test_split(train_data, random_state=seed, train_size=0.8)"
   ]
  },
  {
   "cell_type": "code",
   "execution_count": 23,
   "metadata": {},
   "outputs": [],
   "source": [
    "train_set = SSNDataset(train_data, abstract_vocab, text_vocab)\n",
    "valid_set = SSNDataset(test_data, abstract_vocab, text_vocab)\n",
    "test_set = SSNDataset(test_data, abstract_vocab, text_vocab)"
   ]
  },
  {
   "cell_type": "code",
   "execution_count": 24,
   "metadata": {},
   "outputs": [],
   "source": [
    "train_loader = DataLoader(train_set, batch_size=16, shuffle=True, collate_fn=text_collate_fn) # num_worker can't be 2+ as the time it \n",
    "                                                                 # takes to build iter is much longer\n",
    "valid_loader = DataLoader(valid_set, batch_size=16, shuffle=True, collate_fn=text_collate_fn)"
   ]
  },
  {
   "cell_type": "code",
   "execution_count": null,
   "metadata": {},
   "outputs": [],
   "source": []
  },
  {
   "cell_type": "code",
   "execution_count": 67,
   "metadata": {
    "scrolled": true
   },
   "outputs": [
    {
     "data": {
      "application/vnd.jupyter.widget-view+json": {
       "model_id": "f05d0f429cea4b5cb229fc4902c91451",
       "version_major": 2,
       "version_minor": 0
      },
      "text/plain": [
       "  0%|          | 0/57936 [00:00<?, ?it/s]"
      ]
     },
     "metadata": {},
     "output_type": "display_data"
    }
   ],
   "source": [
    "all_set = SSNDataset(df, abstract_vocab, text_vocab)\n",
    "all_loader = DataLoader(all_set, batch_size=1, shuffle=True, collate_fn=text_collate_fn)\n",
    "abstracts = []\n",
    "texts = []\n",
    "for i, (abstract, text) in tqdm(enumerate(all_loader), total=len(all_loader)):\n",
    "    a_size = list(abstract.size())[1]\n",
    "\n",
    "    t_size = list(text.size())[1]\n",
    "    abstracts.append(a_size)\n",
    "    texts.append(t_size)\n",
    "numbers = list(range(len(all_loader)))"
   ]
  },
  {
   "cell_type": "code",
   "execution_count": 68,
   "metadata": {},
   "outputs": [
    {
     "name": "stdout",
     "output_type": "stream",
     "text": [
      "max length for abstract:  50\n",
      "max length for text:  260\n",
      "min length for abstract:  50\n",
      "min length for text:  80\n",
      "average length for abstract:  50\n",
      "average length for text:  181\n"
     ]
    }
   ],
   "source": [
    "from statistics import mean\n",
    "print(\"max length for abstract: \",max(abstracts))\n",
    "print(\"max length for text: \",max(texts))\n",
    "print(\"min length for abstract: \",min(abstracts))\n",
    "print(\"min length for text: \",min(texts))\n",
    "print(\"average length for abstract: \",math.floor(mean(abstracts)))\n",
    "print(\"average length for text: \",math.floor(mean(texts)))"
   ]
  },
  {
   "cell_type": "code",
   "execution_count": 71,
   "metadata": {},
   "outputs": [
    {
     "name": "stdout",
     "output_type": "stream",
     "text": [
      "50th percentile:  152.0\n",
      "50th percentile:  50.0\n",
      "1st percentile:  84.0\n",
      "1st percentile:  50.0\n"
     ]
    }
   ],
   "source": [
    "print(\"50th percentile: \", np.percentile(texts, 30))\n",
    "print(\"50th percentile: \", np.percentile(abstracts, 30))\n",
    "print(\"1st percentile: \", np.percentile(texts, 1))\n",
    "print(\"1st percentile: \", np.percentile(abstracts, 1))"
   ]
  },
  {
   "cell_type": "code",
   "execution_count": 70,
   "metadata": {},
   "outputs": [],
   "source": [
    "a_perc = []\n",
    "t_perc = []\n",
    "for i in range(100):\n",
    "    i +=1\n",
    "    a_perc.append(np.percentile(abstracts, i))\n",
    "    t_perc.append(np.percentile(texts,i))"
   ]
  },
  {
   "cell_type": "code",
   "execution_count": 47,
   "metadata": {},
   "outputs": [
    {
     "data": {
      "image/png": "[encoded data removed]",
      "text/plain": [
       "<Figure size 640x480 with 1 Axes>"
      ]
     },
     "metadata": {},
     "output_type": "display_data"
    }
   ],
   "source": [
    "plt.scatter(range(len(a_perc)),a_perc)\n",
    "plt.show()"
   ]
  },
  {
   "cell_type": "code",
   "execution_count": 48,
   "metadata": {},
   "outputs": [
    {
     "data": {
      "image/png": "[encoded data removed]",
      "text/plain": [
       "<Figure size 640x480 with 1 Axes>"
      ]
     },
     "metadata": {},
     "output_type": "display_data"
    }
   ],
   "source": [
    "plt.scatter(range(len(t_perc)), t_perc)\n",
    "plt.show()"
   ]
  },
  {
   "cell_type": "markdown",
   "metadata": {},
   "source": [
    "# RNN Model definition"
   ]
  },
  {
   "cell_type": "code",
   "execution_count": 93,
   "metadata": {},
   "outputs": [],
   "source": [
    "from gensim.models import Word2Vec\n",
    "vec = Word2Vec(sentences=\"text_cnn.txt\", vector_size=300, window=5, min_count=2)"
   ]
  },
  {
   "cell_type": "code",
   "execution_count": 89,
   "metadata": {},
   "outputs": [
    {
     "data": {
      "text/plain": [
       "{'t': 0, 'n': 1, 'x': 2}"
      ]
     },
     "execution_count": 89,
     "metadata": {},
     "output_type": "execute_result"
    }
   ],
   "source": [
    "text_vocab = vec.wv.key_to_index\n",
    "text_vocab"
   ]
  },
  {
   "cell_type": "code",
   "execution_count": 265,
   "metadata": {},
   "outputs": [],
   "source": [
    "class TransformerNet(nn.Module):\n",
    "  def __init__(self, text_vocab, abstract_vocab, embed_dim, hidden_size, nheads, n_layers, max_text_len, max_abs_len, dropout):\n",
    "    super(TransformerNet, self).__init__()\n",
    "    # embedding layers\n",
    "    self.enc_embedding = nn.Embedding(text_vocab, embed_dim)\n",
    "    self.dec_embedding = nn.Embedding(abstract_vocab, embed_dim)\n",
    "\n",
    "    # positional encoding layers\n",
    "    self.enc_pe = PositionalEncoding(embed_dim, max_len = max_text_len)\n",
    "    self.dec_pe = PositionalEncoding(embed_dim, max_len = max_abs_len)\n",
    "\n",
    "    # encoder/decoder layers\n",
    "    enc_layer = nn.TransformerEncoderLayer(embed_dim, nheads, hidden_size, dropout)\n",
    "    dec_layer = nn.TransformerDecoderLayer(embed_dim, nheads, hidden_size, dropout)\n",
    "    self.encoder = nn.TransformerEncoder(enc_layer, num_layers = n_layers)\n",
    "    self.decoder = nn.TransformerDecoder(dec_layer, num_layers = n_layers)\n",
    "\n",
    "    # final dense layer\n",
    "    self.fc = nn.Linear(embed_dim, abstract_vocab)\n",
    "    #self.log_softmax = nn.LogSoftmax()\n",
    "\n",
    "  def forward(self, text, abstract):\n",
    "    mask = aasdasd\n",
    "    enc_embed = self.enc_embedding(text).permute(1, 0, 2)\n",
    "    dec_embed = self.dec_embedding(abstract).permute(1, 0, 2)\n",
    "    enc_pe = self.enc_pe(enc_embed)\n",
    "    dec_pe = self.dec_pe(dec_embed)\n",
    "    # pad encoder text\n",
    "    memory = self.encoder(enc_pe, src_key_padding_mask= )\n",
    "    # give encoder pad, and pad abstract\n",
    "    dec_out = self.decoder(dec_pe, memory,tgt_key_padding_mask, memory_key_padding_mask )\n",
    "    output = self.fc(dec_out)\n",
    "    return output #self.log_softmax(output)"
   ]
  },
  {
   "cell_type": "code",
   "execution_count": 262,
   "metadata": {},
   "outputs": [],
   "source": [
    "class PositionalEncoding(nn.Module):\n",
    "\n",
    "    def __init__(self, d_model: int, dropout: float = 0.1, max_len: int = 5000):\n",
    "        super().__init__()\n",
    "        self.dropout = nn.Dropout(p=dropout)\n",
    "\n",
    "        position = torch.arange(max_len).unsqueeze(1)\n",
    "        div_term = torch.exp(torch.arange(0, d_model, 2) * (-math.log(10000.0) / d_model))\n",
    "        pe = torch.zeros(max_len, 1, d_model)\n",
    "        pe[:, 0, 0::2] = torch.sin(position * div_term)\n",
    "        pe[:, 0, 1::2] = torch.cos(position * div_term)\n",
    "        self.register_buffer('pe', pe)\n",
    "\n",
    "    def forward(self, x: Tensor) -> Tensor:\n",
    "        \"\"\"\n",
    "        Arguments:\n",
    "            x: Tensor, shape ``[seq_len, batch_size, embedding_dim]``\n",
    "        \"\"\"\n",
    "        x = x + self.pe[:x.size(0)]\n",
    "        return self.dropout(x)"
   ]
  },
  {
   "cell_type": "code",
   "execution_count": 263,
   "metadata": {},
   "outputs": [
    {
     "data": {
      "text/plain": [
       "TransformerNet(\n",
       "  (enc_embedding): Embedding(7536, 200)\n",
       "  (dec_embedding): Embedding(2597, 200)\n",
       "  (enc_pe): PositionalEncoding(\n",
       "    (dropout): Dropout(p=0.1, inplace=False)\n",
       "  )\n",
       "  (dec_pe): PositionalEncoding(\n",
       "    (dropout): Dropout(p=0.1, inplace=False)\n",
       "  )\n",
       "  (encoder): TransformerEncoder(\n",
       "    (layers): ModuleList(\n",
       "      (0-3): 4 x TransformerEncoderLayer(\n",
       "        (self_attn): MultiheadAttention(\n",
       "          (out_proj): NonDynamicallyQuantizableLinear(in_features=200, out_features=200, bias=True)\n",
       "        )\n",
       "        (linear1): Linear(in_features=200, out_features=256, bias=True)\n",
       "        (dropout): Dropout(p=0.2, inplace=False)\n",
       "        (linear2): Linear(in_features=256, out_features=200, bias=True)\n",
       "        (norm1): LayerNorm((200,), eps=1e-05, elementwise_affine=True)\n",
       "        (norm2): LayerNorm((200,), eps=1e-05, elementwise_affine=True)\n",
       "        (dropout1): Dropout(p=0.2, inplace=False)\n",
       "        (dropout2): Dropout(p=0.2, inplace=False)\n",
       "      )\n",
       "    )\n",
       "  )\n",
       "  (decoder): TransformerDecoder(\n",
       "    (layers): ModuleList(\n",
       "      (0-3): 4 x TransformerDecoderLayer(\n",
       "        (self_attn): MultiheadAttention(\n",
       "          (out_proj): NonDynamicallyQuantizableLinear(in_features=200, out_features=200, bias=True)\n",
       "        )\n",
       "        (multihead_attn): MultiheadAttention(\n",
       "          (out_proj): NonDynamicallyQuantizableLinear(in_features=200, out_features=200, bias=True)\n",
       "        )\n",
       "        (linear1): Linear(in_features=200, out_features=256, bias=True)\n",
       "        (dropout): Dropout(p=0.2, inplace=False)\n",
       "        (linear2): Linear(in_features=256, out_features=200, bias=True)\n",
       "        (norm1): LayerNorm((200,), eps=1e-05, elementwise_affine=True)\n",
       "        (norm2): LayerNorm((200,), eps=1e-05, elementwise_affine=True)\n",
       "        (norm3): LayerNorm((200,), eps=1e-05, elementwise_affine=True)\n",
       "        (dropout1): Dropout(p=0.2, inplace=False)\n",
       "        (dropout2): Dropout(p=0.2, inplace=False)\n",
       "        (dropout3): Dropout(p=0.2, inplace=False)\n",
       "      )\n",
       "    )\n",
       "  )\n",
       "  (fc): Linear(in_features=200, out_features=2597, bias=True)\n",
       ")"
      ]
     },
     "execution_count": 263,
     "metadata": {},
     "output_type": "execute_result"
    }
   ],
   "source": [
    "# model = Model(len(text_vocab),len(abstract_vocab),1,500, device)\n",
    "# model = model.to(device)\n",
    "# model = TransformerModel(len(text_vocab), len(abstract_vocab), d_model=256, N=1, heads=1, dropout=0.2)\n",
    "# model.to(device)\n",
    "ntokens = len(text_vocab)  # size of vocabulary\n",
    "emsize = 200  # embedding dimension\n",
    "d_hid = 200  # dimension of the feedforward network model in ``nn.TransformerEncoder``\n",
    "nlayers = 2  # number of ``nn.TransformerEncoderLayer`` in ``nn.TransformerEncoder``\n",
    "nhead = 2  # number of heads in ``nn.MultiheadAttention``\n",
    "dropout = 0.2  # dropout probability\n",
    "model = TransformerNet(len(text_vocab),len(abstract_vocab),200, 256, \n",
    "                       2, 4, TEXT_MAX, ABSTRACT_MAX, 0.2).to(device)\n",
    "    \n",
    "for p in model.parameters():\n",
    "    if p.dim() > 1:\n",
    "        nn.init.xavier_uniform_(p) \n",
    "model\n",
    "#out1 = model(abstract, text)"
   ]
  },
  {
   "cell_type": "code",
   "execution_count": 239,
   "metadata": {},
   "outputs": [],
   "source": [
    "# best_path = \"best_CNN_140_Batch_8_2lr0.0005.pth\"\n",
    "# best_model = Model(len(text_vocab),len(abstract_vocab),1,150, device)\n",
    "# best_model = Model.load_dict(best_path)\n",
    "# model = best_model.to(device)"
   ]
  },
  {
   "cell_type": "code",
   "execution_count": 260,
   "metadata": {},
   "outputs": [
    {
     "data": {
      "application/vnd.jupyter.widget-view+json": {
       "model_id": "65879edee0ea4ca897d01dab3dd4ac65",
       "version_major": 2,
       "version_minor": 0
      },
      "text/plain": [
       "  0%|          | 0/10 [00:00<?, ?it/s]"
      ]
     },
     "metadata": {},
     "output_type": "display_data"
    },
    {
     "name": "stdout",
     "output_type": "stream",
     "text": [
      "i 0\n",
      "tensor([[10,  7, 13,  ...,  7,  9, 12],\n",
      "        [ 0,  7,  7,  ..., 15,  8, 11],\n",
      "        [13,  4,  7,  ...,  5,  8,  3],\n",
      "        ...,\n",
      "        [ 9,  5,  5,  ...,  2,  3, 13],\n",
      "        [ 8,  9, 15,  ...,  5, 13,  4],\n",
      "        [ 3, 14,  2,  ..., 13,  9, 13]], device='cuda:0')\n",
      "i 1\n",
      "tensor([[ 7,  6,  4,  ...,  9,  9,  4],\n",
      "        [ 6,  7,  0,  ..., 10,  4,  2],\n",
      "        [11,  1, 14,  ..., 15,  7,  5],\n",
      "        ...,\n",
      "        [15, 15,  0,  ..., 10,  8, 10],\n",
      "        [ 4,  0, 14,  ...,  4,  7, 13],\n",
      "        [10, 10,  9,  ..., 13,  6,  1]], device='cuda:0')\n",
      "i 2\n",
      "tensor([[15, 11, 14,  ...,  9, 15,  0],\n",
      "        [ 0,  4, 14,  ...,  8, 12,  7],\n",
      "        [14, 12, 12,  ...,  7,  0,  0],\n",
      "        ...,\n",
      "        [14,  9,  8,  ...,  6,  0,  3],\n",
      "        [15, 15,  5,  ...,  4,  5,  9],\n",
      "        [15,  0,  3,  ...,  7,  9,  4]], device='cuda:0')\n",
      "i 3\n",
      "tensor([[13,  2,  9,  ...,  5, 14,  2],\n",
      "        [12,  0,  2,  ...,  8, 12,  3],\n",
      "        [ 2, 12,  4,  ...,  4,  4, 12],\n",
      "        ...,\n",
      "        [ 6,  5,  2,  ...,  9,  5,  4],\n",
      "        [ 4, 10, 13,  ..., 15, 15, 12],\n",
      "        [ 9,  5, 13,  ...,  9,  4,  2]], device='cuda:0')\n",
      "i 4\n",
      "tensor([[12, 11,  0,  ...,  8,  7,  0],\n",
      "        [14,  2, 14,  ...,  6,  1,  8],\n",
      "        [11,  6,  9,  ..., 11,  8, 10],\n",
      "        ...,\n",
      "        [ 1,  5, 10,  ...,  6,  7,  6],\n",
      "        [ 4,  7,  3,  ...,  1,  2,  8],\n",
      "        [12,  5,  5,  ..., 13, 15, 13]], device='cuda:0')\n",
      "i 5\n",
      "tensor([[12,  8, 10,  ...,  0,  1,  3],\n",
      "        [ 2,  3,  5,  ...,  3,  4,  9],\n",
      "        [ 7,  3, 12,  ...,  5,  9,  6],\n",
      "        ...,\n",
      "        [ 7,  7,  6,  ...,  1,  9, 12],\n",
      "        [15,  4, 10,  ..., 11,  2,  3],\n",
      "        [ 5, 10,  7,  ...,  4, 12,  4]], device='cuda:0')\n",
      "i 6\n",
      "tensor([[11, 11,  2,  ..., 13,  9,  3],\n",
      "        [ 5, 13,  7,  ..., 12,  6,  8],\n",
      "        [11, 11,  2,  ...,  5,  3, 11],\n",
      "        ...,\n",
      "        [10,  6,  8,  ...,  1,  8, 11],\n",
      "        [ 1, 12,  7,  ..., 15, 15,  3],\n",
      "        [ 1,  2,  6,  ...,  1,  5,  7]], device='cuda:0')\n",
      "i 7\n",
      "tensor([[ 1,  6,  7,  ..., 13, 15,  1],\n",
      "        [ 1,  3,  8,  ..., 13,  8,  5],\n",
      "        [ 5,  3,  0,  ..., 15,  3,  2],\n",
      "        ...,\n",
      "        [15, 12,  2,  ...,  5, 14, 10],\n",
      "        [10, 15,  2,  ...,  4, 11,  1],\n",
      "        [10,  6,  3,  ..., 13,  9,  6]], device='cuda:0')\n",
      "i 8\n",
      "tensor([[13,  4, 12,  ...,  1, 12,  5],\n",
      "        [ 7,  9,  5,  ...,  2,  3, 11],\n",
      "        [ 8,  0,  4,  ...,  9, 10,  2],\n",
      "        ...,\n",
      "        [ 1,  1, 12,  ...,  7,  9,  8],\n",
      "        [15,  7, 10,  ..., 13, 13,  2],\n",
      "        [10,  8, 12,  ...,  6,  1,  5]], device='cuda:0')\n",
      "i 9\n",
      "tensor([[ 7, 11,  0,  ...,  3,  3,  3],\n",
      "        [ 8,  5, 11,  ...,  5, 10,  5],\n",
      "        [12, 12,  5,  ..., 12, 10, 13],\n",
      "        ...,\n",
      "        [ 8,  5, 13,  ...,  0,  3,  6],\n",
      "        [ 2, 12,  5,  ...,  0, 14,  6],\n",
      "        [11,  1,  0,  ...,  0,  0, 14]], device='cuda:0')\n"
     ]
    }
   ],
   "source": [
    "for i, (abstract, text) in tqdm(enumerate(train_loader), total=len(train_loader)):\n",
    "    # send batch data to device\n",
    "    print(\"i\", i)\n",
    "    src = text.to(device)\n",
    "    trg = abstract.to(device)\n",
    "   \n",
    "\n",
    "#     src_mask, trg_mask = create_masks(src, trg)\n",
    "#     src_mask.to(device)\n",
    "#     trg_mask.to(device)\n",
    "    preds = model(src, trg)\n",
    "    print(preds.argmax(1))"
   ]
  },
  {
   "cell_type": "markdown",
   "metadata": {},
   "source": [
    "# Tasks\n",
    "~~1 - Complete model definition~~ <br>\n",
    "~~2 - fix word vocab~~ <br>\n",
    "~~3 - Define Attention model and combine with Decoder~~ <br>\n",
    "    ~~1 - Adjust to allow for batch ~~<br>\n",
    "4 - trace through program to see where it starts to have the same tensor <br>\n",
    "~~5 - use mask to hide paddings~~ switch on off to see difference<br>\n",
    "~~6 - Switch from GRU to LSTM~~<br>\n",
    "~~7 - Add training script to train ~~<br>\n",
    " "
   ]
  },
  {
   "cell_type": "markdown",
   "metadata": {},
   "source": [
    "# Model training"
   ]
  },
  {
   "cell_type": "code",
   "execution_count": 61,
   "metadata": {
    "scrolled": true
   },
   "outputs": [],
   "source": [
    "def train(train_loader, valid_loader, model):\n",
    "    lr = 0.001\n",
    "    criterion = nn.CrossEntropyLoss(ignore_index=2) # ignore pad\n",
    "    optimizer = torch.optim.Adam(model.parameters(), lr=lr) # learning rate also affects overfitting\n",
    "    epoch_size = 1\n",
    "    loss_epoch = []\n",
    "    loss_accuracy = []\n",
    "    eval_loss_epoch = []\n",
    "    eval_accuracy = []\n",
    "    best_loss = 1000\n",
    "    \n",
    "    \n",
    "    for epoch in range(epoch_size):\n",
    "        \n",
    "        \n",
    "        model.train()\n",
    "        loss_batch = []\n",
    "        batch_acc = []\n",
    "        for i, (abstract, text) in tqdm(enumerate(train_loader), total=len(train_loader)):\n",
    "            # send batch data to device\n",
    "            abstract = abstract.to(device)\n",
    "            text = text.to(device)\n",
    "            #print(text)\n",
    "            outputs = model(text, abstract=abstract).to(device).permute(0,2,1)\n",
    "            \n",
    "#             print(outputs.shape)\n",
    "#             print(abstract.shape)\n",
    "            #print(\"output\",outputs)\n",
    "#             print(outputs.dtype)\n",
    "#             print(\"abstract\", abstract[:,0])\n",
    "#             print(abstract.dtype)\n",
    "            decode(outputs, abstract)\n",
    "            loss = criterion(outputs, abstract)\n",
    "            batch_acc.append(get_accuracy(outputs, abstract))\n",
    "            #print(loss.item())\n",
    "            \n",
    "            # Optimise\n",
    "            del abstract\n",
    "            del text\n",
    "            del outputs\n",
    "\n",
    "            loss_batch.append(loss.item())\n",
    "            optimizer.zero_grad()\n",
    "            loss.backward()\n",
    "\n",
    "            #plot_grad_flow(model.named_parameters())\n",
    "            \n",
    "            \n",
    "            \n",
    "            #torch.nn.utils.clip_grad_norm_(model.parameters(), 0.5)\n",
    "            optimizer.step()\n",
    "            del loss\n",
    "            torch.cuda.empty_cache()\n",
    "            \n",
    "            \n",
    "            \n",
    "        #return model\n",
    "            \n",
    "\n",
    "            #print(loss.item())\n",
    "        current_loss = np.average(loss_batch)\n",
    "        current_acc = np.average(batch_acc)\n",
    "        loss_epoch.append(current_loss)\n",
    "        loss_accuracy.append(current_acc)\n",
    "\n",
    "        print('Epoch [{}/{}], Loss: {:.4f}, Acc: {:.2f}'\n",
    "            .format(epoch+1, epoch_size, current_loss, current_acc*100))\n",
    "\n",
    "        eval_loss_batch = []\n",
    "        eval_batch_acc = []\n",
    "\n",
    "        model.eval()\n",
    "        with torch.no_grad():\n",
    "            for j, (abstract, text) in enumerate(valid_loader):\n",
    "                abstract = abstract.to(device)\n",
    "                text = text.to(device)\n",
    "\n",
    "                scores = model(text, abstract=abstract).permute(0,2,1)\n",
    "                #decode(scores, abstract)\n",
    "                eval_loss = criterion(scores, abstract)\n",
    "                #print(eval_loss.item())\n",
    "                eval_loss_batch.append(eval_loss.item())\n",
    "                eval_batch_acc.append(get_accuracy(scores, abstract))\n",
    "                del abstract\n",
    "                del text\n",
    "                del scores\n",
    "                del eval_loss\n",
    "                torch.cuda.empty_cache()\n",
    "\n",
    "        current_eval_loss = np.average(eval_loss_batch)\n",
    "        current_eval_acc = np.average(eval_batch_acc)\n",
    "        \n",
    "        eval_loss_epoch.append(current_eval_loss)\n",
    "        eval_accuracy.append(current_eval_acc)\n",
    "        \n",
    "        if (current_eval_loss < best_loss):\n",
    "            best_loss = current_eval_loss\n",
    "            #torch.save(model.state_dict(), 'best_CNN_300_Batch_32_'+str(epoch+1)+'lr'+str(lr)+'.pth')\n",
    "            print(\"Best eval loss updated!\")\n",
    "#         else:\n",
    "#             torch.save(model.state_dict(), 'model_NoStop_100_1_Batch_16_'+str(epoch+1)+'.pth')\n",
    "\n",
    "        print('Valid Epoch [{}/{}], Loss: {:.4f}, Acc: {:.2f}'\n",
    "            .format(epoch+1, epoch_size, current_eval_loss, current_eval_acc*100))\n",
    "    return loss_epoch, eval_loss_epoch, loss_accuracy, eval_accuracy\n",
    "def get_accuracy(preds, abstracts):\n",
    "#     print(\"preds: \", preds.shape)\n",
    "#     print(\"abstracts:\", abstracts.shape)\n",
    "    pred_ids = preds.argmax(1)\n",
    "    \n",
    "    correct_preds = (pred_ids == abstracts).sum().item()\n",
    "\n",
    "    # Calculate the total number of samples\n",
    "    total_samples = abstracts.shape[0] * abstracts.shape[1]\n",
    "\n",
    "    # Calculate accuracy as the ratio of correct predictions to total samples\n",
    "    accuracy = correct_preds / total_samples\n",
    "\n",
    "    return accuracy\n",
    "def decode(preds, abstracts):\n",
    "    pred_ids = preds.argmax(1)\n",
    "    for i in range(len(pred_ids)):\n",
    "        sentence = \"\"\n",
    "        sentence2 = \"\"\n",
    "        for j in range(ABSTRACT_MAX):\n",
    "            sentence += abstract_vocab.get_word(pred_ids[i][j].item()) + \" \"\n",
    "            sentence2 += abstract_vocab.get_word(abstracts[i][j].item()) + \" \"\n",
    "            \n",
    "            \n",
    "        print(\"pred: \",sentence)\n",
    "        print(\"abstract: \",sentence2)"
   ]
  },
  {
   "cell_type": "code",
   "execution_count": 62,
   "metadata": {
    "scrolled": true
   },
   "outputs": [
    {
     "data": {
      "application/vnd.jupyter.widget-view+json": {
       "model_id": "3ca7d681e526456bbf3f3bf96217ff86",
       "version_major": 2,
       "version_minor": 0
      },
      "text/plain": [
       "  0%|          | 0/10 [00:00<?, ?it/s]"
      ]
     },
     "metadata": {},
     "output_type": "display_data"
    },
    {
     "name": "stdout",
     "output_type": "stream",
     "text": [
      "pred:  clowns portsmouth players players players bellucci iphones iphones because iphones because iphones decay berlin portsmouth portsmouth clinics players iphones iphones iphones iphones alive decay rental iphones iphones alive clowns iphones iphones we bryant iphones iphones alive alive clowns decay berlin decay berlin rental decay decay berlin decay decay berlin portsmouth \n",
      "abstract:  the league has urged urban outfitters to stop selling a product it says is offensive the tapestry features a pink triangle a symbol that was used during the holocaust to brand gays <pad> <pad> <pad> <pad> <pad> <pad> <pad> <pad> <pad> <pad> <pad> <pad> <pad> <pad> <pad> <pad> <pad> <pad> \n",
      "pred:  run portsmouth portsmouth portsmouth portsmouth portsmouth portsmouth attacking clowns decay iphones decay iphones berlin clowns decay clinics iphones iphones decay iphones decay berlin iraq iphones iphones iphones alive decay iphones iphones iphones iphones iphones iphones iphones iphones iphones iphones alive decay berlin alive decay decay berlin decay decay iraq iphones \n",
      "abstract:  britt assombalonga joins nottingham forest for former peterborough striker signs contract at the city ground it s stuart pearce s second transfer of the day following capture of michail antonio from sheffield wednesday <pad> <pad> <pad> <pad> <pad> <pad> <pad> <pad> <pad> <pad> <pad> <pad> <pad> <pad> <pad> <pad> <pad> \n",
      "pred:  level accuses plans player brook alcohol meet levels anfield still conducted sociedad witness imac wednesday download swedish giggs flown croatia nielsen ebay ebay committee 2013 libido lazio effect football agomelatine fellow viewings aaliyah two pod children is bond pressure comments friends suffering sorry identified floods idea kouyate wiredoo fetuses week \n",
      "abstract:  they were hit by an suv one witness said was travelling at around the driver fled on foot and has not yet been identified by police <pad> <pad> <pad> <pad> <pad> <pad> <pad> <pad> <pad> <pad> <pad> <pad> <pad> <pad> <pad> <pad> <pad> <pad> <pad> <pad> <pad> <pad> <pad> <pad> \n",
      "pred:  clowns decay iphones iphones iphones iphones iphones alive clowns iphones clowns iphones iphones iphones because decay chances portsmouth portsmouth portsmouth portsmouth herpes iphones iphones because decay rental because attacking iphones iphones iphones iphones alive decay iphones iphones iphones iphones iphones iphones iphones iphones iphones iphones iphones alive iphones iphones iphones \n",
      "abstract:  man 19 arrested on british soil as he stepped off flight from jordan swooped on thursday after suspecting terror plot the suspect is currently being questioned by police in west midlands <pad> <pad> <pad> <pad> <pad> <pad> <pad> <pad> <pad> <pad> <pad> <pad> <pad> <pad> <pad> <pad> <pad> <pad> <pad> \n",
      "pred:  arrest jose gates votes meeting criminal their opposing lights lights near sport received proposed recovered argentine bodies approach thailand helicopter monaco seriously rental may behavior throat compensating compensating hawthorns split behavior occupant hamburg soil driver his ana meet through estimated uk identify those destroys preparing replace mendes pa crew moved \n",
      "abstract:  the family of tyler clementi consented to the use of his name on the legislation the legislation seeks to stop harassment at colleges clementi committed suicide in september <pad> <pad> <pad> <pad> <pad> <pad> <pad> <pad> <pad> <pad> <pad> <pad> <pad> <pad> <pad> <pad> <pad> <pad> <pad> <pad> <pad> <pad> \n",
      "pred:  forward tilt clowns iphones iphones because months characters iphones iphones alive alive alive clowns iphones alive clowns charge portsmouth portsmouth portsmouth portsmouth portsmouth clowns glass portsmouth portsmouth spanish portsmouth portsmouth portsmouth condition portsmouth attacking ended decay berlin upgrades portsmouth portsmouth portsmouth portsmouth portsmouth condition because portsmouth attacking decay decay berlin \n",
      "abstract:  everton ace gareth barry was lucky to escape a second yellow card referee martin atkinson waved away liverpool s penalty protests barry kept his cool in the second half to finish the game at anfield <pad> <pad> <pad> <pad> <pad> <pad> <pad> <pad> <pad> <pad> <pad> <pad> <pad> <pad> <pad> \n",
      "pred:  curve endemic siege june pulls spears fled minions until spanish spanish town knee attacking common gay town gay shakes voice voice votes suspecting dogue leagues felt felt accused arsene arsene supplement maximum lights forward track daniel line note impact upper parishes promotion their serena james portsmouth systems sutton race infringements \n",
      "abstract:  one woman with racing heart syndrome died after laughing university s research involved sending clowns to a hospital <pad> <pad> <pad> <pad> <pad> <pad> <pad> <pad> <pad> <pad> <pad> <pad> <pad> <pad> <pad> <pad> <pad> <pad> <pad> <pad> <pad> <pad> <pad> <pad> <pad> <pad> <pad> <pad> <pad> <pad> <pad> <pad> \n",
      "pred:  portsmouth portsmouth portsmouth portsmouth portsmouth conspiring dallas iphones because iphones because calvin decay decay decay iphones iphones iphones iphones alive decay iphones decay berlin decay decay berlin iraq decay iphones iphones iphones iphones iphones decay berlin decay berlin decay decay rental decay decay iphones iphones iphones iphones iphones iphones iphones \n",
      "abstract:  000 note can only purchase a loaf of bread zimbabwe s economy in for more than a decade robert mugabe blames country s economic collapse on sanctions <pad> <pad> <pad> <pad> <pad> <pad> <pad> <pad> <pad> <pad> <pad> <pad> <pad> <pad> <pad> <pad> <pad> <pad> <pad> <pad> <pad> <pad> <pad> \n",
      "pred:  portsmouth portsmouth portsmouth attacking portsmouth portsmouth portsmouth portsmouth portsmouth calvin shakes decay decay decay decay arsene decay decay iphones iphones iphones iphones iphones iphones iphones iphones iphones iphones alive iphones iphones iphones iphones iphones iphones iphones iphones iphones iphones alive decay decay iphones iphones iphones iphones iphones iphones iphones alive \n",
      "abstract:  fairmont hotels has created infographic of top travel photography tricks tips are broken down into and tactics polled experts who also revealed their best advice for images <pad> <pad> <pad> <pad> <pad> <pad> <pad> <pad> <pad> <pad> <pad> <pad> <pad> <pad> <pad> <pad> <pad> <pad> <pad> <pad> <pad> <pad> <pad> \n",
      "pred:  however iphones iphones iphones iphones iphones iphones iphones iphones iphones iphones involved iphones iphones iphones iphones iphones iphones iphones alive decay decay decay decay decay decay decay decay iphones decay iphones decay berlin portsmouth decay decay decay decay berlin berlin decay berlin decay rental decay decay decay iphones decay iphones \n",
      "abstract:  samsung accuses apple of two patent infringements the two companies have sued and countersued each other in recent months <pad> <pad> <pad> <pad> <pad> <pad> <pad> <pad> <pad> <pad> <pad> <pad> <pad> <pad> <pad> <pad> <pad> <pad> <pad> <pad> <pad> <pad> <pad> <pad> <pad> <pad> <pad> <pad> <pad> <pad> <pad> \n",
      "pred:  window clowns portsmouth iphones alive decay iphones iphones iphones iphones iphones alive decay decay iphones iphones iphones alive decay decay berlin clowns decay decay iphones decay iphones iphones iphones iphones iphones iphones iphones iphones alive clowns iphones iphones alive clowns iphones iphones iphones iphones alive decay iphones iphones iphones iphones \n",
      "abstract:  a wall of ice got hung up at a steep curve in the yukon river some 300 people are evacuated expect the flooding to become worse before the waters start to recede governor says <pad> <pad> <pad> <pad> <pad> <pad> <pad> <pad> <pad> <pad> <pad> <pad> <pad> <pad> <pad> <pad> \n",
      "pred:  schelotto portsmouth portsmouth portsmouth portsmouth calvin decay decay iphones iphones iphones decay iphones iphones iphones iphones iphones iphones iphones iphones iphones iphones iphones alive involved iphones iphones iphones iphones iphones iphones iphones iphones iphones iphones iphones alive decay iphones iphones iphones iphones alive clowns iphones decay berlin clowns decay iphones \n",
      "abstract:  newborn weighs in at 13 despite being ten days premature however the little boy is not the heaviest baby to be born in china this year last month one woman gave birth to a boy in southeast china <pad> <pad> <pad> <pad> <pad> <pad> <pad> <pad> <pad> <pad> <pad> <pad> \n",
      "pred:  portsmouth portsmouth clinics iphones clinics clinics decay iphones iphones iphones iphones alive iphones iphones iphones iphones iphones iphones alive decay iphones alive clowns decay decay decay berlin clowns decay iphones decay iphones iphones alive calvin decay iphones decay iphones iphones decay iphones berlin berlin decay berlin portsmouth decay iphones iphones \n",
      "abstract:  members of house and senate intelligence committees will be able to view the photos viewings will take place at cia timing is not yet determined president won t release to is not in our national security <pad> <pad> <pad> <pad> <pad> <pad> <pad> <pad> <pad> <pad> <pad> <pad> <pad> <pad> \n",
      "pred:  portsmouth window decay seven portsmouth players dumb portsmouth portsmouth clowns clinics players decay decay decay decay decay berlin decay iphones decay decay iphones iphones iphones iphones iphones alive decay iphones iphones decay iphones iphones iphones iphones iphones alive clowns iphones iphones alive clowns iphones iphones iphones iphones iphones iphones iphones \n",
      "abstract:  cheaper european crude helps push down gas prices the average price of a gallon of regular was on friday the most expensive gas was in the cheapest in billings montana <pad> <pad> <pad> <pad> <pad> <pad> <pad> <pad> <pad> <pad> <pad> <pad> <pad> <pad> <pad> <pad> <pad> <pad> <pad> <pad> \n",
      "pred:  portsmouth portsmouth portsmouth portsmouth portsmouth clowns clinics clinics decay decay berlin decay decay berlin decay decay berlin decay berlin portsmouth portsmouth decay decay iphones decay iphones berlin iraq portsmouth portsmouth portsmouth portsmouth portsmouth we calvin decay decay decay berlin rental decay decay berlin portsmouth portsmouth decay berlin decay berlin portsmouth \n",
      "abstract:  wall street news board agrees to split company journal is owned by rupert murdoch s news tv film assets and the publishing wing to be separate entities <pad> <pad> <pad> <pad> <pad> <pad> <pad> <pad> <pad> <pad> <pad> <pad> <pad> <pad> <pad> <pad> <pad> <pad> <pad> <pad> <pad> <pad> <pad> \n",
      "pred:  schelotto portsmouth portsmouth decay iphones decay decay iphones iphones iphones iphones iphones alive clowns decay iphones decay decay decay iphones iphones decay decay iphones decay iphones iphones decay berlin ended decay iphones iphones iphones iphones iphones iphones iphones iphones iphones iphones iphones iphones iphones iphones iphones iphones iphones alive involved \n",
      "abstract:  kimberly micheloni 40 also faces child abuse charges as police claim she drove drunk with her child in the car is currently being held on 000 bond <pad> <pad> <pad> <pad> <pad> <pad> <pad> <pad> <pad> <pad> <pad> <pad> <pad> <pad> <pad> <pad> <pad> <pad> <pad> <pad> <pad> <pad> <pad> \n"
     ]
    },
    {
     "name": "stdout",
     "output_type": "stream",
     "text": [
      "pred:  the the the the the the the the the the the the the the the the the the the the the the the the the the the the the the the the the the the the the the the the the the the the the the the the the the \n",
      "abstract:  isis militants and military fight close to anbar province government center in ramadi all of anbar could fall to isis government official warns conducted two airstrikes near ramadi central command reports <pad> <pad> <pad> <pad> <pad> <pad> <pad> <pad> <pad> <pad> <pad> <pad> <pad> <pad> <pad> <pad> <pad> <pad> <pad> \n",
      "pred:  the the the the the the the the the the the the the the the the the the the the the the the the the the the the the the the the the the the the the the the the the the the the the the the the the the \n",
      "abstract:  action recorded on bridge over river in poland dog wails for help after becoming trapped in freezing waters fireman clambers along ladder and eventually hooks the dog out bystanders give rescue mission a round of applause on dog s exit <pad> <pad> <pad> <pad> <pad> <pad> <pad> <pad> <pad> <pad> \n",
      "pred:  the the the the the the the the the the the the the the the the the the the the the the the the the the the the the the the the the the the the the the the the the the the the the the the the the the \n",
      "abstract:  sollecito and girlfriend greta menagaldo were spotted thursday at the home by locals his father says he sees nothing wrong with the visit because his soon is innocent <pad> <pad> <pad> <pad> <pad> <pad> <pad> <pad> <pad> <pad> <pad> <pad> <pad> <pad> <pad> <pad> <pad> <pad> <pad> <pad> <pad> <pad> \n",
      "pred:  the the the the the the the the the the the the the the the the the the the the the the the the the the the the the the the the the the the the the the the the the the the the the the the the the the \n",
      "abstract:  la lakers star was in the crowd for the entertaining draw basketball ace full of praise for mexcio goalkeeper guillermo ochoa bryant says football is his favourite sport and plans to watch many matches <pad> <pad> <pad> <pad> <pad> <pad> <pad> <pad> <pad> <pad> <pad> <pad> <pad> <pad> <pad> <pad> \n",
      "pred:  hawaii beat dogue urinating 11 out features gru parents mary classic comments comments watched one collapsed general iago drugs winner pain tripadvisor tripadvisor health entertaining stephen tennis much changes features rancorous machine lisbon lisbon lisbon host largely hit hit idea resign decision administration foundation accident general der cups common worse \n",
      "abstract:  the app has run afoul of the singer it claims to predict the size of a certain body part the app was removed years ago <pad> <pad> <pad> <pad> <pad> <pad> <pad> <pad> <pad> <pad> <pad> <pad> <pad> <pad> <pad> <pad> <pad> <pad> <pad> <pad> <pad> <pad> <pad> <pad> <pad> \n",
      "pred:  the the the the the the the the the the the the the the the the the the the the the the the the the the the the the the the the the the the the the the the the the the the the the the the the the the \n",
      "abstract:  after 13 years on the run man was caught urinating on a wall sanchez tried to give a false name but was fingerprinted accused of attempted murder in 2000 <pad> <pad> <pad> <pad> <pad> <pad> <pad> <pad> <pad> <pad> <pad> <pad> <pad> <pad> <pad> <pad> <pad> <pad> <pad> <pad> <pad> \n",
      "pred:  the the the the the the the the the the the the the the the the the the the the the the the the the the the the the the the the the the the the the the the the the the the the the the the the the the \n",
      "abstract:  elana adler harassing comments into 32 samplers the series is called are my the samplers reduce street harassment into a piece of women s <pad> <pad> <pad> <pad> <pad> <pad> <pad> <pad> <pad> <pad> <pad> <pad> <pad> <pad> <pad> <pad> <pad> <pad> <pad> <pad> <pad> <pad> <pad> <pad> <pad> <pad> \n",
      "pred:  the the the the the the the the the the the the the the the the the the the the the the the the the the the the the the the the the the the the the the the the the the the the the the the the the the \n",
      "abstract:  fans can win a chance to be in of book author promises the character will meet grisly money raised will go to charity <pad> <pad> <pad> <pad> <pad> <pad> <pad> <pad> <pad> <pad> <pad> <pad> <pad> <pad> <pad> <pad> <pad> <pad> <pad> <pad> <pad> <pad> <pad> <pad> <pad> <pad> <pad> \n",
      "pred:  the the the the the the the the the the the the the the the the the the the the the the the the the the the the the the the the the the the the the the the the the the the the the the the the the the \n",
      "abstract:  apple will join the of soon iphones would synch with lights appliances security financial times says system will be unveiled at wwdc next month <pad> <pad> <pad> <pad> <pad> <pad> <pad> <pad> <pad> <pad> <pad> <pad> <pad> <pad> <pad> <pad> <pad> <pad> <pad> <pad> <pad> <pad> <pad> <pad> <pad> <pad> \n",
      "pred:  the the the the the the the the the the the the the the the the the the the the the the the the the the the the the the the the the the the the the the the the the the the the the the the the the the \n",
      "abstract:  louis van gaal is prepared to let danny welbeck leave on loan but the england striker will cost for the season welbeck spent a year on loan at sunderland in <pad> <pad> <pad> <pad> <pad> <pad> <pad> <pad> <pad> <pad> <pad> <pad> <pad> <pad> <pad> <pad> <pad> <pad> <pad> <pad> \n",
      "pred:  the the the the the the the the the the the the the the the the the the the the the the the the the the the the the the the the the the the the the the the the the the the the the the the the the the \n",
      "abstract:  dogue de bordeaux pictured on twitter dressed up in lion s mane wig image posted with ordered a lion off ebay they sent me this chinese zoo mocked for trying to disguise hairy dog as lion last year <pad> <pad> <pad> <pad> <pad> <pad> <pad> <pad> <pad> <pad> <pad> <pad> \n",
      "pred:  spill shock wave attorney the say or best together christoph equatorial training cups moved brand eastern gays them michael issa airstrikes 200 diaz wimbledon disguise continue alcohol militant midterms survival billings sv neil advise carrick to foundation do force sporting played derby picked survival sociedad argentine million recovered edgar dogue \n",
      "abstract:  mantas leonavicius 22 was found dead yesterday three men in custody on suspicion of the murder <pad> <pad> <pad> <pad> <pad> <pad> <pad> <pad> <pad> <pad> <pad> <pad> <pad> <pad> <pad> <pad> <pad> <pad> <pad> <pad> <pad> <pad> <pad> <pad> <pad> <pad> <pad> <pad> <pad> <pad> <pad> <pad> <pad> <pad> \n",
      "pred:  the the the the the the the the the the the the the the the the the the the the the the the the the the the the the the the the the the the the the the the the the the the the the the the the the the \n",
      "abstract:  outgoing congressman ralph hall 91 is the oldest sitting member of congress he had surgery to repair damage to his hip he is expected to make a full recovery <pad> <pad> <pad> <pad> <pad> <pad> <pad> <pad> <pad> <pad> <pad> <pad> <pad> <pad> <pad> <pad> <pad> <pad> <pad> <pad> <pad> \n",
      "pred:  the the the the the the the the the the the the the the the the the the the the the the the the the the the the the the the the the the the the the the the the the the the the the the the the the the \n",
      "abstract:  bishop john folda of north dakota is taking time off after being diagnosed he contracted the infection through contaminated food in italy church members in fargo grand forks and jamestown could have been exposed <pad> <pad> <pad> <pad> <pad> <pad> <pad> <pad> <pad> <pad> <pad> <pad> <pad> <pad> <pad> <pad> \n",
      "pred:  the the the the the the the the the the the the the the the the the the the the the the the the the the the the the the the the the the the the the the the the the the the the the the the the the the \n",
      "abstract:  darrell issa called jonathan gruber to testify before a house committee gruber said obamacare passed in part because of the of the american president barack obama has distanced himself from gruber and the remarks <pad> <pad> <pad> <pad> <pad> <pad> <pad> <pad> <pad> <pad> <pad> <pad> <pad> <pad> <pad> <pad> \n",
      "pred:  the the the the the the the the the the the the the the the the the the the the the the the the the the the the the the the the the the the the the the the the the the the the the the the the the the \n",
      "abstract:  supreme court in the town of catanzaro made the ruling the was in a a relationship’ with the girl man worked for the local social services department pair were found naked in his home during a police raid <pad> <pad> <pad> <pad> <pad> <pad> <pad> <pad> <pad> <pad> <pad> <pad> \n"
     ]
    },
    {
     "name": "stdout",
     "output_type": "stream",
     "text": [
      "pred:  the the the the the the the the the the the the the the the the the the the the the the the the the the the the the the the the the the the the the the the the the the the the the the the the the the \n",
      "abstract:  bottles are almost exclusively from and not foreigners alcohol is largely banned in afghanistan certain areas however that cater to foreigners are permitted to sell it <pad> <pad> <pad> <pad> <pad> <pad> <pad> <pad> <pad> <pad> <pad> <pad> <pad> <pad> <pad> <pad> <pad> <pad> <pad> <pad> <pad> <pad> <pad> <pad> \n",
      "pred:  the the the the the the the the the the the the the the the the the the the the the the the the the the the the the the the the the the the the the the the the the the the the the the the the the the \n",
      "abstract:  the russian government has banned grain exports until december 1 the drought is the country s worst in nearly 40 years russia is the world s largest exporter of wheat <pad> <pad> <pad> <pad> <pad> <pad> <pad> <pad> <pad> <pad> <pad> <pad> <pad> <pad> <pad> <pad> <pad> <pad> <pad> <pad> \n",
      "pred:  the the the the the the the the the the the the the the the the the the the the the the the the the the the the the the the the the the the the the the the the the the the the the the the the the the \n",
      "abstract:  paras shah allegedly fired a pistol at the of the deputy prime minister shah accused him of conspiring to abolish the country s monarchy the former crown prince has a history of reckless behavior <pad> <pad> <pad> <pad> <pad> <pad> <pad> <pad> <pad> <pad> <pad> <pad> <pad> <pad> <pad> <pad> \n",
      "pred:  the the the the the the the the the the the the the the the the the the the the the the the the the the the the the the the the the the the the the the the the the the the the the the the the the the \n",
      "abstract:  the investment guru donated nearly shares in his firm about went to the bill and melinda gates foundation mr buffett s fortune still amounts to a staggering <pad> <pad> <pad> <pad> <pad> <pad> <pad> <pad> <pad> <pad> <pad> <pad> <pad> <pad> <pad> <pad> <pad> <pad> <pad> <pad> <pad> <pad> <pad> \n",
      "pred:  the the the the the the the the the the the the the the the the the the the the the the the the the the the the the the the the the the the the the the the the the the the the the the the the the the \n",
      "abstract:  incident occurred in southwestern city of chengdu research base worker was on his own when giant panda grabbed him man eventually shakes panda off but then has a struggle to close gate <pad> <pad> <pad> <pad> <pad> <pad> <pad> <pad> <pad> <pad> <pad> <pad> <pad> <pad> <pad> <pad> <pad> <pad> \n",
      "pred:  the the the the the the the the the the the the the the the the the the the the the the the the the the the the the the the the the the the the the the the the the the the the the the the the the the \n",
      "abstract:  arturo vidal had been a target for manchester united chile forward will remain with juventus louis van gaal will now look elsewhere for reinforcements and could bid for kevin strootman of roma <pad> <pad> <pad> <pad> <pad> <pad> <pad> <pad> <pad> <pad> <pad> <pad> <pad> <pad> <pad> <pad> <pad> <pad> \n",
      "pred:  the the the the the the the the the the the the the the the the the the the the the the the the the the the the the the the the the the the the the the the the the the the the the the the the the the \n",
      "abstract:  james rodriguez misplaces pass during real madrid the colombian is then mocked cristiano ronaldo and pepe real madrid face san lorenzo in saturday s world club final <pad> <pad> <pad> <pad> <pad> <pad> <pad> <pad> <pad> <pad> <pad> <pad> <pad> <pad> <pad> <pad> <pad> <pad> <pad> <pad> <pad> <pad> <pad> \n",
      "pred:  the the the the the the the the the the the the the the the the the the the the the the the the the the the the the the the the the the the the the the the the the the the the the the the the the the \n",
      "abstract:  park given extension to his contract at manchester united south korea star was first player from asia to play in champions league final park has made 127 appearances for united since joining from psv in 2005 <pad> <pad> <pad> <pad> <pad> <pad> <pad> <pad> <pad> <pad> <pad> <pad> <pad> <pad> \n",
      "pred:  the the the the the the the the the the the the the the the the the the the the the the the the the the the the the the the the the the the the the the the the the the the the the the the the the the \n",
      "abstract:  isis is the name of archer s employer on the show it will be changed for season 6 producer called it most awful <pad> <pad> <pad> <pad> <pad> <pad> <pad> <pad> <pad> <pad> <pad> <pad> <pad> <pad> <pad> <pad> <pad> <pad> <pad> <pad> <pad> <pad> <pad> <pad> <pad> <pad> <pad> \n",
      "pred:  the the the the the the the the the the the the the the the the the the the the the the the the the the the the the the the the the the the the the the the the the the the the the the the the the the \n",
      "abstract:  kevin smith gives an update on the filmmaker says it should go into production in june 2015 his original is a cult classic <pad> <pad> <pad> <pad> <pad> <pad> <pad> <pad> <pad> <pad> <pad> <pad> <pad> <pad> <pad> <pad> <pad> <pad> <pad> <pad> <pad> <pad> <pad> <pad> <pad> <pad> <pad> \n",
      "pred:  the the the the the the the the the the the the the the the the the the the the the the the the the the the the the the the the the the the the the the the the the the the the the the the the the the \n",
      "abstract:  german zookeepers concerned for baby polar bear after its twin died young polar bear died monday less than two weeks after it was born baby nowhere to be found in mothers often eat young if sense danger <pad> <pad> <pad> <pad> <pad> <pad> <pad> <pad> <pad> <pad> <pad> <pad> <pad> \n",
      "pred:  the the the the the the the the the the the the the the the the the the the the the the the the the the the the the the the the the the the the the the the the the the the the the the the the the the \n",
      "abstract:  ryan giggs announced his retirement from football on monday welshman won 13 leagues four fa cups and two champions leagues giggs will be assistant manager to louis van gaal next season the had 150 in time at old trafford <pad> <pad> <pad> <pad> <pad> <pad> <pad> <pad> <pad> <pad> <pad> \n",
      "pred:  the the the the the the the the the the the the the the the the the the the the the the the the the the the the the the the the the the the the the the the the the the the the the the the the the the \n",
      "abstract:  holland were defeated by czech republic in euro 2016 qualifier newcastle defender s mistake gifted czech s a late winner new manager gus hiddink fuming after losing first game in charge <pad> <pad> <pad> <pad> <pad> <pad> <pad> <pad> <pad> <pad> <pad> <pad> <pad> <pad> <pad> <pad> <pad> <pad> <pad> \n",
      "pred:  the the yet oats a shirt lights scheduled john scant total helicopter monaco monaco community mane witness serena rate flown soil crowd express level racing nfl nfl despite levels crumbled boy pass pass flurry below passengers largest sorry rental failed bizarre casting soil total johnson mary 44 santa pictured ruling \n",
      "abstract:  the number of elderly patients with alcohol related dementia has soared the greatest number of admissions was in london s affluent areas alcohol concern say that the generation has a more liberal approach to alcohol <pad> <pad> <pad> <pad> <pad> <pad> <pad> <pad> <pad> <pad> <pad> <pad> <pad> <pad> <pad> \n",
      "pred:  the the the the the the the the the the the the the the the the the the the the the the the the the the the the the the the the the the the the the the the the the the the the the the the the the the \n",
      "abstract:  iago aspas joined liverpool from in 2013 but failed to make an impact he didn t register a goal in 14 league appearances for liverpool the scored a in just four minutes for sevilla <pad> <pad> <pad> <pad> <pad> <pad> <pad> <pad> <pad> <pad> <pad> <pad> <pad> <pad> <pad> <pad> \n",
      "pred:  the the the the the the the the the the the the the the the the the the the the the the the the the the the the the the the the the the the the the the the the the the the the the the the the the the \n",
      "abstract:  bomber burned after landing at air base in qatar crew was able to evacuate aircraft safely military says air base has the military s longest runway in the middle east <pad> <pad> <pad> <pad> <pad> <pad> <pad> <pad> <pad> <pad> <pad> <pad> <pad> <pad> <pad> <pad> <pad> <pad> <pad> <pad> \n",
      "pred:  the the the the the the the the the the the the the the the the the the the the the the the the the the the the the the the the the the the the the the the the the the the the the the the the the the \n",
      "abstract:  the supplement is linked to 29 complaints users reported fatigue pain liver and thyroid trouble men reported impotence and low testosterone no deaths were reported but some patients were hospitalized <pad> <pad> <pad> <pad> <pad> <pad> <pad> <pad> <pad> <pad> <pad> <pad> <pad> <pad> <pad> <pad> <pad> <pad> <pad> <pad> \n",
      "pred:  the the the the the the the the the the the the the the the the the the the the the the the the the the the the the the the the the the the the the the the the the the the the the the the the the the \n",
      "abstract:  stoke could move for oussama assaidi following peter odemwingie s knee injury potters are hoping to keep ryan shawcross at the britannia jack butland also looks set to stay with the potters <pad> <pad> <pad> <pad> <pad> <pad> <pad> <pad> <pad> <pad> <pad> <pad> <pad> <pad> <pad> <pad> <pad> <pad> \n",
      "pred:  the the the the the the the the the the the the the the the the the the the the the the the the the the the the the the the the the the the the the the the the the the the the the the the the the the \n",
      "abstract:  chemical spill closed monash freeway for several hours truck carrying 200 litres of highly flammable aviation fuel began leaking residents were told to stay inside and not to switch on units motorists urged to stay away from area if possible <pad> <pad> <pad> <pad> <pad> <pad> <pad> <pad> <pad> <pad> \n",
      "pred:  the the the the the the the the the the the the the the the the the the the the the the the the the the the the the the the the the the the the the the the the the the the the the the the the the the \n",
      "abstract:  obama s april 20 challenge to cut million in spending in 90 days the 90 days are up but white house hasn t issued a report yet on progress white house spokesman robert information still being compiled <pad> <pad> <pad> <pad> <pad> <pad> <pad> <pad> <pad> <pad> <pad> <pad> <pad> \n",
      "pred:  the the the the the the the the the the the the the the the the the the the the the the the the the the the the the the the the the the the the the the the the the the the the the the the the the the \n",
      "abstract:  the man is convicted of stabbing another in broad daylight news agency says executions are common in public ones are not amnesty iran trails china in the number of executions worldwide <pad> <pad> <pad> <pad> <pad> <pad> <pad> <pad> <pad> <pad> <pad> <pad> <pad> <pad> <pad> <pad> <pad> <pad> <pad> \n"
     ]
    },
    {
     "name": "stdout",
     "output_type": "stream",
     "text": [
      "pred:  the the the the the the the the the the the the the the the the the the the the the the the the the the the the the the the the the the the the the the the the the the the the the the the the the the \n",
      "abstract:  secretary of state hillary clinton breaks elbow in fall clinton was on her way to white house clinton plans to have surgery to repair elbow <pad> <pad> <pad> <pad> <pad> <pad> <pad> <pad> <pad> <pad> <pad> <pad> <pad> <pad> <pad> <pad> <pad> <pad> <pad> <pad> <pad> <pad> <pad> <pad> <pad> \n",
      "pred:  the the the the the the the the the the the the the the the the the the the the the the the the the the the the the the the the the the the the the the the the the the the the the the the the the the \n",
      "abstract:  chilling bubbly stops it developing a browning compound called the same applies to other sparkling wines like prosecco and cava <pad> <pad> <pad> <pad> <pad> <pad> <pad> <pad> <pad> <pad> <pad> <pad> <pad> <pad> <pad> <pad> <pad> <pad> <pad> <pad> <pad> <pad> <pad> <pad> <pad> <pad> <pad> <pad> <pad> <pad> \n",
      "pred:  the the the the the the the the the the the the the the the the the the the the the the the the the the the the the the the the the the the the the the the the the the the the the the the the the the \n",
      "abstract:  mohareb was first arrested over allegations that he hacked into a colleague s email account in october last year <pad> <pad> <pad> <pad> <pad> <pad> <pad> <pad> <pad> <pad> <pad> <pad> <pad> <pad> <pad> <pad> <pad> <pad> <pad> <pad> <pad> <pad> <pad> <pad> <pad> <pad> <pad> <pad> <pad> <pad> <pad> \n",
      "pred:  the the the the on the the on on cost petr forks related related james islam loose guru virginia machine office tickets cozumel training fourth mantas pod premier singer jose likely is friends terror offence recognised photos older 1974 arturo it kuwait lakers german jaw texts geraniums neil deciding ghana \n",
      "abstract:  the film stars cameron diaz as a corporate attorney leslie mann is the shocked wife reviewer says it has <pad> <pad> <pad> <pad> <pad> <pad> <pad> <pad> <pad> <pad> <pad> <pad> <pad> <pad> <pad> <pad> <pad> <pad> <pad> <pad> <pad> <pad> <pad> <pad> <pad> <pad> <pad> <pad> <pad> <pad> <pad> \n",
      "pred:  the the the the the the the the the the the the the the the the the the the the the the the the the the the the the the the the the the the the the the the the the the the the the the the the the the \n",
      "abstract:  allardyce is not surprised that kouyate has drawn comparisons with the former arsenal midfielder kouyate impessed for west ham as they lost to tottenham on saturday the west ham boss was taken aback by kouyate s fitness levels <pad> <pad> <pad> <pad> <pad> <pad> <pad> <pad> <pad> <pad> <pad> <pad> \n",
      "pred:  the the the the the the the the the the the the the the the the the the the the the the the the the the the the the the the the the the the the the the the the the the the the the the the the the the \n",
      "abstract:  stephen warnock is out of contract at leeds at the end of the season derby boss steve mcclaren also close to bringing raul albentosa in promotion hopefuls have already signed aston villa striker darren bent <pad> <pad> <pad> <pad> <pad> <pad> <pad> <pad> <pad> <pad> <pad> <pad> <pad> <pad> <pad> \n",
      "pred:  the the the the the the the the the the the the the the the the the the the the the the the the the the the the the the the the the the the the the the the the the the the the the the the the the the \n",
      "abstract:  eleven bodies have been recovered and rescuers are looking for three more lozano says crews are close to reaching those he says there is no hope of finding the miners alive <pad> <pad> <pad> <pad> <pad> <pad> <pad> <pad> <pad> <pad> <pad> <pad> <pad> <pad> <pad> <pad> <pad> <pad> <pad> \n",
      "pred:  the the the the the the the the the the the the the the the the the the the the the the the the the the the the the the the the the the the the the the the the the the the the the the the the the the \n",
      "abstract:  agomelatine has been found to cause fewer side effects than normal drugs research showed less weight gain and no negative effect on libido <pad> <pad> <pad> <pad> <pad> <pad> <pad> <pad> <pad> <pad> <pad> <pad> <pad> <pad> <pad> <pad> <pad> <pad> <pad> <pad> <pad> <pad> <pad> <pad> <pad> <pad> <pad> \n",
      "pred:  the the the the the the the the the the the the the the the the the the the the the the the the the the the the the the the the the the the the the the the the the the the the the the the the the the \n",
      "abstract:  police said two women clashed at riva bingo sutton south london the younger woman 72 had called the older one a stupid old woman <pad> <pad> <pad> <pad> <pad> <pad> <pad> <pad> <pad> <pad> <pad> <pad> <pad> <pad> <pad> <pad> <pad> <pad> <pad> <pad> <pad> <pad> <pad> <pad> <pad> <pad> \n",
      "pred:  the the the on the a crowd adam lazar recorded is flown coriat kansai boost boost attacking terror kompany flown coriat ebola riding sources refaeli face chances design knee burned misdemeanor ll expensive bomber sutton planning but ladder tilt moved account perfect case thames clinics 1996 mental knife cardiac worse \n",
      "abstract:  bradford council mistakenly fitted a french ticket machine in a car park the machine unable to take english money and would only accept euros motorists unable to pay issued with parking fines at the car park <pad> <pad> <pad> <pad> <pad> <pad> <pad> <pad> <pad> <pad> <pad> <pad> <pad> <pad> \n",
      "pred:  the the the the the the the the the the the the the the the the the the the the the the the the the the the the the the the the the the the the the the the the the the the the the the the the the the \n",
      "abstract:  two men filmed taking ipad from canoe rental office in florida one checks coast is clear before putting computer in other one s bag after swiping the device they make their getaway in a kayak <pad> <pad> <pad> <pad> <pad> <pad> <pad> <pad> <pad> <pad> <pad> <pad> <pad> <pad> <pad> \n",
      "pred:  the the the the the the the the the the the the the the the the the the the the the the the the the the the the the the the the the the the the the the the the the the the the the the the the the the \n",
      "abstract:  documentary went with singer preparing for las vegas britney spears admits she sometimes thinks about retiring spears says she s really made for this industry because i am so <pad> <pad> <pad> <pad> <pad> <pad> <pad> <pad> <pad> <pad> <pad> <pad> <pad> <pad> <pad> <pad> <pad> <pad> <pad> <pad> <pad> \n",
      "pred:  the the the the the the the the the the the the the the the the the the the the the the the the the the the the the the the the the the the the the the the the the the the the the the the the the the \n",
      "abstract:  rihanna s fashion show will now appear on bravo to had been slated for the now defunct style network the grand prize includes a chance to join rihanna s style team <pad> <pad> <pad> <pad> <pad> <pad> <pad> <pad> <pad> <pad> <pad> <pad> <pad> <pad> <pad> <pad> <pad> <pad> <pad> \n",
      "pred:  the the the the the the the the the the the the the the the the the the the the the the the the the the the the the the the the the the the the the the the the the the the the the the the the the the \n",
      "abstract:  jackson performs virtual duet on stage in london she recorded it with her brother michael in 1995 feels great just listening to and hearing his voice she says <pad> <pad> <pad> <pad> <pad> <pad> <pad> <pad> <pad> <pad> <pad> <pad> <pad> <pad> <pad> <pad> <pad> <pad> <pad> <pad> <pad> <pad> \n",
      "pred:  the the the the the the the the the the the the the the the the the the the the the the the the the the the the the the the the the the the the the the the the the the the the the the the the the the \n",
      "abstract:  a state official says patient was released and did not have ebola the passenger arrived in newark monday after recent travel to an the patient was at hackensack university medical center <pad> <pad> <pad> <pad> <pad> <pad> <pad> <pad> <pad> <pad> <pad> <pad> <pad> <pad> <pad> <pad> <pad> <pad> <pad> \n",
      "pred:  the the the the the the the the the the the the the the the the the the the the the the the the the the the the the the the the the the the the the the the the the the the the the the the the the the \n",
      "abstract:  daniel bradley 22 donned superhero outfit for botched street robbery in merced california after victim fled in terror he was spotted racing down the street in the red and blue costume <pad> <pad> <pad> <pad> <pad> <pad> <pad> <pad> <pad> <pad> <pad> <pad> <pad> <pad> <pad> <pad> <pad> <pad> <pad> \n",
      "pred:  the the the on a of zookeepers my owned owned airstrikes pulls less san hackensack items postpone computer uploaded three gave germany picked recovery <start> the the the on of on a of zookeepers tussauds 2005 prepare teachers repaired reaching minions features agomelatine agomelatine older italy conversation that advise leagues \n",
      "abstract:  the message is the second in a week from the al qaeda leader it runs more than 11 minutes long the message was posted to jihadist websites wednesday <pad> <pad> <pad> <pad> <pad> <pad> <pad> <pad> <pad> <pad> <pad> <pad> <pad> <pad> <pad> <pad> <pad> <pad> <pad> <pad> <pad> <pad> \n",
      "pred:  the the the the the the the the the the the the the the the the the the the the the the the the the the the the the the the the the the the the the the the the the the the the the the the the the the \n",
      "abstract:  biography of apple sold 379 000 copies in the its first week that s the biggest week of sales for any book in the for almost a year publisher moved its release up by a month after jobs death <pad> <pad> <pad> <pad> <pad> <pad> <pad> <pad> <pad> <pad> <pad> \n",
      "pred:  the the the the the the the the the the the the the the the the the the the the the the the the the the the the the the the the the the the the the the the the the the the the the the the the the the \n",
      "abstract:  england forward charged after tackle on taulia tautai could be banned for one or two matchesâ bradford s matt diskin also charged with striking <pad> <pad> <pad> <pad> <pad> <pad> <pad> <pad> <pad> <pad> <pad> <pad> <pad> <pad> <pad> <pad> <pad> <pad> <pad> <pad> <pad> <pad> <pad> <pad> <pad> <pad> \n"
     ]
    },
    {
     "name": "stdout",
     "output_type": "stream",
     "text": [
      "pred:  the the the the the the the the the the the the the the the the the the the the the the the the the the the the the the the the the the the the the the the the the the the the the the the the the the \n",
      "abstract:  ivory coast and ghana meet in africa cup of nations final ghana last won title in 1982 ivory coast in 1992 ghana beat hosts equatorial guinea in semifinals ivory coast starts as marginal favorite <pad> <pad> <pad> <pad> <pad> <pad> <pad> <pad> <pad> <pad> <pad> <pad> <pad> <pad> <pad> <pad> \n",
      "pred:  the the the the the the the the the the the the the the the the the the the the the the the the the the the the the the the the the the the the the the the the the the the the the the the the the the \n",
      "abstract:  joshua finke 22 of missouri charged with felony assault for allegedly attacking a man the victim and his two roommates had been fattening up the pig in their backyard for seven months <pad> <pad> <pad> <pad> <pad> <pad> <pad> <pad> <pad> <pad> <pad> <pad> <pad> <pad> <pad> <pad> <pad> <pad> \n",
      "pred:  the the the the the the the the the the the the the the the the the the the the the the the the the the the the the the the the the the the the the the the the the the the the the the the the the the \n",
      "abstract:  three pairs exchanged vows at chimelong safari park china included australian koala flown in from australia <pad> <pad> <pad> <pad> <pad> <pad> <pad> <pad> <pad> <pad> <pad> <pad> <pad> <pad> <pad> <pad> <pad> <pad> <pad> <pad> <pad> <pad> <pad> <pad> <pad> <pad> <pad> <pad> <pad> <pad> <pad> <pad> <pad> <pad> \n",
      "pred:  the the the the the the the the the the the the the the the the the the the the the the the the the the the the the the the the the the the the the the the the the the the the the the the the the the \n",
      "abstract:  specialist fire crews helped set off a controlled landslide above the dawlish to teignmouth rail track this week operation has been planned by network rail since the storm of february 14 and line is expected to on april 4 <pad> <pad> <pad> <pad> <pad> <pad> <pad> <pad> <pad> <pad> <pad> \n",
      "pred:  the the the the the the the the the the the the the the the the the the the the the the the the the the the the the the the the the the the the the the the the the the the the the the the the the the \n",
      "abstract:  tottenham are to play home games at mk dons home the design for spurs new ground can t be built in stages the mail on sunday reveals fans will have to travel for two years or more <pad> <pad> <pad> <pad> <pad> <pad> <pad> <pad> <pad> <pad> <pad> <pad> <pad> \n",
      "pred:  the the the the the the the the the the the the the the the the the the the the the the the the the the the the the the the the the the the the the the the the the the the the the the the the the the \n",
      "abstract:  kristopher davis stabbed restaurant worker in leg and abdomen he was arrested at a hotel 15 minutes later and admitted the offence row broke out after restaurant employee refused to lend him a pen <pad> <pad> <pad> <pad> <pad> <pad> <pad> <pad> <pad> <pad> <pad> <pad> <pad> <pad> <pad> <pad> \n",
      "pred:  the the the the the the the the the the the the the the the the the the the the the the the the the the the the the the the the the the the the the the the the the the the the the the the the the the \n",
      "abstract:  video shows cat frantically trying to pull a paper cup off its head a dog approached and removed the cup from its head with its jaw more than 100 000 have watched video since it was uploaded to youtube <pad> <pad> <pad> <pad> <pad> <pad> <pad> <pad> <pad> <pad> <pad> \n",
      "pred:  the the the the the the the the the the the the the the the the the the the the the the the the the the the the the the the the the the the the the the the the the the the the the the the the the the \n",
      "abstract:  asian traveller didn t recognise her own description and went looking for herself she was declared missing after changing clothes and not being recognised by fellow tourists <pad> <pad> <pad> <pad> <pad> <pad> <pad> <pad> <pad> <pad> <pad> <pad> <pad> <pad> <pad> <pad> <pad> <pad> <pad> <pad> <pad> <pad> <pad> \n",
      "pred:  the the the the the the the the the the the the the the the the the the the the the the the the the the the the the the the the the the the the the the the the the the the the the the the the the the \n",
      "abstract:  bird swooped down to clinch second spot by a beak in at brighton luke morris riding sagesse came in second at the east sussex racecourse but he was just edged by the seagull who was the unofficial second <pad> <pad> <pad> <pad> <pad> <pad> <pad> <pad> <pad> <pad> <pad> <pad> \n",
      "pred:  the the the the the the the the the the the the the the the the the the the the the the the the the the the the the the the the the the the the the the the the the the the the the the the the the the \n",
      "abstract:  is resting comfortably the hospital kissinger served as national security adviser and secretary of state during the nixon administration he was also president ford s secretary of state <pad> <pad> <pad> <pad> <pad> <pad> <pad> <pad> <pad> <pad> <pad> <pad> <pad> <pad> <pad> <pad> <pad> <pad> <pad> <pad> <pad> <pad> \n",
      "pred:  the the the the the the the the the the the the the the the the the the the the the the the the the the the the the the the the the the the the the the the the the the the the the the the the the the \n",
      "abstract:  peacekeepers withdrawing from golan heights the withdrawal follows the capture of some peacekeepers by syrian rebels the peacekeepers were eventually others escaped a militant siege peacekeepers have been in the region since 1974 <pad> <pad> <pad> <pad> <pad> <pad> <pad> <pad> <pad> <pad> <pad> <pad> <pad> <pad> <pad> <pad> <pad> \n",
      "pred:  the the the the the the the the the the the the the the the the the the the the the the the the the the the the the the the the the the the the the the the the the the the the the the the the the the \n",
      "abstract:  graeme storm holes tee shot on par 3 storm wins sports car worth over 000 for the shot englishman leads by from countryman tommy fleetwood <pad> <pad> <pad> <pad> <pad> <pad> <pad> <pad> <pad> <pad> <pad> <pad> <pad> <pad> <pad> <pad> <pad> <pad> <pad> <pad> <pad> <pad> <pad> <pad> <pad> \n",
      "pred:  the the the the the the the the the the the the the the the the the the the the the the the the the the the the the the the the the the the the the the the the the the the the the the the the the the \n",
      "abstract:  the top 10 cnn heroes of 2012 will be revealed thursday at noon on they will be honored at an tribute which airs live december 2 who will be hero of the you can cast your vote starting at noon <pad> <pad> <pad> <pad> <pad> <pad> <pad> <pad> <pad> <pad> \n",
      "pred:  the the the the the the the the the the the the the the the the the the the the the the the the the the the the the the the the the the the the the the the the the the the the the the the the the the \n",
      "abstract:  george bush gathers war cabinet at texas iraq invaded kuwait in 1990 and the led a counteroffensive in january 1991 baghdad continues to pay reparations to its neighbor about 1 000 people who disappeared have never been found <pad> <pad> <pad> <pad> <pad> <pad> <pad> <pad> <pad> <pad> <pad> <pad> \n",
      "pred:  the the the a the the the a of a of 2005 a daniel bystanders john his friends iago has referee governor freezing unprotected wiredoo hero promises crown expensive almost 20 the the the a a of with a governor look crude jihadist card that economic deaths jobs the the \n",
      "abstract:  jake chapman 26 from seattle asked his exes for reviews came up with idea after deciding he was taking dating too seriously one review we were young and dumb you were an <pad> <pad> <pad> <pad> <pad> <pad> <pad> <pad> <pad> <pad> <pad> <pad> <pad> <pad> <pad> <pad> <pad> <pad> \n",
      "pred:  the the the the the the the the the the the the the the the the the the the the the the the the the the the the the the the the the the the the the the the the the the the the the the the the the the \n",
      "abstract:  youngsters with a certain gene could make condition worse by using the aid research was carried out at the brighton and sussex medical school <pad> <pad> <pad> <pad> <pad> <pad> <pad> <pad> <pad> <pad> <pad> <pad> <pad> <pad> <pad> <pad> <pad> <pad> <pad> <pad> <pad> <pad> <pad> <pad> <pad> <pad> \n",
      "pred:  the the the the the the the the the the the the the the the the the the the the the the the the the the the the the the the the the the the the the the the the the the the the the the the the the the \n",
      "abstract:  pete gover s balcony in portsmouth is filled with petunias geraniums lobelia and lilies <pad> <pad> <pad> <pad> <pad> <pad> <pad> <pad> <pad> <pad> <pad> <pad> <pad> <pad> <pad> <pad> <pad> <pad> <pad> <pad> <pad> <pad> <pad> <pad> <pad> <pad> <pad> <pad> <pad> <pad> <pad> <pad> <pad> <pad> <pad> <pad> \n",
      "pred:  the the the the the the the the the the the the the the the the the the the the the the the the the the the the the the the the the the the the the the the the the the the the the the the the the the \n",
      "abstract:  plans for amphibious home on banks of uk s river thames gets planning consent private dwelling will rise if surrounding area floods creating a floating <pad> <pad> <pad> <pad> <pad> <pad> <pad> <pad> <pad> <pad> <pad> <pad> <pad> <pad> <pad> <pad> <pad> <pad> <pad> <pad> <pad> <pad> <pad> <pad> <pad> \n"
     ]
    },
    {
     "name": "stdout",
     "output_type": "stream",
     "text": [
      "pred:  the the the the the the the the the the the the the the the the the the the the the the the the the the the the the the the the the the the the the the the the the the the the the the the the the the \n",
      "abstract:  two of the six militants were senior leaders for al qaeda in the arabian peninsula eight missiles were launched by two unmanned drone planes there had been a flurry of drone strikes a few weeks ago <pad> <pad> <pad> <pad> <pad> <pad> <pad> <pad> <pad> <pad> <pad> <pad> <pad> <pad> \n",
      "pred:  the the the the the the the the the the the the the the the the the the the the the the the the the the the the the the the the the the the the the the the the the the the the the the the the the the \n",
      "abstract:  supermodel will replace brazilian president dilma rousseff says the boston globe fifa president sepp blatter presented trophy to spain in 2010 <pad> <pad> <pad> <pad> <pad> <pad> <pad> <pad> <pad> <pad> <pad> <pad> <pad> <pad> <pad> <pad> <pad> <pad> <pad> <pad> <pad> <pad> <pad> <pad> <pad> <pad> <pad> <pad> <pad> \n",
      "pred:  the the the the the the the the the the the the the the the the the the the the the the the the the the the the the the the the the the the the the the the the the the the the the the the the the the \n",
      "abstract:  demonstrations are banned in the capital city of abuja police are worried about joining the protests more than 200 schoolgirls were kidnapped in northern nigeria <pad> <pad> <pad> <pad> <pad> <pad> <pad> <pad> <pad> <pad> <pad> <pad> <pad> <pad> <pad> <pad> <pad> <pad> <pad> <pad> <pad> <pad> <pad> <pad> <pad> \n",
      "pred:  the the the the the the the the the the the the the the the the the the the the the the the the the the the the the the the the the the the the the the the the the the the the the the the the the the \n",
      "abstract:  arsenal sell swede to danish club fc midtjylland kristoffer olsson has been out on loan for the first half of this season swedish international takes to social media to express love for arsenal <pad> <pad> <pad> <pad> <pad> <pad> <pad> <pad> <pad> <pad> <pad> <pad> <pad> <pad> <pad> <pad> <pad> \n",
      "pred:  the the the the the the the the the the the the the the the the the the the the the the the the the the the the the the the the the the the the the the the the the the the the the the the the the the \n",
      "abstract:  israel halted a controversial plan that would have displaced tens of thousands of bedouins the plan which angered the bedouins did not get enough votes in parliament the aim was to integrate the historic farming community more into israeli society <pad> <pad> <pad> <pad> <pad> <pad> <pad> <pad> <pad> <pad> \n",
      "pred:  the the the the the the the the the the the the the the the the the the the the the the the the the the the the the the the the the the the the the the the the the the the the the the the the the the \n",
      "abstract:  the rock has starred in four movies so far in 2013 an empire was the goal he said three of his films have reached 1 <pad> <pad> <pad> <pad> <pad> <pad> <pad> <pad> <pad> <pad> <pad> <pad> <pad> <pad> <pad> <pad> <pad> <pad> <pad> <pad> <pad> <pad> <pad> <pad> <pad> \n",
      "pred:  the the the the the the the the the the the the the the the the the the the the the the the the the the the the the the the the the the the the the the the the the the the the the the the the the the \n",
      "abstract:  health safety inspector found body inside house in lille france last friday french police trying to identify man of spanish origin who was born in 1921 he lived alone had no relatives and unopened post was found from 1996 <pad> <pad> <pad> <pad> <pad> <pad> <pad> <pad> <pad> <pad> <pad> \n",
      "pred:  the the the the the the the the the the the the the the the the the the the the the the the the the the the the the the the the the the the the the the the the the the the the the the the the the the \n",
      "abstract:  dakkari dijon mcanuff was booked on suspicion of making criminal threats last week a photo was posted on twitter that showed a rifle pointed at a los angeles street with the 100 and i ll shoot someone walking <pad> <pad> <pad> <pad> <pad> <pad> <pad> <pad> <pad> <pad> <pad> <pad> \n",
      "pred:  the the the the the the the the the the the the the the the the the the the the the the the the the the the the the the the the the the the the the the the the the the the the the the the the the the \n",
      "abstract:  jermaine jackson says the brothers are meeting monday to plan a new tour would want us to continue on he says jackson was unveiling wax figures of michael jackson on tour at madame tussauds <pad> <pad> <pad> <pad> <pad> <pad> <pad> <pad> <pad> <pad> <pad> <pad> <pad> <pad> <pad> <pad> \n",
      "pred:  the the the a of a home the the the the the the the the a the the the the the a a on a of the the the the a a a the the the a a the the the the the the the the the the the the \n",
      "abstract:  a chinese skin care marketing company is sending 16 000 of its employees to the uae the massive corporate trip is expected to bring around million of business the nu skin success marks the company s anniversary <pad> <pad> <pad> <pad> <pad> <pad> <pad> <pad> <pad> <pad> <pad> <pad> <pad> \n",
      "pred:  the the the the the the the the the the the the the the the the the the the the the the the the the the the the the the the the the the the the the the the the the the the the the the the the the the \n",
      "abstract:  say rapper mc hammer launches a new search engine wiredoo will give search results plus results for possibly related topics hammer says <pad> <pad> <pad> <pad> <pad> <pad> <pad> <pad> <pad> <pad> <pad> <pad> <pad> <pad> <pad> <pad> <pad> <pad> <pad> <pad> <pad> <pad> <pad> <pad> <pad> <pad> <pad> <pad> \n",
      "pred:  the the the the the the the the the the the the the the the the the the the the the the the the the the the the the the the the the the the the the the the the the the the the the the the the the the \n",
      "abstract:  apple announces upgrades to its imac line of desktop computers new machines have better processors new graphics and faster flash storage new imacs are available immediately <pad> <pad> <pad> <pad> <pad> <pad> <pad> <pad> <pad> <pad> <pad> <pad> <pad> <pad> <pad> <pad> <pad> <pad> <pad> <pad> <pad> <pad> <pad> <pad> \n",
      "pred:  the the the the the the the the the the the the the the the the the the the the the the the the the the the the the the the the the the the the the the the the the the the the the the the the the the \n",
      "abstract:  makeshift rocket sled stunt goes awry for michigan man authorities say man was sledding downhill when homemade rocket exploded victim had reputation for doing at his parties authorities say <pad> <pad> <pad> <pad> <pad> <pad> <pad> <pad> <pad> <pad> <pad> <pad> <pad> <pad> <pad> <pad> <pad> <pad> <pad> <pad> <pad> \n",
      "pred:  the the the the the the the the the the the the the the the the the the the the the the the the the the the the the the the the the the the the the the the the the the the the the the the the the the \n",
      "abstract:  apartment found by developer in eastern german city of leipzig occupant left in a hurry as east german state crumbled in 1989 food brands such as cola margarine found <pad> <pad> <pad> <pad> <pad> <pad> <pad> <pad> <pad> <pad> <pad> <pad> <pad> <pad> <pad> <pad> <pad> <pad> <pad> <pad> <pad> \n",
      "pred:  the the the the the the the the the the the the the the the the the the the the the the the the the the the the the the the the the the the the the the the the the the the the the the the the the the \n",
      "abstract:  director sam mendes announced the name thursday christoph waltz ralph fiennes monica bellucci will join daniel craig in the cast it s due for release in late 2015 <pad> <pad> <pad> <pad> <pad> <pad> <pad> <pad> <pad> <pad> <pad> <pad> <pad> <pad> <pad> <pad> <pad> <pad> <pad> <pad> <pad> <pad> \n",
      "pred:  the the the the the the the the the the the the the the the the the the the the the the the the the the the the the the the the the the the the the the the the the the the the the the the the the the \n",
      "abstract:  pint pulling machine at kansai international airport in osaka japan tilt feature ensures just perfect ratio of liquid to froth draft beer dispenser is one of only an estimated five in japan <pad> <pad> <pad> <pad> <pad> <pad> <pad> <pad> <pad> <pad> <pad> <pad> <pad> <pad> <pad> <pad> <pad> <pad> \n",
      "pred:  the the the the the the the the the the the the the the the the the the the the the the the the the the the the the the the the the the the the the the the the the the the the the the the the the the \n",
      "abstract:  the film is sequel to the 2010 original this time the main character gru is a nice guy reviewer says the best thing about the film is the minions <pad> <pad> <pad> <pad> <pad> <pad> <pad> <pad> <pad> <pad> <pad> <pad> <pad> <pad> <pad> <pad> <pad> <pad> <pad> <pad> <pad> \n",
      "pred:  the the the the the the the the the the the the the the the the the the the the the the the the the the the the the the the the the the the the the the the the the the the the the the the the the the \n",
      "abstract:  phillipe mexes dismissed for grabbing the throat of stefano mauri ac milan defender also appeared to clutch neck of lazio player lorik cana lazio beat ac milan at the stadio olimpico on saturday in serie a <pad> <pad> <pad> <pad> <pad> <pad> <pad> <pad> <pad> <pad> <pad> <pad> <pad> <pad> \n",
      "pred:  the the the the the the the the the the the the the the the the the the the the the the the the the the the the the the the the the the the the the the the the the the the the the the the the the the \n",
      "abstract:  ana is 730 miles east of leeward islands moving west at virgin islands puerto rico advised to monitor storm s progress storm has maximum sustained winds of 40 mph hurricane center says <pad> <pad> <pad> <pad> <pad> <pad> <pad> <pad> <pad> <pad> <pad> <pad> <pad> <pad> <pad> <pad> <pad> <pad> \n",
      "pred:  the the the the the the the the the the the the the the the the the the the the the the the the the the the the the the the the the the the the the the the the the the the the the the the the the the \n",
      "abstract:  jermain defoe has a prolific scoring record when making his debut he has found the net on all five club debuts during his playing career defoe could make first start for sunderland against former club tottenham <pad> <pad> <pad> <pad> <pad> <pad> <pad> <pad> <pad> <pad> <pad> <pad> <pad> <pad> \n",
      "pred:  the the the the the the the the the the the the the the the the the the the the the the the the the the the the the the the the the the the the the the the the the the the the the the the the the the \n",
      "abstract:  sheffield fighter faces american at the stubhub centre in california brook has been mandatory challenger for more than 18 months special k is undefeated in 32 fights ahead of world title fight <pad> <pad> <pad> <pad> <pad> <pad> <pad> <pad> <pad> <pad> <pad> <pad> <pad> <pad> <pad> <pad> <pad> <pad> \n",
      "pred:  the the the the the the the the the the the the the the the the the the the the the the the the the the the the the the the the the the the the the the the the the the the the the the the the the the \n",
      "abstract:  sony is working on a female superhero film source says character will likely come from the universe reports say other female superheroes and action heroes have been in the news sony film is expected in 2017 <pad> <pad> <pad> <pad> <pad> <pad> <pad> <pad> <pad> <pad> <pad> <pad> <pad> <pad> \n",
      "pred:  the the the the the the the the the the the the the the the the the the the the the the the the the the the the the the the the the the the the the the the the the the the the the the the the the the \n",
      "abstract:  journalist and two doctors were among those killed mine went off in southern somalia somali driver also died in the attack journalist is the second to die in conflict situation this year <pad> <pad> <pad> <pad> <pad> <pad> <pad> <pad> <pad> <pad> <pad> <pad> <pad> <pad> <pad> <pad> <pad> <pad> \n",
      "pred:  the the the the the the the the the the the the the the the the the the the the the the the the the the the the the the the the the the the the the the the the the the the the the the the the the the \n",
      "abstract:  betty boo lives at the harnas wildlife foundation in namibia a volunteer there realised she liked being tickled and videoed it betty arrived at the foundation near windhoek two years ago <pad> <pad> <pad> <pad> <pad> <pad> <pad> <pad> <pad> <pad> <pad> <pad> <pad> <pad> <pad> <pad> <pad> <pad> <pad> \n",
      "pred:  the the the the the the the the the the the the the the the the the the the the the the the the the the the the the the the the the the the the the the the the the the the the the the the the the the \n",
      "abstract:  chelsea are not in fa cup action after bradford defeat last month cesc fabregas returned from injury in chelsea s game against everton chelsea s next game is at paris in the champions league <pad> <pad> <pad> <pad> <pad> <pad> <pad> <pad> <pad> <pad> <pad> <pad> <pad> <pad> <pad> <pad> \n",
      "pred:  the the the the the the the the the the the the the the the the the the the the the the the the the the the the the the the the the the the the the the the the the the the the the the the the the the \n",
      "abstract:  lambing live presenter said food waste is endemic she says public is too far removed from farming process <pad> <pad> <pad> <pad> <pad> <pad> <pad> <pad> <pad> <pad> <pad> <pad> <pad> <pad> <pad> <pad> <pad> <pad> <pad> <pad> <pad> <pad> <pad> <pad> <pad> <pad> <pad> <pad> <pad> <pad> <pad> <pad> \n",
      "pred:  the the the the the the the the the the the the the the the the the the the the the the the the the the the the the the the the the the the the the the the the the the the the the the the the the the \n",
      "abstract:  former s next top contestant mirjana puhar was found dead tuesday her body was found along with two others in a charlotte north carolina home a suspect has been arrested and charged with three counts of homicide <pad> <pad> <pad> <pad> <pad> <pad> <pad> <pad> <pad> <pad> <pad> <pad> <pad> \n",
      "pred:  the the the the the the the the the the the the the the the the the the the the the the the the the the the the the the the the the the the the the the the the the the the the the the the the the the \n",
      "abstract:  leadership from sigma phi epsilon met with the university wednesday is technically free speech and yet it is deplorable a school official says the national office of the fraternity says it is investigating the incident <pad> <pad> <pad> <pad> <pad> <pad> <pad> <pad> <pad> <pad> <pad> <pad> <pad> <pad> <pad> \n"
     ]
    },
    {
     "name": "stdout",
     "output_type": "stream",
     "text": [
      "pred:  the the the the the the the the the the the the the the the the the the the the the the the the the the the the the the the the the the the the the the the the the the the the the the the the the the \n",
      "abstract:  indian schoolchildren run over by motorcycle in karate exercise officials says parents approved of test of children s karate skills school has been told not to hold such an exercise again <pad> <pad> <pad> <pad> <pad> <pad> <pad> <pad> <pad> <pad> <pad> <pad> <pad> <pad> <pad> <pad> <pad> <pad> <pad> \n",
      "pred:  the the the the the the the the the the the the the the the the the the the the the the the the the the the the the the the the the the the the the the the the the the the the the the the the the the \n",
      "abstract:  seven killed but two french soldiers survive the saturday night crash recovery efforts underway for body of one of the seven soldiers still missing divers inspecting helicopter which was in water 35 meters 115 deep <pad> <pad> <pad> <pad> <pad> <pad> <pad> <pad> <pad> <pad> <pad> <pad> <pad> <pad> <pad> \n",
      "pred:  the the the the the the the the the the the the the the the the the the the the the the the the the the the the the the the the the the the the the the the the the the the the the the the the the the \n",
      "abstract:  loungebuddy can advise of lounges as well as reviews the app also tells you what facilities are on offer and what will be free app is available on ios and android platforms and is free to download <pad> <pad> <pad> <pad> <pad> <pad> <pad> <pad> <pad> <pad> <pad> <pad> <pad> \n",
      "pred:  the the the the the the the the the the the the the the the the the the the the the the the the the the the the the the the the the the the the the the the the the the the the the the the the the the \n",
      "abstract:  arsene wenger used to limit aaron ramsey s playing time at the emirates the frenchman held private talks with wales international ramsey ramsey has gone on to become one of arsenal s key players <pad> <pad> <pad> <pad> <pad> <pad> <pad> <pad> <pad> <pad> <pad> <pad> <pad> <pad> <pad> <pad> \n",
      "pred:  the the the the the the the the the the the the the the the the the the the the the the the the the the the the the the the the the the the the the the the the the the the the the the the the the the \n",
      "abstract:  charlie adam is open to the possibility of moving abroad scottish midfielder has started just five games this season adam has been linked with a move to david moyes real sociedad <pad> <pad> <pad> <pad> <pad> <pad> <pad> <pad> <pad> <pad> <pad> <pad> <pad> <pad> <pad> <pad> <pad> <pad> <pad> \n",
      "pred:  the the the the the the the the the the the the the the the the the the the the the the the the the the the the the the the the the the the the the the the the the the the the the the the the the the \n",
      "abstract:  zhu sanni 23 had been left alone at home for three days when it happened her father suffered from a mental illness and often left home mother went out for food and did not return for three days <pad> <pad> <pad> <pad> <pad> <pad> <pad> <pad> <pad> <pad> <pad> <pad> \n",
      "pred:  the the the the the the the the the the the the the the the the the the the the the the the the the the the the the the the the the the the the the the the the the the the the the the the the the the \n",
      "abstract:  novak djokovic retains miami masters 1000 title serb beats britain s andy murray in the final murray can only force a single break point in the final djokovic winning for third time at crandon park <pad> <pad> <pad> <pad> <pad> <pad> <pad> <pad> <pad> <pad> <pad> <pad> <pad> <pad> <pad> \n",
      "pred:  the the the the the the the the the the the the the the the the the the the the the the the the the the the the the the the the the the the the the the the the the the the the the the the the the the \n",
      "abstract:  officers respond in west virginia after members of the public call dispatcher with bizarre sighting <pad> <pad> <pad> <pad> <pad> <pad> <pad> <pad> <pad> <pad> <pad> <pad> <pad> <pad> <pad> <pad> <pad> <pad> <pad> <pad> <pad> <pad> <pad> <pad> <pad> <pad> <pad> <pad> <pad> <pad> <pad> <pad> <pad> <pad> <pad> \n",
      "pred:  the the the the the the the the the the the the the the the the the the the the the the the the the the the the the the the the the the the the the the the the the the the the the the the the the the \n",
      "abstract:  russian tennis player violetta degtiareva ranked 1 084 died in training friends and colleagues of the express their shock at her death a friend and fellow player posted news about her death on facebook <pad> <pad> <pad> <pad> <pad> <pad> <pad> <pad> <pad> <pad> <pad> <pad> <pad> <pad> <pad> <pad> \n",
      "pred:  the the the the the the the the the the the the the the the the the the the the the the the the the the the the the the the the the the the the the the the the the the the the the the the the the the \n",
      "abstract:  newcastle united manager fined 000 by club for clash with opposing player pardew hull city midfielder david meyler during second half of league match newcastle also give pardew a formal english fa set to investigate incident <pad> <pad> <pad> <pad> <pad> <pad> <pad> <pad> <pad> <pad> <pad> <pad> <pad> <pad> \n",
      "pred:  the the the the the the the the the the the the the the the the the the the the the the the the the the the the the the the the the the the the the the the the the the the the the the the the the the \n",
      "abstract:  sources do not believe it was a suicide bombing a ministry of health official confirms foreigners are among the dead the embassy in djibouti issues a security alert <pad> <pad> <pad> <pad> <pad> <pad> <pad> <pad> <pad> <pad> <pad> <pad> <pad> <pad> <pad> <pad> <pad> <pad> <pad> <pad> <pad> <pad> \n",
      "pred:  the the the the the the the the the the the the the the the the the the the the the the the the the the the the the the the the the the the the the the the the the the the the the the the the the the \n",
      "abstract:  three giant yachts are battling it out for line honors in classic new zealand s alfa romeo leads from icap leopard and wild oats wild oats bidding for fifth straight line honors success in 628 nautical mile test <pad> <pad> <pad> <pad> <pad> <pad> <pad> <pad> <pad> <pad> <pad> <pad> \n",
      "pred:  the the the the the the the the the the the the the the the the the the the the the the the the the the the the the the the the the the the the the the the the the the the the the the the the the the \n",
      "abstract:  auction proceeds will go toward compensating victims of bernie madoff s ponzi scheme items from the madoffs residences in new york and florida were auctioned marshals more than million in assets have been recovered from the madoffs <pad> <pad> <pad> <pad> <pad> <pad> <pad> <pad> <pad> <pad> <pad> <pad> <pad> \n",
      "pred:  the the the the the the the the the the the the the the the the the the the the the the the the the the the the the the the the the the the the the the the the the the the the the the the the the the \n",
      "abstract:  garth kew was on holiday in south africa at the madikwe game reserve he looked out his window to see the elephant looking in elephants reportedly approach the camp to drink from outdoor showers <pad> <pad> <pad> <pad> <pad> <pad> <pad> <pad> <pad> <pad> <pad> <pad> <pad> <pad> <pad> <pad> \n",
      "pred:  the the the the the the the the the the the the the the the the the the the the the the the the the the the the the the the the the the the the the the the the the the the the the the the the the the \n",
      "abstract:  ministry of agriculture gave out information as part of its dogs database included fashion model bar refaeli and head of country s army and police israeli government requires all dog owners to register their pets <pad> <pad> <pad> <pad> <pad> <pad> <pad> <pad> <pad> <pad> <pad> <pad> <pad> <pad> <pad> \n",
      "pred:  the the the the the the the the the the the the the the the the the the the the the the the the the the the the the the the the the the the the the the the the the the the the the the the the the the \n",
      "abstract:  daniel coriat beat his mother elizabeth to death before mutilating her medical experts said he was suffering a psychotic episode at the time <pad> <pad> <pad> <pad> <pad> <pad> <pad> <pad> <pad> <pad> <pad> <pad> <pad> <pad> <pad> <pad> <pad> <pad> <pad> <pad> <pad> <pad> <pad> <pad> <pad> <pad> <pad> \n",
      "pred:  the the the the the the the the the the the the the the the the the the the the the the the the the the the the the the the the the the the the the the the the the the the the the the the the the the \n",
      "abstract:  most likely to be set in future no characters confirmed reportedly using next generation call of duty engine and features more destructive environments <pad> <pad> <pad> <pad> <pad> <pad> <pad> <pad> <pad> <pad> <pad> <pad> <pad> <pad> <pad> <pad> <pad> <pad> <pad> <pad> <pad> <pad> <pad> <pad> <pad> <pad> <pad> \n",
      "pred:  the the the the the the the the the the the the the the the the the the the the the the the the the the the the the the the the the the the the the the the the the the the the the the the the the the \n",
      "abstract:  tripadvisor s tripindex looks at the cost of vacations to the caribbean in march and april puerto rico provides the most affordable getaway of the locations priced barthelemy is the most expensive destination on the list <pad> <pad> <pad> <pad> <pad> <pad> <pad> <pad> <pad> <pad> <pad> <pad> <pad> <pad> \n",
      "pred:  the the the the the the the the the the the the the the the the the the the the the the the the the the the the the the the the the the the the the the the the the the the the the the the the the the \n",
      "abstract:  doctors have ruled out a heart attack but continue to do tests on the a spokeswoman for denise told mailonline couple plan to wed this summer <pad> <pad> <pad> <pad> <pad> <pad> <pad> <pad> <pad> <pad> <pad> <pad> <pad> <pad> <pad> <pad> <pad> <pad> <pad> <pad> <pad> <pad> <pad> <pad> \n",
      "pred:  the the the the the the the the the the the the the the the the the the the the the the the the the the the the the the the the the the the the the the the the the the the the the the the the the the \n",
      "abstract:  algerian proposed as part of the deal to take dani osvaldo to milan saints also in discussions over ezequiel schelotto ronald koeman is looking for fresh blood after losing star men this summer <pad> <pad> <pad> <pad> <pad> <pad> <pad> <pad> <pad> <pad> <pad> <pad> <pad> <pad> <pad> <pad> <pad> \n",
      "pred:  the the the the the the the the the the the the the the the the the the the the the the the the the the the the the the the the the the the the the the the the the the the the the the the the the the \n",
      "abstract:  the elderly man drives down the road where cars lie abandoned he shows that a bit of flooding is nothing the dutch can t handle is filmed by amused onlookers as he battles through the floods <pad> <pad> <pad> <pad> <pad> <pad> <pad> <pad> <pad> <pad> <pad> <pad> <pad> <pad> \n",
      "pred:  the the the the the the the the the the the the the the the the the the the the the the the the the the the the the the the the the the the the the the the the the the the the the the the the the the \n",
      "abstract:  281 passengers and 22 crew on explorer of the seas report gastrointestinal problems people responding to medications royal caribbean says vessel undergoes sanitizing in san juan puerto rico a cdc official will board the ship sunday to investigate <pad> <pad> <pad> <pad> <pad> <pad> <pad> <pad> <pad> <pad> <pad> <pad> \n",
      "pred:  the the the the the the the the the the the the the the the the the the the the the the the the the the the the the the the the the the the the the the the the the the the the the the the the the the \n",
      "abstract:  jardim has signed a deal to take over from claudio ranieri he previously managed sporting lisbon olympiacos and braga rodriguez cost monaco in 2013 from porto colombian striker has scored five goals at the 2014 world cup <pad> <pad> <pad> <pad> <pad> <pad> <pad> <pad> <pad> <pad> <pad> <pad> <pad> \n",
      "pred:  the the the the the the the the the the the the the the the the the the the the the the the the the the the the the the the the the the the the the the the the the the the the the the the the the the \n",
      "abstract:  to name key members of security team democratic officials say obama to keep robert gates as defense secretary sources say retired jim jones to be named national security adviser <pad> <pad> <pad> <pad> <pad> <pad> <pad> <pad> <pad> <pad> <pad> <pad> <pad> <pad> <pad> <pad> <pad> <pad> <pad> <pad> <pad> \n"
     ]
    },
    {
     "name": "stdout",
     "output_type": "stream",
     "text": [
      "pred:  the the the the the the the the the the the the the the the the the the the the the the the the the the the the the the the the the the the the the the the the the the the the the the the the the the \n",
      "abstract:  police officers shot in raid for firearms and narcotics in lakewood new jersey suspect also wounded after officers return fire official says lakewood is about 70 miles south of new york <pad> <pad> <pad> <pad> <pad> <pad> <pad> <pad> <pad> <pad> <pad> <pad> <pad> <pad> <pad> <pad> <pad> <pad> <pad> \n",
      "pred:  the the the the the the the the the the the the the the the the the the the the the the the the the the the the the the the the the the the the the the the the the the the the the the the the the the \n",
      "abstract:  militant party says it is joining with al shabaab the party known locally as hiz bul islam is being absorbed by group the party had been on the losing side in struggles with al shabaab <pad> <pad> <pad> <pad> <pad> <pad> <pad> <pad> <pad> <pad> <pad> <pad> <pad> <pad> <pad> \n",
      "pred:  the the the the the the the the the the the the the the the the the the the the the the the the the the the the the the the the the the the the the the the the the the the the the the the the the the \n",
      "abstract:  the protective poles are installed alongside one road in a suburban pittsburgh pa town locals have taken to calling one location penis road <pad> <pad> <pad> <pad> <pad> <pad> <pad> <pad> <pad> <pad> <pad> <pad> <pad> <pad> <pad> <pad> <pad> <pad> <pad> <pad> <pad> <pad> <pad> <pad> <pad> <pad> <pad> \n",
      "pred:  the the the the the the the the the the the the the the the the the the the the the the the the the the the the the the the the the the the the the the the the the the the the the the the the the the \n",
      "abstract:  the senate is considering changes to the country s forest code the church will start a petition among its 12 000 parishes environmentalists fear that the changes will lead to rainforest devastation <pad> <pad> <pad> <pad> <pad> <pad> <pad> <pad> <pad> <pad> <pad> <pad> <pad> <pad> <pad> <pad> <pad> <pad> \n",
      "pred:  the the the the the the the the the the the the the the the the the the the the the the the the the the the the the the the the the the the the the the the the the the the the the the the the the the \n",
      "abstract:  petr cech is in battle for chelsea no 1 shirt with thibaut courtois chelsea braced for bids for czech star paris and monaco have been in contact but jose mourinho has not told cech he can leave stamford bridge <pad> <pad> <pad> <pad> <pad> <pad> <pad> <pad> <pad> <pad> <pad> \n",
      "pred:  the the the the the the the the the the the the the the the the the the the the the the the the the the the the the the the the the the the the the the the the the the the the the the the the the the \n",
      "abstract:  evgeniya vavrinyukat accused semyon varlamov of attacking her in their denver apartment he was charged with misdemeanor assault but prosecutors are dropping the case vavrinyukat is standing by her accusation and is saddened at the decision <pad> <pad> <pad> <pad> <pad> <pad> <pad> <pad> <pad> <pad> <pad> <pad> <pad> <pad> \n",
      "pred:  the the the the the the the the the the the the the the the the the the the the the the the the the the the the the the the the the the the the the the the the the the the the the the the the the the \n",
      "abstract:  julio acevedo 44 was previously charged with vehicular manslaughter brooklyn district attorney s office drops that charge he now faces three counts of criminally negligent homicide <pad> <pad> <pad> <pad> <pad> <pad> <pad> <pad> <pad> <pad> <pad> <pad> <pad> <pad> <pad> <pad> <pad> <pad> <pad> <pad> <pad> <pad> <pad> <pad> \n",
      "pred:  the the the the the the the the the the the the the the the the the the the the the the the the the the the the the the the the the the the the the the the the the the the the the the the the the the \n",
      "abstract:  michael carrick admits manchester united weren t good enough in fa cup red devils held to goalless draw away at cambridge united on friday midfielder frustrated after insisting they came here to win <pad> <pad> <pad> <pad> <pad> <pad> <pad> <pad> <pad> <pad> <pad> <pad> <pad> <pad> <pad> <pad> <pad> \n",
      "pred:  the the the the the the the the the the the the the the the the the the the the the the the the the the the the the the the the the the the the the the the the the the the the the the the the the the \n",
      "abstract:  producers defended the film lifetime s about late singer aaliyah received widespread disdain on twitter fans critiqued the casting which they felt was all wrong aaliyah s family gave no support to the movie <pad> <pad> <pad> <pad> <pad> <pad> <pad> <pad> <pad> <pad> <pad> <pad> <pad> <pad> <pad> <pad> \n",
      "pred:  the the the the the the the the the the the the the the the the the the the the the the the the the the the the the the the the the the the the the the the the the the the the the the the the the the \n",
      "abstract:  police urge the public to come forward with any information eliza delacruz was taken from a home in long beach on saturday her body was found in a dumpster sunday <pad> <pad> <pad> <pad> <pad> <pad> <pad> <pad> <pad> <pad> <pad> <pad> <pad> <pad> <pad> <pad> <pad> <pad> <pad> <pad> \n",
      "pred:  the the the the the the the the the the the the the the the the the the the the the the the the the the the the the the the the the the the the the the the the the the the the the the the the the the \n",
      "abstract:  consumers spent record billion online on black friday up over 2011 it marks the first time spending on that day has topped billion online spending is up this holiday season over 2011 <pad> <pad> <pad> <pad> <pad> <pad> <pad> <pad> <pad> <pad> <pad> <pad> <pad> <pad> <pad> <pad> <pad> <pad> \n",
      "pred:  the the the the the the the the the the the the the the the the the the the the the the the the the the the the the the the the the the the the the the the the the the the the the the the the the the \n",
      "abstract:  transcripts show that rebecca shaw was feeling ill shaw said that if pressure was too much she could call out the next day colgan flight 3407 crashed february 12 during approach to buffalo <pad> <pad> <pad> <pad> <pad> <pad> <pad> <pad> <pad> <pad> <pad> <pad> <pad> <pad> <pad> <pad> <pad> \n",
      "pred:  the the the the the the the the the the the the the the the the the the the the the the the the the the the the the the the the the the the the the the the the the the the the the the the the the the \n",
      "abstract:  monica bohn 31 and michael karns 28 were charged with endangering the welfare of children the children were taken into custody by the county children and youth services department <pad> <pad> <pad> <pad> <pad> <pad> <pad> <pad> <pad> <pad> <pad> <pad> <pad> <pad> <pad> <pad> <pad> <pad> <pad> <pad> <pad> \n",
      "pred:  the the the the the the the the the the the the the the the the the the the the the the the the the the the the the the the the the the the the the the the the the the the the the the the the the the \n",
      "abstract:  william lerner owns imperial parking systems largest garage operator in tristate area unnamed soho model said she trusted him enough to have unprotected sex with him days later she had a herpes outbreak <pad> <pad> <pad> <pad> <pad> <pad> <pad> <pad> <pad> <pad> <pad> <pad> <pad> <pad> <pad> <pad> <pad> \n",
      "pred:  the the the the the the the the the the the the the the the the the the the the the the the the the the the the the the the the the the the the the the the the the the the the the the the the the the \n",
      "abstract:  high school dropout rate threatens economic future obama says administration has committed billion to help struggling schools he says obama says underperforming teachers need to be replaced he calls for more federal funding and parental involvement <pad> <pad> <pad> <pad> <pad> <pad> <pad> <pad> <pad> <pad> <pad> <pad> <pad> <pad> \n",
      "pred:  the the the the the the the the the the the the the the the the the the the the the the the the the the the the the the the the the the the the the the the the the the the the the the the the the the \n",
      "abstract:  man dressed as santa claus greeted children at event in honolulu hawaii he caught a wave on a canoe and made the hang loose gesture to surfers santa and the rest of the crowd were entertained by dancing hula girls <pad> <pad> <pad> <pad> <pad> <pad> <pad> <pad> <pad> <pad> \n",
      "pred:  the the the the the the the the the the the the the the the the the the the the the the the the the the the the the the the the the the the the the the the the the the the the the the the the the the \n",
      "abstract:  illness forces whitney houston to postpone first four shows of european tour doctors says houston is suffering from an upper respiratory infection glasgow scotland concert has been shifted from this sunday to may 1 <pad> <pad> <pad> <pad> <pad> <pad> <pad> <pad> <pad> <pad> <pad> <pad> <pad> <pad> <pad> <pad> \n",
      "Epoch [1/1], Loss: 7.4276, Acc: 2.34\n",
      "Best eval loss updated!\n",
      "Valid Epoch [1/1], Loss: 7.3363, Acc: 2.00\n"
     ]
    }
   ],
   "source": [
    "train_loss, eval_loss, train_acc, eval_acc = train(train_loader, valid_loader, model)"
   ]
  },
  {
   "cell_type": "code",
   "execution_count": 63,
   "metadata": {},
   "outputs": [
    {
     "data": {
      "image/png": "[encoded data removed]",
      "text/plain": [
       "<Figure size 640x480 with 1 Axes>"
      ]
     },
     "metadata": {},
     "output_type": "display_data"
    }
   ],
   "source": [
    "plot_grad_flow(model.named_parameters())"
   ]
  },
  {
   "cell_type": "code",
   "execution_count": null,
   "metadata": {},
   "outputs": [],
   "source": [
    "import time\n",
    "def writeLoss(filename, loss):\n",
    "    # filename in format losstype+layer+dim, validL2D256\n",
    "    timestr = time.strftime(\"%Y%m%d-%H%M%S\")\n",
    "    filename = filename + \"_\" + timestr + \".txt\"\n",
    "    with open(filename, \"a\") as myfile:\n",
    "        for item in items:\n",
    "            myfile.write(item+\"\\n\")\n"
   ]
  },
  {
   "cell_type": "code",
   "execution_count": null,
   "metadata": {},
   "outputs": [],
   "source": [
    "writeLoss(\"Train\", train_loss)\n",
    "writeLoss(\"Valid\", eval_loss)\n",
    "writeLoss(\"Train_acc\", train_acc)\n",
    "writeLoss(\"Valid_acc\", eval_acc)"
   ]
  },
  {
   "cell_type": "code",
   "execution_count": 345,
   "metadata": {},
   "outputs": [],
   "source": [
    "torch.save(model.state_dict(), 'best_decoder20230729_epoch500.pth')"
   ]
  },
  {
   "cell_type": "code",
   "execution_count": 51,
   "metadata": {},
   "outputs": [],
   "source": [
    "def plot_grad_flow(named_parameters):\n",
    "    ave_grads = []\n",
    "    layers = []\n",
    "    for n, p in named_parameters:\n",
    "        #print(n)\n",
    "        if(p.requires_grad) and (\"bias\" not in n):\n",
    "            layers.append(n)\n",
    "            #print(type(p.grad))\n",
    "            ave_grads.append(torch.mean(torch.abs(p.grad)).cpu())\n",
    "    plt.plot(ave_grads, alpha=0.3, color=\"b\")\n",
    "    plt.hlines(0, 0, len(ave_grads)+1, linewidth=1, color=\"k\" )\n",
    "    plt.xticks(range(0,len(ave_grads), 1), layers, rotation=\"vertical\")\n",
    "    plt.xlim(xmin=0, xmax=len(ave_grads))\n",
    "    plt.xlabel(\"Layers\")\n",
    "    plt.ylabel(\"average gradient\")\n",
    "    plt.title(\"Gradient flow\")\n",
    "    plt.grid(True)"
   ]
  },
  {
   "cell_type": "code",
   "execution_count": 70,
   "metadata": {},
   "outputs": [
    {
     "data": {
      "text/plain": [
       "<matplotlib.legend.Legend at 0x161b7085790>"
      ]
     },
     "execution_count": 70,
     "metadata": {},
     "output_type": "execute_result"
    },
    {
     "data": {
      "image/png": "[encoded data removed]",
      "text/plain": [
       "<Figure size 640x480 with 1 Axes>"
      ]
     },
     "metadata": {},
     "output_type": "display_data"
    }
   ],
   "source": [
    "plt.plot(train_loss)\n",
    "plt.plot(eval_loss)\n",
    "plt.xlabel('epochs')\n",
    "plt.ylabel('loss')\n",
    "plt.legend(['train loss','Valid loss'])"
   ]
  },
  {
   "cell_type": "markdown",
   "metadata": {},
   "source": [
    "# Model Evaluation"
   ]
  },
  {
   "cell_type": "code",
   "execution_count": 61,
   "metadata": {},
   "outputs": [],
   "source": [
    "import gc\n",
    "gc.collect()\n",
    "torch.cuda.empty_cache()"
   ]
  },
  {
   "cell_type": "code",
   "execution_count": null,
   "metadata": {},
   "outputs": [],
   "source": []
  },
  {
   "cell_type": "code",
   "execution_count": null,
   "metadata": {},
   "outputs": [],
   "source": []
  },
  {
   "cell_type": "code",
   "execution_count": null,
   "metadata": {},
   "outputs": [],
   "source": []
  },
  {
   "cell_type": "markdown",
   "metadata": {},
   "source": [
    "# FastText"
   ]
  },
  {
   "cell_type": "markdown",
   "metadata": {},
   "source": [
    "## Model for querying"
   ]
  },
  {
   "cell_type": "markdown",
   "metadata": {},
   "source": [
    "train fasttext model\n",
    "obtain weight from fasttest\n",
    "then embedding can load weights\n",
    "\n",
    "- train 2 fasttext model, 1 for text and another for abstract\n",
    "- obtain weights for both vocab\n",
    "- put in encoder and decoder like normal\n",
    "- https://stackoverflow.com/questions/31440803/how-to-fetch-vectors-for-a-word-list-with-word2vec\n",
    "- use this to update the vocab class to update ways to fetch words\n",
    "- to solve querying, use the model and use function to find cosine"
   ]
  },
  {
   "cell_type": "code",
   "execution_count": 6,
   "metadata": {},
   "outputs": [],
   "source": [
    "import fasttext\n",
    "model = fasttext.train_unsupervised('data/fil9')\n",
    "model.save_model(\"result/fil9.bin\")\n",
    "model = fasttext.load_model(\"result/fil9.bin\")\n",
    "# EXPECTS TEXT FILE FORMAT WHERE 1 TEXT PER ROW\n",
    "# IMPORTANT, NEED TO REDESIGN CLEANING PROCESS "
   ]
  },
  {
   "cell_type": "markdown",
   "metadata": {},
   "source": [
    "# Dataset Exploration"
   ]
  },
  {
   "cell_type": "markdown",
   "metadata": {},
   "source": [
    "After exploring, all highlight:article ratio being more than 1.0 means the summary text is producing more text than the original text, this defeats the purpose of the model, therefore all data with a ratio of more than or equal to 1.0 will be omitted."
   ]
  },
  {
   "cell_type": "code",
   "execution_count": null,
   "metadata": {},
   "outputs": [],
   "source": []
  },
  {
   "cell_type": "markdown",
   "metadata": {},
   "source": [
    "# Model improvement/Retrain"
   ]
  },
  {
   "cell_type": "code",
   "execution_count": null,
   "metadata": {},
   "outputs": [],
   "source": []
  },
  {
   "cell_type": "code",
   "execution_count": null,
   "metadata": {},
   "outputs": [],
   "source": []
  },
  {
   "cell_type": "markdown",
   "metadata": {},
   "source": [
    "# Model Finalisation and Evaluation"
   ]
  },
  {
   "cell_type": "markdown",
   "metadata": {},
   "source": [
    "## Inference Script"
   ]
  },
  {
   "cell_type": "code",
   "execution_count": null,
   "metadata": {},
   "outputs": [],
   "source": [
    "# Load model\n",
    "best_model_path = \"best_decoder20230719.pth\"\n",
    "best_model = Model(len(text_vocab),len(abstract_vocab),2,256)\n",
    "best_model.load_state_dict(torch.load(best_model_path))"
   ]
  },
  {
   "cell_type": "markdown",
   "metadata": {},
   "source": [
    "## Upload Button"
   ]
  },
  {
   "cell_type": "code",
   "execution_count": 163,
   "metadata": {},
   "outputs": [],
   "source": [
    "TEXT_COLOUR = \"<font color='Black'>\""
   ]
  },
  {
   "cell_type": "code",
   "execution_count": 40,
   "metadata": {},
   "outputs": [],
   "source": [
    "def load_pdf(file):  \n",
    "    file_content = list(file)[0]\n",
    "    content = file_content[\"content\"]\n",
    "    return fitz.open(stream=content, filetype=\"pdf\")"
   ]
  },
  {
   "cell_type": "code",
   "execution_count": 52,
   "metadata": {},
   "outputs": [
    {
     "name": "stdout",
     "output_type": "stream",
     "text": [
      "-1\n"
     ]
    },
    {
     "data": {
      "application/vnd.jupyter.widget-view+json": {
       "model_id": "95a19ebb6eb444c7a48e69f6b72a1e64",
       "version_major": 2,
       "version_minor": 0
      },
      "text/plain": [
       "FileUpload(value={}, accept='.pdf', description='Upload')"
      ]
     },
     "metadata": {},
     "output_type": "display_data"
    }
   ],
   "source": [
    "uploader = widgets.FileUpload(multiple=False, accept='.pdf')\n",
    "def on_upload(change):\n",
    "    #ch = change.value.values()\n",
    "    # to obtain information regarding the pdf when the pdf is uploaded, buttonless design, will impact perf\n",
    "    global doc_len\n",
    "    doc_len = len(load_pdf(uploader.value.values()))-1\n",
    "    \n",
    "    uploader.value.clear()\n",
    "    uploader._counter=1\n",
    "\n",
    "uploader.observe(on_upload, 'value')\n",
    "display(uploader)"
   ]
  },
  {
   "cell_type": "markdown",
   "metadata": {},
   "source": [
    "## Abstract Generation tab"
   ]
  },
  {
   "cell_type": "markdown",
   "metadata": {},
   "source": [
    "### Radio button for model selection"
   ]
  },
  {
   "cell_type": "code",
   "execution_count": 176,
   "metadata": {},
   "outputs": [
    {
     "data": {
      "application/vnd.jupyter.widget-view+json": {
       "model_id": "cfc486a5a33644c398acbe99106b604f",
       "version_major": 2,
       "version_minor": 0
      },
      "text/plain": [
       "RadioButtons(description=\"<font color='Black'>Model:\", options=('Base', '512Dim', '1024Dim', 'Base+No Stop wor…"
      ]
     },
     "metadata": {},
     "output_type": "display_data"
    }
   ],
   "source": [
    "radio = widgets.RadioButtons(\n",
    "    options=['Base', '512Dim', '1024Dim', 'Base+No Stop word'],\n",
    "#    value='pineapple', # Defaults to 'pineapple'\n",
    "#    layout={'width': 'max-content'}, # If the items' names are long\n",
    "    description=TEXT_COLOUR+'Model:',\n",
    "    disabled=False\n",
    ")\n",
    "display(radio)"
   ]
  },
  {
   "cell_type": "markdown",
   "metadata": {},
   "source": [
    "### 3 input box for model parameters"
   ]
  },
  {
   "cell_type": "code",
   "execution_count": 177,
   "metadata": {},
   "outputs": [
    {
     "data": {
      "application/vnd.jupyter.widget-view+json": {
       "model_id": "9777934801604db1a1b03dd2b47e223c",
       "version_major": 2,
       "version_minor": 0
      },
      "text/plain": [
       "IntText(value=100, description=\"<font color='Black'>Max length:\")"
      ]
     },
     "metadata": {},
     "output_type": "display_data"
    }
   ],
   "source": [
    "# Max Length\n",
    "length = widgets.IntText(\n",
    "    value=100,\n",
    "    description=TEXT_COLOUR+'Max length:',\n",
    "    disabled=False\n",
    ")\n",
    "display(length)"
   ]
  },
  {
   "cell_type": "code",
   "execution_count": 178,
   "metadata": {},
   "outputs": [
    {
     "data": {
      "application/vnd.jupyter.widget-view+json": {
       "model_id": "835d6aed81b540248a603967682a6993",
       "version_major": 2,
       "version_minor": 0
      },
      "text/plain": [
       "BoundedFloatText(value=0.5, description=\"<font color='Black'>Temperature:\", max=1.0, step=0.1)"
      ]
     },
     "metadata": {},
     "output_type": "display_data"
    }
   ],
   "source": [
    "# Temperature\n",
    "temperature = widgets.BoundedFloatText(\n",
    "    value=0.5,\n",
    "    min=0,\n",
    "    max=1.0,\n",
    "    step=0.1,\n",
    "    description=TEXT_COLOUR+'Temperature:',\n",
    "    disabled=False\n",
    ")\n",
    "display(temperature)"
   ]
  },
  {
   "cell_type": "code",
   "execution_count": 179,
   "metadata": {},
   "outputs": [
    {
     "data": {
      "application/vnd.jupyter.widget-view+json": {
       "model_id": "60ea0a3b39ee4b9c8b111477ef056651",
       "version_major": 2,
       "version_minor": 0
      },
      "text/plain": [
       "IntRangeSlider(value=(0, 21), continuous_update=False, description=\"<font color='Black'>Page Range:\", max=21)"
      ]
     },
     "metadata": {},
     "output_type": "display_data"
    }
   ],
   "source": [
    "# PDF start and end\n",
    "pdf_range = widgets.IntRangeSlider(\n",
    "    value=[0, doc_len],\n",
    "    min=0,\n",
    "    max=doc_len,\n",
    "    step=1,\n",
    "\n",
    "    description=TEXT_COLOUR + \"Page Range:\",\n",
    "    disabled=False,\n",
    "    continuous_update=False,\n",
    "    orientation='horizontal',\n",
    "    readout=True,\n",
    "    readout_format='d',\n",
    ")\n",
    "display(pdf_range)"
   ]
  },
  {
   "cell_type": "markdown",
   "metadata": {},
   "source": [
    "### Activation button print result to output"
   ]
  },
  {
   "cell_type": "code",
   "execution_count": 180,
   "metadata": {},
   "outputs": [
    {
     "data": {
      "application/vnd.jupyter.widget-view+json": {
       "model_id": "656df4bd6bac4ec3b865b567baf8d9ce",
       "version_major": 2,
       "version_minor": 0
      },
      "text/plain": [
       "Button(button_style='info', description='Click me', icon='check', style=ButtonStyle(), tooltip='Click me')"
      ]
     },
     "metadata": {},
     "output_type": "display_data"
    },
    {
     "data": {
      "application/vnd.jupyter.widget-view+json": {
       "model_id": "df12ba71a2c1402487780c496ddb7b75",
       "version_major": 2,
       "version_minor": 0
      },
      "text/plain": [
       "Output(layout=Layout(border='1px solid black'))"
      ]
     },
     "metadata": {},
     "output_type": "display_data"
    }
   ],
   "source": [
    "button = widgets.Button(\n",
    "    description='Click me',\n",
    "    disabled=False,\n",
    "    button_style='info', # 'success', 'info', 'warning', 'danger' or ''\n",
    "    tooltip='Click me',\n",
    "    icon='check' # (FontAwesome names without the `fa-` prefix)\n",
    ")\n",
    "#button.style.button_color=\"green\"\n",
    "global i\n",
    "i = 0\n",
    "out = widgets.Output(layout={'border': '1px solid black'})\n",
    "display(button, out)\n",
    "\n",
    "def on_button_clicked(b):\n",
    "    with out:\n",
    "        global i\n",
    "        out.clear_output()\n",
    "        print(i,\" Button clicked.\")\n",
    "        i +=1\n",
    "\n",
    "button.on_click(on_button_clicked)"
   ]
  },
  {
   "cell_type": "markdown",
   "metadata": {},
   "source": [
    "### Wrap in grid widget"
   ]
  },
  {
   "cell_type": "code",
   "execution_count": 185,
   "metadata": {},
   "outputs": [
    {
     "data": {
      "application/vnd.jupyter.widget-view+json": {
       "model_id": "d3ae8cd0a14f487fb570d48fef221599",
       "version_major": 2,
       "version_minor": 0
      },
      "text/plain": [
       "Tab(children=(GridBox(children=(RadioButtons(description=\"<font color='Black'>Model:\", options=('Base', '512Di…"
      ]
     },
     "metadata": {},
     "output_type": "display_data"
    }
   ],
   "source": [
    "widget = [radio, length, pdf_range, temperature, button]\n",
    "grid = widgets.GridBox(widget, layout=widgets.Layout(grid_template_columns=\"repeat(1, 100px)\"))\n",
    "grid_list = [grid]\n",
    "tab = widgets.Tab()\n",
    "tab.children=grid_list\n",
    "tab"
   ]
  },
  {
   "cell_type": "markdown",
   "metadata": {},
   "source": [
    "## Relevance Query tab"
   ]
  },
  {
   "cell_type": "markdown",
   "metadata": {},
   "source": [
    "### Text input box"
   ]
  },
  {
   "cell_type": "code",
   "execution_count": 174,
   "metadata": {},
   "outputs": [
    {
     "data": {
      "application/vnd.jupyter.widget-view+json": {
       "model_id": "0e4fbbc8bbd947fe956c5799fccb436f",
       "version_major": 2,
       "version_minor": 0
      },
      "text/plain": [
       "Text(value='', description=\"<font color='Black'>Query:\", placeholder='Type something')"
      ]
     },
     "metadata": {},
     "output_type": "display_data"
    }
   ],
   "source": [
    "text_box = widgets.Text(\n",
    "    value='',\n",
    "    placeholder='Type something',\n",
    "    description=TEXT_COLOUR+'Query:',\n",
    "    disabled=False   \n",
    ")\n",
    "display(text_box)"
   ]
  },
  {
   "cell_type": "markdown",
   "metadata": {},
   "source": [
    "### Input box for start and end page"
   ]
  },
  {
   "cell_type": "code",
   "execution_count": 171,
   "metadata": {},
   "outputs": [
    {
     "data": {
      "application/vnd.jupyter.widget-view+json": {
       "model_id": "cb3be87298fb4687811937a6ff282b44",
       "version_major": 2,
       "version_minor": 0
      },
      "text/plain": [
       "IntRangeSlider(value=(0, 21), continuous_update=False, description=\"<font color='Black'>Page Range:\", max=21)"
      ]
     },
     "metadata": {},
     "output_type": "display_data"
    }
   ],
   "source": [
    "pdf_range_q = widgets.IntRangeSlider(\n",
    "    value=[0, doc_len],\n",
    "    min=0,\n",
    "    max=doc_len,\n",
    "    step=1,\n",
    "\n",
    "    description=TEXT_COLOUR + \"Page Range:\",\n",
    "    disabled=False,\n",
    "    continuous_update=False,\n",
    "    orientation='horizontal',\n",
    "    readout=True,\n",
    "    readout_format='d',\n",
    ")\n",
    "display(pdf_range_q)"
   ]
  },
  {
   "cell_type": "markdown",
   "metadata": {},
   "source": [
    "### Activation button print result to output"
   ]
  },
  {
   "cell_type": "code",
   "execution_count": 172,
   "metadata": {},
   "outputs": [
    {
     "data": {
      "application/vnd.jupyter.widget-view+json": {
       "model_id": "36bd82f56f394083943c16c42da1c0b3",
       "version_major": 2,
       "version_minor": 0
      },
      "text/plain": [
       "Button(button_style='info', description='Click me', icon='check', style=ButtonStyle(), tooltip='Click me')"
      ]
     },
     "metadata": {},
     "output_type": "display_data"
    },
    {
     "data": {
      "application/vnd.jupyter.widget-view+json": {
       "model_id": "a2e792cb9f0149a29a6a694138e17dd3",
       "version_major": 2,
       "version_minor": 0
      },
      "text/plain": [
       "Output(layout=Layout(border='1px solid black'))"
      ]
     },
     "metadata": {},
     "output_type": "display_data"
    }
   ],
   "source": [
    "button_q = widgets.Button(\n",
    "    description='Click me',\n",
    "    disabled=False,\n",
    "    button_style='info', # 'success', 'info', 'warning', 'danger' or ''\n",
    "    tooltip='Click me',\n",
    "    icon='check' # (FontAwesome names without the `fa-` prefix)\n",
    ")\n",
    "#button.style.button_color=\"green\"\n",
    "global j\n",
    "j = 0\n",
    "out_q = widgets.Output(layout={'border': '1px solid black'})\n",
    "display(button_q, out_q)\n",
    "\n",
    "def on_button_clicked(b):\n",
    "    with out_q:\n",
    "        global j\n",
    "        out_q.clear_output()\n",
    "        print(j,\" Button clicked.\")\n",
    "        j +=1\n",
    "\n",
    "button_q.on_click(on_button_clicked)"
   ]
  },
  {
   "cell_type": "markdown",
   "metadata": {},
   "source": [
    "### Wrap in grid widget"
   ]
  },
  {
   "cell_type": "code",
   "execution_count": 187,
   "metadata": {},
   "outputs": [
    {
     "data": {
      "application/vnd.jupyter.widget-view+json": {
       "model_id": "d449c2ba2aad4198a7ddb177b4f9fbe0",
       "version_major": 2,
       "version_minor": 0
      },
      "text/plain": [
       "Tab(children=(GridBox(children=(Text(value='', description=\"<font color='Black'>Query:\", placeholder='Type som…"
      ]
     },
     "metadata": {},
     "output_type": "display_data"
    }
   ],
   "source": [
    "widget_q = [text_box, pdf_range_q, button_q]\n",
    "grid_q = widgets.GridBox(widget_q, layout=widgets.Layout(grid_template_columns=\"repeat(1, 100px)\"))\n",
    "grid_list_q = [grid_q]\n",
    "tab = widgets.Tab()\n",
    "tab.children=grid_list_q\n",
    "tab"
   ]
  },
  {
   "cell_type": "markdown",
   "metadata": {},
   "source": [
    "# -----------------------"
   ]
  },
  {
   "cell_type": "markdown",
   "metadata": {},
   "source": [
    "# Final combined tab"
   ]
  },
  {
   "cell_type": "code",
   "execution_count": 189,
   "metadata": {},
   "outputs": [
    {
     "data": {
      "application/vnd.jupyter.widget-view+json": {
       "model_id": "80b4a6202fa9491797cf9febb354cf92",
       "version_major": 2,
       "version_minor": 0
      },
      "text/plain": [
       "Tab(children=(GridBox(children=(RadioButtons(description=\"<font color='Black'>Model:\", options=('Base', '512Di…"
      ]
     },
     "metadata": {},
     "output_type": "display_data"
    }
   ],
   "source": [
    "grids = [grid, grid_q]\n",
    "tabs = widgets.Tab()\n",
    "tabs.children=grids\n",
    "tabs_titles = [\"Abstract Generation\", \"Relevance Query\"]\n",
    "for i, title in enumerate(tabs_titles):\n",
    "    tabs.set_title(i, title)\n",
    "display(tabs)"
   ]
  },
  {
   "cell_type": "code",
   "execution_count": null,
   "metadata": {},
   "outputs": [],
   "source": []
  },
  {
   "cell_type": "markdown",
   "metadata": {},
   "source": [
    "# -----------------------"
   ]
  },
  {
   "cell_type": "code",
   "execution_count": 10,
   "metadata": {},
   "outputs": [],
   "source": [
    "# https://ipywidgets.readthedocs.io/en/stable/examples/Widget%20List.html\n",
    "w = widgets.IntSlider()\n",
    "out = widgets.Output(layout={'border': '1px solid black'})"
   ]
  },
  {
   "cell_type": "code",
   "execution_count": 11,
   "metadata": {},
   "outputs": [
    {
     "data": {
      "application/vnd.jupyter.widget-view+json": {
       "model_id": "b0dffecdeadc4ede95cfe5b406cd1e8b",
       "version_major": 2,
       "version_minor": 0
      },
      "text/plain": [
       "Output(layout=Layout(border='1px solid black'))"
      ]
     },
     "metadata": {},
     "output_type": "display_data"
    },
    {
     "data": {
      "application/vnd.jupyter.widget-view+json": {
       "model_id": "5ecd71bff24f4338b76e0c4c2d99ed1b",
       "version_major": 2,
       "version_minor": 0
      },
      "text/plain": [
       "IntSlider(value=0)"
      ]
     },
     "metadata": {},
     "output_type": "display_data"
    }
   ],
   "source": [
    "display(out)\n",
    "display(w)\n",
    "#out.clear_output()\n",
    "with out:\n",
    "    out.clear_output()\n",
    "\n",
    "    for i in range(5):\n",
    "        print(i, 'Hello world!')"
   ]
  },
  {
   "cell_type": "code",
   "execution_count": 184,
   "metadata": {},
   "outputs": [
    {
     "name": "stdout",
     "output_type": "stream",
     "text": [
      "[Text(value='0', description='Abstract Generation'), Text(value='0', description='Relevance Query')]\n",
      "[Text(value='1', description='Abstract Generation'), Text(value='1', description='Relevance Query')]\n"
     ]
    },
    {
     "data": {
      "application/vnd.jupyter.widget-view+json": {
       "model_id": "334690b79aea4f8c8b2ec9e1b68c351a",
       "version_major": 2,
       "version_minor": 0
      },
      "text/plain": [
       "Tab(children=(GridBox(children=(Label(value='0'), Label(value='1'), Label(value='2'), Label(value='3'), Label(…"
      ]
     },
     "metadata": {},
     "output_type": "display_data"
    }
   ],
   "source": [
    "tab_titles = [\"Abstract Generation\", \"Relevance Query\"]\n",
    "tab = widgets.Tab()\n",
    "items = [widgets.Label(str(i)) for i in range(8)]\n",
    "grid = widgets.GridBox(items, layout=widgets.Layout(grid_template_columns=\"repeat(3, 100px)\"))\n",
    "gridlist= [grid]\n",
    "for i, title in enumerate(tab_titles):\n",
    "    tab.set_title(i, title)\n",
    "    children = [widgets.Text(value=str(i),description=name) for name in tab_titles]\n",
    "    print(children)\n",
    "    tab.children=gridlist\n",
    "tab\n",
    "\n",
    "# work flow is as follows\n",
    "# widget1 = widgets.button()\n",
    "# widget2 = widgets.button()\n",
    "# widget3 = widgets.RadioButton()\n",
    "# widgetList = [widget1,widget2,widget3]\n",
    "# grid1 = widgets.GridBox(items, layout=widgets.Layout(grid_template_columns=\"repeat(3, 100px)\"))\n",
    "# grid2 = widgets.GridBox(items, layout=widgets.Layout(grid_template_columns=\"repeat(3, 100px)\"))\n",
    "# grids = [grid1, grid2]\n",
    "\n",
    "# tab.children = grids\n"
   ]
  },
  {
   "cell_type": "code",
   "execution_count": 17,
   "metadata": {},
   "outputs": [],
   "source": [
    "def readPDF(file, start_page=0, end_page=-1):\n",
    "    '''\n",
    "    Will accept input of widget pdf file\n",
    "    start_page indicates starting page to start reading default=first page\n",
    "    end_page indicate last page to read default=last page\n",
    "    '''\n",
    "    doc = load_pdf(file)\n",
    "    if end_page == -1:\n",
    "        end_page = len(doc)-1\n",
    "    \n",
    "    # extracting text from page\n",
    "    doc_text = \"\"\n",
    "    for page in doc.pages(start_page, end_page):\n",
    "        \n",
    "        text = page.get_text(\"text\")\n",
    "        text = text.split('\\n')\n",
    "        text = \" \".join(text)\n",
    "        doc_text += text \n",
    "    doc_text = doc_text.strip()\n",
    "    doc.close()\n",
    "    return doc_text"
   ]
  },
  {
   "cell_type": "code",
   "execution_count": null,
   "metadata": {},
   "outputs": [],
   "source": [
    "def Process(raw_data, stop_word=True):\n",
    "    data = cleanLine(raw_data, stop_word)\n",
    "    data_id = tokenise(text_vocab, data)\n",
    "    return data_id"
   ]
  },
  {
   "cell_type": "code",
   "execution_count": null,
   "metadata": {},
   "outputs": [],
   "source": [
    "def Infer(model, data, max_size=100, temperature=0.5):\n",
    "    decoder_outputs = model(data, max_len=max_size, temperature=temperature)\n",
    "    decoder_outputs = torch.unbind(decoder_outputs, 1)\n",
    "    sentence = \"\"\n",
    "    for output in decoder_outputs:\n",
    "        token = output.argmax(1)\n",
    "        # if word is pad then replace with space\n",
    "        # if word is end then stop\n",
    "        if token == 2:\n",
    "            sentence += \" \"\n",
    "        elif token == 1:\n",
    "            break\n",
    "        else:\n",
    "            sentence += abstract_vocab.get_word(token.item()) + \" \"\n",
    "    sentence = sentence.strip()\n",
    "    return sentence"
   ]
  },
  {
   "cell_type": "code",
   "execution_count": 143,
   "metadata": {},
   "outputs": [],
   "source": [
    "raw_data = readPDF(uploader.value.values(), start_page=0, end_page=-1) # Obtain 1 long string\n",
    "data = Process(raw_data) # Clean string and convert to word_ids\n",
    "output = Infer(best_model, data, max_size=100, temperature=0.5)"
   ]
  },
  {
   "cell_type": "code",
   "execution_count": null,
   "metadata": {},
   "outputs": [],
   "source": []
  }
 ],
 "metadata": {
  "colab": {
   "name": "COMP5623M_CW1_Q2.ipynb",
   "provenance": []
  },
  "kernelspec": {
   "display_name": "Python 3 (ipykernel)",
   "language": "python",
   "name": "python3"
  },
  "language_info": {
   "codemirror_mode": {
    "name": "ipython",
    "version": 3
   },
   "file_extension": ".py",
   "mimetype": "text/x-python",
   "name": "python",
   "nbconvert_exporter": "python",
   "pygments_lexer": "ipython3",
   "version": "3.9.12"
  },
  "vscode": {
   "interpreter": {
    "hash": "31f2aee4e71d21fbe5cf8b01ff0e069b9275f58929596ceb00d14d90e3e16cd6"
   }
  }
 },
 "nbformat": 4,
 "nbformat_minor": 1
}
