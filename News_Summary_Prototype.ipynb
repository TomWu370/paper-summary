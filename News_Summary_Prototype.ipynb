{
 "cells": [
  {
   "cell_type": "markdown",
   "metadata": {
    "id": "LR4bovYL4CJz"
   },
   "source": [
    "## Dissertation Project - News Summary Dissertation [100 marks]\n",
    "\n",
    "### Motivation \n",
    "\n",
    "> 1. Provide tools for anyone needing to speed up their research process\n",
    "> 2. Providing ways for user to quickly determine whether a piece of research is beneficial for their specific search terms\n",
    "\n",
    "\n"
   ]
  },
  {
   "cell_type": "code",
   "execution_count": 290,
   "metadata": {},
   "outputs": [
    {
     "data": {
      "text/html": [
       "<script>\n",
       "code_show=true; \n",
       "function code_toggle() {\n",
       " if (code_show){\n",
       " $('div.input').hide();\n",
       " } else {\n",
       " $('div.input').show();\n",
       " }\n",
       " code_show = !code_show\n",
       "} \n",
       "$( document ).ready(code_toggle);\n",
       "</script>\n",
       "<form action=\"javascript:code_toggle()\"><input type=\"submit\" value=\"Toggle code.\"></form>"
      ],
      "text/plain": [
       "<IPython.core.display.HTML object>"
      ]
     },
     "execution_count": 290,
     "metadata": {},
     "output_type": "execute_result"
    }
   ],
   "source": [
    "from IPython.display import HTML\n",
    "\n",
    "HTML('''<script>\n",
    "code_show=true; \n",
    "function code_toggle() {\n",
    " if (code_show){\n",
    " $('div.input').hide();\n",
    " } else {\n",
    " $('div.input').show();\n",
    " }\n",
    " code_show = !code_show\n",
    "} \n",
    "$( document ).ready(code_toggle);\n",
    "</script>\n",
    "<form action=\"javascript:code_toggle()\"><input type=\"submit\" value=\"Toggle code.\"></form>''')"
   ]
  },
  {
   "cell_type": "markdown",
   "metadata": {},
   "source": [
    "### Imports"
   ]
  },
  {
   "cell_type": "code",
   "execution_count": 1,
   "metadata": {},
   "outputs": [],
   "source": [
    "import torch\n",
    "import torch.nn as nn\n",
    "import torchvision\n",
    "from torchvision import transforms\n",
    "import torchvision.models as models\n",
    "from torch.utils.data import Dataset, DataLoader, random_split\n",
    "from torch.nn.utils.rnn import pack_padded_sequence, pad_packed_sequence\n",
    "import pandas as pd\n",
    "import matplotlib.pyplot as plt\n",
    "from collections import Counter\n",
    "import os\n",
    "import numpy as np\n",
    "from PIL import Image\n",
    "from sklearn.model_selection import train_test_split\n",
    "from sklearn.feature_extraction.text import ENGLISH_STOP_WORDS\n",
    "import string\n",
    "import random\n",
    "from tqdm.notebook import tqdm\n",
    "import ipywidgets as widgets\n",
    "import fitz\n",
    "\n",
    "import numpy as np \n",
    "import pandas as pd\n",
    "import math\n",
    "\n",
    "import json\n",
    "\n",
    "DATASET = \"./Dataset/\""
   ]
  },
  {
   "cell_type": "markdown",
   "metadata": {},
   "source": [
    "Detect which device (CPU/GPU) to use."
   ]
  },
  {
   "cell_type": "code",
   "execution_count": 2,
   "metadata": {},
   "outputs": [
    {
     "name": "stdout",
     "output_type": "stream",
     "text": [
      "Using device: cuda\n"
     ]
    }
   ],
   "source": [
    "seed = 0\n",
    "random.seed(seed)\n",
    "torch.manual_seed(seed)\n",
    "torch.cuda.manual_seed(seed) \n",
    "torch.cuda.manual_seed_all(seed)\n",
    "device = torch.device('cuda' if torch.cuda.is_available() else 'cpu')\n",
    "print('Using device:', device)"
   ]
  },
  {
   "cell_type": "markdown",
   "metadata": {},
   "source": [
    "### Overview\n",
    "\n",
    "Summarisation model\n",
    "> 1. Dataset preprocessing\n",
    "> 2. Dataloader\n",
    "> 3. RNN model definition\n",
    "> 4. Model training\n",
    "> 5. Model prediction evaluation\n",
    "> 6. Dataset Exploration\n",
    "> 7. Dataset modification/Data Augmentation\n",
    "> 8. Model improvement\n",
    "> 9. Model finalisation and evaluation\n",
    "\n",
    "Paper querying\n",
    "> 1. Attention on query (Return usefulness percentage\n",
    "> 2. Evaluate performance\n"
   ]
  },
  {
   "cell_type": "markdown",
   "metadata": {},
   "source": [
    "# Data preprocessing"
   ]
  },
  {
   "cell_type": "code",
   "execution_count": 5,
   "metadata": {},
   "outputs": [],
   "source": [
    "# # Comment this block if dataset is reorganised\n",
    "# DATA_DIR = \"SSN/papers.SSN.jsonl\"\n",
    "# dataset_path = DATASET+DATA_DIR\n",
    "# with open(dataset_path) as f:\n",
    "#     lines = f.read().splitlines()\n",
    "# df_inter = pd.DataFrame(lines)\n",
    "# df_inter.columns = ['json_element']\n",
    "# df_final = pd.json_normalize(df_inter['json_element'].apply(json.loads))\n",
    "# df_final.to_json(\"./Dataset/SSN/SSN_Dataset.json\")\n",
    "# df_final"
   ]
  },
  {
   "cell_type": "code",
   "execution_count": null,
   "metadata": {},
   "outputs": [],
   "source": [
    "# for i,summary in df_final.iterrows():\n",
    "#     temp = summary[\"abstract\"]\n",
    "#     print(type(summary[\"abstract\"]))\n",
    "#     break"
   ]
  },
  {
   "cell_type": "code",
   "execution_count": 236,
   "metadata": {},
   "outputs": [],
   "source": [
    "# #Comment this block if dataset is shortened\n",
    "# DATA_DIR = \"SSN/SSN_Dataset.json\"\n",
    "# dataset_path = DATASET+DATA_DIR\n",
    "# df = pd.read_json(dataset_path)\n",
    "# df"
   ]
  },
  {
   "cell_type": "code",
   "execution_count": 32,
   "metadata": {},
   "outputs": [
    {
     "data": {
      "text/plain": [
       "['introduction',\n",
       " 'quantum information theory preliminaries',\n",
       " 'kk-minimal and kk-maximal operator spaces',\n",
       " 'kk-super minimal and kk-super maximal operator systems',\n",
       " 'norms on operator systems',\n",
       " 'contractive maps as separability criteria']"
      ]
     },
     "execution_count": 32,
     "metadata": {},
     "output_type": "execute_result"
    }
   ],
   "source": [
    "# df.iloc[140794][\"section_names\"]"
   ]
  },
  {
   "cell_type": "markdown",
   "metadata": {},
   "source": [
    "Function to return index for conclusion section"
   ]
  },
  {
   "cell_type": "code",
   "execution_count": 12,
   "metadata": {},
   "outputs": [],
   "source": [
    "# def trim_index(row):\n",
    "#     return [row.index(x)+1 for x in row if x.startswith('conclusion') or x.startswith(\"summar\")]"
   ]
  },
  {
   "cell_type": "code",
   "execution_count": 13,
   "metadata": {},
   "outputs": [],
   "source": [
    "# def trim_text(text, index):\n",
    "#     return text[0:index]"
   ]
  },
  {
   "cell_type": "code",
   "execution_count": 14,
   "metadata": {},
   "outputs": [
    {
     "name": "stdout",
     "output_type": "stream",
     "text": [
      "49413\n"
     ]
    }
   ],
   "source": [
    "# # Comment this block if dataset is shortened\n",
    "# # Trim text after conclusion\n",
    "# indexes = []\n",
    "# for i, row in df.iterrows():\n",
    "#     section = row[\"section_names\"]\n",
    "#     #print(section)\n",
    "#     index = trim_index(section)\n",
    "#     #print(index)\n",
    "#     if not index:\n",
    "#         indexes.append(i)\n",
    "#     # if section can be filtered\n",
    "#     else:\n",
    "#         index = index[0]\n",
    "#         abstract = row[\"abstract\"]\n",
    "#         text = row[\"text\"]\n",
    "#         section = row[\"section_names\"]\n",
    "#         df.at[i, \"section_names\"] = trim_text(section, index)\n",
    "#         df.at[i, \"abstract\"] = trim_text(abstract, index)\n",
    "#         df.at[i, \"text\"] = trim_text(text, index)\n",
    "# # dropping rows in dataframe that can't easily filter out reference section\n",
    "# print(len(indexes))\n",
    "# df.drop(indexes, inplace=True)\n",
    "# df.to_json(\"./Dataset/SSN/SSN_Dataset_Short.json\")"
   ]
  },
  {
   "cell_type": "markdown",
   "metadata": {},
   "source": [
    "35% of paper will be removed from the dataset due to it not having conclusion(s) and summary(ies) in their section titles, making it difficult to filter out the reference and appendix text"
   ]
  },
  {
   "cell_type": "code",
   "execution_count": 259,
   "metadata": {
    "scrolled": true
   },
   "outputs": [],
   "source": [
    "# DATA_DIR = \"SSN/SSN_Dataset_Short.json\"\n",
    "# dataset_path = DATASET+DATA_DIR\n",
    "# df = pd.read_json(dataset_path)\n",
    "# df.reset_index(drop=True, inplace=True)\n",
    "# df"
   ]
  },
  {
   "cell_type": "markdown",
   "metadata": {},
   "source": [
    "See diversity in papers, select only computer science"
   ]
  },
  {
   "cell_type": "code",
   "execution_count": 249,
   "metadata": {},
   "outputs": [
    {
     "data": {
      "text/plain": [
       "[Physics]                          41291\n",
       "[Computer science]                 19695\n",
       "[Mathematics]                      17047\n",
       "[Computer science, Mathematics]     5075\n",
       "[]                                  3162\n",
       "                                   ...  \n",
       "[Geology, Philosophy]                  1\n",
       "[Computer science, Philosophy]         1\n",
       "[Art, Computer science]                1\n",
       "[Materials science, Geography]         1\n",
       "[Biology, Computer science]            1\n",
       "Name: domain, Length: 156, dtype: int64"
      ]
     },
     "execution_count": 249,
     "metadata": {},
     "output_type": "execute_result"
    }
   ],
   "source": [
    "# plot_points = df['domain'].value_counts()\n",
    "# plot_points"
   ]
  },
  {
   "cell_type": "code",
   "execution_count": 260,
   "metadata": {},
   "outputs": [],
   "source": [
    "# df = df.loc[df['domain'].isin([['Computer science']])]\n",
    "# df.to_json(\"./Dataset/SSN/SSN_Dataset_CompSci_Short.json\")\n",
    "# df"
   ]
  },
  {
   "cell_type": "code",
   "execution_count": 3,
   "metadata": {},
   "outputs": [
    {
     "data": {
      "text/html": [
       "<div>\n",
       "<style scoped>\n",
       "    .dataframe tbody tr th:only-of-type {\n",
       "        vertical-align: middle;\n",
       "    }\n",
       "\n",
       "    .dataframe tbody tr th {\n",
       "        vertical-align: top;\n",
       "    }\n",
       "\n",
       "    .dataframe thead th {\n",
       "        text-align: right;\n",
       "    }\n",
       "</style>\n",
       "<table border=\"1\" class=\"dataframe\">\n",
       "  <thead>\n",
       "    <tr style=\"text-align: right;\">\n",
       "      <th></th>\n",
       "      <th>paper_id</th>\n",
       "      <th>title</th>\n",
       "      <th>abstract</th>\n",
       "      <th>section_names</th>\n",
       "      <th>domain</th>\n",
       "      <th>text</th>\n",
       "    </tr>\n",
       "  </thead>\n",
       "  <tbody>\n",
       "    <tr>\n",
       "      <th>0</th>\n",
       "      <td>9195903</td>\n",
       "      <td>Robust Face Alignment Using a Mixture of Invar...</td>\n",
       "      <td>[face alignment , which is the task of finding...</td>\n",
       "      <td>[introduction, previous work, our approach, su...</td>\n",
       "      <td>[Computer science]</td>\n",
       "      <td>[[face alignment refers to finding the pixel l...</td>\n",
       "    </tr>\n",
       "    <tr>\n",
       "      <th>1</th>\n",
       "      <td>56895423</td>\n",
       "      <td>TEST: A Terminology Extraction System for Tech...</td>\n",
       "      <td>[tracking developments in the highly dynamic d...</td>\n",
       "      <td>[introduction, related work, dataset preparati...</td>\n",
       "      <td>[Computer science]</td>\n",
       "      <td>[[with the ubiquity of online resources and th...</td>\n",
       "    </tr>\n",
       "    <tr>\n",
       "      <th>2</th>\n",
       "      <td>15943840</td>\n",
       "      <td>Dynamic autotuning of adaptive fast multipole ...</td>\n",
       "      <td>[we discuss an implementation of adaptive fast...</td>\n",
       "      <td>[introduction, fast multipole methods, well-se...</td>\n",
       "      <td>[Computer science]</td>\n",
       "      <td>[[the inlineform0 -body simulation is an ubiqu...</td>\n",
       "    </tr>\n",
       "    <tr>\n",
       "      <th>3</th>\n",
       "      <td>189927954</td>\n",
       "      <td>NLH: A Blind Pixel-level Non-local Method for ...</td>\n",
       "      <td>[non - local self similarity ( nss ) is a powe...</td>\n",
       "      <td>[introduction, related work, proposed blind pi...</td>\n",
       "      <td>[Computer science]</td>\n",
       "      <td>[[digital images are often subject to noise de...</td>\n",
       "    </tr>\n",
       "    <tr>\n",
       "      <th>4</th>\n",
       "      <td>202120843</td>\n",
       "      <td>Adversarial Examples with Difficult Common Wor...</td>\n",
       "      <td>[despite the success of deep models for paraph...</td>\n",
       "      <td>[introduction, deep paraphrase identification,...</td>\n",
       "      <td>[Computer science]</td>\n",
       "      <td>[[paraphrase identification is to determine wh...</td>\n",
       "    </tr>\n",
       "    <tr>\n",
       "      <th>...</th>\n",
       "      <td>...</td>\n",
       "      <td>...</td>\n",
       "      <td>...</td>\n",
       "      <td>...</td>\n",
       "      <td>...</td>\n",
       "      <td>...</td>\n",
       "    </tr>\n",
       "    <tr>\n",
       "      <th>19690</th>\n",
       "      <td>16595919</td>\n",
       "      <td>Domain Adaptation of Recurrent Neural Networks...</td>\n",
       "      <td>[the goal of this paper is to use multi - task...</td>\n",
       "      <td>[introduction, model, data, experiments, train...</td>\n",
       "      <td>[Computer science]</td>\n",
       "      <td>[[slot filling models are a useful method for ...</td>\n",
       "    </tr>\n",
       "    <tr>\n",
       "      <th>19691</th>\n",
       "      <td>54202209</td>\n",
       "      <td>Anchor Box Optimization for Object Detection</td>\n",
       "      <td>[in this paper , we propose a general approach...</td>\n",
       "      <td>[introduction, related work, relative offset p...</td>\n",
       "      <td>[Computer science]</td>\n",
       "      <td>[[object detection plays an important role in ...</td>\n",
       "    </tr>\n",
       "    <tr>\n",
       "      <th>19692</th>\n",
       "      <td>1853209</td>\n",
       "      <td>Construction of polar codes for arbitrary disc...</td>\n",
       "      <td>[it is known that polar codes can be efficient...</td>\n",
       "      <td>[introduction, preliminaries on polar coding, ...</td>\n",
       "      <td>[Computer science]</td>\n",
       "      <td>[[arıkan 's polar codes   form the first expli...</td>\n",
       "    </tr>\n",
       "    <tr>\n",
       "      <th>19693</th>\n",
       "      <td>16428243</td>\n",
       "      <td>Action Recognition with Joint Attention on Mul...</td>\n",
       "      <td>[we propose a novel deep supervised neural net...</td>\n",
       "      <td>[introduction, related work, integrating track...</td>\n",
       "      <td>[Computer science]</td>\n",
       "      <td>[[action recognition and description   of vide...</td>\n",
       "    </tr>\n",
       "    <tr>\n",
       "      <th>19694</th>\n",
       "      <td>182952990</td>\n",
       "      <td>UBC-NLP at SemEval-2019 Task 6:Ensemble Learni...</td>\n",
       "      <td>[we examine learning offensive content on twit...</td>\n",
       "      <td>[introduction, data, pre-processing, data inte...</td>\n",
       "      <td>[Computer science]</td>\n",
       "      <td>[[with the proliferation of social media , mil...</td>\n",
       "    </tr>\n",
       "  </tbody>\n",
       "</table>\n",
       "<p>19695 rows × 6 columns</p>\n",
       "</div>"
      ],
      "text/plain": [
       "        paper_id                                              title  \\\n",
       "0        9195903  Robust Face Alignment Using a Mixture of Invar...   \n",
       "1       56895423  TEST: A Terminology Extraction System for Tech...   \n",
       "2       15943840  Dynamic autotuning of adaptive fast multipole ...   \n",
       "3      189927954  NLH: A Blind Pixel-level Non-local Method for ...   \n",
       "4      202120843  Adversarial Examples with Difficult Common Wor...   \n",
       "...          ...                                                ...   \n",
       "19690   16595919  Domain Adaptation of Recurrent Neural Networks...   \n",
       "19691   54202209       Anchor Box Optimization for Object Detection   \n",
       "19692    1853209  Construction of polar codes for arbitrary disc...   \n",
       "19693   16428243  Action Recognition with Joint Attention on Mul...   \n",
       "19694  182952990  UBC-NLP at SemEval-2019 Task 6:Ensemble Learni...   \n",
       "\n",
       "                                                abstract  \\\n",
       "0      [face alignment , which is the task of finding...   \n",
       "1      [tracking developments in the highly dynamic d...   \n",
       "2      [we discuss an implementation of adaptive fast...   \n",
       "3      [non - local self similarity ( nss ) is a powe...   \n",
       "4      [despite the success of deep models for paraph...   \n",
       "...                                                  ...   \n",
       "19690  [the goal of this paper is to use multi - task...   \n",
       "19691  [in this paper , we propose a general approach...   \n",
       "19692  [it is known that polar codes can be efficient...   \n",
       "19693  [we propose a novel deep supervised neural net...   \n",
       "19694  [we examine learning offensive content on twit...   \n",
       "\n",
       "                                           section_names              domain  \\\n",
       "0      [introduction, previous work, our approach, su...  [Computer science]   \n",
       "1      [introduction, related work, dataset preparati...  [Computer science]   \n",
       "2      [introduction, fast multipole methods, well-se...  [Computer science]   \n",
       "3      [introduction, related work, proposed blind pi...  [Computer science]   \n",
       "4      [introduction, deep paraphrase identification,...  [Computer science]   \n",
       "...                                                  ...                 ...   \n",
       "19690  [introduction, model, data, experiments, train...  [Computer science]   \n",
       "19691  [introduction, related work, relative offset p...  [Computer science]   \n",
       "19692  [introduction, preliminaries on polar coding, ...  [Computer science]   \n",
       "19693  [introduction, related work, integrating track...  [Computer science]   \n",
       "19694  [introduction, data, pre-processing, data inte...  [Computer science]   \n",
       "\n",
       "                                                    text  \n",
       "0      [[face alignment refers to finding the pixel l...  \n",
       "1      [[with the ubiquity of online resources and th...  \n",
       "2      [[the inlineform0 -body simulation is an ubiqu...  \n",
       "3      [[digital images are often subject to noise de...  \n",
       "4      [[paraphrase identification is to determine wh...  \n",
       "...                                                  ...  \n",
       "19690  [[slot filling models are a useful method for ...  \n",
       "19691  [[object detection plays an important role in ...  \n",
       "19692  [[arıkan 's polar codes   form the first expli...  \n",
       "19693  [[action recognition and description   of vide...  \n",
       "19694  [[with the proliferation of social media , mil...  \n",
       "\n",
       "[19695 rows x 6 columns]"
      ]
     },
     "execution_count": 3,
     "metadata": {},
     "output_type": "execute_result"
    }
   ],
   "source": [
    "DATA_DIR = \"SSN/SSN_Dataset_CompSci_Short.json\"\n",
    "dataset_path = DATASET+DATA_DIR\n",
    "df = pd.read_json(dataset_path)\n",
    "df.reset_index(drop=True, inplace=True)\n",
    "df"
   ]
  },
  {
   "cell_type": "code",
   "execution_count": 4,
   "metadata": {},
   "outputs": [
    {
     "data": {
      "text/html": [
       "<div>\n",
       "<style scoped>\n",
       "    .dataframe tbody tr th:only-of-type {\n",
       "        vertical-align: middle;\n",
       "    }\n",
       "\n",
       "    .dataframe tbody tr th {\n",
       "        vertical-align: top;\n",
       "    }\n",
       "\n",
       "    .dataframe thead th {\n",
       "        text-align: right;\n",
       "    }\n",
       "</style>\n",
       "<table border=\"1\" class=\"dataframe\">\n",
       "  <thead>\n",
       "    <tr style=\"text-align: right;\">\n",
       "      <th></th>\n",
       "      <th>abstract</th>\n",
       "      <th>text</th>\n",
       "    </tr>\n",
       "  </thead>\n",
       "  <tbody>\n",
       "    <tr>\n",
       "      <th>0</th>\n",
       "      <td>[face alignment , which is the task of finding...</td>\n",
       "      <td>[[face alignment refers to finding the pixel l...</td>\n",
       "    </tr>\n",
       "    <tr>\n",
       "      <th>1</th>\n",
       "      <td>[tracking developments in the highly dynamic d...</td>\n",
       "      <td>[[with the ubiquity of online resources and th...</td>\n",
       "    </tr>\n",
       "    <tr>\n",
       "      <th>2</th>\n",
       "      <td>[we discuss an implementation of adaptive fast...</td>\n",
       "      <td>[[the inlineform0 -body simulation is an ubiqu...</td>\n",
       "    </tr>\n",
       "    <tr>\n",
       "      <th>3</th>\n",
       "      <td>[non - local self similarity ( nss ) is a powe...</td>\n",
       "      <td>[[digital images are often subject to noise de...</td>\n",
       "    </tr>\n",
       "    <tr>\n",
       "      <th>4</th>\n",
       "      <td>[despite the success of deep models for paraph...</td>\n",
       "      <td>[[paraphrase identification is to determine wh...</td>\n",
       "    </tr>\n",
       "    <tr>\n",
       "      <th>...</th>\n",
       "      <td>...</td>\n",
       "      <td>...</td>\n",
       "    </tr>\n",
       "    <tr>\n",
       "      <th>19690</th>\n",
       "      <td>[the goal of this paper is to use multi - task...</td>\n",
       "      <td>[[slot filling models are a useful method for ...</td>\n",
       "    </tr>\n",
       "    <tr>\n",
       "      <th>19691</th>\n",
       "      <td>[in this paper , we propose a general approach...</td>\n",
       "      <td>[[object detection plays an important role in ...</td>\n",
       "    </tr>\n",
       "    <tr>\n",
       "      <th>19692</th>\n",
       "      <td>[it is known that polar codes can be efficient...</td>\n",
       "      <td>[[arıkan 's polar codes   form the first expli...</td>\n",
       "    </tr>\n",
       "    <tr>\n",
       "      <th>19693</th>\n",
       "      <td>[we propose a novel deep supervised neural net...</td>\n",
       "      <td>[[action recognition and description   of vide...</td>\n",
       "    </tr>\n",
       "    <tr>\n",
       "      <th>19694</th>\n",
       "      <td>[we examine learning offensive content on twit...</td>\n",
       "      <td>[[with the proliferation of social media , mil...</td>\n",
       "    </tr>\n",
       "  </tbody>\n",
       "</table>\n",
       "<p>19695 rows × 2 columns</p>\n",
       "</div>"
      ],
      "text/plain": [
       "                                                abstract  \\\n",
       "0      [face alignment , which is the task of finding...   \n",
       "1      [tracking developments in the highly dynamic d...   \n",
       "2      [we discuss an implementation of adaptive fast...   \n",
       "3      [non - local self similarity ( nss ) is a powe...   \n",
       "4      [despite the success of deep models for paraph...   \n",
       "...                                                  ...   \n",
       "19690  [the goal of this paper is to use multi - task...   \n",
       "19691  [in this paper , we propose a general approach...   \n",
       "19692  [it is known that polar codes can be efficient...   \n",
       "19693  [we propose a novel deep supervised neural net...   \n",
       "19694  [we examine learning offensive content on twit...   \n",
       "\n",
       "                                                    text  \n",
       "0      [[face alignment refers to finding the pixel l...  \n",
       "1      [[with the ubiquity of online resources and th...  \n",
       "2      [[the inlineform0 -body simulation is an ubiqu...  \n",
       "3      [[digital images are often subject to noise de...  \n",
       "4      [[paraphrase identification is to determine wh...  \n",
       "...                                                  ...  \n",
       "19690  [[slot filling models are a useful method for ...  \n",
       "19691  [[object detection plays an important role in ...  \n",
       "19692  [[arıkan 's polar codes   form the first expli...  \n",
       "19693  [[action recognition and description   of vide...  \n",
       "19694  [[with the proliferation of social media , mil...  \n",
       "\n",
       "[19695 rows x 2 columns]"
      ]
     },
     "execution_count": 4,
     "metadata": {},
     "output_type": "execute_result"
    }
   ],
   "source": [
    "summary_df = df[[\"abstract\", \"text\"]]\n",
    "summary_df"
   ]
  },
  {
   "cell_type": "markdown",
   "metadata": {},
   "source": [
    "Check if any columns contain empty values"
   ]
  },
  {
   "cell_type": "code",
   "execution_count": 17,
   "metadata": {},
   "outputs": [
    {
     "data": {
      "text/plain": [
       "abstract    False\n",
       "text        False\n",
       "dtype: bool"
      ]
     },
     "execution_count": 17,
     "metadata": {},
     "output_type": "execute_result"
    }
   ],
   "source": [
    "# summary_df.isnull().any()"
   ]
  },
  {
   "cell_type": "markdown",
   "metadata": {},
   "source": [
    "\\'hi\\' \\ is used for space <br>\n",
    "random space, which is used for reference [15] quote box <br>\n",
    "sec ref is hyperlink to a section <br>\n",
    "fig ref is hyperlink to a figure <br>\n",
    "inlineform <br>\n",
    "displayform are both symbols, both contains numbers in string <br>\n",
    "remove all forms and remove all symbols but keep numbers <br>"
   ]
  },
  {
   "cell_type": "code",
   "execution_count": 5,
   "metadata": {},
   "outputs": [],
   "source": [
    "def contain_let(string):\n",
    "    return any(char.isalpha() for char in string)"
   ]
  },
  {
   "cell_type": "code",
   "execution_count": 6,
   "metadata": {},
   "outputs": [],
   "source": [
    "def contain_num(string):\n",
    "    return any(char.isdigit() for char in string)"
   ]
  },
  {
   "cell_type": "code",
   "execution_count": 7,
   "metadata": {},
   "outputs": [],
   "source": [
    "def contain_special(string, allowed):\n",
    "    '''\n",
    "    allowed is a list containing allowed symbols to pass detection\n",
    "    '''\n",
    "    return any(not(char.isalpha() or char.isdigit()) and (char not in allowed) for char in string)"
   ]
  },
  {
   "cell_type": "code",
   "execution_count": 8,
   "metadata": {},
   "outputs": [],
   "source": [
    "def cleanLine(line, text=True):\n",
    "    \"text parameter is to indicate whether the line is from text or abstract\"\n",
    "    symbols = [\"'\", \"’\"]\n",
    "    stop_words = list(ENGLISH_STOP_WORDS)\n",
    "    \n",
    "    clean_line = line.lower()\n",
    "    \n",
    "    # fix apostrophes in line by removing apostrophe with no following alphabet character\n",
    "    clean_line = clean_line.replace(\"' \", \" \")\n",
    "    # remove apostrophe if last character is apostrophe\n",
    "    if clean_line and (clean_line[-1] == \"'\"):\n",
    "        clean_line = clean_line[0:len(clean_line)-1]\n",
    "    # fix apostrophes in line by removing space before single quote\n",
    "    clean_line = clean_line.replace(\" '\", \"'\")\n",
    "\n",
    "    \n",
    "    # clean line = clean line remove forms\n",
    "    words = clean_line.split()\n",
    "    #  remove forms, words with special characters inside\n",
    "    # if contain letter and number\n",
    "    # if contain special character not in allowed symbols and removing punctuations\n",
    "    # then remove\n",
    "    words = [x.replace(x, \"\") if (contain_let(x) and contain_num(x))\n",
    "             or contain_special(x, symbols)\n",
    "             else x for x in words]\n",
    "    # remove empty strings\n",
    "    words = filter(None, words)\n",
    "\n",
    "    # stop words from sklearn, remove stop words\n",
    "    if text:\n",
    "        words = [x for x in words if not x in stop_words]\n",
    "        \n",
    "     # combine the items into 1 string\n",
    "    clean_line = ' '.join(words)\n",
    "    \n",
    "\n",
    "    return clean_line"
   ]
  },
  {
   "cell_type": "code",
   "execution_count": 9,
   "metadata": {},
   "outputs": [],
   "source": [
    "def concatParagraph(paragraph, text=True):\n",
    "    clean_paragraph = \"\"\n",
    "    for line in paragraph:\n",
    "        lines = cleanLine(line)\n",
    "        clean_paragraph += cleanLine(lines, text) + \" \"\n",
    "        #print(clean_paragraph)\n",
    "        \n",
    "    return(clean_paragraph.strip())"
   ]
  },
  {
   "cell_type": "code",
   "execution_count": 10,
   "metadata": {},
   "outputs": [],
   "source": [
    "def concatPaper(paper, text=True):\n",
    "    clean_paper = \"\"\n",
    "    for paragraph in paper:\n",
    "        clean_paper += concatParagraph(paragraph, text) + \" \"\n",
    "    return(clean_paper.strip())"
   ]
  },
  {
   "cell_type": "code",
   "execution_count": 11,
   "metadata": {
    "scrolled": true
   },
   "outputs": [
    {
     "data": {
      "application/vnd.jupyter.widget-view+json": {
       "model_id": "fc8500726d33497e81ca92d882b353f7",
       "version_major": 2,
       "version_minor": 0
      },
      "text/plain": [
       "  0%|          | 0/19695 [00:00<?, ?it/s]"
      ]
     },
     "metadata": {},
     "output_type": "display_data"
    }
   ],
   "source": [
    "for i, row in tqdm(summary_df.iterrows(), total=df.shape[0]):\n",
    "    abstract = row[\"abstract\"]\n",
    "    paper = row[\"text\"]\n",
    "    \n",
    "    summary_df.at[i, \"abstract\"] = concatParagraph(abstract, text=False)\n",
    "    summary_df.at[i, \"text\"] = concatPaper(paper)"
   ]
  },
  {
   "cell_type": "code",
   "execution_count": 12,
   "metadata": {},
   "outputs": [
    {
     "data": {
      "text/html": [
       "<div>\n",
       "<style scoped>\n",
       "    .dataframe tbody tr th:only-of-type {\n",
       "        vertical-align: middle;\n",
       "    }\n",
       "\n",
       "    .dataframe tbody tr th {\n",
       "        vertical-align: top;\n",
       "    }\n",
       "\n",
       "    .dataframe thead th {\n",
       "        text-align: right;\n",
       "    }\n",
       "</style>\n",
       "<table border=\"1\" class=\"dataframe\">\n",
       "  <thead>\n",
       "    <tr style=\"text-align: right;\">\n",
       "      <th></th>\n",
       "      <th>abstract</th>\n",
       "      <th>text</th>\n",
       "    </tr>\n",
       "  </thead>\n",
       "  <tbody>\n",
       "    <tr>\n",
       "      <th>0</th>\n",
       "      <td>face alignment task finding locations set faci...</td>\n",
       "      <td>face alignment refers finding pixel locations ...</td>\n",
       "    </tr>\n",
       "    <tr>\n",
       "      <th>1</th>\n",
       "      <td>tracking developments highly dynamic data tech...</td>\n",
       "      <td>ubiquity online resources massive growth news ...</td>\n",
       "    </tr>\n",
       "    <tr>\n",
       "      <th>2</th>\n",
       "      <td>discuss implementation adaptive fast multipole...</td>\n",
       "      <td>simulation ubiquitous problem computational sc...</td>\n",
       "    </tr>\n",
       "    <tr>\n",
       "      <th>3</th>\n",
       "      <td>non local self similarity nss powerful prior n...</td>\n",
       "      <td>digital images subject noise degradation acqui...</td>\n",
       "    </tr>\n",
       "    <tr>\n",
       "      <th>4</th>\n",
       "      <td>despite success deep models paraphrase identif...</td>\n",
       "      <td>paraphrase identification determine pair sente...</td>\n",
       "    </tr>\n",
       "    <tr>\n",
       "      <th>...</th>\n",
       "      <td>...</td>\n",
       "      <td>...</td>\n",
       "    </tr>\n",
       "    <tr>\n",
       "      <th>19690</th>\n",
       "      <td>goal paper use multi task learning efficiently...</td>\n",
       "      <td>slot filling models useful method simple natur...</td>\n",
       "    </tr>\n",
       "    <tr>\n",
       "      <th>19691</th>\n",
       "      <td>paper propose general approach optimize anchor...</td>\n",
       "      <td>object detection plays important role real app...</td>\n",
       "    </tr>\n",
       "    <tr>\n",
       "      <th>19692</th>\n",
       "      <td>known polar codes efficiently constructed bina...</td>\n",
       "      <td>arıkan's polar codes form explicit family bina...</td>\n",
       "    </tr>\n",
       "    <tr>\n",
       "      <th>19693</th>\n",
       "      <td>propose novel deep supervised neural network t...</td>\n",
       "      <td>action recognition description videos fundamen...</td>\n",
       "    </tr>\n",
       "    <tr>\n",
       "      <th>19694</th>\n",
       "      <td>examine learning offensive content twitter lim...</td>\n",
       "      <td>proliferation social media millions people cur...</td>\n",
       "    </tr>\n",
       "  </tbody>\n",
       "</table>\n",
       "<p>19695 rows × 2 columns</p>\n",
       "</div>"
      ],
      "text/plain": [
       "                                                abstract  \\\n",
       "0      face alignment task finding locations set faci...   \n",
       "1      tracking developments highly dynamic data tech...   \n",
       "2      discuss implementation adaptive fast multipole...   \n",
       "3      non local self similarity nss powerful prior n...   \n",
       "4      despite success deep models paraphrase identif...   \n",
       "...                                                  ...   \n",
       "19690  goal paper use multi task learning efficiently...   \n",
       "19691  paper propose general approach optimize anchor...   \n",
       "19692  known polar codes efficiently constructed bina...   \n",
       "19693  propose novel deep supervised neural network t...   \n",
       "19694  examine learning offensive content twitter lim...   \n",
       "\n",
       "                                                    text  \n",
       "0      face alignment refers finding pixel locations ...  \n",
       "1      ubiquity online resources massive growth news ...  \n",
       "2      simulation ubiquitous problem computational sc...  \n",
       "3      digital images subject noise degradation acqui...  \n",
       "4      paraphrase identification determine pair sente...  \n",
       "...                                                  ...  \n",
       "19690  slot filling models useful method simple natur...  \n",
       "19691  object detection plays important role real app...  \n",
       "19692  arıkan's polar codes form explicit family bina...  \n",
       "19693  action recognition description videos fundamen...  \n",
       "19694  proliferation social media millions people cur...  \n",
       "\n",
       "[19695 rows x 2 columns]"
      ]
     },
     "execution_count": 12,
     "metadata": {},
     "output_type": "execute_result"
    }
   ],
   "source": [
    "summary_df.to_json(\"./Dataset/SSN/SSN_Dataset_CompSci_Short_Clean_HalfStop.json\")\n",
    "summary_df"
   ]
  },
  {
   "cell_type": "code",
   "execution_count": 43,
   "metadata": {},
   "outputs": [
    {
     "data": {
      "text/html": [
       "<div>\n",
       "<style scoped>\n",
       "    .dataframe tbody tr th:only-of-type {\n",
       "        vertical-align: middle;\n",
       "    }\n",
       "\n",
       "    .dataframe tbody tr th {\n",
       "        vertical-align: top;\n",
       "    }\n",
       "\n",
       "    .dataframe thead th {\n",
       "        text-align: right;\n",
       "    }\n",
       "</style>\n",
       "<table border=\"1\" class=\"dataframe\">\n",
       "  <thead>\n",
       "    <tr style=\"text-align: right;\">\n",
       "      <th></th>\n",
       "      <th>abstract</th>\n",
       "      <th>text</th>\n",
       "    </tr>\n",
       "  </thead>\n",
       "  <tbody>\n",
       "    <tr>\n",
       "      <th>0</th>\n",
       "      <td>face alignment task finding locations set faci...</td>\n",
       "      <td>face alignment refers finding pixel locations ...</td>\n",
       "    </tr>\n",
       "    <tr>\n",
       "      <th>1</th>\n",
       "      <td>tracking developments highly dynamic data tech...</td>\n",
       "      <td>ubiquity online resources massive growth news ...</td>\n",
       "    </tr>\n",
       "    <tr>\n",
       "      <th>2</th>\n",
       "      <td>discuss implementation adaptive fast multipole...</td>\n",
       "      <td>simulation ubiquitous problem computational sc...</td>\n",
       "    </tr>\n",
       "    <tr>\n",
       "      <th>3</th>\n",
       "      <td>non local self similarity nss powerful prior n...</td>\n",
       "      <td>digital images subject noise degradation acqui...</td>\n",
       "    </tr>\n",
       "    <tr>\n",
       "      <th>4</th>\n",
       "      <td>despite success deep models paraphrase identif...</td>\n",
       "      <td>paraphrase identification determine pair sente...</td>\n",
       "    </tr>\n",
       "    <tr>\n",
       "      <th>...</th>\n",
       "      <td>...</td>\n",
       "      <td>...</td>\n",
       "    </tr>\n",
       "    <tr>\n",
       "      <th>19690</th>\n",
       "      <td>goal paper use multi task learning efficiently...</td>\n",
       "      <td>slot filling models useful method simple natur...</td>\n",
       "    </tr>\n",
       "    <tr>\n",
       "      <th>19691</th>\n",
       "      <td>paper propose general approach optimize anchor...</td>\n",
       "      <td>object detection plays important role real app...</td>\n",
       "    </tr>\n",
       "    <tr>\n",
       "      <th>19692</th>\n",
       "      <td>known polar codes efficiently constructed bina...</td>\n",
       "      <td>arıkan's polar codes form explicit family bina...</td>\n",
       "    </tr>\n",
       "    <tr>\n",
       "      <th>19693</th>\n",
       "      <td>propose novel deep supervised neural network t...</td>\n",
       "      <td>action recognition description videos fundamen...</td>\n",
       "    </tr>\n",
       "    <tr>\n",
       "      <th>19694</th>\n",
       "      <td>examine learning offensive content twitter lim...</td>\n",
       "      <td>proliferation social media millions people cur...</td>\n",
       "    </tr>\n",
       "  </tbody>\n",
       "</table>\n",
       "<p>19695 rows × 2 columns</p>\n",
       "</div>"
      ],
      "text/plain": [
       "                                                abstract  \\\n",
       "0      face alignment task finding locations set faci...   \n",
       "1      tracking developments highly dynamic data tech...   \n",
       "2      discuss implementation adaptive fast multipole...   \n",
       "3      non local self similarity nss powerful prior n...   \n",
       "4      despite success deep models paraphrase identif...   \n",
       "...                                                  ...   \n",
       "19690  goal paper use multi task learning efficiently...   \n",
       "19691  paper propose general approach optimize anchor...   \n",
       "19692  known polar codes efficiently constructed bina...   \n",
       "19693  propose novel deep supervised neural network t...   \n",
       "19694  examine learning offensive content twitter lim...   \n",
       "\n",
       "                                                    text  \n",
       "0      face alignment refers finding pixel locations ...  \n",
       "1      ubiquity online resources massive growth news ...  \n",
       "2      simulation ubiquitous problem computational sc...  \n",
       "3      digital images subject noise degradation acqui...  \n",
       "4      paraphrase identification determine pair sente...  \n",
       "...                                                  ...  \n",
       "19690  slot filling models useful method simple natur...  \n",
       "19691  object detection plays important role real app...  \n",
       "19692  arıkan's polar codes form explicit family bina...  \n",
       "19693  action recognition description videos fundamen...  \n",
       "19694  proliferation social media millions people cur...  \n",
       "\n",
       "[19695 rows x 2 columns]"
      ]
     },
     "execution_count": 43,
     "metadata": {},
     "output_type": "execute_result"
    }
   ],
   "source": [
    "DATA_DIR = \"SSN/SSN_Dataset_CompSci_Short_Clean_HalfStop.json\"\n",
    "dataset_path = DATASET+DATA_DIR\n",
    "df = pd.read_json(dataset_path)\n",
    "df"
   ]
  },
  {
   "cell_type": "code",
   "execution_count": 44,
   "metadata": {},
   "outputs": [
    {
     "data": {
      "text/html": [
       "<div>\n",
       "<style scoped>\n",
       "    .dataframe tbody tr th:only-of-type {\n",
       "        vertical-align: middle;\n",
       "    }\n",
       "\n",
       "    .dataframe tbody tr th {\n",
       "        vertical-align: top;\n",
       "    }\n",
       "\n",
       "    .dataframe thead th {\n",
       "        text-align: right;\n",
       "    }\n",
       "</style>\n",
       "<table border=\"1\" class=\"dataframe\">\n",
       "  <thead>\n",
       "    <tr style=\"text-align: right;\">\n",
       "      <th></th>\n",
       "      <th>abstract</th>\n",
       "      <th>text</th>\n",
       "    </tr>\n",
       "  </thead>\n",
       "  <tbody>\n",
       "    <tr>\n",
       "      <th>0</th>\n",
       "      <td>tracking developments highly dynamic data tech...</td>\n",
       "      <td>ubiquity online resources massive growth news ...</td>\n",
       "    </tr>\n",
       "    <tr>\n",
       "      <th>1</th>\n",
       "      <td>paper propose new method enhance mapping paral...</td>\n",
       "      <td>large scale graph based applications numerical...</td>\n",
       "    </tr>\n",
       "    <tr>\n",
       "      <th>2</th>\n",
       "      <td>investigate models mitogenactivated protein ki...</td>\n",
       "      <td>mathematical modelling intra cellular biologic...</td>\n",
       "    </tr>\n",
       "    <tr>\n",
       "      <th>3</th>\n",
       "      <td>present new approach pretraining bi directiona...</td>\n",
       "      <td>language model pretraining recently shown prov...</td>\n",
       "    </tr>\n",
       "    <tr>\n",
       "      <th>4</th>\n",
       "      <td>saliency detection active topic multimedia fie...</td>\n",
       "      <td>salient object detection process getting visua...</td>\n",
       "    </tr>\n",
       "    <tr>\n",
       "      <th>...</th>\n",
       "      <td>...</td>\n",
       "      <td>...</td>\n",
       "    </tr>\n",
       "    <tr>\n",
       "      <th>6192</th>\n",
       "      <td>large improvement existing hammer style proof ...</td>\n",
       "      <td>proof automation interactive theorem provers i...</td>\n",
       "    </tr>\n",
       "    <tr>\n",
       "      <th>6193</th>\n",
       "      <td>present neural encoder decoder model convert i...</td>\n",
       "      <td>optical character recognition ocr commonly use...</td>\n",
       "    </tr>\n",
       "    <tr>\n",
       "      <th>6194</th>\n",
       "      <td>ability detect pedestrians moving objects cruc...</td>\n",
       "      <td>autonomous cars currently primed mass adoption...</td>\n",
       "    </tr>\n",
       "    <tr>\n",
       "      <th>6195</th>\n",
       "      <td>goal paper use multi task learning efficiently...</td>\n",
       "      <td>slot filling models useful method simple natur...</td>\n",
       "    </tr>\n",
       "    <tr>\n",
       "      <th>6196</th>\n",
       "      <td>propose novel deep supervised neural network t...</td>\n",
       "      <td>action recognition description videos fundamen...</td>\n",
       "    </tr>\n",
       "  </tbody>\n",
       "</table>\n",
       "<p>6197 rows × 2 columns</p>\n",
       "</div>"
      ],
      "text/plain": [
       "                                               abstract  \\\n",
       "0     tracking developments highly dynamic data tech...   \n",
       "1     paper propose new method enhance mapping paral...   \n",
       "2     investigate models mitogenactivated protein ki...   \n",
       "3     present new approach pretraining bi directiona...   \n",
       "4     saliency detection active topic multimedia fie...   \n",
       "...                                                 ...   \n",
       "6192  large improvement existing hammer style proof ...   \n",
       "6193  present neural encoder decoder model convert i...   \n",
       "6194  ability detect pedestrians moving objects cruc...   \n",
       "6195  goal paper use multi task learning efficiently...   \n",
       "6196  propose novel deep supervised neural network t...   \n",
       "\n",
       "                                                   text  \n",
       "0     ubiquity online resources massive growth news ...  \n",
       "1     large scale graph based applications numerical...  \n",
       "2     mathematical modelling intra cellular biologic...  \n",
       "3     language model pretraining recently shown prov...  \n",
       "4     salient object detection process getting visua...  \n",
       "...                                                 ...  \n",
       "6192  proof automation interactive theorem provers i...  \n",
       "6193  optical character recognition ocr commonly use...  \n",
       "6194  autonomous cars currently primed mass adoption...  \n",
       "6195  slot filling models useful method simple natur...  \n",
       "6196  action recognition description videos fundamen...  \n",
       "\n",
       "[6197 rows x 2 columns]"
      ]
     },
     "execution_count": 44,
     "metadata": {},
     "output_type": "execute_result"
    }
   ],
   "source": [
    "rows = []\n",
    "\n",
    "t_max= 1973\n",
    "a_max=  93\n",
    "t_min=  669\n",
    "a_min=  39\n",
    "for i, row in df.iterrows():\n",
    "    t_word = len(row[\"text\"].split())\n",
    "    a_word = len(row[\"abstract\"].split())\n",
    "    if ((t_word > t_max or t_word < t_min) or (a_word > a_max or a_word < a_min)):\n",
    "        rows.append(i)\n",
    "df.drop(rows, inplace=True)\n",
    "df.reset_index(drop=True, inplace=True)\n",
    "df.to_json(\"./Dataset/SSN/SSN_Dataset_CompSci_Short_Clean_150_HalfStop.json\")\n",
    "df"
   ]
  },
  {
   "cell_type": "code",
   "execution_count": 45,
   "metadata": {},
   "outputs": [],
   "source": [
    "class Vocabulary(object):\n",
    "    \"\"\" Simple vocabulary wrapper which maps every unique word to an integer ID. \"\"\"\n",
    "    def __init__(self):\n",
    "        # intially, set both the IDs and words to dictionaries with special tokens\n",
    "        self.word2idx = {'<start>': 0, '<end>': 1, '<pad>':2, '<unk>':3}\n",
    "        self.idx2word = {0: '<start>', 1: '<end>', 2: '<pad>', 3: '<unk>'}\n",
    "        self.idx = 4\n",
    "\n",
    "    def add_word(self, word):\n",
    "        # if the word does not already exist in the dictionary, add it\n",
    "        if not word in self.word2idx:\n",
    "            # this will convert each word to index and index to word as you saw in the tutorials\n",
    "            self.word2idx[word] = self.idx\n",
    "            self.idx2word[self.idx] = word\n",
    "            # increment the ID for the next word\n",
    "            self.idx += 1\n",
    "\n",
    "    def __call__(self, word):\n",
    "        # if we try to access a word not in the dictionary, return the id for <unk>\n",
    "        if not word in self.word2idx:\n",
    "            return self.word2idx['<unk>']\n",
    "        return self.word2idx[word]\n",
    "    \n",
    "    ## added function for utility\n",
    "    def get_word(self,index):\n",
    "        # this returns the word when given an index\n",
    "        return self.idx2word[index]\n",
    "\n",
    "    def __len__(self):\n",
    "        return len(self.word2idx)\n"
   ]
  },
  {
   "cell_type": "code",
   "execution_count": 46,
   "metadata": {},
   "outputs": [],
   "source": [
    "def build_vocab(data, freq):\n",
    "    \"\"\" \n",
    "    Parses training set token file captions and builds a Vocabulary object and dataframe for \n",
    "    the image and caption data\n",
    "\n",
    "    Returns:\n",
    "        vocab (Vocabulary): Vocabulary object containing all words appearing more than min_frequency\n",
    "    \"\"\"\n",
    "    MIN_FREQUENCY = freq\n",
    "    word_mapping = Counter()\n",
    "\n",
    "    # for index in df.index:\n",
    "    for text in tqdm(data):\n",
    "        for word in text.split():\n",
    "            #print(word)\n",
    "            if word in word_mapping:\n",
    "                word_mapping[word] += 1\n",
    "            else:\n",
    "                word_mapping[word] = 1\n",
    "\n",
    "    # create a vocab instance\n",
    "    vocab = Vocabulary()\n",
    "\n",
    "    # add the words to the vocabulary\n",
    "    for word in word_mapping:\n",
    "        if word_mapping[word] > MIN_FREQUENCY:\n",
    "            vocab.add_word(word)\n",
    "\n",
    "    return vocab\n"
   ]
  },
  {
   "cell_type": "markdown",
   "metadata": {},
   "source": [
    "Convert DF to text"
   ]
  },
  {
   "cell_type": "code",
   "execution_count": 47,
   "metadata": {},
   "outputs": [],
   "source": [
    "# text_txt = df['text']\n",
    "# text_txt.to_csv(\"text_118_NoStop.txt\", header=False,index=False)\n",
    "# # write to file. "
   ]
  },
  {
   "cell_type": "code",
   "execution_count": 48,
   "metadata": {},
   "outputs": [],
   "source": [
    "# vocab_model = fasttext.train_unsupervised('text_NoStop.txt', minn=2, epoch=10)\n",
    "# vocab_model.save_model(\"fastText_NoStop.bin\")"
   ]
  },
  {
   "cell_type": "code",
   "execution_count": 49,
   "metadata": {},
   "outputs": [
    {
     "data": {
      "application/vnd.jupyter.widget-view+json": {
       "model_id": "1a6d3ed1a9a14b43ababc4895449696c",
       "version_major": 2,
       "version_minor": 0
      },
      "text/plain": [
       "  0%|          | 0/6197 [00:00<?, ?it/s]"
      ]
     },
     "metadata": {},
     "output_type": "display_data"
    }
   ],
   "source": [
    "abstract_vocab = build_vocab(df[\"abstract\"], 0)"
   ]
  },
  {
   "cell_type": "code",
   "execution_count": 50,
   "metadata": {},
   "outputs": [
    {
     "data": {
      "application/vnd.jupyter.widget-view+json": {
       "model_id": "d14712dd3d3a4e8e8d29cb08f0987cae",
       "version_major": 2,
       "version_minor": 0
      },
      "text/plain": [
       "  0%|          | 0/6197 [00:00<?, ?it/s]"
      ]
     },
     "metadata": {},
     "output_type": "display_data"
    }
   ],
   "source": [
    "text_vocab = build_vocab(df[\"text\"], 0)"
   ]
  },
  {
   "cell_type": "code",
   "execution_count": 51,
   "metadata": {},
   "outputs": [
    {
     "name": "stdout",
     "output_type": "stream",
     "text": [
      "abstract vocab 18210\n",
      "text vocab 72797\n"
     ]
    }
   ],
   "source": [
    "print(\"abstract vocab\", len(abstract_vocab))\n",
    "print(\"text vocab\", len(text_vocab))"
   ]
  },
  {
   "cell_type": "code",
   "execution_count": 52,
   "metadata": {},
   "outputs": [],
   "source": [
    "def tokenise(vocab, text):\n",
    "    word_ids = []\n",
    "    for word in text.split():\n",
    "        word_ids.append(vocab(word))\n",
    "    #word_ids.append(vocab(\"<end>\"))\n",
    "#     while len(word_ids) < max_len:\n",
    "#             word_ids.append(vocab(\"<pad>\"))\n",
    "    return word_ids"
   ]
  },
  {
   "cell_type": "code",
   "execution_count": 53,
   "metadata": {},
   "outputs": [],
   "source": [
    "ABSTRACT_MAX = 100\n",
    "TEXT_MAX = 3000"
   ]
  },
  {
   "cell_type": "code",
   "execution_count": 54,
   "metadata": {},
   "outputs": [],
   "source": [
    "class SSNDataset(Dataset):\n",
    "    def __init__(self, df, a_vocab, t_vocab):\n",
    "\n",
    "        self.df = df\n",
    "        self.a_vocab = a_vocab\n",
    "        self.t_vocab = t_vocab\n",
    "        self.abstract_max_len = ABSTRACT_MAX\n",
    "        self.text_max_len = TEXT_MAX\n",
    "\n",
    "    def __getitem__(self, index):\n",
    "        # return word_id\n",
    "        abstract = self.df.iloc[index][\"abstract\"]\n",
    "        text = self.df.iloc[index][\"text\"]\n",
    "        \n",
    "        a_word_ids = tokenise(self.a_vocab, abstract)\n",
    "        t_word_ids = tokenise(self.t_vocab, text)\n",
    "\n",
    "        a_length = len(a_word_ids)\n",
    "        t_length = len(t_word_ids)\n",
    "    \n",
    "        return a_word_ids, t_word_ids# torch.tensor(t_length)# torch.tensor(t_length)\n",
    "\n",
    "    def __len__(self):\n",
    "        return len(self.df)\n"
   ]
  },
  {
   "cell_type": "code",
   "execution_count": 55,
   "metadata": {},
   "outputs": [],
   "source": [
    "def find_max_list(lis):\n",
    "    list_len = [len(i) for i in lis]\n",
    "    return (max(list_len))"
   ]
  },
  {
   "cell_type": "code",
   "execution_count": 56,
   "metadata": {},
   "outputs": [],
   "source": [
    "def text_collate_fn(data):\n",
    "    \"\"\" Creates mini-batch tensors from the list of tuples (image, caption).\n",
    "    Args:\n",
    "        data: list of tuple of 2 word ids\n",
    "        - abstract id\n",
    "        - text id\n",
    "    Returns:\n",
    "        abstract list ids\n",
    "        text list ids\n",
    "    \"\"\"\n",
    "\n",
    "    \n",
    "    abstracts, texts = zip(*data)\n",
    "    abstract_list = []\n",
    "    text_list = []\n",
    "    for i in range(len(texts)):\n",
    "        while len(texts[i]) < find_max_list(texts):\n",
    "            texts[i].append(text_vocab(\"<pad>\"))\n",
    "        text_list.append(torch.tensor(texts[i]))\n",
    "        \n",
    "    for i in range(len(abstracts)):\n",
    "        \n",
    "        while len(abstracts[i]) < ABSTRACT_MAX:\n",
    "            abstracts[i].append(abstract_vocab(\"<pad>\"))\n",
    "        abstract_list.append(torch.tensor(abstracts[i]))\n",
    "\n",
    "\n",
    "#     abstracts = torch.tensor(abstracts)\n",
    "#     texts = torch.tensor(texts)\n",
    "#     abstracts = [ torch.Tensor(abstract).to(device) for abstract in abstracts ]\n",
    "# if batch size is 1 then use [0]\n",
    "    abstracts = torch.stack(tuple(abstract_list), 0)\n",
    "    #abstracts = abstracts.unsqueeze(0)\n",
    "#     abstracts = torch.nn.utils.rnn.pad_sequence(abstracts)\n",
    "    texts = torch.stack(tuple(text_list), 0)\n",
    "    #texts = texts.unsqueeze(0)\n",
    "\n",
    "    return abstracts, texts\n"
   ]
  },
  {
   "cell_type": "markdown",
   "metadata": {},
   "source": [
    "# Dataloader"
   ]
  },
  {
   "cell_type": "markdown",
   "metadata": {},
   "source": [
    "Split dataset"
   ]
  },
  {
   "cell_type": "code",
   "execution_count": 57,
   "metadata": {},
   "outputs": [],
   "source": [
    "train_data, test_data = train_test_split(df, random_state=seed, train_size = 0.7)\n",
    "train_data, valid_data = train_test_split(train_data, random_state=seed, train_size=0.8)"
   ]
  },
  {
   "cell_type": "code",
   "execution_count": 58,
   "metadata": {},
   "outputs": [],
   "source": [
    "train_set = SSNDataset(train_data, abstract_vocab, text_vocab)\n",
    "valid_set = SSNDataset(test_data, abstract_vocab, text_vocab)\n",
    "test_set = SSNDataset(test_data, abstract_vocab, text_vocab)"
   ]
  },
  {
   "cell_type": "code",
   "execution_count": 59,
   "metadata": {},
   "outputs": [],
   "source": [
    "train_loader = DataLoader(train_set, batch_size=4, shuffle=True, collate_fn=text_collate_fn) # num_worker can't be 2+ as the time it \n",
    "                                                                 # takes to build iter is much longer\n",
    "valid_loader = DataLoader(valid_set, batch_size=4, shuffle=True, collate_fn=text_collate_fn)"
   ]
  },
  {
   "cell_type": "code",
   "execution_count": null,
   "metadata": {},
   "outputs": [],
   "source": []
  },
  {
   "cell_type": "code",
   "execution_count": 25,
   "metadata": {
    "scrolled": true
   },
   "outputs": [
    {
     "data": {
      "application/vnd.jupyter.widget-view+json": {
       "model_id": "402b192cd1874bf68e25ae63be3311c3",
       "version_major": 2,
       "version_minor": 0
      },
      "text/plain": [
       "  0%|          | 0/19695 [00:00<?, ?it/s]"
      ]
     },
     "metadata": {},
     "output_type": "display_data"
    }
   ],
   "source": [
    "all_set = SSNDataset(df, abstract_vocab, text_vocab)\n",
    "all_loader = DataLoader(all_set, batch_size=1, shuffle=True, collate_fn=text_collate_fn)\n",
    "abstracts = []\n",
    "texts = []\n",
    "for i, (abstract, text) in tqdm(enumerate(all_loader), total=len(all_loader)):\n",
    "    a_size = list(abstract.size())[1]\n",
    "\n",
    "    t_size = list(text.size())[1]\n",
    "    abstracts.append(a_size)\n",
    "    texts.append(t_size)\n",
    "numbers = list(range(len(all_loader)))"
   ]
  },
  {
   "cell_type": "code",
   "execution_count": 26,
   "metadata": {},
   "outputs": [
    {
     "name": "stdout",
     "output_type": "stream",
     "text": [
      "max length for abstract:  187\n",
      "max length for text:  4540\n",
      "min length for abstract:  9\n",
      "min length for text:  12\n",
      "average length for abstract:  95\n",
      "average length for text:  2000\n"
     ]
    }
   ],
   "source": [
    "from statistics import mean\n",
    "print(\"max length for abstract: \",max(abstracts))\n",
    "print(\"max length for text: \",max(texts))\n",
    "print(\"min length for abstract: \",min(abstracts))\n",
    "print(\"min length for text: \",min(texts))\n",
    "print(\"average length for abstract: \",math.floor(mean(abstracts)))\n",
    "print(\"average length for text: \",math.floor(mean(texts)))"
   ]
  },
  {
   "cell_type": "code",
   "execution_count": 40,
   "metadata": {},
   "outputs": [
    {
     "name": "stdout",
     "output_type": "stream",
     "text": [
      "50th percentile:  1802.0\n",
      "50th percentile:  86.0\n",
      "1st percentile:  668.94\n",
      "1st percentile:  39.0\n"
     ]
    }
   ],
   "source": [
    "print(\"50th percentile: \", np.percentile(texts, 40))\n",
    "print(\"50th percentile: \", np.percentile(abstracts, 40))\n",
    "print(\"1st percentile: \", np.percentile(texts, 1))\n",
    "print(\"1st percentile: \", np.percentile(abstracts, 1))"
   ]
  },
  {
   "cell_type": "code",
   "execution_count": 28,
   "metadata": {},
   "outputs": [],
   "source": [
    "a_perc = []\n",
    "t_perc = []\n",
    "for i in range(100):\n",
    "    i +=1\n",
    "    a_perc.append(np.percentile(abstracts, i))\n",
    "    t_perc.append(np.percentile(texts,i))"
   ]
  },
  {
   "cell_type": "code",
   "execution_count": 29,
   "metadata": {},
   "outputs": [
    {
     "data": {
      "image/png": "[encoded data removed]",
      "text/plain": [
       "<Figure size 640x480 with 1 Axes>"
      ]
     },
     "metadata": {},
     "output_type": "display_data"
    }
   ],
   "source": [
    "plt.scatter(range(len(a_perc)),a_perc)\n",
    "plt.show()"
   ]
  },
  {
   "cell_type": "code",
   "execution_count": 30,
   "metadata": {},
   "outputs": [
    {
     "data": {
      "image/png": "[encoded data removed]",
      "text/plain": [
       "<Figure size 640x480 with 1 Axes>"
      ]
     },
     "metadata": {},
     "output_type": "display_data"
    }
   ],
   "source": [
    "plt.scatter(range(len(t_perc)), t_perc)\n",
    "plt.show()"
   ]
  },
  {
   "cell_type": "markdown",
   "metadata": {},
   "source": [
    "# RNN Model definition"
   ]
  },
  {
   "cell_type": "code",
   "execution_count": 110,
   "metadata": {},
   "outputs": [],
   "source": [
    "from gensim.models import Word2Vec\n",
    "vec = Word2Vec(sentences=\"text_118_NoStop.txt\", vector_size=300, window=5, min_count=1, workers=6)\n",
    "vec.save(\"word2vec.model\")"
   ]
  },
  {
   "cell_type": "code",
   "execution_count": 60,
   "metadata": {},
   "outputs": [],
   "source": [
    "class Encoder(nn.Module):\n",
    "    def __init__(self, voc_size, num_layer, hidden_dim):\n",
    "        super(Encoder, self).__init__()\n",
    "        self.device = device\n",
    "        self.hidden_dim = hidden_dim\n",
    "        self.num_layer = num_layer\n",
    "        \n",
    "        self.embeddings = nn.Embedding(\n",
    "            num_embeddings=voc_size,\n",
    "            embedding_dim=hidden_dim\n",
    "        )\n",
    "        self.lstm = nn.LSTM(\n",
    "            input_size=hidden_dim,\n",
    "            hidden_size=hidden_dim,\n",
    "            num_layers=num_layer,\n",
    "            bidirectional=True\n",
    "        )\n",
    "        self.dropout = nn.Dropout(0.2)\n",
    "        self.relu = nn.ReLU()\n",
    "        self.fc_hidden = nn.Linear(hidden_dim*2, \n",
    "                                       hidden_dim)\n",
    "\n",
    "    def forward(self, input):\n",
    "        input = input.permute(1,0)\n",
    "        #print(input.shape) #[batch, seq_len] -> [seq_len, batch]\n",
    "        \n",
    "        embedded = self.dropout(self.embeddings(input))\n",
    "        # [batch, seq_len, hid] -> [seq_len, batch, hid]\n",
    "        #print(\"E embedded:\", embedded.shape)\n",
    "\n",
    "        lengths = (input != 2).sum(1) # pad index = 2\n",
    "        #print(lengths)\n",
    "        batch_size = input.shape[0]\n",
    "#         embedded = torch.nn.utils.rnn.pack_padded_sequence(embedded, lengths.cpu(), \n",
    "#                                                            batch_first=True,enforce_sorted=False)\n",
    "#         embedded:  torch.Size([16125, 250])\n",
    "#         embedded:  torch.Size([16])\n",
    "#         print(\"embedded: \",embedded[0].shape)\n",
    "#         print(\"embedded: \",embedded[1].shape)\n",
    "        output, (hidden, cell) = self.lstm(embedded)\n",
    "        #print(\"hid before\",hidden.shape)\n",
    "        hidden = self.fc_hidden(torch.cat((hidden[0:1], hidden[1:2]), dim=2))\n",
    "        cell = self.fc_hidden(torch.cat((cell[0:1], cell[1:2]), dim=2))\n",
    "        #output, lengths = torch.nn.utils.rnn.pad_packed_sequence(output, batch_first=True,padding_value=2)\n",
    "        lengths = lengths.to(device)\n",
    "        #print(\"output: \",output.shape)\n",
    "        # output [seq_len, batch, hid*2] supposed hid*1\n",
    "        # hidden [1, seq_len, hid]\n",
    "        #print(\"hid after\",hidden.shape)\n",
    "        #print(\"output\", output)\n",
    "        return output, hidden, cell, lengths"
   ]
  },
  {
   "cell_type": "code",
   "execution_count": 61,
   "metadata": {},
   "outputs": [],
   "source": [
    "class Decoder(nn.Module):\n",
    "    def __init__(self, voc_size, num_layer,hidden_dim):\n",
    "        super(Decoder, self).__init__()\n",
    "        self.embeddings = nn.Embedding(\n",
    "            num_embeddings=voc_size,\n",
    "            embedding_dim=hidden_dim\n",
    "        )\n",
    "        self.attention = Attention(hidden_dim,hidden_dim)\n",
    "        self.lstm = nn.LSTM(\n",
    "            input_size=hidden_dim*3,\n",
    "            hidden_size=hidden_dim,\n",
    "            num_layers=num_layer,\n",
    "            bidirectional=False\n",
    "        )\n",
    "        self.dropout = nn.Dropout(0.3)\n",
    "        self.fc = nn.Linear(\n",
    "            in_features=hidden_dim,\n",
    "            out_features=voc_size\n",
    "        )\n",
    "        self.relu = nn.ReLU()\n",
    "        self.logsoftmax = nn.LogSoftmax(dim=1) # check\n",
    "    \n",
    "\n",
    "    def forward(self, input, hidden, cell,encoder_outputs, lengths): \n",
    "        input = input.unsqueeze(0) # [1,batch]\n",
    "        #print(\"D input\", input.shape)\n",
    "        embedded = self.embeddings(input) # [batch, 256] -> [1, batch, dim] with unsqueeze\n",
    "        #print(\"D embedded\", embedded.shape)\n",
    "    \n",
    "        # hidden = [bathc, seq_len, hidden_dim]\n",
    "        #hidden_permute = hidden.permute(0,1) # [1, 512]\n",
    "        embedded = self.dropout(embedded)\n",
    "\n",
    "        # mask to block decoder from knowing future sequences/block padding\n",
    "#         max_len = lengths.max().item()\n",
    "#         mask = torch.arange(max_len).expand(len(lengths), max_len) < lengths.unsqueeze(1).cpu()\n",
    "        \n",
    "#         mask = mask.to(device)\n",
    "        mask=0\n",
    "\n",
    "        context = self.attention(hidden, encoder_outputs, mask).to(device)\n",
    "        #print(\"D embedded\", embedded.shape)\n",
    "        # [1, seq_len, dim*2]\n",
    "        #print(\"context shape: \", context.shape) # context shape:  torch.Size([1, 1317, 500])\n",
    "        rnn_input = torch.cat((context, embedded), dim=2) # []\n",
    "        #print(\"D rnn_input\", rnn_input.shape)\n",
    "        decoder_output, (hidden, cell) = self.lstm(rnn_input, (hidden, cell))\n",
    "        #print(\"D decode output:\",decoder_output.shape)\n",
    "        #print(\"D hidden\", hidden.shape)\n",
    "        #print(\"D hidden\", hidden)\n",
    "        #print(\"D cell\", cell.shape)\n",
    "        output = self.fc(decoder_output)\n",
    "        output = output.squeeze(0)\n",
    "        \n",
    "        #print(\"D decode output:\",decoder_output.shape)\n",
    "        #output = decoder_output.squeeze(0)\n",
    "        #print(\"D decode output:\",output.shape)\n",
    "        #output = self.logsoftmax(output)\n",
    "        #print(\"D decode output:\",output.shape)\n",
    "#         output = decoder_output.squeeze(0)\n",
    "        #print(\"D decode output:\",output.shape)\n",
    "        \n",
    "\n",
    "        # output is [1, Batch, hidden_dim/vocab] -> [batch, hid/vocab]\n",
    "        # hidden = 2,2,256 [1, batch, hidden_dim]\n",
    "        return output, hidden, cell\n",
    "    "
   ]
  },
  {
   "cell_type": "code",
   "execution_count": 62,
   "metadata": {},
   "outputs": [],
   "source": [
    "class Attention(nn.Module):\n",
    "    def __init__(self, encoder_hidden_dim, decoder_hidden_dim):\n",
    "        super(Attention, self).__init__()\n",
    "        self.attention = nn.Linear(encoder_hidden_dim*3, 1)\n",
    "        self.relu = nn.ReLU()\n",
    "        self.softmax = nn.Softmax(dim=0)\n",
    "    def forward(self, hidden, encoder_outputs, mask):\n",
    "        # hidden = [num_layer, batch size, decoder hidden dim]\n",
    "        # encoder_outputs [batch, seq_len, hidden_dim]\n",
    "        # encoder output = query\n",
    "        # hidden = key\n",
    "        seq_len = encoder_outputs.shape[0]\n",
    "        batch_size = encoder_outputs.shape[0]\n",
    "        #print(hidden)\n",
    "        hidden = hidden.repeat(seq_len, 1, 1)  # Repeating hidden tensor for all positions\n",
    "        #print(\"A hidden\", hidden.shape)\n",
    "        # [1, Batch, dim] -> [seq_len, batch, dim]\n",
    "        #print(\"A encode out\", encoder_outputs.shape)\n",
    "        #encoder_outputs = self.attention(encoder_outputs.permute(1,0,2))  # Apply linear transformation\n",
    "        # enc out [seq_len, batch, dim*2]\n",
    "        # Compute attention scores using dot product attention\n",
    "        #attention_scores = torch.einsum('sbd,sbd->bs',hidden[0], encoder_outputs) \n",
    "        #print(\"A hidden\", hidden)\n",
    "        energy = self.relu(self.attention(torch.cat((hidden, encoder_outputs), dim=2)))\n",
    "        # [batch, seq_len, 1]\n",
    "        #print(\"energy:\", energy.shape)\n",
    "        #scaling_factor = torch.sqrt(torch.tensor(hidden.shape[2], dtype=torch.float))  # Scale factor\n",
    "\n",
    "        # Scale the attention scores by the square root of the hidden dimension\n",
    "        #scaled_dot_product = scaled_dot_product / scaling_factor\n",
    "\n",
    "        # Apply the mask to set attention scores to -inf for padded elements\n",
    "        #scaled_dot_product[~mask] = -float('inf')\n",
    "        #scaled_dot_product = scaled_dot_product.masked_fill(mask == 3, -float('inf')) # mask unk\n",
    "\n",
    "        # Apply softmax to get normalized attention weights\n",
    "        attention = self.softmax(energy) # check\n",
    "        #print(\"A atten\", attention.shape)\n",
    "        # [batch, seq_len, 1]\n",
    "        attention = attention.permute(1,2,0)\n",
    "        #[seq_len, 1, batch]\n",
    "        #print(\"A atten perm\", attention.shape)\n",
    "        \n",
    "        # [Batch, seq_len, dim*2]\n",
    "        #print(\"enc out before:\",encoder_outputs.shape)\n",
    "        encoder_outputs = encoder_outputs.permute(1,0,2)\n",
    "        # [seq_len, batch, dim*2]\n",
    "\n",
    "        #print(\"A enc out after:\",encoder_outputs.shape)\n",
    "\n",
    "        # [batch, seq_len, dim]\n",
    "        context_vector = torch.bmm(attention,encoder_outputs).permute(1,0,2)\n",
    "        #print(context_vector) # same output\n",
    "        # [Batch, 1, dim] -> [1, batch, dim] -> [1, batch, dim*2]\n",
    "        #print(\"A convec:\",context_vector.shape)\n",
    "        return context_vector\n",
    "\n"
   ]
  },
  {
   "cell_type": "code",
   "execution_count": 63,
   "metadata": {},
   "outputs": [],
   "source": [
    "class Model(nn.Module):\n",
    "    def __init__(self, text_size, abstract_size, num_layer, hidden_dim, device):\n",
    "        super(Model, self).__init__()\n",
    "        self.encoder = Encoder(text_size, num_layer=num_layer, hidden_dim=hidden_dim).to(device)\n",
    "        self.decoder = Decoder(abstract_size, num_layer=num_layer, hidden_dim=hidden_dim).to(device)\n",
    "        self.hidden_dim = hidden_dim\n",
    "\n",
    "    def forward(self, text, max_len=ABSTRACT_MAX,abstract=None, temperature=0.5, teach=False):\n",
    "        #decoder = Decoder(len(abstract_vocab), 512).to(device)\n",
    "        output, hidden, cell, lengths = self.encoder(text) # [10000, 512] [seq_len, hidden_dim]\n",
    "        #print(\"M output:\", output.shape)\n",
    "        #print(\"M hidden:\",hidden.shape)\n",
    "        #print(\"M cell:\", cell.shape)\n",
    "        batch_size = output.shape[1]\n",
    "\n",
    "        decoder_hidden = hidden\n",
    "        #print(\"M decode hidden:\",decoder_hidden.shape)\n",
    "        #context = torch.zeros(batch_size, self.hidden_dim).to(device) # batch, hidden_dim\n",
    "\n",
    "        #decoder_input = text[:,:1].squeeze(1).long().to(device) # select first elements\n",
    "#         print(decoder_input)\n",
    "        decoder_input = torch.tensor(abstract_vocab(\"<start>\")).repeat(batch_size).to(device)\n",
    "       \n",
    "        outputs = []\n",
    "        #words = []\n",
    "        for t in range(max_len):\n",
    "            #print(\"Iteration \"+str(t)+\":\")\n",
    "            #print(\"M decoder_input:\", decoder_input.shape)\n",
    "            decoder_output, decoder_hidden, cell = self.decoder(decoder_input, \n",
    "                                                decoder_hidden, cell, output, lengths)\n",
    "#             print(\"M decoder out:\", decoder_output)\n",
    "#             print(\"M decoder hid:\", decoder_hidden)\n",
    "#             print(\"M decoder cel:\", cell)\n",
    "            \n",
    "            outputs.append(decoder_output)\n",
    "            use_teacher_forcing = False# and random.random() < 0.01\n",
    "            if use_teacher_forcing:\n",
    "                decoder_input = abstract[:, t]\n",
    "            else:\n",
    "                decoder_input = decoder_output.argmax(1)\n",
    "            #print(\"M decoder int:\", decoder_input.shape)\n",
    "\n",
    "        outputs = torch.stack(outputs, 1) # B x T x D\n",
    "        return outputs"
   ]
  },
  {
   "cell_type": "code",
   "execution_count": 71,
   "metadata": {},
   "outputs": [],
   "source": [
    "\n",
    "model = Model(len(text_vocab),len(abstract_vocab),1,136, device)\n",
    "model = model.to(device)\n",
    "\n",
    "\n",
    "#out1 = model(abstract, text)"
   ]
  },
  {
   "cell_type": "code",
   "execution_count": 204,
   "metadata": {},
   "outputs": [],
   "source": [
    "# best_path = \" \"\n",
    "# best_model = Model(len(text_vocab),len(abstract_vocab),2,512, device)\n",
    "# best_model = Model.load_dict(best_path)\n",
    "# model = best_model.to(device)"
   ]
  },
  {
   "cell_type": "markdown",
   "metadata": {},
   "source": [
    "# Tasks\n",
    "~~1 - Complete model definition~~ <br>\n",
    "~~2 - fix word vocab~~ <br>\n",
    "~~3 - Define Attention model and combine with Decoder~~ <br>\n",
    "    ~~1 - Adjust to allow for batch ~~<br>\n",
    "4 - trace through program to see where it starts to have the same tensor <br>\n",
    "~~5 - use mask to hide paddings~~ switch on off to see difference<br>\n",
    "~~6 - Switch from GRU to LSTM~~<br>\n",
    "~~7 - Add training script to train ~~<br>\n",
    " "
   ]
  },
  {
   "cell_type": "markdown",
   "metadata": {},
   "source": [
    "# Model training"
   ]
  },
  {
   "cell_type": "code",
   "execution_count": 67,
   "metadata": {
    "scrolled": true
   },
   "outputs": [
    {
     "ename": "SyntaxError",
     "evalue": "invalid syntax (3527939032.py, line 96)",
     "output_type": "error",
     "traceback": [
      "\u001b[1;36m  Cell \u001b[1;32mIn[67], line 96\u001b[1;36m\u001b[0m\n\u001b[1;33m    torch.save(model.state_dict(), 'best_HalfStop_CompSci_136_Batch_4_'+str(epoch+1)+'lr'+lr'.pth')\u001b[0m\n\u001b[1;37m                                                                                            ^\u001b[0m\n\u001b[1;31mSyntaxError\u001b[0m\u001b[1;31m:\u001b[0m invalid syntax\n"
     ]
    }
   ],
   "source": [
    "def train(train_loader, valid_loader, model):\n",
    "    lr = 0.001\n",
    "    criterion = nn.CrossEntropyLoss(ignore_index=2) # ignore pad\n",
    "    optimizer = torch.optim.Adam(model.parameters(), lr=lr) # learning rate also affects overfitting\n",
    "    epoch_size = 10\n",
    "    loss_epoch = []\n",
    "    loss_accuracy = []\n",
    "    eval_loss_epoch = []\n",
    "    eval_accuracy = []\n",
    "    best_loss = 10000\n",
    "    \n",
    "    \n",
    "    for epoch in range(epoch_size):\n",
    "        \n",
    "        \n",
    "        model.train()\n",
    "        loss_batch = []\n",
    "        batch_acc = []\n",
    "        for i, (abstract, text) in tqdm(enumerate(train_loader), total=len(train_loader)):\n",
    "            # send batch data to device\n",
    "            abstract = abstract.to(device)\n",
    "            text = text.to(device)\n",
    "            #print(text)\n",
    "            outputs = model(text, abstract=abstract).to(device).permute(0,2,1)\n",
    "            \n",
    "#             print(outputs.shape)\n",
    "#             print(abstract.shape)\n",
    "            #print(\"output\",outputs)\n",
    "#             print(outputs.dtype)\n",
    "#             print(\"abstract\", abstract[:,0])\n",
    "#             print(abstract.dtype)\n",
    "            #decode(outputs, abstract)\n",
    "            loss = criterion(outputs, abstract)\n",
    "            batch_acc.append(get_accuracy(outputs, abstract))\n",
    "            #print(loss.item())\n",
    "            \n",
    "            # Optimise\n",
    "            del abstract\n",
    "            del text\n",
    "            del outputs\n",
    "\n",
    "            loss_batch.append(loss.item())\n",
    "            optimizer.zero_grad()\n",
    "            loss.backward()\n",
    "\n",
    "            #plot_grad_flow(model.named_parameters())\n",
    "            \n",
    "            \n",
    "            del loss\n",
    "            torch.cuda.empty_cache()\n",
    "            #torch.nn.utils.clip_grad_norm_(model.parameters(), 0.5)\n",
    "            optimizer.step()\n",
    "            \n",
    "            \n",
    "        #return model\n",
    "            \n",
    "\n",
    "            #print(loss.item())\n",
    "        current_loss = np.average(loss_batch)\n",
    "        current_acc = np.average(batch_acc)\n",
    "        loss_epoch.append(current_loss)\n",
    "        loss_accuracy.append(current_acc)\n",
    "\n",
    "        print('Epoch [{}/{}], Loss: {:.4f}, Acc: {:.2f}'\n",
    "            .format(epoch+1, epoch_size, current_loss, current_acc*100))\n",
    "\n",
    "        eval_loss_batch = []\n",
    "        eval_batch_acc = []\n",
    "\n",
    "        model.eval()\n",
    "        with torch.no_grad():\n",
    "            for j, (abstract, text) in enumerate(valid_loader):\n",
    "                abstract = abstract.to(device)\n",
    "                text = text.to(device)\n",
    "\n",
    "                scores = model(text, abstract=abstract).permute(0,2,1)\n",
    "                #decode(scores, abstract)\n",
    "                eval_loss = criterion(scores, abstract)\n",
    "                #print(eval_loss.item())\n",
    "                eval_loss_batch.append(eval_loss.item())\n",
    "                eval_batch_acc.append(get_accuracy(scores, abstract))\n",
    "                del abstract\n",
    "                del text\n",
    "                del scores\n",
    "                del eval_loss\n",
    "                torch.cuda.empty_cache()\n",
    "\n",
    "        current_eval_loss = np.average(eval_loss_batch)\n",
    "        current_eval_acc = np.average(eval_batch_acc)\n",
    "        \n",
    "        eval_loss_epoch.append(current_eval_loss)\n",
    "        eval_accuracy.append(current_eval_acc)\n",
    "        \n",
    "        if (current_eval_loss < best_loss):\n",
    "            best_loss = current_eval_loss\n",
    "            torch.save(model.state_dict(), 'best_HalfStop_CompSci_136_Batch_4_'+str(epoch+1)+'lr'+lr+'.pth')\n",
    "            print(\"Best eval loss updated!\")\n",
    "#         else:\n",
    "#             torch.save(model.state_dict(), 'model_NoStop_100_1_Batch_16_'+str(epoch+1)+'.pth')\n",
    "\n",
    "        print('Valid Epoch [{}/{}], Loss: {:.4f}, Acc: {:.2f}'\n",
    "            .format(epoch+1, epoch_size, current_eval_loss, current_eval_acc*100))\n",
    "    return loss_epoch, eval_loss_epoch, loss_accuracy, eval_accuracy\n",
    "def get_accuracy(preds, abstracts):\n",
    "#     print(\"preds: \", preds.shape)\n",
    "#     print(\"abstracts:\", abstracts.shape)\n",
    "    pred_ids = preds.argmax(1)\n",
    "    \n",
    "    correct_preds = (pred_ids == abstracts).sum().item()\n",
    "\n",
    "    # Calculate the total number of samples\n",
    "    total_samples = abstracts.shape[0] * abstracts.shape[1]\n",
    "\n",
    "    # Calculate accuracy as the ratio of correct predictions to total samples\n",
    "    accuracy = correct_preds / total_samples\n",
    "\n",
    "    return accuracy\n",
    "def decode(preds, abstracts):\n",
    "    pred_ids = preds.argmax(1)\n",
    "    for i in range(len(pred_ids)):\n",
    "        sentence = \"\"\n",
    "        sentence2 = \"\"\n",
    "        for j in range(ABSTRACT_MAX):\n",
    "            sentence += abstract_vocab.get_word(pred_ids[i][j].item()) + \" \"\n",
    "            sentence2 += abstract_vocab.get_word(abstracts[i][j].item()) + \" \"\n",
    "            \n",
    "            \n",
    "        print(\"pred: \",sentence)\n",
    "        print(\"abstract: \",sentence2)"
   ]
  },
  {
   "cell_type": "code",
   "execution_count": 66,
   "metadata": {
    "scrolled": true
   },
   "outputs": [
    {
     "data": {
      "application/vnd.jupyter.widget-view+json": {
       "model_id": "ca0e52d5402f4b10ab66aadb07d330b4",
       "version_major": 2,
       "version_minor": 0
      },
      "text/plain": [
       "  0%|          | 0/868 [00:00<?, ?it/s]"
      ]
     },
     "metadata": {},
     "output_type": "display_data"
    },
    {
     "name": "stdout",
     "output_type": "stream",
     "text": [
      "Epoch [1/5], Loss: 7.9977, Acc: 0.79\n",
      "Best eval loss updated!\n",
      "Valid Epoch [1/5], Loss: 7.8509, Acc: 0.88\n"
     ]
    },
    {
     "data": {
      "application/vnd.jupyter.widget-view+json": {
       "model_id": "f834bdc0f8374544a3afa2eb3f62be22",
       "version_major": 2,
       "version_minor": 0
      },
      "text/plain": [
       "  0%|          | 0/868 [00:00<?, ?it/s]"
      ]
     },
     "metadata": {},
     "output_type": "display_data"
    },
    {
     "name": "stdout",
     "output_type": "stream",
     "text": [
      "Epoch [2/5], Loss: 7.7313, Acc: 0.94\n",
      "Best eval loss updated!\n",
      "Valid Epoch [2/5], Loss: 7.8203, Acc: 1.02\n"
     ]
    },
    {
     "data": {
      "application/vnd.jupyter.widget-view+json": {
       "model_id": "5cb00a3e0dc1462480856ab10b49aaf0",
       "version_major": 2,
       "version_minor": 0
      },
      "text/plain": [
       "  0%|          | 0/868 [00:00<?, ?it/s]"
      ]
     },
     "metadata": {},
     "output_type": "display_data"
    },
    {
     "name": "stdout",
     "output_type": "stream",
     "text": [
      "Epoch [3/5], Loss: 7.6377, Acc: 0.98\n",
      "Best eval loss updated!\n",
      "Valid Epoch [3/5], Loss: 7.7875, Acc: 1.05\n"
     ]
    },
    {
     "data": {
      "application/vnd.jupyter.widget-view+json": {
       "model_id": "aa5e6846686749ab84f65cf5d326e413",
       "version_major": 2,
       "version_minor": 0
      },
      "text/plain": [
       "  0%|          | 0/868 [00:00<?, ?it/s]"
      ]
     },
     "metadata": {},
     "output_type": "display_data"
    },
    {
     "name": "stdout",
     "output_type": "stream",
     "text": [
      "Epoch [4/5], Loss: 7.5547, Acc: 1.07\n",
      "Best eval loss updated!\n",
      "Valid Epoch [4/5], Loss: 7.7438, Acc: 1.15\n"
     ]
    },
    {
     "data": {
      "application/vnd.jupyter.widget-view+json": {
       "model_id": "a979aeb69ab44adcab05c8c38daebe7a",
       "version_major": 2,
       "version_minor": 0
      },
      "text/plain": [
       "  0%|          | 0/868 [00:00<?, ?it/s]"
      ]
     },
     "metadata": {},
     "output_type": "display_data"
    },
    {
     "name": "stdout",
     "output_type": "stream",
     "text": [
      "Epoch [5/5], Loss: 7.4718, Acc: 1.17\n",
      "Best eval loss updated!\n",
      "Valid Epoch [5/5], Loss: 7.7208, Acc: 1.20\n"
     ]
    }
   ],
   "source": [
    "train_loss, eval_loss, train_acc, eval_acc = train(train_loader, valid_loader, model)"
   ]
  },
  {
   "cell_type": "code",
   "execution_count": 69,
   "metadata": {},
   "outputs": [
    {
     "data": {
      "image/png": "[encoded data removed]",
      "text/plain": [
       "<Figure size 640x480 with 1 Axes>"
      ]
     },
     "metadata": {},
     "output_type": "display_data"
    }
   ],
   "source": [
    "plot_grad_flow(model.named_parameters())"
   ]
  },
  {
   "cell_type": "code",
   "execution_count": null,
   "metadata": {},
   "outputs": [],
   "source": [
    "import time\n",
    "def writeLoss(filename, loss):\n",
    "    # filename in format losstype+layer+dim, validL2D256\n",
    "    timestr = time.strftime(\"%Y%m%d-%H%M%S\")\n",
    "    filename = filename + \"_\" + timestr + \".txt\"\n",
    "    with open(filename, \"a\") as myfile:\n",
    "        for item in items:\n",
    "            myfile.write(item+\"\\n\")\n"
   ]
  },
  {
   "cell_type": "code",
   "execution_count": null,
   "metadata": {},
   "outputs": [],
   "source": [
    "writeLoss(\"Train\", train_loss)\n",
    "writeLoss(\"Valid\", eval_loss)\n",
    "writeLoss(\"Train_acc\", train_acc)\n",
    "writeLoss(\"Valid_acc\", eval_acc)"
   ]
  },
  {
   "cell_type": "code",
   "execution_count": 345,
   "metadata": {},
   "outputs": [],
   "source": [
    "torch.save(model.state_dict(), 'best_decoder20230729_epoch500.pth')"
   ]
  },
  {
   "cell_type": "code",
   "execution_count": 68,
   "metadata": {},
   "outputs": [],
   "source": [
    "def plot_grad_flow(named_parameters):\n",
    "    ave_grads = []\n",
    "    layers = []\n",
    "    for n, p in named_parameters:\n",
    "        #print(n)\n",
    "        if(p.requires_grad) and (\"bias\" not in n):\n",
    "            layers.append(n)\n",
    "            #print(type(p.grad))\n",
    "            ave_grads.append(torch.mean(torch.abs(p.grad)).cpu())\n",
    "    plt.plot(ave_grads, alpha=0.3, color=\"b\")\n",
    "    plt.hlines(0, 0, len(ave_grads)+1, linewidth=1, color=\"k\" )\n",
    "    plt.xticks(range(0,len(ave_grads), 1), layers, rotation=\"vertical\")\n",
    "    plt.xlim(xmin=0, xmax=len(ave_grads))\n",
    "    plt.xlabel(\"Layers\")\n",
    "    plt.ylabel(\"average gradient\")\n",
    "    plt.title(\"Gradient flow\")\n",
    "    plt.grid(True)"
   ]
  },
  {
   "cell_type": "code",
   "execution_count": 70,
   "metadata": {},
   "outputs": [
    {
     "data": {
      "text/plain": [
       "<matplotlib.legend.Legend at 0x161b7085790>"
      ]
     },
     "execution_count": 70,
     "metadata": {},
     "output_type": "execute_result"
    },
    {
     "data": {
      "image/png": "[encoded data removed]",
      "text/plain": [
       "<Figure size 640x480 with 1 Axes>"
      ]
     },
     "metadata": {},
     "output_type": "display_data"
    }
   ],
   "source": [
    "plt.plot(train_loss)\n",
    "plt.plot(eval_loss)\n",
    "plt.xlabel('epochs')\n",
    "plt.ylabel('loss')\n",
    "plt.legend(['train loss','Valid loss'])"
   ]
  },
  {
   "cell_type": "markdown",
   "metadata": {},
   "source": [
    "# Model Evaluation"
   ]
  },
  {
   "cell_type": "code",
   "execution_count": 63,
   "metadata": {},
   "outputs": [],
   "source": [
    "import gc\n",
    "gc.collect()\n",
    "torch.cuda.empty_cache()"
   ]
  },
  {
   "cell_type": "code",
   "execution_count": null,
   "metadata": {},
   "outputs": [],
   "source": []
  },
  {
   "cell_type": "code",
   "execution_count": null,
   "metadata": {},
   "outputs": [],
   "source": []
  },
  {
   "cell_type": "code",
   "execution_count": null,
   "metadata": {},
   "outputs": [],
   "source": []
  },
  {
   "cell_type": "markdown",
   "metadata": {},
   "source": [
    "# FastText"
   ]
  },
  {
   "cell_type": "markdown",
   "metadata": {},
   "source": [
    "## Model for querying"
   ]
  },
  {
   "cell_type": "markdown",
   "metadata": {},
   "source": [
    "train fasttext model\n",
    "obtain weight from fasttest\n",
    "then embedding can load weights\n",
    "\n",
    "- train 2 fasttext model, 1 for text and another for abstract\n",
    "- obtain weights for both vocab\n",
    "- put in encoder and decoder like normal\n",
    "- https://stackoverflow.com/questions/31440803/how-to-fetch-vectors-for-a-word-list-with-word2vec\n",
    "- use this to update the vocab class to update ways to fetch words\n",
    "- to solve querying, use the model and use function to find cosine"
   ]
  },
  {
   "cell_type": "code",
   "execution_count": 6,
   "metadata": {},
   "outputs": [],
   "source": [
    "import fasttext\n",
    "model = fasttext.train_unsupervised('data/fil9')\n",
    "model.save_model(\"result/fil9.bin\")\n",
    "model = fasttext.load_model(\"result/fil9.bin\")\n",
    "# EXPECTS TEXT FILE FORMAT WHERE 1 TEXT PER ROW\n",
    "# IMPORTANT, NEED TO REDESIGN CLEANING PROCESS "
   ]
  },
  {
   "cell_type": "markdown",
   "metadata": {},
   "source": [
    "# Dataset Exploration"
   ]
  },
  {
   "cell_type": "markdown",
   "metadata": {},
   "source": [
    "After exploring, all highlight:article ratio being more than 1.0 means the summary text is producing more text than the original text, this defeats the purpose of the model, therefore all data with a ratio of more than or equal to 1.0 will be omitted."
   ]
  },
  {
   "cell_type": "code",
   "execution_count": null,
   "metadata": {},
   "outputs": [],
   "source": []
  },
  {
   "cell_type": "markdown",
   "metadata": {},
   "source": [
    "# Model improvement/Retrain"
   ]
  },
  {
   "cell_type": "code",
   "execution_count": null,
   "metadata": {},
   "outputs": [],
   "source": []
  },
  {
   "cell_type": "code",
   "execution_count": null,
   "metadata": {},
   "outputs": [],
   "source": []
  },
  {
   "cell_type": "markdown",
   "metadata": {},
   "source": [
    "# Model Finalisation and Evaluation"
   ]
  },
  {
   "cell_type": "markdown",
   "metadata": {},
   "source": [
    "## Inference Script"
   ]
  },
  {
   "cell_type": "code",
   "execution_count": null,
   "metadata": {},
   "outputs": [],
   "source": [
    "# Load model\n",
    "best_model_path = \"best_decoder20230719.pth\"\n",
    "best_model = Model(len(text_vocab),len(abstract_vocab),2,256)\n",
    "best_model.load_state_dict(torch.load(best_model_path))"
   ]
  },
  {
   "cell_type": "markdown",
   "metadata": {},
   "source": [
    "## Upload Button"
   ]
  },
  {
   "cell_type": "code",
   "execution_count": 163,
   "metadata": {},
   "outputs": [],
   "source": [
    "TEXT_COLOUR = \"<font color='Black'>\""
   ]
  },
  {
   "cell_type": "code",
   "execution_count": 40,
   "metadata": {},
   "outputs": [],
   "source": [
    "def load_pdf(file):  \n",
    "    file_content = list(file)[0]\n",
    "    content = file_content[\"content\"]\n",
    "    return fitz.open(stream=content, filetype=\"pdf\")"
   ]
  },
  {
   "cell_type": "code",
   "execution_count": 52,
   "metadata": {},
   "outputs": [
    {
     "name": "stdout",
     "output_type": "stream",
     "text": [
      "-1\n"
     ]
    },
    {
     "data": {
      "application/vnd.jupyter.widget-view+json": {
       "model_id": "95a19ebb6eb444c7a48e69f6b72a1e64",
       "version_major": 2,
       "version_minor": 0
      },
      "text/plain": [
       "FileUpload(value={}, accept='.pdf', description='Upload')"
      ]
     },
     "metadata": {},
     "output_type": "display_data"
    }
   ],
   "source": [
    "uploader = widgets.FileUpload(multiple=False, accept='.pdf')\n",
    "def on_upload(change):\n",
    "    #ch = change.value.values()\n",
    "    # to obtain information regarding the pdf when the pdf is uploaded, buttonless design, will impact perf\n",
    "    global doc_len\n",
    "    doc_len = len(load_pdf(uploader.value.values()))-1\n",
    "    \n",
    "    uploader.value.clear()\n",
    "    uploader._counter=1\n",
    "\n",
    "uploader.observe(on_upload, 'value')\n",
    "display(uploader)"
   ]
  },
  {
   "cell_type": "markdown",
   "metadata": {},
   "source": [
    "## Abstract Generation tab"
   ]
  },
  {
   "cell_type": "markdown",
   "metadata": {},
   "source": [
    "### Radio button for model selection"
   ]
  },
  {
   "cell_type": "code",
   "execution_count": 176,
   "metadata": {},
   "outputs": [
    {
     "data": {
      "application/vnd.jupyter.widget-view+json": {
       "model_id": "cfc486a5a33644c398acbe99106b604f",
       "version_major": 2,
       "version_minor": 0
      },
      "text/plain": [
       "RadioButtons(description=\"<font color='Black'>Model:\", options=('Base', '512Dim', '1024Dim', 'Base+No Stop wor…"
      ]
     },
     "metadata": {},
     "output_type": "display_data"
    }
   ],
   "source": [
    "radio = widgets.RadioButtons(\n",
    "    options=['Base', '512Dim', '1024Dim', 'Base+No Stop word'],\n",
    "#    value='pineapple', # Defaults to 'pineapple'\n",
    "#    layout={'width': 'max-content'}, # If the items' names are long\n",
    "    description=TEXT_COLOUR+'Model:',\n",
    "    disabled=False\n",
    ")\n",
    "display(radio)"
   ]
  },
  {
   "cell_type": "markdown",
   "metadata": {},
   "source": [
    "### 3 input box for model parameters"
   ]
  },
  {
   "cell_type": "code",
   "execution_count": 177,
   "metadata": {},
   "outputs": [
    {
     "data": {
      "application/vnd.jupyter.widget-view+json": {
       "model_id": "9777934801604db1a1b03dd2b47e223c",
       "version_major": 2,
       "version_minor": 0
      },
      "text/plain": [
       "IntText(value=100, description=\"<font color='Black'>Max length:\")"
      ]
     },
     "metadata": {},
     "output_type": "display_data"
    }
   ],
   "source": [
    "# Max Length\n",
    "length = widgets.IntText(\n",
    "    value=100,\n",
    "    description=TEXT_COLOUR+'Max length:',\n",
    "    disabled=False\n",
    ")\n",
    "display(length)"
   ]
  },
  {
   "cell_type": "code",
   "execution_count": 178,
   "metadata": {},
   "outputs": [
    {
     "data": {
      "application/vnd.jupyter.widget-view+json": {
       "model_id": "835d6aed81b540248a603967682a6993",
       "version_major": 2,
       "version_minor": 0
      },
      "text/plain": [
       "BoundedFloatText(value=0.5, description=\"<font color='Black'>Temperature:\", max=1.0, step=0.1)"
      ]
     },
     "metadata": {},
     "output_type": "display_data"
    }
   ],
   "source": [
    "# Temperature\n",
    "temperature = widgets.BoundedFloatText(\n",
    "    value=0.5,\n",
    "    min=0,\n",
    "    max=1.0,\n",
    "    step=0.1,\n",
    "    description=TEXT_COLOUR+'Temperature:',\n",
    "    disabled=False\n",
    ")\n",
    "display(temperature)"
   ]
  },
  {
   "cell_type": "code",
   "execution_count": 179,
   "metadata": {},
   "outputs": [
    {
     "data": {
      "application/vnd.jupyter.widget-view+json": {
       "model_id": "60ea0a3b39ee4b9c8b111477ef056651",
       "version_major": 2,
       "version_minor": 0
      },
      "text/plain": [
       "IntRangeSlider(value=(0, 21), continuous_update=False, description=\"<font color='Black'>Page Range:\", max=21)"
      ]
     },
     "metadata": {},
     "output_type": "display_data"
    }
   ],
   "source": [
    "# PDF start and end\n",
    "pdf_range = widgets.IntRangeSlider(\n",
    "    value=[0, doc_len],\n",
    "    min=0,\n",
    "    max=doc_len,\n",
    "    step=1,\n",
    "\n",
    "    description=TEXT_COLOUR + \"Page Range:\",\n",
    "    disabled=False,\n",
    "    continuous_update=False,\n",
    "    orientation='horizontal',\n",
    "    readout=True,\n",
    "    readout_format='d',\n",
    ")\n",
    "display(pdf_range)"
   ]
  },
  {
   "cell_type": "markdown",
   "metadata": {},
   "source": [
    "### Activation button print result to output"
   ]
  },
  {
   "cell_type": "code",
   "execution_count": 180,
   "metadata": {},
   "outputs": [
    {
     "data": {
      "application/vnd.jupyter.widget-view+json": {
       "model_id": "656df4bd6bac4ec3b865b567baf8d9ce",
       "version_major": 2,
       "version_minor": 0
      },
      "text/plain": [
       "Button(button_style='info', description='Click me', icon='check', style=ButtonStyle(), tooltip='Click me')"
      ]
     },
     "metadata": {},
     "output_type": "display_data"
    },
    {
     "data": {
      "application/vnd.jupyter.widget-view+json": {
       "model_id": "df12ba71a2c1402487780c496ddb7b75",
       "version_major": 2,
       "version_minor": 0
      },
      "text/plain": [
       "Output(layout=Layout(border='1px solid black'))"
      ]
     },
     "metadata": {},
     "output_type": "display_data"
    }
   ],
   "source": [
    "button = widgets.Button(\n",
    "    description='Click me',\n",
    "    disabled=False,\n",
    "    button_style='info', # 'success', 'info', 'warning', 'danger' or ''\n",
    "    tooltip='Click me',\n",
    "    icon='check' # (FontAwesome names without the `fa-` prefix)\n",
    ")\n",
    "#button.style.button_color=\"green\"\n",
    "global i\n",
    "i = 0\n",
    "out = widgets.Output(layout={'border': '1px solid black'})\n",
    "display(button, out)\n",
    "\n",
    "def on_button_clicked(b):\n",
    "    with out:\n",
    "        global i\n",
    "        out.clear_output()\n",
    "        print(i,\" Button clicked.\")\n",
    "        i +=1\n",
    "\n",
    "button.on_click(on_button_clicked)"
   ]
  },
  {
   "cell_type": "markdown",
   "metadata": {},
   "source": [
    "### Wrap in grid widget"
   ]
  },
  {
   "cell_type": "code",
   "execution_count": 185,
   "metadata": {},
   "outputs": [
    {
     "data": {
      "application/vnd.jupyter.widget-view+json": {
       "model_id": "d3ae8cd0a14f487fb570d48fef221599",
       "version_major": 2,
       "version_minor": 0
      },
      "text/plain": [
       "Tab(children=(GridBox(children=(RadioButtons(description=\"<font color='Black'>Model:\", options=('Base', '512Di…"
      ]
     },
     "metadata": {},
     "output_type": "display_data"
    }
   ],
   "source": [
    "widget = [radio, length, pdf_range, temperature, button]\n",
    "grid = widgets.GridBox(widget, layout=widgets.Layout(grid_template_columns=\"repeat(1, 100px)\"))\n",
    "grid_list = [grid]\n",
    "tab = widgets.Tab()\n",
    "tab.children=grid_list\n",
    "tab"
   ]
  },
  {
   "cell_type": "markdown",
   "metadata": {},
   "source": [
    "## Relevance Query tab"
   ]
  },
  {
   "cell_type": "markdown",
   "metadata": {},
   "source": [
    "### Text input box"
   ]
  },
  {
   "cell_type": "code",
   "execution_count": 174,
   "metadata": {},
   "outputs": [
    {
     "data": {
      "application/vnd.jupyter.widget-view+json": {
       "model_id": "0e4fbbc8bbd947fe956c5799fccb436f",
       "version_major": 2,
       "version_minor": 0
      },
      "text/plain": [
       "Text(value='', description=\"<font color='Black'>Query:\", placeholder='Type something')"
      ]
     },
     "metadata": {},
     "output_type": "display_data"
    }
   ],
   "source": [
    "text_box = widgets.Text(\n",
    "    value='',\n",
    "    placeholder='Type something',\n",
    "    description=TEXT_COLOUR+'Query:',\n",
    "    disabled=False   \n",
    ")\n",
    "display(text_box)"
   ]
  },
  {
   "cell_type": "markdown",
   "metadata": {},
   "source": [
    "### Input box for start and end page"
   ]
  },
  {
   "cell_type": "code",
   "execution_count": 171,
   "metadata": {},
   "outputs": [
    {
     "data": {
      "application/vnd.jupyter.widget-view+json": {
       "model_id": "cb3be87298fb4687811937a6ff282b44",
       "version_major": 2,
       "version_minor": 0
      },
      "text/plain": [
       "IntRangeSlider(value=(0, 21), continuous_update=False, description=\"<font color='Black'>Page Range:\", max=21)"
      ]
     },
     "metadata": {},
     "output_type": "display_data"
    }
   ],
   "source": [
    "pdf_range_q = widgets.IntRangeSlider(\n",
    "    value=[0, doc_len],\n",
    "    min=0,\n",
    "    max=doc_len,\n",
    "    step=1,\n",
    "\n",
    "    description=TEXT_COLOUR + \"Page Range:\",\n",
    "    disabled=False,\n",
    "    continuous_update=False,\n",
    "    orientation='horizontal',\n",
    "    readout=True,\n",
    "    readout_format='d',\n",
    ")\n",
    "display(pdf_range_q)"
   ]
  },
  {
   "cell_type": "markdown",
   "metadata": {},
   "source": [
    "### Activation button print result to output"
   ]
  },
  {
   "cell_type": "code",
   "execution_count": 172,
   "metadata": {},
   "outputs": [
    {
     "data": {
      "application/vnd.jupyter.widget-view+json": {
       "model_id": "36bd82f56f394083943c16c42da1c0b3",
       "version_major": 2,
       "version_minor": 0
      },
      "text/plain": [
       "Button(button_style='info', description='Click me', icon='check', style=ButtonStyle(), tooltip='Click me')"
      ]
     },
     "metadata": {},
     "output_type": "display_data"
    },
    {
     "data": {
      "application/vnd.jupyter.widget-view+json": {
       "model_id": "a2e792cb9f0149a29a6a694138e17dd3",
       "version_major": 2,
       "version_minor": 0
      },
      "text/plain": [
       "Output(layout=Layout(border='1px solid black'))"
      ]
     },
     "metadata": {},
     "output_type": "display_data"
    }
   ],
   "source": [
    "button_q = widgets.Button(\n",
    "    description='Click me',\n",
    "    disabled=False,\n",
    "    button_style='info', # 'success', 'info', 'warning', 'danger' or ''\n",
    "    tooltip='Click me',\n",
    "    icon='check' # (FontAwesome names without the `fa-` prefix)\n",
    ")\n",
    "#button.style.button_color=\"green\"\n",
    "global j\n",
    "j = 0\n",
    "out_q = widgets.Output(layout={'border': '1px solid black'})\n",
    "display(button_q, out_q)\n",
    "\n",
    "def on_button_clicked(b):\n",
    "    with out_q:\n",
    "        global j\n",
    "        out_q.clear_output()\n",
    "        print(j,\" Button clicked.\")\n",
    "        j +=1\n",
    "\n",
    "button_q.on_click(on_button_clicked)"
   ]
  },
  {
   "cell_type": "markdown",
   "metadata": {},
   "source": [
    "### Wrap in grid widget"
   ]
  },
  {
   "cell_type": "code",
   "execution_count": 187,
   "metadata": {},
   "outputs": [
    {
     "data": {
      "application/vnd.jupyter.widget-view+json": {
       "model_id": "d449c2ba2aad4198a7ddb177b4f9fbe0",
       "version_major": 2,
       "version_minor": 0
      },
      "text/plain": [
       "Tab(children=(GridBox(children=(Text(value='', description=\"<font color='Black'>Query:\", placeholder='Type som…"
      ]
     },
     "metadata": {},
     "output_type": "display_data"
    }
   ],
   "source": [
    "widget_q = [text_box, pdf_range_q, button_q]\n",
    "grid_q = widgets.GridBox(widget_q, layout=widgets.Layout(grid_template_columns=\"repeat(1, 100px)\"))\n",
    "grid_list_q = [grid_q]\n",
    "tab = widgets.Tab()\n",
    "tab.children=grid_list_q\n",
    "tab"
   ]
  },
  {
   "cell_type": "markdown",
   "metadata": {},
   "source": [
    "# -----------------------"
   ]
  },
  {
   "cell_type": "markdown",
   "metadata": {},
   "source": [
    "# Final combined tab"
   ]
  },
  {
   "cell_type": "code",
   "execution_count": 189,
   "metadata": {},
   "outputs": [
    {
     "data": {
      "application/vnd.jupyter.widget-view+json": {
       "model_id": "80b4a6202fa9491797cf9febb354cf92",
       "version_major": 2,
       "version_minor": 0
      },
      "text/plain": [
       "Tab(children=(GridBox(children=(RadioButtons(description=\"<font color='Black'>Model:\", options=('Base', '512Di…"
      ]
     },
     "metadata": {},
     "output_type": "display_data"
    }
   ],
   "source": [
    "grids = [grid, grid_q]\n",
    "tabs = widgets.Tab()\n",
    "tabs.children=grids\n",
    "tabs_titles = [\"Abstract Generation\", \"Relevance Query\"]\n",
    "for i, title in enumerate(tabs_titles):\n",
    "    tabs.set_title(i, title)\n",
    "display(tabs)"
   ]
  },
  {
   "cell_type": "code",
   "execution_count": null,
   "metadata": {},
   "outputs": [],
   "source": []
  },
  {
   "cell_type": "markdown",
   "metadata": {},
   "source": [
    "# -----------------------"
   ]
  },
  {
   "cell_type": "code",
   "execution_count": 10,
   "metadata": {},
   "outputs": [],
   "source": [
    "# https://ipywidgets.readthedocs.io/en/stable/examples/Widget%20List.html\n",
    "w = widgets.IntSlider()\n",
    "out = widgets.Output(layout={'border': '1px solid black'})"
   ]
  },
  {
   "cell_type": "code",
   "execution_count": 11,
   "metadata": {},
   "outputs": [
    {
     "data": {
      "application/vnd.jupyter.widget-view+json": {
       "model_id": "b0dffecdeadc4ede95cfe5b406cd1e8b",
       "version_major": 2,
       "version_minor": 0
      },
      "text/plain": [
       "Output(layout=Layout(border='1px solid black'))"
      ]
     },
     "metadata": {},
     "output_type": "display_data"
    },
    {
     "data": {
      "application/vnd.jupyter.widget-view+json": {
       "model_id": "5ecd71bff24f4338b76e0c4c2d99ed1b",
       "version_major": 2,
       "version_minor": 0
      },
      "text/plain": [
       "IntSlider(value=0)"
      ]
     },
     "metadata": {},
     "output_type": "display_data"
    }
   ],
   "source": [
    "display(out)\n",
    "display(w)\n",
    "#out.clear_output()\n",
    "with out:\n",
    "    out.clear_output()\n",
    "\n",
    "    for i in range(5):\n",
    "        print(i, 'Hello world!')"
   ]
  },
  {
   "cell_type": "code",
   "execution_count": 184,
   "metadata": {},
   "outputs": [
    {
     "name": "stdout",
     "output_type": "stream",
     "text": [
      "[Text(value='0', description='Abstract Generation'), Text(value='0', description='Relevance Query')]\n",
      "[Text(value='1', description='Abstract Generation'), Text(value='1', description='Relevance Query')]\n"
     ]
    },
    {
     "data": {
      "application/vnd.jupyter.widget-view+json": {
       "model_id": "334690b79aea4f8c8b2ec9e1b68c351a",
       "version_major": 2,
       "version_minor": 0
      },
      "text/plain": [
       "Tab(children=(GridBox(children=(Label(value='0'), Label(value='1'), Label(value='2'), Label(value='3'), Label(…"
      ]
     },
     "metadata": {},
     "output_type": "display_data"
    }
   ],
   "source": [
    "tab_titles = [\"Abstract Generation\", \"Relevance Query\"]\n",
    "tab = widgets.Tab()\n",
    "items = [widgets.Label(str(i)) for i in range(8)]\n",
    "grid = widgets.GridBox(items, layout=widgets.Layout(grid_template_columns=\"repeat(3, 100px)\"))\n",
    "gridlist= [grid]\n",
    "for i, title in enumerate(tab_titles):\n",
    "    tab.set_title(i, title)\n",
    "    children = [widgets.Text(value=str(i),description=name) for name in tab_titles]\n",
    "    print(children)\n",
    "    tab.children=gridlist\n",
    "tab\n",
    "\n",
    "# work flow is as follows\n",
    "# widget1 = widgets.button()\n",
    "# widget2 = widgets.button()\n",
    "# widget3 = widgets.RadioButton()\n",
    "# widgetList = [widget1,widget2,widget3]\n",
    "# grid1 = widgets.GridBox(items, layout=widgets.Layout(grid_template_columns=\"repeat(3, 100px)\"))\n",
    "# grid2 = widgets.GridBox(items, layout=widgets.Layout(grid_template_columns=\"repeat(3, 100px)\"))\n",
    "# grids = [grid1, grid2]\n",
    "\n",
    "# tab.children = grids\n"
   ]
  },
  {
   "cell_type": "code",
   "execution_count": 17,
   "metadata": {},
   "outputs": [],
   "source": [
    "def readPDF(file, start_page=0, end_page=-1):\n",
    "    '''\n",
    "    Will accept input of widget pdf file\n",
    "    start_page indicates starting page to start reading default=first page\n",
    "    end_page indicate last page to read default=last page\n",
    "    '''\n",
    "    doc = load_pdf(file)\n",
    "    if end_page == -1:\n",
    "        end_page = len(doc)-1\n",
    "    \n",
    "    # extracting text from page\n",
    "    doc_text = \"\"\n",
    "    for page in doc.pages(start_page, end_page):\n",
    "        \n",
    "        text = page.get_text(\"text\")\n",
    "        text = text.split('\\n')\n",
    "        text = \" \".join(text)\n",
    "        doc_text += text \n",
    "    doc_text = doc_text.strip()\n",
    "    doc.close()\n",
    "    return doc_text"
   ]
  },
  {
   "cell_type": "code",
   "execution_count": null,
   "metadata": {},
   "outputs": [],
   "source": [
    "def Process(raw_data, stop_word=True):\n",
    "    data = cleanLine(raw_data, stop_word)\n",
    "    data_id = tokenise(text_vocab, data)\n",
    "    return data_id"
   ]
  },
  {
   "cell_type": "code",
   "execution_count": null,
   "metadata": {},
   "outputs": [],
   "source": [
    "def Infer(model, data, max_size=100, temperature=0.5):\n",
    "    decoder_outputs = model(data, max_len=max_size, temperature=temperature)\n",
    "    decoder_outputs = torch.unbind(decoder_outputs, 1)\n",
    "    sentence = \"\"\n",
    "    for output in decoder_outputs:\n",
    "        token = output.argmax(1)\n",
    "        # if word is pad then replace with space\n",
    "        # if word is end then stop\n",
    "        if token == 2:\n",
    "            sentence += \" \"\n",
    "        elif token == 1:\n",
    "            break\n",
    "        else:\n",
    "            sentence += abstract_vocab.get_word(token.item()) + \" \"\n",
    "    sentence = sentence.strip()\n",
    "    return sentence"
   ]
  },
  {
   "cell_type": "code",
   "execution_count": 143,
   "metadata": {},
   "outputs": [],
   "source": [
    "raw_data = readPDF(uploader.value.values(), start_page=0, end_page=-1) # Obtain 1 long string\n",
    "data = Process(raw_data) # Clean string and convert to word_ids\n",
    "output = Infer(best_model, data, max_size=100, temperature=0.5)"
   ]
  },
  {
   "cell_type": "code",
   "execution_count": null,
   "metadata": {},
   "outputs": [],
   "source": []
  }
 ],
 "metadata": {
  "colab": {
   "name": "COMP5623M_CW1_Q2.ipynb",
   "provenance": []
  },
  "kernelspec": {
   "display_name": "Python 3 (ipykernel)",
   "language": "python",
   "name": "python3"
  },
  "language_info": {
   "codemirror_mode": {
    "name": "ipython",
    "version": 3
   },
   "file_extension": ".py",
   "mimetype": "text/x-python",
   "name": "python",
   "nbconvert_exporter": "python",
   "pygments_lexer": "ipython3",
   "version": "3.9.12"
  },
  "vscode": {
   "interpreter": {
    "hash": "31f2aee4e71d21fbe5cf8b01ff0e069b9275f58929596ceb00d14d90e3e16cd6"
   }
  }
 },
 "nbformat": 4,
 "nbformat_minor": 1
}
