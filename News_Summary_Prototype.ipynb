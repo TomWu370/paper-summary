{
 "cells": [
  {
   "cell_type": "markdown",
   "metadata": {
    "id": "LR4bovYL4CJz"
   },
   "source": [
    "## Dissertation Project - News Summary Dissertation [100 marks]\n",
    "\n",
    "### Motivation \n",
    "\n",
    "> 1. Provide tools for anyone needing to speed up their research process\n",
    "> 2. Providing ways for user to quickly determine whether a piece of research is beneficial for their specific search terms\n",
    "\n",
    "\n"
   ]
  },
  {
   "cell_type": "code",
   "execution_count": 290,
   "metadata": {},
   "outputs": [
    {
     "data": {
      "text/html": [
       "<script>\n",
       "code_show=true; \n",
       "function code_toggle() {\n",
       " if (code_show){\n",
       " $('div.input').hide();\n",
       " } else {\n",
       " $('div.input').show();\n",
       " }\n",
       " code_show = !code_show\n",
       "} \n",
       "$( document ).ready(code_toggle);\n",
       "</script>\n",
       "<form action=\"javascript:code_toggle()\"><input type=\"submit\" value=\"Toggle code.\"></form>"
      ],
      "text/plain": [
       "<IPython.core.display.HTML object>"
      ]
     },
     "execution_count": 290,
     "metadata": {},
     "output_type": "execute_result"
    }
   ],
   "source": [
    "from IPython.display import HTML\n",
    "\n",
    "HTML('''<script>\n",
    "code_show=true; \n",
    "function code_toggle() {\n",
    " if (code_show){\n",
    " $('div.input').hide();\n",
    " } else {\n",
    " $('div.input').show();\n",
    " }\n",
    " code_show = !code_show\n",
    "} \n",
    "$( document ).ready(code_toggle);\n",
    "</script>\n",
    "<form action=\"javascript:code_toggle()\"><input type=\"submit\" value=\"Toggle code.\"></form>''')"
   ]
  },
  {
   "cell_type": "markdown",
   "metadata": {},
   "source": [
    "### Imports"
   ]
  },
  {
   "cell_type": "code",
   "execution_count": 1,
   "metadata": {},
   "outputs": [],
   "source": [
    "import torch\n",
    "import torch.nn as nn\n",
    "import torchvision\n",
    "from torchvision import transforms\n",
    "import torchvision.models as models\n",
    "from torch.utils.data import Dataset, DataLoader, random_split\n",
    "from torch.nn.utils.rnn import pack_padded_sequence, pad_packed_sequence\n",
    "import pandas as pd\n",
    "import matplotlib.pyplot as plt\n",
    "from collections import Counter\n",
    "import os\n",
    "import numpy as np\n",
    "from PIL import Image\n",
    "from sklearn.model_selection import train_test_split\n",
    "from sklearn.feature_extraction.text import ENGLISH_STOP_WORDS\n",
    "import string\n",
    "import random\n",
    "from tqdm.notebook import tqdm\n",
    "import ipywidgets as widgets\n",
    "import fitz\n",
    "\n",
    "import numpy as np \n",
    "import pandas as pd\n",
    "import math\n",
    "\n",
    "import json\n",
    "\n",
    "DATASET = \"./Dataset/\""
   ]
  },
  {
   "cell_type": "markdown",
   "metadata": {},
   "source": [
    "Detect which device (CPU/GPU) to use."
   ]
  },
  {
   "cell_type": "code",
   "execution_count": 2,
   "metadata": {},
   "outputs": [
    {
     "name": "stdout",
     "output_type": "stream",
     "text": [
      "Using device: cuda\n"
     ]
    }
   ],
   "source": [
    "seed = 0\n",
    "random.seed(seed)\n",
    "torch.manual_seed(seed)\n",
    "torch.cuda.manual_seed(seed) \n",
    "torch.cuda.manual_seed_all(seed)\n",
    "device = torch.device('cuda' if torch.cuda.is_available() else 'cpu')\n",
    "print('Using device:', device)"
   ]
  },
  {
   "cell_type": "markdown",
   "metadata": {},
   "source": [
    "### Overview\n",
    "\n",
    "Summarisation model\n",
    "> 1. Dataset preprocessing\n",
    "> 2. Dataloader\n",
    "> 3. RNN model definition\n",
    "> 4. Model training\n",
    "> 5. Model prediction evaluation\n",
    "> 6. Dataset Exploration\n",
    "> 7. Dataset modification/Data Augmentation\n",
    "> 8. Model improvement\n",
    "> 9. Model finalisation and evaluation\n",
    "\n",
    "Paper querying\n",
    "> 1. Attention on query (Return usefulness percentage\n",
    "> 2. Evaluate performance\n"
   ]
  },
  {
   "cell_type": "markdown",
   "metadata": {},
   "source": [
    "# Data preprocessing"
   ]
  },
  {
   "cell_type": "code",
   "execution_count": 5,
   "metadata": {},
   "outputs": [],
   "source": [
    "# # Comment this block if dataset is reorganised\n",
    "# DATA_DIR = \"SSN/papers.SSN.jsonl\"\n",
    "# dataset_path = DATASET+DATA_DIR\n",
    "# with open(dataset_path) as f:\n",
    "#     lines = f.read().splitlines()\n",
    "# df_inter = pd.DataFrame(lines)\n",
    "# df_inter.columns = ['json_element']\n",
    "# df_final = pd.json_normalize(df_inter['json_element'].apply(json.loads))\n",
    "# df_final.to_json(\"./Dataset/SSN/SSN_Dataset.json\")\n",
    "# df_final"
   ]
  },
  {
   "cell_type": "code",
   "execution_count": null,
   "metadata": {},
   "outputs": [],
   "source": [
    "# for i,summary in df_final.iterrows():\n",
    "#     temp = summary[\"abstract\"]\n",
    "#     print(type(summary[\"abstract\"]))\n",
    "#     break"
   ]
  },
  {
   "cell_type": "code",
   "execution_count": 28,
   "metadata": {},
   "outputs": [
    {
     "data": {
      "text/html": [
       "<div>\n",
       "<style scoped>\n",
       "    .dataframe tbody tr th:only-of-type {\n",
       "        vertical-align: middle;\n",
       "    }\n",
       "\n",
       "    .dataframe tbody tr th {\n",
       "        vertical-align: top;\n",
       "    }\n",
       "\n",
       "    .dataframe thead th {\n",
       "        text-align: right;\n",
       "    }\n",
       "</style>\n",
       "<table border=\"1\" class=\"dataframe\">\n",
       "  <thead>\n",
       "    <tr style=\"text-align: right;\">\n",
       "      <th></th>\n",
       "      <th>paper_id</th>\n",
       "      <th>title</th>\n",
       "      <th>abstract</th>\n",
       "      <th>section_names</th>\n",
       "      <th>domain</th>\n",
       "      <th>text</th>\n",
       "    </tr>\n",
       "  </thead>\n",
       "  <tbody>\n",
       "    <tr>\n",
       "      <th>0</th>\n",
       "      <td>4650265</td>\n",
       "      <td>XGBoost: A Scalable Tree Boosting System</td>\n",
       "      <td>[tree boosting is a highly effective and widel...</td>\n",
       "      <td>[introduction, tree boosting in a nutshell, re...</td>\n",
       "      <td>[]</td>\n",
       "      <td>[[machine learning and data - driven approache...</td>\n",
       "    </tr>\n",
       "    <tr>\n",
       "      <th>1</th>\n",
       "      <td>9195903</td>\n",
       "      <td>Robust Face Alignment Using a Mixture of Invar...</td>\n",
       "      <td>[face alignment , which is the task of finding...</td>\n",
       "      <td>[introduction, previous work, our approach, su...</td>\n",
       "      <td>[Computer science]</td>\n",
       "      <td>[[face alignment refers to finding the pixel l...</td>\n",
       "    </tr>\n",
       "    <tr>\n",
       "      <th>2</th>\n",
       "      <td>119332442</td>\n",
       "      <td>Modulation instability associated nonlinear dy...</td>\n",
       "      <td>[we study pattern - forming nonlinear dynamics...</td>\n",
       "      <td>[introduction, modulation instability of becs ...</td>\n",
       "      <td>[Physics]</td>\n",
       "      <td>[[modulation instability ( mi ) is one of the ...</td>\n",
       "    </tr>\n",
       "    <tr>\n",
       "      <th>3</th>\n",
       "      <td>13494452</td>\n",
       "      <td>Free evolution on algebras with two states</td>\n",
       "      <td>[the key result in the paper concerns two tran...</td>\n",
       "      <td>[introduction, preliminaries, polynomials and ...</td>\n",
       "      <td>[Mathematics]</td>\n",
       "      <td>[[in a series of papers belinschi and nica int...</td>\n",
       "    </tr>\n",
       "    <tr>\n",
       "      <th>4</th>\n",
       "      <td>119269876</td>\n",
       "      <td>Light Dilaton at Fixed Points and Ultra Light ...</td>\n",
       "      <td>[we investigate the infrared dynamics of a non...</td>\n",
       "      <td>[introduction, a comment on the large nn and n...</td>\n",
       "      <td>[Physics]</td>\n",
       "      <td>[[understanding strong dynamics constitutes a ...</td>\n",
       "    </tr>\n",
       "    <tr>\n",
       "      <th>...</th>\n",
       "      <td>...</td>\n",
       "      <td>...</td>\n",
       "      <td>...</td>\n",
       "      <td>...</td>\n",
       "      <td>...</td>\n",
       "      <td>...</td>\n",
       "    </tr>\n",
       "    <tr>\n",
       "      <th>140794</th>\n",
       "      <td>12157610</td>\n",
       "      <td>Minimal and Maximal Operator Spaces and Operat...</td>\n",
       "      <td>[we examine k - minimal and k - maximal operat...</td>\n",
       "      <td>[introduction, quantum information theory prel...</td>\n",
       "      <td>[Mathematics]</td>\n",
       "      <td>[[a primary goal of this paper is to formally ...</td>\n",
       "    </tr>\n",
       "    <tr>\n",
       "      <th>140795</th>\n",
       "      <td>14690185</td>\n",
       "      <td>AN OBSTRUCTION TO ASYMPTOTIC SEMISTABILITY AND...</td>\n",
       "      <td>[in this paper , we consider an obstruction to...</td>\n",
       "      <td>[introduction, statement of results, an obstru...</td>\n",
       "      <td>[Mathematics]</td>\n",
       "      <td>[[for a polarized algebraic manifold inlinefor...</td>\n",
       "    </tr>\n",
       "    <tr>\n",
       "      <th>140796</th>\n",
       "      <td>15296646</td>\n",
       "      <td>Direct Detection of Neutralino Dark Matter and...</td>\n",
       "      <td>[we compare predictions for the spin - indepen...</td>\n",
       "      <td>[introduction, msugra, more general models, co...</td>\n",
       "      <td>[Physics]</td>\n",
       "      <td>[[the minimal supersymmetric standard model ( ...</td>\n",
       "    </tr>\n",
       "    <tr>\n",
       "      <th>140797</th>\n",
       "      <td>119576690</td>\n",
       "      <td>PCA by Optimisation of Symmetric Functions has...</td>\n",
       "      <td>[principal component analysis ( pca ) finds th...</td>\n",
       "      <td>[introduction, pca by determinant optimisation...</td>\n",
       "      <td>[Mathematics]</td>\n",
       "      <td>[[let inlineform0 be a data matrix , with rows...</td>\n",
       "    </tr>\n",
       "    <tr>\n",
       "      <th>140798</th>\n",
       "      <td>119301470</td>\n",
       "      <td>Turbulent fluxes of entropy and internal energ...</td>\n",
       "      <td>[we derive equations for the mean entropy and,...</td>\n",
       "      <td>[introduction, turbulent convective flux of me...</td>\n",
       "      <td>[Physics]</td>\n",
       "      <td>[[temperature stratified turbulence ( e.g. , t...</td>\n",
       "    </tr>\n",
       "  </tbody>\n",
       "</table>\n",
       "<p>140799 rows × 6 columns</p>\n",
       "</div>"
      ],
      "text/plain": [
       "         paper_id                                              title  \\\n",
       "0         4650265           XGBoost: A Scalable Tree Boosting System   \n",
       "1         9195903  Robust Face Alignment Using a Mixture of Invar...   \n",
       "2       119332442  Modulation instability associated nonlinear dy...   \n",
       "3        13494452         Free evolution on algebras with two states   \n",
       "4       119269876  Light Dilaton at Fixed Points and Ultra Light ...   \n",
       "...           ...                                                ...   \n",
       "140794   12157610  Minimal and Maximal Operator Spaces and Operat...   \n",
       "140795   14690185  AN OBSTRUCTION TO ASYMPTOTIC SEMISTABILITY AND...   \n",
       "140796   15296646  Direct Detection of Neutralino Dark Matter and...   \n",
       "140797  119576690  PCA by Optimisation of Symmetric Functions has...   \n",
       "140798  119301470  Turbulent fluxes of entropy and internal energ...   \n",
       "\n",
       "                                                 abstract  \\\n",
       "0       [tree boosting is a highly effective and widel...   \n",
       "1       [face alignment , which is the task of finding...   \n",
       "2       [we study pattern - forming nonlinear dynamics...   \n",
       "3       [the key result in the paper concerns two tran...   \n",
       "4       [we investigate the infrared dynamics of a non...   \n",
       "...                                                   ...   \n",
       "140794  [we examine k - minimal and k - maximal operat...   \n",
       "140795  [in this paper , we consider an obstruction to...   \n",
       "140796  [we compare predictions for the spin - indepen...   \n",
       "140797  [principal component analysis ( pca ) finds th...   \n",
       "140798  [we derive equations for the mean entropy and,...   \n",
       "\n",
       "                                            section_names              domain  \\\n",
       "0       [introduction, tree boosting in a nutshell, re...                  []   \n",
       "1       [introduction, previous work, our approach, su...  [Computer science]   \n",
       "2       [introduction, modulation instability of becs ...           [Physics]   \n",
       "3       [introduction, preliminaries, polynomials and ...       [Mathematics]   \n",
       "4       [introduction, a comment on the large nn and n...           [Physics]   \n",
       "...                                                   ...                 ...   \n",
       "140794  [introduction, quantum information theory prel...       [Mathematics]   \n",
       "140795  [introduction, statement of results, an obstru...       [Mathematics]   \n",
       "140796  [introduction, msugra, more general models, co...           [Physics]   \n",
       "140797  [introduction, pca by determinant optimisation...       [Mathematics]   \n",
       "140798  [introduction, turbulent convective flux of me...           [Physics]   \n",
       "\n",
       "                                                     text  \n",
       "0       [[machine learning and data - driven approache...  \n",
       "1       [[face alignment refers to finding the pixel l...  \n",
       "2       [[modulation instability ( mi ) is one of the ...  \n",
       "3       [[in a series of papers belinschi and nica int...  \n",
       "4       [[understanding strong dynamics constitutes a ...  \n",
       "...                                                   ...  \n",
       "140794  [[a primary goal of this paper is to formally ...  \n",
       "140795  [[for a polarized algebraic manifold inlinefor...  \n",
       "140796  [[the minimal supersymmetric standard model ( ...  \n",
       "140797  [[let inlineform0 be a data matrix , with rows...  \n",
       "140798  [[temperature stratified turbulence ( e.g. , t...  \n",
       "\n",
       "[140799 rows x 6 columns]"
      ]
     },
     "execution_count": 28,
     "metadata": {},
     "output_type": "execute_result"
    }
   ],
   "source": [
    "# #Comment this block if dataset is shortened\n",
    "# DATA_DIR = \"SSN/SSN_Dataset.json\"\n",
    "# dataset_path = DATASET+DATA_DIR\n",
    "# df = pd.read_json(dataset_path)\n",
    "# df"
   ]
  },
  {
   "cell_type": "code",
   "execution_count": 32,
   "metadata": {},
   "outputs": [
    {
     "data": {
      "text/plain": [
       "['introduction',\n",
       " 'quantum information theory preliminaries',\n",
       " 'kk-minimal and kk-maximal operator spaces',\n",
       " 'kk-super minimal and kk-super maximal operator systems',\n",
       " 'norms on operator systems',\n",
       " 'contractive maps as separability criteria']"
      ]
     },
     "execution_count": 32,
     "metadata": {},
     "output_type": "execute_result"
    }
   ],
   "source": [
    "# df.iloc[140794][\"section_names\"]"
   ]
  },
  {
   "cell_type": "markdown",
   "metadata": {},
   "source": [
    "Function to return index for conclusion section"
   ]
  },
  {
   "cell_type": "code",
   "execution_count": 12,
   "metadata": {},
   "outputs": [],
   "source": [
    "# def trim_index(row):\n",
    "#     return [row.index(x)+1 for x in row if x.startswith('conclusion') or x.startswith(\"summar\")]"
   ]
  },
  {
   "cell_type": "code",
   "execution_count": 13,
   "metadata": {},
   "outputs": [],
   "source": [
    "# def trim_text(text, index):\n",
    "#     return text[0:index]"
   ]
  },
  {
   "cell_type": "code",
   "execution_count": 14,
   "metadata": {},
   "outputs": [
    {
     "name": "stdout",
     "output_type": "stream",
     "text": [
      "49413\n"
     ]
    }
   ],
   "source": [
    "# # Comment this block if dataset is shortened\n",
    "# # Trim text after conclusion\n",
    "# indexes = []\n",
    "# for i, row in df.iterrows():\n",
    "#     section = row[\"section_names\"]\n",
    "#     #print(section)\n",
    "#     index = trim_index(section)\n",
    "#     #print(index)\n",
    "#     if not index:\n",
    "#         indexes.append(i)\n",
    "#     # if section can be filtered\n",
    "#     else:\n",
    "#         index = index[0]\n",
    "#         abstract = row[\"abstract\"]\n",
    "#         text = row[\"text\"]\n",
    "#         section = row[\"section_names\"]\n",
    "#         df.at[i, \"section_names\"] = trim_text(section, index)\n",
    "#         df.at[i, \"abstract\"] = trim_text(abstract, index)\n",
    "#         df.at[i, \"text\"] = trim_text(text, index)\n",
    "# # dropping rows in dataframe that can't easily filter out reference section\n",
    "# print(len(indexes))\n",
    "# df.drop(indexes, inplace=True)\n",
    "# df.to_json(\"./Dataset/SSN/SSN_Dataset_Short.json\")"
   ]
  },
  {
   "cell_type": "markdown",
   "metadata": {},
   "source": [
    "35% of paper will be removed from the dataset due to it not having conclusion(s) and summary(ies) in their section titles, making it difficult to filter out the reference and appendix text"
   ]
  },
  {
   "cell_type": "code",
   "execution_count": 23,
   "metadata": {
    "scrolled": true
   },
   "outputs": [
    {
     "data": {
      "text/html": [
       "<div>\n",
       "<style scoped>\n",
       "    .dataframe tbody tr th:only-of-type {\n",
       "        vertical-align: middle;\n",
       "    }\n",
       "\n",
       "    .dataframe tbody tr th {\n",
       "        vertical-align: top;\n",
       "    }\n",
       "\n",
       "    .dataframe thead th {\n",
       "        text-align: right;\n",
       "    }\n",
       "</style>\n",
       "<table border=\"1\" class=\"dataframe\">\n",
       "  <thead>\n",
       "    <tr style=\"text-align: right;\">\n",
       "      <th></th>\n",
       "      <th>paper_id</th>\n",
       "      <th>title</th>\n",
       "      <th>abstract</th>\n",
       "      <th>section_names</th>\n",
       "      <th>domain</th>\n",
       "      <th>text</th>\n",
       "    </tr>\n",
       "  </thead>\n",
       "  <tbody>\n",
       "    <tr>\n",
       "      <th>0</th>\n",
       "      <td>4650265</td>\n",
       "      <td>XGBoost: A Scalable Tree Boosting System</td>\n",
       "      <td>[tree boosting is a highly effective and widel...</td>\n",
       "      <td>[introduction, tree boosting in a nutshell, re...</td>\n",
       "      <td>[]</td>\n",
       "      <td>[[machine learning and data - driven approache...</td>\n",
       "    </tr>\n",
       "    <tr>\n",
       "      <th>1</th>\n",
       "      <td>9195903</td>\n",
       "      <td>Robust Face Alignment Using a Mixture of Invar...</td>\n",
       "      <td>[face alignment , which is the task of finding...</td>\n",
       "      <td>[introduction, previous work, our approach, su...</td>\n",
       "      <td>[Computer science]</td>\n",
       "      <td>[[face alignment refers to finding the pixel l...</td>\n",
       "    </tr>\n",
       "    <tr>\n",
       "      <th>2</th>\n",
       "      <td>119332442</td>\n",
       "      <td>Modulation instability associated nonlinear dy...</td>\n",
       "      <td>[we study pattern - forming nonlinear dynamics...</td>\n",
       "      <td>[introduction, modulation instability of becs ...</td>\n",
       "      <td>[Physics]</td>\n",
       "      <td>[[modulation instability ( mi ) is one of the ...</td>\n",
       "    </tr>\n",
       "    <tr>\n",
       "      <th>3</th>\n",
       "      <td>119269876</td>\n",
       "      <td>Light Dilaton at Fixed Points and Ultra Light ...</td>\n",
       "      <td>[we investigate the infrared dynamics of a non...</td>\n",
       "      <td>[introduction, a comment on the large nn and n...</td>\n",
       "      <td>[Physics]</td>\n",
       "      <td>[[understanding strong dynamics constitutes a ...</td>\n",
       "    </tr>\n",
       "    <tr>\n",
       "      <th>4</th>\n",
       "      <td>59413881</td>\n",
       "      <td>Decoder-tailored Polar Code Design Using the G...</td>\n",
       "      <td>[we propose a new framework for constructing p...</td>\n",
       "      <td>[introduction, polar codes, polar code constru...</td>\n",
       "      <td>[Computer science, Mathematics]</td>\n",
       "      <td>[[polar codes   are the first family of codes ...</td>\n",
       "    </tr>\n",
       "    <tr>\n",
       "      <th>...</th>\n",
       "      <td>...</td>\n",
       "      <td>...</td>\n",
       "      <td>...</td>\n",
       "      <td>...</td>\n",
       "      <td>...</td>\n",
       "      <td>...</td>\n",
       "    </tr>\n",
       "    <tr>\n",
       "      <th>91381</th>\n",
       "      <td>1520660</td>\n",
       "      <td>Dirichlet Process Mixtures of Generalized Line...</td>\n",
       "      <td>[we propose dirichlet process mixtures of gene...</td>\n",
       "      <td>[introduction, related work, mathematical back...</td>\n",
       "      <td>[Mathematics, Computer science]</td>\n",
       "      <td>[[in this paper , we examine the general regre...</td>\n",
       "    </tr>\n",
       "    <tr>\n",
       "      <th>91382</th>\n",
       "      <td>118501110</td>\n",
       "      <td>Minimal Matter at the Large Hadron Collider</td>\n",
       "      <td>[we classify all possible new u(1 ) x su(2 ), ...</td>\n",
       "      <td>[introduction, new matter and its production, ...</td>\n",
       "      <td>[Physics]</td>\n",
       "      <td>[[the higgs mass hierarchy puzzle suggests new...</td>\n",
       "    </tr>\n",
       "    <tr>\n",
       "      <th>91383</th>\n",
       "      <td>16180248</td>\n",
       "      <td>On simulations of the classical harmonic oscil...</td>\n",
       "      <td>[we show that any second order linear ordinary...</td>\n",
       "      <td>[introduction, simplest discretizations of the...</td>\n",
       "      <td>[Physics, Mathematics]</td>\n",
       "      <td>[[the motivation for writing this paper is an ...</td>\n",
       "    </tr>\n",
       "    <tr>\n",
       "      <th>91384</th>\n",
       "      <td>15296646</td>\n",
       "      <td>Direct Detection of Neutralino Dark Matter and...</td>\n",
       "      <td>[we compare predictions for the spin - indepen...</td>\n",
       "      <td>[introduction, msugra, more general models, co...</td>\n",
       "      <td>[Physics]</td>\n",
       "      <td>[[the minimal supersymmetric standard model ( ...</td>\n",
       "    </tr>\n",
       "    <tr>\n",
       "      <th>91385</th>\n",
       "      <td>119301470</td>\n",
       "      <td>Turbulent fluxes of entropy and internal energ...</td>\n",
       "      <td>[we derive equations for the mean entropy and,...</td>\n",
       "      <td>[introduction, turbulent convective flux of me...</td>\n",
       "      <td>[Physics]</td>\n",
       "      <td>[[temperature stratified turbulence ( e.g. , t...</td>\n",
       "    </tr>\n",
       "  </tbody>\n",
       "</table>\n",
       "<p>91386 rows × 6 columns</p>\n",
       "</div>"
      ],
      "text/plain": [
       "        paper_id                                              title  \\\n",
       "0        4650265           XGBoost: A Scalable Tree Boosting System   \n",
       "1        9195903  Robust Face Alignment Using a Mixture of Invar...   \n",
       "2      119332442  Modulation instability associated nonlinear dy...   \n",
       "3      119269876  Light Dilaton at Fixed Points and Ultra Light ...   \n",
       "4       59413881  Decoder-tailored Polar Code Design Using the G...   \n",
       "...          ...                                                ...   \n",
       "91381    1520660  Dirichlet Process Mixtures of Generalized Line...   \n",
       "91382  118501110        Minimal Matter at the Large Hadron Collider   \n",
       "91383   16180248  On simulations of the classical harmonic oscil...   \n",
       "91384   15296646  Direct Detection of Neutralino Dark Matter and...   \n",
       "91385  119301470  Turbulent fluxes of entropy and internal energ...   \n",
       "\n",
       "                                                abstract  \\\n",
       "0      [tree boosting is a highly effective and widel...   \n",
       "1      [face alignment , which is the task of finding...   \n",
       "2      [we study pattern - forming nonlinear dynamics...   \n",
       "3      [we investigate the infrared dynamics of a non...   \n",
       "4      [we propose a new framework for constructing p...   \n",
       "...                                                  ...   \n",
       "91381  [we propose dirichlet process mixtures of gene...   \n",
       "91382  [we classify all possible new u(1 ) x su(2 ), ...   \n",
       "91383  [we show that any second order linear ordinary...   \n",
       "91384  [we compare predictions for the spin - indepen...   \n",
       "91385  [we derive equations for the mean entropy and,...   \n",
       "\n",
       "                                           section_names  \\\n",
       "0      [introduction, tree boosting in a nutshell, re...   \n",
       "1      [introduction, previous work, our approach, su...   \n",
       "2      [introduction, modulation instability of becs ...   \n",
       "3      [introduction, a comment on the large nn and n...   \n",
       "4      [introduction, polar codes, polar code constru...   \n",
       "...                                                  ...   \n",
       "91381  [introduction, related work, mathematical back...   \n",
       "91382  [introduction, new matter and its production, ...   \n",
       "91383  [introduction, simplest discretizations of the...   \n",
       "91384  [introduction, msugra, more general models, co...   \n",
       "91385  [introduction, turbulent convective flux of me...   \n",
       "\n",
       "                                domain  \\\n",
       "0                                   []   \n",
       "1                   [Computer science]   \n",
       "2                            [Physics]   \n",
       "3                            [Physics]   \n",
       "4      [Computer science, Mathematics]   \n",
       "...                                ...   \n",
       "91381  [Mathematics, Computer science]   \n",
       "91382                        [Physics]   \n",
       "91383           [Physics, Mathematics]   \n",
       "91384                        [Physics]   \n",
       "91385                        [Physics]   \n",
       "\n",
       "                                                    text  \n",
       "0      [[machine learning and data - driven approache...  \n",
       "1      [[face alignment refers to finding the pixel l...  \n",
       "2      [[modulation instability ( mi ) is one of the ...  \n",
       "3      [[understanding strong dynamics constitutes a ...  \n",
       "4      [[polar codes   are the first family of codes ...  \n",
       "...                                                  ...  \n",
       "91381  [[in this paper , we examine the general regre...  \n",
       "91382  [[the higgs mass hierarchy puzzle suggests new...  \n",
       "91383  [[the motivation for writing this paper is an ...  \n",
       "91384  [[the minimal supersymmetric standard model ( ...  \n",
       "91385  [[temperature stratified turbulence ( e.g. , t...  \n",
       "\n",
       "[91386 rows x 6 columns]"
      ]
     },
     "execution_count": 23,
     "metadata": {},
     "output_type": "execute_result"
    }
   ],
   "source": [
    "# DATA_DIR = \"SSN/SSN_Dataset_Short.json\"\n",
    "# dataset_path = DATASET+DATA_DIR\n",
    "# df = pd.read_json(dataset_path)\n",
    "# df.reset_index(drop=True, inplace=True)\n",
    "# df"
   ]
  },
  {
   "cell_type": "code",
   "execution_count": 24,
   "metadata": {},
   "outputs": [
    {
     "data": {
      "text/html": [
       "<div>\n",
       "<style scoped>\n",
       "    .dataframe tbody tr th:only-of-type {\n",
       "        vertical-align: middle;\n",
       "    }\n",
       "\n",
       "    .dataframe tbody tr th {\n",
       "        vertical-align: top;\n",
       "    }\n",
       "\n",
       "    .dataframe thead th {\n",
       "        text-align: right;\n",
       "    }\n",
       "</style>\n",
       "<table border=\"1\" class=\"dataframe\">\n",
       "  <thead>\n",
       "    <tr style=\"text-align: right;\">\n",
       "      <th></th>\n",
       "      <th>abstract</th>\n",
       "      <th>text</th>\n",
       "    </tr>\n",
       "  </thead>\n",
       "  <tbody>\n",
       "    <tr>\n",
       "      <th>0</th>\n",
       "      <td>[tree boosting is a highly effective and widel...</td>\n",
       "      <td>[[machine learning and data - driven approache...</td>\n",
       "    </tr>\n",
       "    <tr>\n",
       "      <th>1</th>\n",
       "      <td>[face alignment , which is the task of finding...</td>\n",
       "      <td>[[face alignment refers to finding the pixel l...</td>\n",
       "    </tr>\n",
       "    <tr>\n",
       "      <th>2</th>\n",
       "      <td>[we study pattern - forming nonlinear dynamics...</td>\n",
       "      <td>[[modulation instability ( mi ) is one of the ...</td>\n",
       "    </tr>\n",
       "    <tr>\n",
       "      <th>3</th>\n",
       "      <td>[we investigate the infrared dynamics of a non...</td>\n",
       "      <td>[[understanding strong dynamics constitutes a ...</td>\n",
       "    </tr>\n",
       "    <tr>\n",
       "      <th>4</th>\n",
       "      <td>[we propose a new framework for constructing p...</td>\n",
       "      <td>[[polar codes   are the first family of codes ...</td>\n",
       "    </tr>\n",
       "    <tr>\n",
       "      <th>...</th>\n",
       "      <td>...</td>\n",
       "      <td>...</td>\n",
       "    </tr>\n",
       "    <tr>\n",
       "      <th>91381</th>\n",
       "      <td>[we propose dirichlet process mixtures of gene...</td>\n",
       "      <td>[[in this paper , we examine the general regre...</td>\n",
       "    </tr>\n",
       "    <tr>\n",
       "      <th>91382</th>\n",
       "      <td>[we classify all possible new u(1 ) x su(2 ), ...</td>\n",
       "      <td>[[the higgs mass hierarchy puzzle suggests new...</td>\n",
       "    </tr>\n",
       "    <tr>\n",
       "      <th>91383</th>\n",
       "      <td>[we show that any second order linear ordinary...</td>\n",
       "      <td>[[the motivation for writing this paper is an ...</td>\n",
       "    </tr>\n",
       "    <tr>\n",
       "      <th>91384</th>\n",
       "      <td>[we compare predictions for the spin - indepen...</td>\n",
       "      <td>[[the minimal supersymmetric standard model ( ...</td>\n",
       "    </tr>\n",
       "    <tr>\n",
       "      <th>91385</th>\n",
       "      <td>[we derive equations for the mean entropy and,...</td>\n",
       "      <td>[[temperature stratified turbulence ( e.g. , t...</td>\n",
       "    </tr>\n",
       "  </tbody>\n",
       "</table>\n",
       "<p>91386 rows × 2 columns</p>\n",
       "</div>"
      ],
      "text/plain": [
       "                                                abstract  \\\n",
       "0      [tree boosting is a highly effective and widel...   \n",
       "1      [face alignment , which is the task of finding...   \n",
       "2      [we study pattern - forming nonlinear dynamics...   \n",
       "3      [we investigate the infrared dynamics of a non...   \n",
       "4      [we propose a new framework for constructing p...   \n",
       "...                                                  ...   \n",
       "91381  [we propose dirichlet process mixtures of gene...   \n",
       "91382  [we classify all possible new u(1 ) x su(2 ), ...   \n",
       "91383  [we show that any second order linear ordinary...   \n",
       "91384  [we compare predictions for the spin - indepen...   \n",
       "91385  [we derive equations for the mean entropy and,...   \n",
       "\n",
       "                                                    text  \n",
       "0      [[machine learning and data - driven approache...  \n",
       "1      [[face alignment refers to finding the pixel l...  \n",
       "2      [[modulation instability ( mi ) is one of the ...  \n",
       "3      [[understanding strong dynamics constitutes a ...  \n",
       "4      [[polar codes   are the first family of codes ...  \n",
       "...                                                  ...  \n",
       "91381  [[in this paper , we examine the general regre...  \n",
       "91382  [[the higgs mass hierarchy puzzle suggests new...  \n",
       "91383  [[the motivation for writing this paper is an ...  \n",
       "91384  [[the minimal supersymmetric standard model ( ...  \n",
       "91385  [[temperature stratified turbulence ( e.g. , t...  \n",
       "\n",
       "[91386 rows x 2 columns]"
      ]
     },
     "execution_count": 24,
     "metadata": {},
     "output_type": "execute_result"
    }
   ],
   "source": [
    "# summary_df = df[[\"abstract\", \"text\"]]\n",
    "# summary_df"
   ]
  },
  {
   "cell_type": "markdown",
   "metadata": {},
   "source": [
    "Check if any columns contain empty values"
   ]
  },
  {
   "cell_type": "code",
   "execution_count": 17,
   "metadata": {},
   "outputs": [
    {
     "data": {
      "text/plain": [
       "abstract    False\n",
       "text        False\n",
       "dtype: bool"
      ]
     },
     "execution_count": 17,
     "metadata": {},
     "output_type": "execute_result"
    }
   ],
   "source": [
    "# summary_df.isnull().any()"
   ]
  },
  {
   "cell_type": "markdown",
   "metadata": {},
   "source": [
    "\\'hi\\' \\ is used for space <br>\n",
    "random space, which is used for reference [15] quote box <br>\n",
    "sec ref is hyperlink to a section <br>\n",
    "fig ref is hyperlink to a figure <br>\n",
    "inlineform <br>\n",
    "displayform are both symbols, both contains numbers in string <br>\n",
    "remove all forms and remove all symbols but keep numbers <br>"
   ]
  },
  {
   "cell_type": "code",
   "execution_count": 139,
   "metadata": {},
   "outputs": [],
   "source": [
    "def contain_let(string):\n",
    "    return any(char.isalpha() for char in string)"
   ]
  },
  {
   "cell_type": "code",
   "execution_count": 140,
   "metadata": {},
   "outputs": [],
   "source": [
    "def contain_num(string):\n",
    "    return any(char.isdigit() for char in string)"
   ]
  },
  {
   "cell_type": "code",
   "execution_count": 141,
   "metadata": {},
   "outputs": [],
   "source": [
    "def cleanLine(line, text=True):\n",
    "    \"Text parameter is to indicate whether the line is from text or abstract\"\n",
    "    alphabet = list(string.ascii_lowercase)\n",
    "    number = list(map(str, range(10)))\n",
    "    symbols = [\"'\", \"’\"]\n",
    "    valid_char = alphabet + number + symbols\n",
    "    stop_words = list(ENGLISH_STOP_WORDS)\n",
    "    \n",
    "    clean_line = line.lower()\n",
    "    \n",
    "    # fix apostrophes in line by removing apostrophe with no following alphabet character\n",
    "    clean_line = clean_line.replace(\"' \", \" \")\n",
    "    if clean_line and (clean_line[-1] == \"'\"):\n",
    "        clean_line = clean_line[0:len(clean_line)-1]\n",
    "    # fix apostrophes in line by removing space before single quote\n",
    "    clean_line = clean_line.replace(\" '\", \"'\")\n",
    "    #remove punctuation\n",
    "    # replace all non alphabet character with space\n",
    "    difference = list(set(clean_line).symmetric_difference(valid_char))\n",
    "    # consider removing words if they contain weird characters, as punctuations are\n",
    "    # separated with a space\n",
    "    for dif in difference:\n",
    "        clean_line = clean_line.replace(dif, \" \")\n",
    "    \n",
    "    # clean line = clean line remove forms\n",
    "    words = clean_line.split()\n",
    "\n",
    "    #  remove forms\n",
    "    words = [x.replace(x, \"\") if contain_let(x) and contain_num(x) else x for x in words]\n",
    "    # remove empty strings\n",
    "    words = filter(None, words)\n",
    "\n",
    "    # stop words from sklearn, remove stop words\n",
    "    if text:\n",
    "        words = [x for x in words if not x in stop_words]\n",
    "\n",
    "    # combine the items into 1 string\n",
    "    clean_line = ' '.join(words)\n",
    "    return clean_line"
   ]
  },
  {
   "cell_type": "code",
   "execution_count": 134,
   "metadata": {},
   "outputs": [],
   "source": [
    "def concatParagraph(paragraph, text):\n",
    "    clean_paragraph = \"\"\n",
    "    for line in paragraph:\n",
    "        lines = cleanLine(line)\n",
    "        clean_paragraph += cleanLine(lines, text) + \" \"\n",
    "        #print(clean_paragraph)\n",
    "        \n",
    "    return(clean_paragraph.strip())"
   ]
  },
  {
   "cell_type": "code",
   "execution_count": 135,
   "metadata": {},
   "outputs": [],
   "source": [
    "def concatPaper(paper, text):\n",
    "    clean_paper = \"\"\n",
    "    for paragraph in paper:\n",
    "        clean_paper += concatParagraph(paragraph, text) + \" \"\n",
    "    return(clean_paper.strip())"
   ]
  },
  {
   "cell_type": "code",
   "execution_count": 34,
   "metadata": {
    "scrolled": true
   },
   "outputs": [
    {
     "data": {
      "application/vnd.jupyter.widget-view+json": {
       "model_id": "06c747d1730049bb899ed98de284d97b",
       "version_major": 2,
       "version_minor": 0
      },
      "text/plain": [
       "  0%|          | 0/91386 [00:00<?, ?it/s]"
      ]
     },
     "metadata": {},
     "output_type": "display_data"
    }
   ],
   "source": [
    "for i, row in tqdm(summary_df.iterrows(), total=df.shape[0]):\n",
    "    abstract = row[\"abstract\"]\n",
    "    paper = row[\"text\"]\n",
    "    \n",
    "    summary_df.at[i, \"abstract\"] = concatParagraph(abstract, text=False)\n",
    "    summary_df.at[i, \"text\"] = concatPaper(paper)"
   ]
  },
  {
   "cell_type": "code",
   "execution_count": 35,
   "metadata": {},
   "outputs": [
    {
     "data": {
      "text/html": [
       "<div>\n",
       "<style scoped>\n",
       "    .dataframe tbody tr th:only-of-type {\n",
       "        vertical-align: middle;\n",
       "    }\n",
       "\n",
       "    .dataframe tbody tr th {\n",
       "        vertical-align: top;\n",
       "    }\n",
       "\n",
       "    .dataframe thead th {\n",
       "        text-align: right;\n",
       "    }\n",
       "</style>\n",
       "<table border=\"1\" class=\"dataframe\">\n",
       "  <thead>\n",
       "    <tr style=\"text-align: right;\">\n",
       "      <th></th>\n",
       "      <th>abstract</th>\n",
       "      <th>text</th>\n",
       "    </tr>\n",
       "  </thead>\n",
       "  <tbody>\n",
       "    <tr>\n",
       "      <th>0</th>\n",
       "      <td>tree boosting is a highly effective and widely...</td>\n",
       "      <td>machine learning and data driven approaches ar...</td>\n",
       "    </tr>\n",
       "    <tr>\n",
       "      <th>1</th>\n",
       "      <td>face alignment which is the task of finding th...</td>\n",
       "      <td>face alignment refers to finding the pixel loc...</td>\n",
       "    </tr>\n",
       "    <tr>\n",
       "      <th>2</th>\n",
       "      <td>we study pattern forming nonlinear dynamics st...</td>\n",
       "      <td>modulation instability mi is one of the most f...</td>\n",
       "    </tr>\n",
       "    <tr>\n",
       "      <th>3</th>\n",
       "      <td>we investigate the infrared dynamics of a nons...</td>\n",
       "      <td>understanding strong dynamics constitutes a co...</td>\n",
       "    </tr>\n",
       "    <tr>\n",
       "      <th>4</th>\n",
       "      <td>we propose a new framework for constructing po...</td>\n",
       "      <td>polar codes are the first family of codes prov...</td>\n",
       "    </tr>\n",
       "    <tr>\n",
       "      <th>...</th>\n",
       "      <td>...</td>\n",
       "      <td>...</td>\n",
       "    </tr>\n",
       "    <tr>\n",
       "      <th>91381</th>\n",
       "      <td>we propose dirichlet process mixtures of gener...</td>\n",
       "      <td>in this paper we examine the general regressio...</td>\n",
       "    </tr>\n",
       "    <tr>\n",
       "      <th>91382</th>\n",
       "      <td>we classify all possible new u 1 x su 2 x su 3...</td>\n",
       "      <td>the higgs mass hierarchy puzzle suggests new p...</td>\n",
       "    </tr>\n",
       "    <tr>\n",
       "      <th>91383</th>\n",
       "      <td>we show that any second order linear ordinary ...</td>\n",
       "      <td>the motivation for writing this paper is an ob...</td>\n",
       "    </tr>\n",
       "    <tr>\n",
       "      <th>91384</th>\n",
       "      <td>we compare predictions for the spin independen...</td>\n",
       "      <td>the minimal supersymmetric standard model mssm...</td>\n",
       "    </tr>\n",
       "    <tr>\n",
       "      <th>91385</th>\n",
       "      <td>we derive equations for the mean entropy and t...</td>\n",
       "      <td>temperature stratified turbulence e g turbulen...</td>\n",
       "    </tr>\n",
       "  </tbody>\n",
       "</table>\n",
       "<p>91386 rows × 2 columns</p>\n",
       "</div>"
      ],
      "text/plain": [
       "                                                abstract  \\\n",
       "0      tree boosting is a highly effective and widely...   \n",
       "1      face alignment which is the task of finding th...   \n",
       "2      we study pattern forming nonlinear dynamics st...   \n",
       "3      we investigate the infrared dynamics of a nons...   \n",
       "4      we propose a new framework for constructing po...   \n",
       "...                                                  ...   \n",
       "91381  we propose dirichlet process mixtures of gener...   \n",
       "91382  we classify all possible new u 1 x su 2 x su 3...   \n",
       "91383  we show that any second order linear ordinary ...   \n",
       "91384  we compare predictions for the spin independen...   \n",
       "91385  we derive equations for the mean entropy and t...   \n",
       "\n",
       "                                                    text  \n",
       "0      machine learning and data driven approaches ar...  \n",
       "1      face alignment refers to finding the pixel loc...  \n",
       "2      modulation instability mi is one of the most f...  \n",
       "3      understanding strong dynamics constitutes a co...  \n",
       "4      polar codes are the first family of codes prov...  \n",
       "...                                                  ...  \n",
       "91381  in this paper we examine the general regressio...  \n",
       "91382  the higgs mass hierarchy puzzle suggests new p...  \n",
       "91383  the motivation for writing this paper is an ob...  \n",
       "91384  the minimal supersymmetric standard model mssm...  \n",
       "91385  temperature stratified turbulence e g turbulen...  \n",
       "\n",
       "[91386 rows x 2 columns]"
      ]
     },
     "execution_count": 35,
     "metadata": {},
     "output_type": "execute_result"
    }
   ],
   "source": [
    "summary_df.to_json(\"./Dataset/SSN/SSN_Dataset_Short_Clean_NoStop.json\")\n",
    "summary_df"
   ]
  },
  {
   "cell_type": "code",
   "execution_count": 95,
   "metadata": {},
   "outputs": [
    {
     "data": {
      "text/html": [
       "<div>\n",
       "<style scoped>\n",
       "    .dataframe tbody tr th:only-of-type {\n",
       "        vertical-align: middle;\n",
       "    }\n",
       "\n",
       "    .dataframe tbody tr th {\n",
       "        vertical-align: top;\n",
       "    }\n",
       "\n",
       "    .dataframe thead th {\n",
       "        text-align: right;\n",
       "    }\n",
       "</style>\n",
       "<table border=\"1\" class=\"dataframe\">\n",
       "  <thead>\n",
       "    <tr style=\"text-align: right;\">\n",
       "      <th></th>\n",
       "      <th>abstract</th>\n",
       "      <th>text</th>\n",
       "    </tr>\n",
       "  </thead>\n",
       "  <tbody>\n",
       "    <tr>\n",
       "      <th>0</th>\n",
       "      <td>we investigate the infrared dynamics of a nons...</td>\n",
       "      <td>understanding strong dynamics constitutes a co...</td>\n",
       "    </tr>\n",
       "    <tr>\n",
       "      <th>1</th>\n",
       "      <td>this paper presents the first derivation of th...</td>\n",
       "      <td>cuscuton gravity was originally proposed about...</td>\n",
       "    </tr>\n",
       "    <tr>\n",
       "      <th>2</th>\n",
       "      <td>in this brief review we examine the theoretica...</td>\n",
       "      <td>a recent milestone in observational cosmology ...</td>\n",
       "    </tr>\n",
       "    <tr>\n",
       "      <th>3</th>\n",
       "      <td>we discuss leptogenesis within a tev scale inv...</td>\n",
       "      <td>one of the attractive features of the seesaw m...</td>\n",
       "    </tr>\n",
       "    <tr>\n",
       "      <th>4</th>\n",
       "      <td>we address the question on how weak perturbati...</td>\n",
       "      <td>within the usual wisdom it is quite intuitive ...</td>\n",
       "    </tr>\n",
       "    <tr>\n",
       "      <th>...</th>\n",
       "      <td>...</td>\n",
       "      <td>...</td>\n",
       "    </tr>\n",
       "    <tr>\n",
       "      <th>9218</th>\n",
       "      <td>joint extraction of entities and relations is ...</td>\n",
       "      <td>joint extraction of entities and relations is ...</td>\n",
       "    </tr>\n",
       "    <tr>\n",
       "      <th>9219</th>\n",
       "      <td>robust classification algorithms have been dev...</td>\n",
       "      <td>a two sample test detects if two sets of data ...</td>\n",
       "    </tr>\n",
       "    <tr>\n",
       "      <th>9220</th>\n",
       "      <td>in a recent paper it was suggested a novel int...</td>\n",
       "      <td>deformations of special relativity dsr alleged...</td>\n",
       "    </tr>\n",
       "    <tr>\n",
       "      <th>9221</th>\n",
       "      <td>the ability to detect pedestrians and other mo...</td>\n",
       "      <td>autonomous cars are currently primed for mass ...</td>\n",
       "    </tr>\n",
       "    <tr>\n",
       "      <th>9222</th>\n",
       "      <td>the goal of this paper is to use multi task le...</td>\n",
       "      <td>slot filling models are a useful method for si...</td>\n",
       "    </tr>\n",
       "  </tbody>\n",
       "</table>\n",
       "<p>9223 rows × 2 columns</p>\n",
       "</div>"
      ],
      "text/plain": [
       "                                               abstract  \\\n",
       "0     we investigate the infrared dynamics of a nons...   \n",
       "1     this paper presents the first derivation of th...   \n",
       "2     in this brief review we examine the theoretica...   \n",
       "3     we discuss leptogenesis within a tev scale inv...   \n",
       "4     we address the question on how weak perturbati...   \n",
       "...                                                 ...   \n",
       "9218  joint extraction of entities and relations is ...   \n",
       "9219  robust classification algorithms have been dev...   \n",
       "9220  in a recent paper it was suggested a novel int...   \n",
       "9221  the ability to detect pedestrians and other mo...   \n",
       "9222  the goal of this paper is to use multi task le...   \n",
       "\n",
       "                                                   text  \n",
       "0     understanding strong dynamics constitutes a co...  \n",
       "1     cuscuton gravity was originally proposed about...  \n",
       "2     a recent milestone in observational cosmology ...  \n",
       "3     one of the attractive features of the seesaw m...  \n",
       "4     within the usual wisdom it is quite intuitive ...  \n",
       "...                                                 ...  \n",
       "9218  joint extraction of entities and relations is ...  \n",
       "9219  a two sample test detects if two sets of data ...  \n",
       "9220  deformations of special relativity dsr alleged...  \n",
       "9221  autonomous cars are currently primed for mass ...  \n",
       "9222  slot filling models are a useful method for si...  \n",
       "\n",
       "[9223 rows x 2 columns]"
      ]
     },
     "execution_count": 95,
     "metadata": {},
     "output_type": "execute_result"
    }
   ],
   "source": [
    "DATA_DIR = \"SSN/SSN_Dataset_Short_Clean_2555_NoStop.json\"\n",
    "dataset_path = DATASET+DATA_DIR\n",
    "df = pd.read_json(dataset_path)\n",
    "df"
   ]
  },
  {
   "cell_type": "code",
   "execution_count": 96,
   "metadata": {},
   "outputs": [],
   "source": [
    "# rows = []\n",
    "\n",
    "# t_max= 2080\n",
    "# a_max=  87\n",
    "# t_min=  1473\n",
    "# a_min=  63\n",
    "# for i, row in df.iterrows():\n",
    "#     t_word = len(row[\"text\"].split())\n",
    "#     a_word = len(row[\"abstract\"].split())\n",
    "#     if ((t_word > t_max or t_word < t_min) or (a_word > a_max or a_word < a_min)):\n",
    "#         rows.append(i)\n",
    "# df.drop(rows, inplace=True)\n",
    "# df.reset_index(drop=True, inplace=True)\n",
    "# df.to_json(\"./Dataset/SSN/SSN_Dataset_Short_Clean_2555.json\")\n",
    "# df"
   ]
  },
  {
   "cell_type": "code",
   "execution_count": 97,
   "metadata": {},
   "outputs": [],
   "source": [
    "class Vocabulary(object):\n",
    "    \"\"\" Simple vocabulary wrapper which maps every unique word to an integer ID. \"\"\"\n",
    "    def __init__(self):\n",
    "        # intially, set both the IDs and words to dictionaries with special tokens\n",
    "        self.word2idx = {'<start>': 0, '<end>': 1, '<pad>':2, '<unk>':3}\n",
    "        self.idx2word = {0: '<start>', 1: '<end>', 2: '<pad>', 3: '<unk>'}\n",
    "        self.idx = 4\n",
    "\n",
    "    def add_word(self, word):\n",
    "        # if the word does not already exist in the dictionary, add it\n",
    "        if not word in self.word2idx:\n",
    "            # this will convert each word to index and index to word as you saw in the tutorials\n",
    "            self.word2idx[word] = self.idx\n",
    "            self.idx2word[self.idx] = word\n",
    "            # increment the ID for the next word\n",
    "            self.idx += 1\n",
    "\n",
    "    def __call__(self, word):\n",
    "        # if we try to access a word not in the dictionary, return the id for <unk>\n",
    "        if not word in self.word2idx:\n",
    "            return self.word2idx['<unk>']\n",
    "        return self.word2idx[word]\n",
    "    \n",
    "    ## added function for utility\n",
    "    def get_word(self,index):\n",
    "        # this returns the word when given an index\n",
    "        return self.idx2word[index]\n",
    "\n",
    "    def __len__(self):\n",
    "        return len(self.word2idx)\n"
   ]
  },
  {
   "cell_type": "code",
   "execution_count": 98,
   "metadata": {},
   "outputs": [],
   "source": [
    "def build_vocab(data):\n",
    "    \"\"\" \n",
    "    Parses training set token file captions and builds a Vocabulary object and dataframe for \n",
    "    the image and caption data\n",
    "\n",
    "    Returns:\n",
    "        vocab (Vocabulary): Vocabulary object containing all words appearing more than min_frequency\n",
    "    \"\"\"\n",
    "    MIN_FREQUENCY = 0\n",
    "    word_mapping = Counter()\n",
    "\n",
    "    # for index in df.index:\n",
    "    for text in tqdm(data):\n",
    "        for word in text.split():\n",
    "            #print(word)\n",
    "            if word in word_mapping:\n",
    "                word_mapping[word] += 1\n",
    "            else:\n",
    "                word_mapping[word] = 1\n",
    "\n",
    "    # create a vocab instance\n",
    "    vocab = Vocabulary()\n",
    "\n",
    "    # add the words to the vocabulary\n",
    "    for word in word_mapping:\n",
    "        if word_mapping[word] > MIN_FREQUENCY:\n",
    "            vocab.add_word(word)\n",
    "\n",
    "    return vocab\n"
   ]
  },
  {
   "cell_type": "markdown",
   "metadata": {},
   "source": [
    "Convert DF to text"
   ]
  },
  {
   "cell_type": "code",
   "execution_count": 74,
   "metadata": {},
   "outputs": [],
   "source": [
    "# text_txt = df['text']\n",
    "# text_txt.to_csv(\"text_NoStop.txt\", header=False,index=False)\n",
    "# # write to file. "
   ]
  },
  {
   "cell_type": "code",
   "execution_count": 208,
   "metadata": {},
   "outputs": [],
   "source": [
    "# vocab_model = fasttext.train_unsupervised('text_NoStop.txt', minn=2, epoch=10)\n",
    "# vocab_model.save_model(\"fastText_NoStop.bin\")"
   ]
  },
  {
   "cell_type": "code",
   "execution_count": 79,
   "metadata": {},
   "outputs": [
    {
     "data": {
      "text/plain": [
       "7835723"
      ]
     },
     "execution_count": 79,
     "metadata": {},
     "output_type": "execute_result"
    }
   ],
   "source": [
    "# dir(vocab_model.get_words)\n",
    "# import numpy as np\n",
    "# import gc\n",
    "# import sys\n",
    "\n",
    "# def get_obj_size(obj):\n",
    "#     marked = {id(obj)}\n",
    "#     obj_q = [obj]\n",
    "#     sz = 0\n",
    "\n",
    "#     while obj_q:\n",
    "#         sz += sum(map(sys.getsizeof, obj_q))\n",
    "\n",
    "#         # Lookup all the object referred to by the object in obj_q.\n",
    "#         # See: https://docs.python.org/3.7/library/gc.html#gc.get_referents\n",
    "#         all_refr = ((id(o), o) for o in gc.get_referents(*obj_q))\n",
    "\n",
    "#         # Filter object that are already marked.\n",
    "#         # Using dict notation will prevent repeated objects.\n",
    "#         new_refr = {o_id: o for o_id, o in all_refr if o_id not in marked and not isinstance(o, type)}\n",
    "\n",
    "#         # The new obj_q will be the ones that were not marked,\n",
    "#         # and we will update marked with their ids so we will\n",
    "#         # not traverse them again.\n",
    "#         obj_q = new_refr.values()\n",
    "#         marked.update(new_refr.keys())\n",
    "\n",
    "#     return sz\n",
    "# x = np.random.rand(1024).astype(np.float64)\n",
    "# y = np.random.rand(1024).astype(np.float64)\n",
    "# a = {'x': x, 'y': y}\n",
    "# get_obj_size(vocab_model)"
   ]
  },
  {
   "cell_type": "code",
   "execution_count": 99,
   "metadata": {},
   "outputs": [
    {
     "data": {
      "application/vnd.jupyter.widget-view+json": {
       "model_id": "384a723d9b624cb09fc5d08ba85106e3",
       "version_major": 2,
       "version_minor": 0
      },
      "text/plain": [
       "  0%|          | 0/9223 [00:00<?, ?it/s]"
      ]
     },
     "metadata": {},
     "output_type": "display_data"
    }
   ],
   "source": [
    "abstract_vocab = build_vocab(df[\"abstract\"])"
   ]
  },
  {
   "cell_type": "code",
   "execution_count": 100,
   "metadata": {},
   "outputs": [
    {
     "data": {
      "application/vnd.jupyter.widget-view+json": {
       "model_id": "b267c2dbbbb64c36a0817984aa3bbc2d",
       "version_major": 2,
       "version_minor": 0
      },
      "text/plain": [
       "  0%|          | 0/9223 [00:00<?, ?it/s]"
      ]
     },
     "metadata": {},
     "output_type": "display_data"
    }
   ],
   "source": [
    "text_vocab = build_vocab(df[\"text\"])"
   ]
  },
  {
   "cell_type": "code",
   "execution_count": 101,
   "metadata": {},
   "outputs": [],
   "source": [
    "def tokenise(vocab, text):\n",
    "    word_ids = [vocab(\"<start>\")]\n",
    "    for word in text.split():\n",
    "        word_ids.append(vocab(word))\n",
    "    word_ids.append(vocab(\"<end>\"))\n",
    "#     while len(word_ids) < max_len:\n",
    "#             word_ids.append(vocab(\"<pad>\"))\n",
    "    return word_ids"
   ]
  },
  {
   "cell_type": "code",
   "execution_count": 155,
   "metadata": {},
   "outputs": [],
   "source": [
    "ABSTRACT_MAX = 150\n",
    "TEXT_MAX = 3000"
   ]
  },
  {
   "cell_type": "code",
   "execution_count": 105,
   "metadata": {},
   "outputs": [],
   "source": [
    "class SSNDataset(Dataset):\n",
    "    def __init__(self, df, a_vocab, t_vocab):\n",
    "\n",
    "        self.df = df\n",
    "        self.a_vocab = a_vocab\n",
    "        self.t_vocab = t_vocab\n",
    "        self.abstract_max_len = ABSTRACT_MAX\n",
    "        self.text_max_len = TEXT_MAX\n",
    "\n",
    "    def __getitem__(self, index):\n",
    "        # return word_id\n",
    "        abstract = self.df.iloc[index][\"abstract\"]\n",
    "        text = self.df.iloc[index][\"text\"]\n",
    "        \n",
    "        a_word_ids = tokenise(self.a_vocab, abstract)\n",
    "        t_word_ids = tokenise(self.t_vocab, text)\n",
    "\n",
    "        a_length = len(a_word_ids)\n",
    "        t_length = len(t_word_ids)\n",
    "    \n",
    "        return a_word_ids, t_word_ids# torch.tensor(t_length)# torch.tensor(t_length)\n",
    "\n",
    "    def __len__(self):\n",
    "        return len(self.df)\n"
   ]
  },
  {
   "cell_type": "code",
   "execution_count": 106,
   "metadata": {},
   "outputs": [],
   "source": [
    "def find_max_list(lis):\n",
    "    list_len = [len(i) for i in lis]\n",
    "    return (max(list_len))"
   ]
  },
  {
   "cell_type": "code",
   "execution_count": 208,
   "metadata": {},
   "outputs": [],
   "source": [
    "def text_collate_fn(data):\n",
    "    \"\"\" Creates mini-batch tensors from the list of tuples (image, caption).\n",
    "    Args:\n",
    "        data: list of tuple of 2 word ids\n",
    "        - abstract id\n",
    "        - text id\n",
    "    Returns:\n",
    "        abstract list ids\n",
    "        text list ids\n",
    "    \"\"\"\n",
    "\n",
    "    \n",
    "    abstracts, texts = zip(*data)\n",
    "    abstract_list = []\n",
    "    text_list = []\n",
    "    for i in range(len(texts)):\n",
    "        while len(texts[i]) < find_max_list(texts):\n",
    "            texts[i].append(text_vocab(\"<pad>\"))\n",
    "        text_list.append(torch.tensor(texts[i]))\n",
    "        \n",
    "    for i in range(len(abstracts)):\n",
    "     \n",
    "        while len(abstracts[i]) < ABSTRACT_MAX:\n",
    "            abstracts[i].append(abstract_vocab(\"<pad>\"))\n",
    "        abstract_list.append(torch.tensor(abstracts[i]))\n",
    "\n",
    "\n",
    "#     abstracts = torch.tensor(abstracts)\n",
    "#     texts = torch.tensor(texts)\n",
    "#     abstracts = [ torch.Tensor(abstract).to(device) for abstract in abstracts ]\n",
    "# if batch size is 1 then use [0]\n",
    "    abstracts = torch.stack(tuple(abstract_list), 0)\n",
    "    #abstracts = abstracts.unsqueeze(0)\n",
    "#     abstracts = torch.nn.utils.rnn.pad_sequence(abstracts)\n",
    "    texts = torch.stack(tuple(text_list), 0)\n",
    "    #texts = texts.unsqueeze(0)\n",
    "\n",
    "    return abstracts, texts\n"
   ]
  },
  {
   "cell_type": "markdown",
   "metadata": {},
   "source": [
    "# Dataloader"
   ]
  },
  {
   "cell_type": "markdown",
   "metadata": {},
   "source": [
    "Split dataset"
   ]
  },
  {
   "cell_type": "code",
   "execution_count": 209,
   "metadata": {},
   "outputs": [],
   "source": [
    "train_data, test_data = train_test_split(df, random_state=seed, train_size = 0.7)\n",
    "train_data, valid_data = train_test_split(train_data, random_state=seed, train_size=0.8)"
   ]
  },
  {
   "cell_type": "code",
   "execution_count": 210,
   "metadata": {},
   "outputs": [],
   "source": [
    "train_set = SSNDataset(train_data, abstract_vocab, text_vocab)\n",
    "valid_set = SSNDataset(valid_data, abstract_vocab, text_vocab)\n",
    "test_set = SSNDataset(test_data, abstract_vocab, text_vocab)"
   ]
  },
  {
   "cell_type": "code",
   "execution_count": 211,
   "metadata": {},
   "outputs": [],
   "source": [
    "train_loader = DataLoader(train_set, batch_size=2, shuffle=True, collate_fn=text_collate_fn) # num_worker can't be 2+ as the time it \n",
    "                                                                 # takes to build iter is much longer"
   ]
  },
  {
   "cell_type": "code",
   "execution_count": 212,
   "metadata": {},
   "outputs": [],
   "source": [
    "valid_loader = DataLoader(valid_set, batch_size=2, shuffle=True, collate_fn=text_collate_fn)"
   ]
  },
  {
   "cell_type": "code",
   "execution_count": null,
   "metadata": {},
   "outputs": [],
   "source": []
  },
  {
   "cell_type": "code",
   "execution_count": 86,
   "metadata": {
    "scrolled": true
   },
   "outputs": [
    {
     "data": {
      "application/vnd.jupyter.widget-view+json": {
       "model_id": "667dacafe30249068efae4685e26c3ad",
       "version_major": 2,
       "version_minor": 0
      },
      "text/plain": [
       "0it [00:00, ?it/s]"
      ]
     },
     "metadata": {},
     "output_type": "display_data"
    }
   ],
   "source": [
    "all_set = SSNDataset(df, abstract_vocab, text_vocab)\n",
    "all_loader = DataLoader(all_set, batch_size=1, shuffle=True, collate_fn=text_collate_fn)\n",
    "abstracts = []\n",
    "texts = []\n",
    "for i, (abstract, text) in tqdm(enumerate(all_loader)):\n",
    "    a_size = list(abstract.size())[1]\n",
    "\n",
    "    t_size = list(text.size())[1]\n",
    "    abstracts.append(a_size)\n",
    "    texts.append(t_size)\n",
    "numbers = list(range(len(all_loader)))"
   ]
  },
  {
   "cell_type": "code",
   "execution_count": 87,
   "metadata": {},
   "outputs": [
    {
     "name": "stdout",
     "output_type": "stream",
     "text": [
      "max length for abstract:  260\n",
      "max length for text:  5733\n",
      "min length for abstract:  3\n",
      "min length for text:  14\n",
      "average length for abstract:  86\n",
      "average length for text:  2030\n"
     ]
    }
   ],
   "source": [
    "from statistics import mean\n",
    "print(\"max length for abstract: \",max(abstracts))\n",
    "print(\"max length for text: \",max(texts))\n",
    "print(\"min length for abstract: \",min(abstracts))\n",
    "print(\"min length for text: \",min(texts))\n",
    "print(\"average length for abstract: \",math.floor(mean(abstracts)))\n",
    "print(\"average length for text: \",math.floor(mean(texts)))"
   ]
  },
  {
   "cell_type": "code",
   "execution_count": 88,
   "metadata": {},
   "outputs": [
    {
     "name": "stdout",
     "output_type": "stream",
     "text": [
      "50 percentile:  2080.0\n",
      "50 percentile:  87.0\n",
      "0.08 percentile:  1473.0\n",
      "0.08 percentile:  63.0\n"
     ]
    }
   ],
   "source": [
    "print(\"50 percentile: \", np.percentile(texts, 55))\n",
    "print(\"50 percentile: \", np.percentile(abstracts, 55))\n",
    "print(\"0.08 percentile: \", np.percentile(texts, 25))\n",
    "print(\"0.08 percentile: \", np.percentile(abstracts, 25))"
   ]
  },
  {
   "cell_type": "code",
   "execution_count": 89,
   "metadata": {},
   "outputs": [],
   "source": [
    "a_perc = []\n",
    "t_perc = []\n",
    "for i in range(100):\n",
    "    i +=1\n",
    "    a_perc.append(np.percentile(abstracts, i))\n",
    "    t_perc.append(np.percentile(texts,i))"
   ]
  },
  {
   "cell_type": "code",
   "execution_count": 90,
   "metadata": {},
   "outputs": [
    {
     "data": {
      "image/png": "[encoded data removed]",
      "text/plain": [
       "<Figure size 432x288 with 1 Axes>"
      ]
     },
     "metadata": {
      "needs_background": "light"
     },
     "output_type": "display_data"
    }
   ],
   "source": [
    "plt.scatter(range(len(a_perc)),a_perc)\n",
    "plt.show()"
   ]
  },
  {
   "cell_type": "code",
   "execution_count": 91,
   "metadata": {},
   "outputs": [
    {
     "data": {
      "image/png": "[encoded data removed]",
      "text/plain": [
       "<Figure size 432x288 with 1 Axes>"
      ]
     },
     "metadata": {
      "needs_background": "light"
     },
     "output_type": "display_data"
    }
   ],
   "source": [
    "plt.scatter(range(len(t_perc)), t_perc)\n",
    "plt.show()"
   ]
  },
  {
   "cell_type": "markdown",
   "metadata": {},
   "source": [
    "# RNN Model definition"
   ]
  },
  {
   "cell_type": "code",
   "execution_count": 213,
   "metadata": {},
   "outputs": [],
   "source": [
    "class Encoder(nn.Module):\n",
    "    def __init__(self, voc_size, num_layer, hidden_dim):\n",
    "        super(Encoder, self).__init__()\n",
    "        self.device = device\n",
    "        self.hidden_dim = hidden_dim\n",
    "        self.num_layer = num_layer\n",
    "        \n",
    "        self.embeddings = nn.Embedding(\n",
    "            num_embeddings=voc_size,\n",
    "            embedding_dim=hidden_dim\n",
    "        )\n",
    "        self.lstm = nn.LSTM(\n",
    "            input_size=hidden_dim,\n",
    "            hidden_size=hidden_dim,\n",
    "            num_layers=num_layer,\n",
    "            bidirectional=False,\n",
    "            batch_first=True\n",
    "        )\n",
    "\n",
    "#     def init_hidden(self, batch_size):\n",
    "#         return (torch.zeros(self.num_layer, batch_size, self.hidden_dim, device=device),\n",
    "#                 torch.zeros(self.num_layer, batch_size, self.hidden_dim, device=device))\n",
    "\n",
    "    def forward(self, input):\n",
    "        #start = time.time()\n",
    "\n",
    "        #print(input.shape)\n",
    "        embedded = self.embeddings(input)\n",
    "        lengths = (input != 2).sum(1) # pad index = 2\n",
    "        #print(lengths)\n",
    "        batch_size = input.shape[0]\n",
    "        embedded = self.embeddings(input)\n",
    "        #print(\"lengths: \",lengths.shape)\n",
    "#         print(lengths)\n",
    "#         print(\"embedded: \",embedded.shape)\n",
    "#         print(\"embedded: \",embedded.view(1, 1, -1).shape)\n",
    "    \n",
    "#         print(\"initial_hidden\", initial_hidden.shape)\n",
    "        embedded = torch.nn.utils.rnn.pack_padded_sequence(embedded, lengths.cpu(), \n",
    "                                                           batch_first=True,enforce_sorted=False)\n",
    "#         print(\"embedded: \",embedded[0].shape)\n",
    "#         print(\"embedded: \",embedded[1].shape)\n",
    "        output, hidden = self.lstm(embedded)\n",
    "        #print(\"output: \",output.shape)\n",
    "        output, lengths = torch.nn.utils.rnn.pad_packed_sequence(output, batch_first=True,padding_value=2)\n",
    "        lengths = lengths.to(device)\n",
    "        return output, hidden, lengths"
   ]
  },
  {
   "cell_type": "code",
   "execution_count": 214,
   "metadata": {},
   "outputs": [],
   "source": [
    "class Decoder(nn.Module):\n",
    "    def __init__(self, voc_size, num_layer,hidden_dim):\n",
    "        super(Decoder, self).__init__()\n",
    "        self.embeddings = nn.Embedding(\n",
    "            num_embeddings=voc_size,\n",
    "            embedding_dim=hidden_dim\n",
    "        )\n",
    "        self.attention = Attention(hidden_dim,hidden_dim)\n",
    "        self.lstm = nn.LSTM(\n",
    "            input_size=hidden_dim*2,\n",
    "            hidden_size=hidden_dim,\n",
    "            num_layers=num_layer,\n",
    "            bidirectional=False,\n",
    "            batch_first=True\n",
    "        )\n",
    "        self.fc = nn.Linear(\n",
    "            in_features=hidden_dim * 2,\n",
    "            out_features=voc_size\n",
    "        )\n",
    "        self.logsoftmax = nn.LogSoftmax(dim=1)\n",
    "    \n",
    "\n",
    "    def forward(self, input, hidden, context, encoder_outputs, lengths): # also add in encoder outputs \n",
    "                                                                # to create context\n",
    "        #start = time.time()\n",
    "        embedded = self.embeddings(input) # [batch, 256]\n",
    "        # hidden = [bathc, seq_len, hidden_dim]\n",
    "        # print(hidden[0])\n",
    "        #hidden_permute = hidden.permute(0,1) # [1, 512]\n",
    "        decoder_input = torch.cat((embedded, context), -1).unsqueeze(1) # [batch, 1, 512]\n",
    "        decoder_output, hidden = self.lstm(decoder_input, hidden)\n",
    "        decoder_output = decoder_output.squeeze(1)\n",
    "        \n",
    "        # mask to block decoder from knowing future sequences/block padding\n",
    "        max_len = lengths.max().item()\n",
    "        #print(\"max len: \", max_len)\n",
    "        \n",
    "        \n",
    "        mask = torch.arange(max_len).expand(len(lengths), max_len) < lengths.unsqueeze(1).cpu()\n",
    "        mask = mask.to(device)\n",
    "#         print(\"size: \", len(mask))\n",
    "#         print(\"mask 0\",mask[0])\n",
    "#         print(\"mask0 len\",len(mask[0]))\n",
    "#         print(\"mask0 = true\",torch.sum(mask[0] == True))\n",
    "#         print(\"mask1\",mask[1])\n",
    "#         print(\"mask1 len\",len(mask[1]))\n",
    "#         print(\"mask1 = true\",torch.sum(mask[1] == True))\n",
    "        attention = self.attention(decoder_output, encoder_outputs, mask).to(device)\n",
    "\n",
    "        context = attention.unsqueeze(1).bmm(encoder_outputs).squeeze(1)\n",
    "        #print(\"context shape: \", context.shape)\n",
    "        output_context = torch.cat((decoder_output, context), dim=1) # []\n",
    "        #output_context = torch.nn.functional.relu(output_context)\n",
    "        \n",
    "        output_context = self.fc(output_context)\n",
    "        #print(output[0])\n",
    "        output = self.logsoftmax(output_context)\n",
    "        #end = time.time()\n",
    "        #print(\"Decoder Time: \",end - start)\n",
    "#         print(\"decode output: \",output)\n",
    "#         print(\"output: \", output.shape)\n",
    "        # output is [batch, seq_len, hidden_dim]\n",
    "        # hidden = 2,2,256 [2, batch, hidden_dim]\n",
    "        return output, hidden, context, attention\n",
    "    "
   ]
  },
  {
   "cell_type": "code",
   "execution_count": 215,
   "metadata": {},
   "outputs": [],
   "source": [
    "class Attention(nn.Module):\n",
    "    def __init__(self, encoder_hidden_dim, decoder_hidden_dim):\n",
    "        super().__init__()\n",
    "        \n",
    "#         self.attn_hidden_vector = nn.Linear(encoder_hidden_dim + decoder_hidden_dim, decoder_hidden_dim)\n",
    "        \n",
    "#         self.attn_scoring_fn = nn.Linear(decoder_hidden_dim, decoder_hidden_dim, bias=False)\n",
    "        \n",
    "        \n",
    "    def forward(self, hidden, encoder_outputs, mask):\n",
    "        # hidden = [num_layer, batch size, decoder hidden dim]\n",
    "        # encoder_outputs [batch, seq_len, hidden_dim]\n",
    "        seq_len = encoder_outputs.shape[1] # 10000\n",
    "        batch_size = encoder_outputs.shape[0]\n",
    "        \n",
    "        #attention_scores = torch.zeros((batch_size, seq_len), device=device)\n",
    "\n",
    "        hidden = hidden.repeat(seq_len,1,1)\n",
    "        #print(hidden.shape)\n",
    "\n",
    "        encoder_outputs = encoder_outputs.permute(1,0,2)\n",
    "        #print(encoder_outputs.shape)\n",
    "\n",
    "        #print(\"attention score: \", attention_scores.shape)\n",
    "#         print(\"hidden atten: \",hidden.shape)\n",
    "#         print(\"encoder output: \", encoder_outputs.shape)\n",
    "\n",
    "\n",
    "        attention_scores = torch.einsum('sbd,sbd->bs',hidden, encoder_outputs) \n",
    "        # need to check if can use just lbd, sbd ->bs because hidden repeat don't work if more than 1 layer\n",
    "        #print(\"attention_scores: \",attention_scores.shape)\n",
    "\n",
    "            \n",
    "        attention_scores[~mask] = -float('inf')\n",
    "        #print(attention_scores)\n",
    "        #attention_scores = nn.functional.relu(attention_scores)\n",
    "        #end = time.time()\n",
    "        #print(\"Attention Time: \",end - start)\n",
    "        attention_scores = nn.functional.softmax(attention_scores, dim=1)\n",
    "        return attention_scores\n"
   ]
  },
  {
   "cell_type": "code",
   "execution_count": 216,
   "metadata": {},
   "outputs": [],
   "source": [
    "class Model(nn.Module):\n",
    "    def __init__(self, text_size, abstract_size, num_layer, hidden_dim, device):\n",
    "        super(Model, self).__init__()\n",
    "        self.encoder = Encoder(text_size, num_layer=num_layer, hidden_dim=hidden_dim).to(device)\n",
    "        self.decoder = Decoder(abstract_size, num_layer=num_layer, hidden_dim=hidden_dim).to(device)\n",
    "        self.hidden_dim = hidden_dim\n",
    "\n",
    "    def forward(self, text, max_len=ABSTRACT_MAX,abstract=None, temperature=0.5):\n",
    "        #decoder = Decoder(len(abstract_vocab), 512).to(device)\n",
    "        output, hidden, lengths = self.encoder(text) # [10000, 512] [seq_len, hidden_dim]\n",
    "        batch_size = output.shape[0]\n",
    "#         print(text)\n",
    "#         print(max_len)\n",
    "#         print(abstract)\n",
    "#         print(temperature)\n",
    "        decoder_hidden = hidden\n",
    "        context = torch.zeros(batch_size, self.hidden_dim).to(device) # batch, hidden_dim\n",
    "\n",
    "        decoder_input = text[:,:1].squeeze(1).long().to(device) # select first elements\n",
    "#         out1 = output[0] # varied\n",
    "#         out2 = output[1]\n",
    "#         out3 = output[2]\n",
    "        done = torch.BoolTensor(batch_size).fill_(False).to(device)\n",
    "        outputs = []\n",
    "        words = []\n",
    "        for t in range(max_len):\n",
    "            \n",
    "            decoder_output, decoder_hidden, context, attention = self.decoder(decoder_input, \n",
    "                                                            decoder_hidden, context, output, lengths)\n",
    "            \n",
    "            outputs.append(decoder_output)\n",
    "            \n",
    "            decoder_input = decoder_output.argmax(1)\n",
    "            \n",
    "            words.append(decoder_input)\n",
    "\n",
    "        sentence = \"\"\n",
    "        \n",
    "#         for i in words:\n",
    "#             sentence += abstract_vocab.get_word(i[0].item()) + \" \"\n",
    "#         print(\"predict:\", sentence)\n",
    "#         sentence = \"\"\n",
    "#         for i in abstract[0]:\n",
    "#             sentence += abstract_vocab.get_word(i.item()) + \" \"\n",
    "#         print(\"actual:\", sentence)\n",
    "\n",
    "        outputs = torch.stack(outputs, 1) # B x T x D\n",
    "        return outputs"
   ]
  },
  {
   "cell_type": "code",
   "execution_count": 226,
   "metadata": {},
   "outputs": [],
   "source": [
    "\n",
    "model = Model(len(text_vocab),len(abstract_vocab),2,512, device)\n",
    "model = model.to(device)\n",
    "#out1 = model(abstract, text)"
   ]
  },
  {
   "cell_type": "markdown",
   "metadata": {},
   "source": [
    "# Tasks\n",
    "~~1 - Complete model definition~~ <br>\n",
    "~~2 - fix word vocab~~ <br>\n",
    "~~3 - Define Attention model and combine with Decoder~~ <br>\n",
    "    ~~1 - Adjust to allow for batch ~~<br>\n",
    "4 - trace through program to see where it starts to have the same tensor <br>\n",
    "~~5 - use mask to hide paddings~~ switch on off to see difference<br>\n",
    "~~6 - Switch from GRU to LSTM~~<br>\n",
    "~~7 - Add training script to train ~~<br>\n",
    " "
   ]
  },
  {
   "cell_type": "markdown",
   "metadata": {},
   "source": [
    "# Model training"
   ]
  },
  {
   "cell_type": "code",
   "execution_count": 227,
   "metadata": {
    "scrolled": true
   },
   "outputs": [],
   "source": [
    "def train(train_loader, valid_loader, model):\n",
    "    criterion = nn.NLLLoss()\n",
    "    optimizer = torch.optim.Adam(model.parameters(), lr=0.01) # learning rate also affects overfitting\n",
    "    epoch_size = 5\n",
    "    loss_epoch = []\n",
    "    loss_accuracy = []\n",
    "    eval_loss_epoch = []\n",
    "    eval_accuracy = []\n",
    "    best_loss = 10000\n",
    "    \n",
    "    \n",
    "    for epoch in range(epoch_size):\n",
    "        \n",
    "        \n",
    "        model.train()\n",
    "        loss_batch = []\n",
    "        batch_acc = []\n",
    "        for i, (abstract, text) in tqdm(enumerate(train_loader), total=len(train_loader)):\n",
    "            # send batch data to device\n",
    "            abstract = abstract.to(device)\n",
    "            text = text.to(device)\n",
    "            #print(text)\n",
    "            outputs = model(text, abstract=abstract).to(device).permute(0,2,1)\n",
    "            #print(\"output\",outputs)\n",
    "#             print(outputs.dtype)\n",
    "#             print(\"abstract\", abstract[:,0])\n",
    "#             print(abstract.dtype)\n",
    "            \n",
    "            loss = criterion(outputs, abstract)\n",
    "            batch_acc.append(get_accuracy(outputs, abstract))\n",
    "            #print(loss.item())\n",
    "\n",
    "            # Optimise\n",
    "            del abstract\n",
    "            del text\n",
    "            del outputs\n",
    "\n",
    "            loss_batch.append(loss.item())\n",
    "            optimizer.zero_grad()\n",
    "            loss.backward()\n",
    "\n",
    "           # plot_grad_flow(model.named_parameters())\n",
    "\n",
    "            del loss\n",
    "            torch.cuda.empty_cache()\n",
    "            optimizer.step()\n",
    "            \n",
    "\n",
    "            #print(loss.item())\n",
    "        current_loss = np.average(loss_batch)\n",
    "        current_acc = np.average(batch_acc)\n",
    "        loss_epoch.append(current_loss)\n",
    "        loss_accuracy.append(current_acc)\n",
    "\n",
    "        print('Epoch [{}/{}], Loss: {:.4f}, Acc: {:.2f}'\n",
    "            .format(epoch+1, epoch_size, current_loss, current_acc*100))\n",
    "\n",
    "        eval_loss_batch = []\n",
    "        eval_batch_acc = []\n",
    "\n",
    "        model.eval()\n",
    "        with torch.no_grad():\n",
    "            for j, (abstract, text) in enumerate(valid_loader):\n",
    "                abstract = abstract.to(device)\n",
    "                text = text.to(device)\n",
    "\n",
    "                scores = model(text, abstract=abstract).permute(0,2,1)\n",
    "\n",
    "                eval_loss = criterion(scores, abstract)\n",
    "                #print(eval_loss.item())\n",
    "                eval_loss_batch.append(eval_loss.item())\n",
    "                eval_batch_acc.append(get_accuracy(scores, abstract))\n",
    "                del abstract\n",
    "                del text\n",
    "                del scores\n",
    "                del eval_loss\n",
    "                torch.cuda.empty_cache()\n",
    "\n",
    "        current_eval_loss = np.average(eval_loss_batch)\n",
    "        current_eval_acc = np.average(eval_batch_acc)\n",
    "        \n",
    "        eval_loss_epoch.append(current_eval_loss)\n",
    "        eval_accuracy.append(current_eval_acc)\n",
    "        \n",
    "        if (current_eval_loss < best_loss):\n",
    "            best_loss = current_eval_loss\n",
    "            torch.save(model.state_dict(), 'best_decoder'+str(epoch+1)+'.pth')\n",
    "            print(\"Best eval loss updated!\")\n",
    "\n",
    "        print('Valid Epoch [{}/{}], Loss: {:.4f}, Acc: {:.2f}'\n",
    "            .format(epoch+1, epoch_size, current_eval_loss, current_eval_acc*100))\n",
    "    return loss_epoch, eval_loss_epoch, loss_accuracy, eval_accuracy\n",
    "def get_accuracy(preds, abstracts):\n",
    "#     print(\"preds: \", preds.shape)\n",
    "#     print(\"abstracts:\", abstracts.shape)\n",
    "    pred_ids = preds.argmax(1)\n",
    "    \n",
    "    correct_preds = (pred_ids == abstracts).sum().item()\n",
    "\n",
    "    # Calculate the total number of samples\n",
    "    total_samples = abstracts.shape[0] * abstracts.shape[1]\n",
    "\n",
    "    # Calculate accuracy as the ratio of correct predictions to total samples\n",
    "    accuracy = correct_preds / total_samples\n",
    "\n",
    "    return accuracy"
   ]
  },
  {
   "cell_type": "code",
   "execution_count": 228,
   "metadata": {},
   "outputs": [
    {
     "data": {
      "application/vnd.jupyter.widget-view+json": {
       "model_id": "8061d94f03524c6cbd6bb4f3a698a55d",
       "version_major": 2,
       "version_minor": 0
      },
      "text/plain": [
       "  0%|          | 0/2582 [00:00<?, ?it/s]"
      ]
     },
     "metadata": {},
     "output_type": "display_data"
    },
    {
     "ename": "OutOfMemoryError",
     "evalue": "CUDA out of memory. Tried to allocate 22.00 MiB (GPU 0; 8.00 GiB total capacity; 5.85 GiB already allocated; 0 bytes free; 7.28 GiB reserved in total by PyTorch) If reserved memory is >> allocated memory try setting max_split_size_mb to avoid fragmentation.  See documentation for Memory Management and PYTORCH_CUDA_ALLOC_CONF",
     "output_type": "error",
     "traceback": [
      "\u001b[1;31m---------------------------------------------------------------------------\u001b[0m",
      "\u001b[1;31mOutOfMemoryError\u001b[0m                          Traceback (most recent call last)",
      "Input \u001b[1;32mIn [228]\u001b[0m, in \u001b[0;36m<cell line: 1>\u001b[1;34m()\u001b[0m\n\u001b[1;32m----> 1\u001b[0m train_loss, eval_loss, train_acc, eval_acc \u001b[38;5;241m=\u001b[39m \u001b[43mtrain\u001b[49m\u001b[43m(\u001b[49m\u001b[43mtrain_loader\u001b[49m\u001b[43m,\u001b[49m\u001b[43m \u001b[49m\u001b[43mvalid_loader\u001b[49m\u001b[43m,\u001b[49m\u001b[43m \u001b[49m\u001b[43mmodel\u001b[49m\u001b[43m)\u001b[49m\n",
      "Input \u001b[1;32mIn [227]\u001b[0m, in \u001b[0;36mtrain\u001b[1;34m(train_loader, valid_loader, model)\u001b[0m\n\u001b[0;32m     21\u001b[0m             text \u001b[38;5;241m=\u001b[39m text\u001b[38;5;241m.\u001b[39mto(device)\n\u001b[0;32m     22\u001b[0m             \u001b[38;5;66;03m#print(text)\u001b[39;00m\n\u001b[1;32m---> 23\u001b[0m             outputs \u001b[38;5;241m=\u001b[39m \u001b[43mmodel\u001b[49m\u001b[43m(\u001b[49m\u001b[43mtext\u001b[49m\u001b[43m,\u001b[49m\u001b[43m \u001b[49m\u001b[43mabstract\u001b[49m\u001b[38;5;241;43m=\u001b[39;49m\u001b[43mabstract\u001b[49m\u001b[43m)\u001b[49m\u001b[38;5;241m.\u001b[39mto(device)\u001b[38;5;241m.\u001b[39mpermute(\u001b[38;5;241m0\u001b[39m,\u001b[38;5;241m2\u001b[39m,\u001b[38;5;241m1\u001b[39m)\n\u001b[0;32m     24\u001b[0m             \u001b[38;5;66;03m#print(\"output\",outputs)\u001b[39;00m\n\u001b[0;32m     25\u001b[0m \u001b[38;5;66;03m#             print(outputs.dtype)\u001b[39;00m\n\u001b[0;32m     26\u001b[0m \u001b[38;5;66;03m#             print(\"abstract\", abstract[:,0])\u001b[39;00m\n\u001b[0;32m     27\u001b[0m \u001b[38;5;66;03m#             print(abstract.dtype)\u001b[39;00m\n\u001b[0;32m     29\u001b[0m             loss \u001b[38;5;241m=\u001b[39m criterion(outputs, abstract)\n",
      "File \u001b[1;32m~\\anaconda3\\lib\\site-packages\\torch\\nn\\modules\\module.py:1194\u001b[0m, in \u001b[0;36mModule._call_impl\u001b[1;34m(self, *input, **kwargs)\u001b[0m\n\u001b[0;32m   1190\u001b[0m \u001b[38;5;66;03m# If we don't have any hooks, we want to skip the rest of the logic in\u001b[39;00m\n\u001b[0;32m   1191\u001b[0m \u001b[38;5;66;03m# this function, and just call forward.\u001b[39;00m\n\u001b[0;32m   1192\u001b[0m \u001b[38;5;28;01mif\u001b[39;00m \u001b[38;5;129;01mnot\u001b[39;00m (\u001b[38;5;28mself\u001b[39m\u001b[38;5;241m.\u001b[39m_backward_hooks \u001b[38;5;129;01mor\u001b[39;00m \u001b[38;5;28mself\u001b[39m\u001b[38;5;241m.\u001b[39m_forward_hooks \u001b[38;5;129;01mor\u001b[39;00m \u001b[38;5;28mself\u001b[39m\u001b[38;5;241m.\u001b[39m_forward_pre_hooks \u001b[38;5;129;01mor\u001b[39;00m _global_backward_hooks\n\u001b[0;32m   1193\u001b[0m         \u001b[38;5;129;01mor\u001b[39;00m _global_forward_hooks \u001b[38;5;129;01mor\u001b[39;00m _global_forward_pre_hooks):\n\u001b[1;32m-> 1194\u001b[0m     \u001b[38;5;28;01mreturn\u001b[39;00m forward_call(\u001b[38;5;241m*\u001b[39m\u001b[38;5;28minput\u001b[39m, \u001b[38;5;241m*\u001b[39m\u001b[38;5;241m*\u001b[39mkwargs)\n\u001b[0;32m   1195\u001b[0m \u001b[38;5;66;03m# Do not call functions when jit is used\u001b[39;00m\n\u001b[0;32m   1196\u001b[0m full_backward_hooks, non_full_backward_hooks \u001b[38;5;241m=\u001b[39m [], []\n",
      "Input \u001b[1;32mIn [216]\u001b[0m, in \u001b[0;36mModel.forward\u001b[1;34m(self, text, max_len, abstract, temperature)\u001b[0m\n\u001b[0;32m     25\u001b[0m words \u001b[38;5;241m=\u001b[39m []\n\u001b[0;32m     26\u001b[0m \u001b[38;5;28;01mfor\u001b[39;00m t \u001b[38;5;129;01min\u001b[39;00m \u001b[38;5;28mrange\u001b[39m(max_len):\n\u001b[1;32m---> 28\u001b[0m     decoder_output, decoder_hidden, context, attention \u001b[38;5;241m=\u001b[39m \u001b[38;5;28;43mself\u001b[39;49m\u001b[38;5;241;43m.\u001b[39;49m\u001b[43mdecoder\u001b[49m\u001b[43m(\u001b[49m\u001b[43mdecoder_input\u001b[49m\u001b[43m,\u001b[49m\u001b[43m \u001b[49m\n\u001b[0;32m     29\u001b[0m \u001b[43m                                                    \u001b[49m\u001b[43mdecoder_hidden\u001b[49m\u001b[43m,\u001b[49m\u001b[43m \u001b[49m\u001b[43mcontext\u001b[49m\u001b[43m,\u001b[49m\u001b[43m \u001b[49m\u001b[43moutput\u001b[49m\u001b[43m,\u001b[49m\u001b[43m \u001b[49m\u001b[43mlengths\u001b[49m\u001b[43m)\u001b[49m\n\u001b[0;32m     31\u001b[0m     outputs\u001b[38;5;241m.\u001b[39mappend(decoder_output)\n\u001b[0;32m     33\u001b[0m     decoder_input \u001b[38;5;241m=\u001b[39m decoder_output\u001b[38;5;241m.\u001b[39margmax(\u001b[38;5;241m1\u001b[39m)\n",
      "File \u001b[1;32m~\\anaconda3\\lib\\site-packages\\torch\\nn\\modules\\module.py:1194\u001b[0m, in \u001b[0;36mModule._call_impl\u001b[1;34m(self, *input, **kwargs)\u001b[0m\n\u001b[0;32m   1190\u001b[0m \u001b[38;5;66;03m# If we don't have any hooks, we want to skip the rest of the logic in\u001b[39;00m\n\u001b[0;32m   1191\u001b[0m \u001b[38;5;66;03m# this function, and just call forward.\u001b[39;00m\n\u001b[0;32m   1192\u001b[0m \u001b[38;5;28;01mif\u001b[39;00m \u001b[38;5;129;01mnot\u001b[39;00m (\u001b[38;5;28mself\u001b[39m\u001b[38;5;241m.\u001b[39m_backward_hooks \u001b[38;5;129;01mor\u001b[39;00m \u001b[38;5;28mself\u001b[39m\u001b[38;5;241m.\u001b[39m_forward_hooks \u001b[38;5;129;01mor\u001b[39;00m \u001b[38;5;28mself\u001b[39m\u001b[38;5;241m.\u001b[39m_forward_pre_hooks \u001b[38;5;129;01mor\u001b[39;00m _global_backward_hooks\n\u001b[0;32m   1193\u001b[0m         \u001b[38;5;129;01mor\u001b[39;00m _global_forward_hooks \u001b[38;5;129;01mor\u001b[39;00m _global_forward_pre_hooks):\n\u001b[1;32m-> 1194\u001b[0m     \u001b[38;5;28;01mreturn\u001b[39;00m forward_call(\u001b[38;5;241m*\u001b[39m\u001b[38;5;28minput\u001b[39m, \u001b[38;5;241m*\u001b[39m\u001b[38;5;241m*\u001b[39mkwargs)\n\u001b[0;32m   1195\u001b[0m \u001b[38;5;66;03m# Do not call functions when jit is used\u001b[39;00m\n\u001b[0;32m   1196\u001b[0m full_backward_hooks, non_full_backward_hooks \u001b[38;5;241m=\u001b[39m [], []\n",
      "Input \u001b[1;32mIn [214]\u001b[0m, in \u001b[0;36mDecoder.forward\u001b[1;34m(self, input, hidden, context, encoder_outputs, lengths)\u001b[0m\n\u001b[0;32m     27\u001b[0m \u001b[38;5;66;03m# hidden = [bathc, seq_len, hidden_dim]\u001b[39;00m\n\u001b[0;32m     28\u001b[0m \u001b[38;5;66;03m# print(hidden[0])\u001b[39;00m\n\u001b[0;32m     29\u001b[0m \u001b[38;5;66;03m#hidden_permute = hidden.permute(0,1) # [1, 512]\u001b[39;00m\n\u001b[0;32m     30\u001b[0m decoder_input \u001b[38;5;241m=\u001b[39m torch\u001b[38;5;241m.\u001b[39mcat((embedded, context), \u001b[38;5;241m-\u001b[39m\u001b[38;5;241m1\u001b[39m)\u001b[38;5;241m.\u001b[39munsqueeze(\u001b[38;5;241m1\u001b[39m) \u001b[38;5;66;03m# [batch, 1, 512]\u001b[39;00m\n\u001b[1;32m---> 31\u001b[0m decoder_output, hidden \u001b[38;5;241m=\u001b[39m \u001b[38;5;28;43mself\u001b[39;49m\u001b[38;5;241;43m.\u001b[39;49m\u001b[43mlstm\u001b[49m\u001b[43m(\u001b[49m\u001b[43mdecoder_input\u001b[49m\u001b[43m,\u001b[49m\u001b[43m \u001b[49m\u001b[43mhidden\u001b[49m\u001b[43m)\u001b[49m\n\u001b[0;32m     32\u001b[0m decoder_output \u001b[38;5;241m=\u001b[39m decoder_output\u001b[38;5;241m.\u001b[39msqueeze(\u001b[38;5;241m1\u001b[39m)\n\u001b[0;32m     34\u001b[0m \u001b[38;5;66;03m# mask to block decoder from knowing future sequences/block padding\u001b[39;00m\n",
      "File \u001b[1;32m~\\anaconda3\\lib\\site-packages\\torch\\nn\\modules\\module.py:1194\u001b[0m, in \u001b[0;36mModule._call_impl\u001b[1;34m(self, *input, **kwargs)\u001b[0m\n\u001b[0;32m   1190\u001b[0m \u001b[38;5;66;03m# If we don't have any hooks, we want to skip the rest of the logic in\u001b[39;00m\n\u001b[0;32m   1191\u001b[0m \u001b[38;5;66;03m# this function, and just call forward.\u001b[39;00m\n\u001b[0;32m   1192\u001b[0m \u001b[38;5;28;01mif\u001b[39;00m \u001b[38;5;129;01mnot\u001b[39;00m (\u001b[38;5;28mself\u001b[39m\u001b[38;5;241m.\u001b[39m_backward_hooks \u001b[38;5;129;01mor\u001b[39;00m \u001b[38;5;28mself\u001b[39m\u001b[38;5;241m.\u001b[39m_forward_hooks \u001b[38;5;129;01mor\u001b[39;00m \u001b[38;5;28mself\u001b[39m\u001b[38;5;241m.\u001b[39m_forward_pre_hooks \u001b[38;5;129;01mor\u001b[39;00m _global_backward_hooks\n\u001b[0;32m   1193\u001b[0m         \u001b[38;5;129;01mor\u001b[39;00m _global_forward_hooks \u001b[38;5;129;01mor\u001b[39;00m _global_forward_pre_hooks):\n\u001b[1;32m-> 1194\u001b[0m     \u001b[38;5;28;01mreturn\u001b[39;00m forward_call(\u001b[38;5;241m*\u001b[39m\u001b[38;5;28minput\u001b[39m, \u001b[38;5;241m*\u001b[39m\u001b[38;5;241m*\u001b[39mkwargs)\n\u001b[0;32m   1195\u001b[0m \u001b[38;5;66;03m# Do not call functions when jit is used\u001b[39;00m\n\u001b[0;32m   1196\u001b[0m full_backward_hooks, non_full_backward_hooks \u001b[38;5;241m=\u001b[39m [], []\n",
      "File \u001b[1;32m~\\anaconda3\\lib\\site-packages\\torch\\nn\\modules\\rnn.py:774\u001b[0m, in \u001b[0;36mLSTM.forward\u001b[1;34m(self, input, hx)\u001b[0m\n\u001b[0;32m    772\u001b[0m \u001b[38;5;28mself\u001b[39m\u001b[38;5;241m.\u001b[39mcheck_forward_args(\u001b[38;5;28minput\u001b[39m, hx, batch_sizes)\n\u001b[0;32m    773\u001b[0m \u001b[38;5;28;01mif\u001b[39;00m batch_sizes \u001b[38;5;129;01mis\u001b[39;00m \u001b[38;5;28;01mNone\u001b[39;00m:\n\u001b[1;32m--> 774\u001b[0m     result \u001b[38;5;241m=\u001b[39m \u001b[43m_VF\u001b[49m\u001b[38;5;241;43m.\u001b[39;49m\u001b[43mlstm\u001b[49m\u001b[43m(\u001b[49m\u001b[38;5;28;43minput\u001b[39;49m\u001b[43m,\u001b[49m\u001b[43m \u001b[49m\u001b[43mhx\u001b[49m\u001b[43m,\u001b[49m\u001b[43m \u001b[49m\u001b[38;5;28;43mself\u001b[39;49m\u001b[38;5;241;43m.\u001b[39;49m\u001b[43m_flat_weights\u001b[49m\u001b[43m,\u001b[49m\u001b[43m \u001b[49m\u001b[38;5;28;43mself\u001b[39;49m\u001b[38;5;241;43m.\u001b[39;49m\u001b[43mbias\u001b[49m\u001b[43m,\u001b[49m\u001b[43m \u001b[49m\u001b[38;5;28;43mself\u001b[39;49m\u001b[38;5;241;43m.\u001b[39;49m\u001b[43mnum_layers\u001b[49m\u001b[43m,\u001b[49m\n\u001b[0;32m    775\u001b[0m \u001b[43m                      \u001b[49m\u001b[38;5;28;43mself\u001b[39;49m\u001b[38;5;241;43m.\u001b[39;49m\u001b[43mdropout\u001b[49m\u001b[43m,\u001b[49m\u001b[43m \u001b[49m\u001b[38;5;28;43mself\u001b[39;49m\u001b[38;5;241;43m.\u001b[39;49m\u001b[43mtraining\u001b[49m\u001b[43m,\u001b[49m\u001b[43m \u001b[49m\u001b[38;5;28;43mself\u001b[39;49m\u001b[38;5;241;43m.\u001b[39;49m\u001b[43mbidirectional\u001b[49m\u001b[43m,\u001b[49m\u001b[43m \u001b[49m\u001b[38;5;28;43mself\u001b[39;49m\u001b[38;5;241;43m.\u001b[39;49m\u001b[43mbatch_first\u001b[49m\u001b[43m)\u001b[49m\n\u001b[0;32m    776\u001b[0m \u001b[38;5;28;01melse\u001b[39;00m:\n\u001b[0;32m    777\u001b[0m     result \u001b[38;5;241m=\u001b[39m _VF\u001b[38;5;241m.\u001b[39mlstm(\u001b[38;5;28minput\u001b[39m, batch_sizes, hx, \u001b[38;5;28mself\u001b[39m\u001b[38;5;241m.\u001b[39m_flat_weights, \u001b[38;5;28mself\u001b[39m\u001b[38;5;241m.\u001b[39mbias,\n\u001b[0;32m    778\u001b[0m                       \u001b[38;5;28mself\u001b[39m\u001b[38;5;241m.\u001b[39mnum_layers, \u001b[38;5;28mself\u001b[39m\u001b[38;5;241m.\u001b[39mdropout, \u001b[38;5;28mself\u001b[39m\u001b[38;5;241m.\u001b[39mtraining, \u001b[38;5;28mself\u001b[39m\u001b[38;5;241m.\u001b[39mbidirectional)\n",
      "\u001b[1;31mOutOfMemoryError\u001b[0m: CUDA out of memory. Tried to allocate 22.00 MiB (GPU 0; 8.00 GiB total capacity; 5.85 GiB already allocated; 0 bytes free; 7.28 GiB reserved in total by PyTorch) If reserved memory is >> allocated memory try setting max_split_size_mb to avoid fragmentation.  See documentation for Memory Management and PYTORCH_CUDA_ALLOC_CONF"
     ]
    }
   ],
   "source": [
    "train_loss, eval_loss, train_acc, eval_acc = train(train_loader, valid_loader, model)"
   ]
  },
  {
   "cell_type": "code",
   "execution_count": 200,
   "metadata": {},
   "outputs": [],
   "source": [
    "import time\n",
    "def writeLoss(filename, loss):\n",
    "    # filename in format losstype+layer+dim, validL2D256\n",
    "    timestr = time.strftime(\"%Y%m%d-%H%M%S\")\n",
    "    filename = filename + \"_\" + timestr + \".txt\"\n",
    "    with open(filename, \"a\") as myfile:\n",
    "        for item in items:\n",
    "            myfile.write(item+\"\\n\")\n"
   ]
  },
  {
   "cell_type": "code",
   "execution_count": null,
   "metadata": {},
   "outputs": [],
   "source": [
    "writeLoss(\"Train\", train_loss)\n",
    "writeLoss(\"Valid\", eval_loss)"
   ]
  },
  {
   "cell_type": "code",
   "execution_count": 55,
   "metadata": {},
   "outputs": [],
   "source": [
    "torch.save(model.state_dict(), 'best_decoder20230719.pth')"
   ]
  },
  {
   "cell_type": "code",
   "execution_count": null,
   "metadata": {},
   "outputs": [],
   "source": [
    "def plot_grad_flow(named_parameters):\n",
    "    ave_grads = []\n",
    "    layers = []\n",
    "    for n, p in named_parameters:\n",
    "        print(n)\n",
    "        if(p.requires_grad) and (\"bias\" not in n):\n",
    "            layers.append(n)\n",
    "            #print(type(p.grad))\n",
    "            ave_grads.append(torch.mean(torch.abs(p.grad)).cpu())\n",
    "    plt.plot(ave_grads, alpha=0.3, color=\"b\")\n",
    "    plt.hlines(0, 0, len(ave_grads)+1, linewidth=1, color=\"k\" )\n",
    "    plt.xticks(range(0,len(ave_grads), 1), layers, rotation=\"vertical\")\n",
    "    plt.xlim(xmin=0, xmax=len(ave_grads))\n",
    "    plt.xlabel(\"Layers\")\n",
    "    plt.ylabel(\"average gradient\")\n",
    "    plt.title(\"Gradient flow\")\n",
    "    plt.grid(True)"
   ]
  },
  {
   "cell_type": "code",
   "execution_count": 57,
   "metadata": {},
   "outputs": [
    {
     "data": {
      "text/plain": [
       "<matplotlib.legend.Legend at 0x1f8bb119ac0>"
      ]
     },
     "execution_count": 57,
     "metadata": {},
     "output_type": "execute_result"
    },
    {
     "data": {
      "image/png": "[encoded data removed]",
      "text/plain": [
       "<Figure size 432x288 with 1 Axes>"
      ]
     },
     "metadata": {
      "needs_background": "light"
     },
     "output_type": "display_data"
    }
   ],
   "source": [
    "plt.plot(train_loss)\n",
    "plt.plot(eval_loss)\n",
    "plt.xlabel('epochs')\n",
    "plt.ylabel('loss')\n",
    "plt.legend(['train loss','Valid loss'])"
   ]
  },
  {
   "cell_type": "markdown",
   "metadata": {},
   "source": [
    "# Model Evaluation"
   ]
  },
  {
   "cell_type": "code",
   "execution_count": 229,
   "metadata": {},
   "outputs": [],
   "source": [
    "import gc\n",
    "gc.collect()\n",
    "torch.cuda.empty_cache()"
   ]
  },
  {
   "cell_type": "code",
   "execution_count": null,
   "metadata": {},
   "outputs": [],
   "source": []
  },
  {
   "cell_type": "code",
   "execution_count": null,
   "metadata": {},
   "outputs": [],
   "source": []
  },
  {
   "cell_type": "code",
   "execution_count": null,
   "metadata": {},
   "outputs": [],
   "source": []
  },
  {
   "cell_type": "markdown",
   "metadata": {},
   "source": [
    "# FastText"
   ]
  },
  {
   "cell_type": "markdown",
   "metadata": {},
   "source": [
    "## Model for querying"
   ]
  },
  {
   "cell_type": "markdown",
   "metadata": {},
   "source": [
    "train fasttext model\n",
    "obtain weight from fasttest\n",
    "then embedding can load weights\n",
    "\n",
    "- train 2 fasttext model, 1 for text and another for abstract\n",
    "- obtain weights for both vocab\n",
    "- put in encoder and decoder like normal\n",
    "- https://stackoverflow.com/questions/31440803/how-to-fetch-vectors-for-a-word-list-with-word2vec\n",
    "- use this to update the vocab class to update ways to fetch words\n",
    "- to solve querying, use the model and use function to find cosine"
   ]
  },
  {
   "cell_type": "code",
   "execution_count": 6,
   "metadata": {},
   "outputs": [],
   "source": [
    "import fasttext\n",
    "model = fasttext.train_unsupervised('data/fil9')\n",
    "model.save_model(\"result/fil9.bin\")\n",
    "model = fasttext.load_model(\"result/fil9.bin\")\n",
    "# EXPECTS TEXT FILE FORMAT WHERE 1 TEXT PER ROW\n",
    "# IMPORTANT, NEED TO REDESIGN CLEANING PROCESS "
   ]
  },
  {
   "cell_type": "markdown",
   "metadata": {},
   "source": [
    "# Dataset Exploration"
   ]
  },
  {
   "cell_type": "markdown",
   "metadata": {},
   "source": [
    "After exploring, all highlight:article ratio being more than 1.0 means the summary text is producing more text than the original text, this defeats the purpose of the model, therefore all data with a ratio of more than or equal to 1.0 will be omitted."
   ]
  },
  {
   "cell_type": "code",
   "execution_count": null,
   "metadata": {},
   "outputs": [],
   "source": []
  },
  {
   "cell_type": "markdown",
   "metadata": {},
   "source": [
    "# Model improvement/Retrain"
   ]
  },
  {
   "cell_type": "code",
   "execution_count": null,
   "metadata": {},
   "outputs": [],
   "source": []
  },
  {
   "cell_type": "code",
   "execution_count": null,
   "metadata": {},
   "outputs": [],
   "source": []
  },
  {
   "cell_type": "markdown",
   "metadata": {},
   "source": [
    "# Model Finalisation and Evaluation"
   ]
  },
  {
   "cell_type": "markdown",
   "metadata": {},
   "source": [
    "## Inference Script"
   ]
  },
  {
   "cell_type": "code",
   "execution_count": null,
   "metadata": {},
   "outputs": [],
   "source": [
    "# Load model\n",
    "best_model_path = \"best_decoder20230719.pth\"\n",
    "best_model = Model(len(text_vocab),len(abstract_vocab),2,256)\n",
    "best_model.load_state_dict(torch.load(best_model_path))"
   ]
  },
  {
   "cell_type": "markdown",
   "metadata": {},
   "source": [
    "## Upload Button"
   ]
  },
  {
   "cell_type": "code",
   "execution_count": 163,
   "metadata": {},
   "outputs": [],
   "source": [
    "TEXT_COLOUR = \"<font color='Black'>\""
   ]
  },
  {
   "cell_type": "code",
   "execution_count": 40,
   "metadata": {},
   "outputs": [],
   "source": [
    "def load_pdf(file):  \n",
    "    file_content = list(file)[0]\n",
    "    content = file_content[\"content\"]\n",
    "    return fitz.open(stream=content, filetype=\"pdf\")"
   ]
  },
  {
   "cell_type": "code",
   "execution_count": 52,
   "metadata": {},
   "outputs": [
    {
     "name": "stdout",
     "output_type": "stream",
     "text": [
      "-1\n"
     ]
    },
    {
     "data": {
      "application/vnd.jupyter.widget-view+json": {
       "model_id": "95a19ebb6eb444c7a48e69f6b72a1e64",
       "version_major": 2,
       "version_minor": 0
      },
      "text/plain": [
       "FileUpload(value={}, accept='.pdf', description='Upload')"
      ]
     },
     "metadata": {},
     "output_type": "display_data"
    }
   ],
   "source": [
    "uploader = widgets.FileUpload(multiple=False, accept='.pdf')\n",
    "def on_upload(change):\n",
    "    #ch = change.value.values()\n",
    "    # to obtain information regarding the pdf when the pdf is uploaded, buttonless design, will impact perf\n",
    "    global doc_len\n",
    "    doc_len = len(load_pdf(uploader.value.values()))-1\n",
    "    \n",
    "    uploader.value.clear()\n",
    "    uploader._counter=1\n",
    "\n",
    "uploader.observe(on_upload, 'value')\n",
    "display(uploader)"
   ]
  },
  {
   "cell_type": "markdown",
   "metadata": {},
   "source": [
    "## Abstract Generation tab"
   ]
  },
  {
   "cell_type": "markdown",
   "metadata": {},
   "source": [
    "### Radio button for model selection"
   ]
  },
  {
   "cell_type": "code",
   "execution_count": 176,
   "metadata": {},
   "outputs": [
    {
     "data": {
      "application/vnd.jupyter.widget-view+json": {
       "model_id": "cfc486a5a33644c398acbe99106b604f",
       "version_major": 2,
       "version_minor": 0
      },
      "text/plain": [
       "RadioButtons(description=\"<font color='Black'>Model:\", options=('Base', '512Dim', '1024Dim', 'Base+No Stop wor…"
      ]
     },
     "metadata": {},
     "output_type": "display_data"
    }
   ],
   "source": [
    "radio = widgets.RadioButtons(\n",
    "    options=['Base', '512Dim', '1024Dim', 'Base+No Stop word'],\n",
    "#    value='pineapple', # Defaults to 'pineapple'\n",
    "#    layout={'width': 'max-content'}, # If the items' names are long\n",
    "    description=TEXT_COLOUR+'Model:',\n",
    "    disabled=False\n",
    ")\n",
    "display(radio)"
   ]
  },
  {
   "cell_type": "markdown",
   "metadata": {},
   "source": [
    "### 3 input box for model parameters"
   ]
  },
  {
   "cell_type": "code",
   "execution_count": 177,
   "metadata": {},
   "outputs": [
    {
     "data": {
      "application/vnd.jupyter.widget-view+json": {
       "model_id": "9777934801604db1a1b03dd2b47e223c",
       "version_major": 2,
       "version_minor": 0
      },
      "text/plain": [
       "IntText(value=100, description=\"<font color='Black'>Max length:\")"
      ]
     },
     "metadata": {},
     "output_type": "display_data"
    }
   ],
   "source": [
    "# Max Length\n",
    "length = widgets.IntText(\n",
    "    value=100,\n",
    "    description=TEXT_COLOUR+'Max length:',\n",
    "    disabled=False\n",
    ")\n",
    "display(length)"
   ]
  },
  {
   "cell_type": "code",
   "execution_count": 178,
   "metadata": {},
   "outputs": [
    {
     "data": {
      "application/vnd.jupyter.widget-view+json": {
       "model_id": "835d6aed81b540248a603967682a6993",
       "version_major": 2,
       "version_minor": 0
      },
      "text/plain": [
       "BoundedFloatText(value=0.5, description=\"<font color='Black'>Temperature:\", max=1.0, step=0.1)"
      ]
     },
     "metadata": {},
     "output_type": "display_data"
    }
   ],
   "source": [
    "# Temperature\n",
    "temperature = widgets.BoundedFloatText(\n",
    "    value=0.5,\n",
    "    min=0,\n",
    "    max=1.0,\n",
    "    step=0.1,\n",
    "    description=TEXT_COLOUR+'Temperature:',\n",
    "    disabled=False\n",
    ")\n",
    "display(temperature)"
   ]
  },
  {
   "cell_type": "code",
   "execution_count": 179,
   "metadata": {},
   "outputs": [
    {
     "data": {
      "application/vnd.jupyter.widget-view+json": {
       "model_id": "60ea0a3b39ee4b9c8b111477ef056651",
       "version_major": 2,
       "version_minor": 0
      },
      "text/plain": [
       "IntRangeSlider(value=(0, 21), continuous_update=False, description=\"<font color='Black'>Page Range:\", max=21)"
      ]
     },
     "metadata": {},
     "output_type": "display_data"
    }
   ],
   "source": [
    "# PDF start and end\n",
    "pdf_range = widgets.IntRangeSlider(\n",
    "    value=[0, doc_len],\n",
    "    min=0,\n",
    "    max=doc_len,\n",
    "    step=1,\n",
    "\n",
    "    description=TEXT_COLOUR + \"Page Range:\",\n",
    "    disabled=False,\n",
    "    continuous_update=False,\n",
    "    orientation='horizontal',\n",
    "    readout=True,\n",
    "    readout_format='d',\n",
    ")\n",
    "display(pdf_range)"
   ]
  },
  {
   "cell_type": "markdown",
   "metadata": {},
   "source": [
    "### Activation button print result to output"
   ]
  },
  {
   "cell_type": "code",
   "execution_count": 180,
   "metadata": {},
   "outputs": [
    {
     "data": {
      "application/vnd.jupyter.widget-view+json": {
       "model_id": "656df4bd6bac4ec3b865b567baf8d9ce",
       "version_major": 2,
       "version_minor": 0
      },
      "text/plain": [
       "Button(button_style='info', description='Click me', icon='check', style=ButtonStyle(), tooltip='Click me')"
      ]
     },
     "metadata": {},
     "output_type": "display_data"
    },
    {
     "data": {
      "application/vnd.jupyter.widget-view+json": {
       "model_id": "df12ba71a2c1402487780c496ddb7b75",
       "version_major": 2,
       "version_minor": 0
      },
      "text/plain": [
       "Output(layout=Layout(border='1px solid black'))"
      ]
     },
     "metadata": {},
     "output_type": "display_data"
    }
   ],
   "source": [
    "button = widgets.Button(\n",
    "    description='Click me',\n",
    "    disabled=False,\n",
    "    button_style='info', # 'success', 'info', 'warning', 'danger' or ''\n",
    "    tooltip='Click me',\n",
    "    icon='check' # (FontAwesome names without the `fa-` prefix)\n",
    ")\n",
    "#button.style.button_color=\"green\"\n",
    "global i\n",
    "i = 0\n",
    "out = widgets.Output(layout={'border': '1px solid black'})\n",
    "display(button, out)\n",
    "\n",
    "def on_button_clicked(b):\n",
    "    with out:\n",
    "        global i\n",
    "        out.clear_output()\n",
    "        print(i,\" Button clicked.\")\n",
    "        i +=1\n",
    "\n",
    "button.on_click(on_button_clicked)"
   ]
  },
  {
   "cell_type": "markdown",
   "metadata": {},
   "source": [
    "### Wrap in grid widget"
   ]
  },
  {
   "cell_type": "code",
   "execution_count": 185,
   "metadata": {},
   "outputs": [
    {
     "data": {
      "application/vnd.jupyter.widget-view+json": {
       "model_id": "d3ae8cd0a14f487fb570d48fef221599",
       "version_major": 2,
       "version_minor": 0
      },
      "text/plain": [
       "Tab(children=(GridBox(children=(RadioButtons(description=\"<font color='Black'>Model:\", options=('Base', '512Di…"
      ]
     },
     "metadata": {},
     "output_type": "display_data"
    }
   ],
   "source": [
    "widget = [radio, length, pdf_range, temperature, button]\n",
    "grid = widgets.GridBox(widget, layout=widgets.Layout(grid_template_columns=\"repeat(1, 100px)\"))\n",
    "grid_list = [grid]\n",
    "tab = widgets.Tab()\n",
    "tab.children=grid_list\n",
    "tab"
   ]
  },
  {
   "cell_type": "markdown",
   "metadata": {},
   "source": [
    "## Relevance Query tab"
   ]
  },
  {
   "cell_type": "markdown",
   "metadata": {},
   "source": [
    "### Text input box"
   ]
  },
  {
   "cell_type": "code",
   "execution_count": 174,
   "metadata": {},
   "outputs": [
    {
     "data": {
      "application/vnd.jupyter.widget-view+json": {
       "model_id": "0e4fbbc8bbd947fe956c5799fccb436f",
       "version_major": 2,
       "version_minor": 0
      },
      "text/plain": [
       "Text(value='', description=\"<font color='Black'>Query:\", placeholder='Type something')"
      ]
     },
     "metadata": {},
     "output_type": "display_data"
    }
   ],
   "source": [
    "text_box = widgets.Text(\n",
    "    value='',\n",
    "    placeholder='Type something',\n",
    "    description=TEXT_COLOUR+'Query:',\n",
    "    disabled=False   \n",
    ")\n",
    "display(text_box)"
   ]
  },
  {
   "cell_type": "markdown",
   "metadata": {},
   "source": [
    "### Input box for start and end page"
   ]
  },
  {
   "cell_type": "code",
   "execution_count": 171,
   "metadata": {},
   "outputs": [
    {
     "data": {
      "application/vnd.jupyter.widget-view+json": {
       "model_id": "cb3be87298fb4687811937a6ff282b44",
       "version_major": 2,
       "version_minor": 0
      },
      "text/plain": [
       "IntRangeSlider(value=(0, 21), continuous_update=False, description=\"<font color='Black'>Page Range:\", max=21)"
      ]
     },
     "metadata": {},
     "output_type": "display_data"
    }
   ],
   "source": [
    "pdf_range_q = widgets.IntRangeSlider(\n",
    "    value=[0, doc_len],\n",
    "    min=0,\n",
    "    max=doc_len,\n",
    "    step=1,\n",
    "\n",
    "    description=TEXT_COLOUR + \"Page Range:\",\n",
    "    disabled=False,\n",
    "    continuous_update=False,\n",
    "    orientation='horizontal',\n",
    "    readout=True,\n",
    "    readout_format='d',\n",
    ")\n",
    "display(pdf_range_q)"
   ]
  },
  {
   "cell_type": "markdown",
   "metadata": {},
   "source": [
    "### Activation button print result to output"
   ]
  },
  {
   "cell_type": "code",
   "execution_count": 172,
   "metadata": {},
   "outputs": [
    {
     "data": {
      "application/vnd.jupyter.widget-view+json": {
       "model_id": "36bd82f56f394083943c16c42da1c0b3",
       "version_major": 2,
       "version_minor": 0
      },
      "text/plain": [
       "Button(button_style='info', description='Click me', icon='check', style=ButtonStyle(), tooltip='Click me')"
      ]
     },
     "metadata": {},
     "output_type": "display_data"
    },
    {
     "data": {
      "application/vnd.jupyter.widget-view+json": {
       "model_id": "a2e792cb9f0149a29a6a694138e17dd3",
       "version_major": 2,
       "version_minor": 0
      },
      "text/plain": [
       "Output(layout=Layout(border='1px solid black'))"
      ]
     },
     "metadata": {},
     "output_type": "display_data"
    }
   ],
   "source": [
    "button_q = widgets.Button(\n",
    "    description='Click me',\n",
    "    disabled=False,\n",
    "    button_style='info', # 'success', 'info', 'warning', 'danger' or ''\n",
    "    tooltip='Click me',\n",
    "    icon='check' # (FontAwesome names without the `fa-` prefix)\n",
    ")\n",
    "#button.style.button_color=\"green\"\n",
    "global j\n",
    "j = 0\n",
    "out_q = widgets.Output(layout={'border': '1px solid black'})\n",
    "display(button_q, out_q)\n",
    "\n",
    "def on_button_clicked(b):\n",
    "    with out_q:\n",
    "        global j\n",
    "        out_q.clear_output()\n",
    "        print(j,\" Button clicked.\")\n",
    "        j +=1\n",
    "\n",
    "button_q.on_click(on_button_clicked)"
   ]
  },
  {
   "cell_type": "markdown",
   "metadata": {},
   "source": [
    "### Wrap in grid widget"
   ]
  },
  {
   "cell_type": "code",
   "execution_count": 187,
   "metadata": {},
   "outputs": [
    {
     "data": {
      "application/vnd.jupyter.widget-view+json": {
       "model_id": "d449c2ba2aad4198a7ddb177b4f9fbe0",
       "version_major": 2,
       "version_minor": 0
      },
      "text/plain": [
       "Tab(children=(GridBox(children=(Text(value='', description=\"<font color='Black'>Query:\", placeholder='Type som…"
      ]
     },
     "metadata": {},
     "output_type": "display_data"
    }
   ],
   "source": [
    "widget_q = [text_box, pdf_range_q, button_q]\n",
    "grid_q = widgets.GridBox(widget_q, layout=widgets.Layout(grid_template_columns=\"repeat(1, 100px)\"))\n",
    "grid_list_q = [grid_q]\n",
    "tab = widgets.Tab()\n",
    "tab.children=grid_list_q\n",
    "tab"
   ]
  },
  {
   "cell_type": "markdown",
   "metadata": {},
   "source": [
    "# -----------------------"
   ]
  },
  {
   "cell_type": "markdown",
   "metadata": {},
   "source": [
    "# Final combined tab"
   ]
  },
  {
   "cell_type": "code",
   "execution_count": 189,
   "metadata": {},
   "outputs": [
    {
     "data": {
      "application/vnd.jupyter.widget-view+json": {
       "model_id": "80b4a6202fa9491797cf9febb354cf92",
       "version_major": 2,
       "version_minor": 0
      },
      "text/plain": [
       "Tab(children=(GridBox(children=(RadioButtons(description=\"<font color='Black'>Model:\", options=('Base', '512Di…"
      ]
     },
     "metadata": {},
     "output_type": "display_data"
    }
   ],
   "source": [
    "grids = [grid, grid_q]\n",
    "tabs = widgets.Tab()\n",
    "tabs.children=grids\n",
    "tabs_titles = [\"Abstract Generation\", \"Relevance Query\"]\n",
    "for i, title in enumerate(tabs_titles):\n",
    "    tabs.set_title(i, title)\n",
    "display(tabs)"
   ]
  },
  {
   "cell_type": "code",
   "execution_count": null,
   "metadata": {},
   "outputs": [],
   "source": []
  },
  {
   "cell_type": "markdown",
   "metadata": {},
   "source": [
    "# -----------------------"
   ]
  },
  {
   "cell_type": "code",
   "execution_count": 10,
   "metadata": {},
   "outputs": [],
   "source": [
    "# https://ipywidgets.readthedocs.io/en/stable/examples/Widget%20List.html\n",
    "w = widgets.IntSlider()\n",
    "out = widgets.Output(layout={'border': '1px solid black'})"
   ]
  },
  {
   "cell_type": "code",
   "execution_count": 11,
   "metadata": {},
   "outputs": [
    {
     "data": {
      "application/vnd.jupyter.widget-view+json": {
       "model_id": "b0dffecdeadc4ede95cfe5b406cd1e8b",
       "version_major": 2,
       "version_minor": 0
      },
      "text/plain": [
       "Output(layout=Layout(border='1px solid black'))"
      ]
     },
     "metadata": {},
     "output_type": "display_data"
    },
    {
     "data": {
      "application/vnd.jupyter.widget-view+json": {
       "model_id": "5ecd71bff24f4338b76e0c4c2d99ed1b",
       "version_major": 2,
       "version_minor": 0
      },
      "text/plain": [
       "IntSlider(value=0)"
      ]
     },
     "metadata": {},
     "output_type": "display_data"
    }
   ],
   "source": [
    "display(out)\n",
    "display(w)\n",
    "#out.clear_output()\n",
    "with out:\n",
    "    out.clear_output()\n",
    "\n",
    "    for i in range(5):\n",
    "        print(i, 'Hello world!')"
   ]
  },
  {
   "cell_type": "code",
   "execution_count": 184,
   "metadata": {},
   "outputs": [
    {
     "name": "stdout",
     "output_type": "stream",
     "text": [
      "[Text(value='0', description='Abstract Generation'), Text(value='0', description='Relevance Query')]\n",
      "[Text(value='1', description='Abstract Generation'), Text(value='1', description='Relevance Query')]\n"
     ]
    },
    {
     "data": {
      "application/vnd.jupyter.widget-view+json": {
       "model_id": "334690b79aea4f8c8b2ec9e1b68c351a",
       "version_major": 2,
       "version_minor": 0
      },
      "text/plain": [
       "Tab(children=(GridBox(children=(Label(value='0'), Label(value='1'), Label(value='2'), Label(value='3'), Label(…"
      ]
     },
     "metadata": {},
     "output_type": "display_data"
    }
   ],
   "source": [
    "tab_titles = [\"Abstract Generation\", \"Relevance Query\"]\n",
    "tab = widgets.Tab()\n",
    "items = [widgets.Label(str(i)) for i in range(8)]\n",
    "grid = widgets.GridBox(items, layout=widgets.Layout(grid_template_columns=\"repeat(3, 100px)\"))\n",
    "gridlist= [grid]\n",
    "for i, title in enumerate(tab_titles):\n",
    "    tab.set_title(i, title)\n",
    "    children = [widgets.Text(value=str(i),description=name) for name in tab_titles]\n",
    "    print(children)\n",
    "    tab.children=gridlist\n",
    "tab\n",
    "\n",
    "# work flow is as follows\n",
    "# widget1 = widgets.button()\n",
    "# widget2 = widgets.button()\n",
    "# widget3 = widgets.RadioButton()\n",
    "# widgetList = [widget1,widget2,widget3]\n",
    "# grid1 = widgets.GridBox(items, layout=widgets.Layout(grid_template_columns=\"repeat(3, 100px)\"))\n",
    "# grid2 = widgets.GridBox(items, layout=widgets.Layout(grid_template_columns=\"repeat(3, 100px)\"))\n",
    "# grids = [grid1, grid2]\n",
    "\n",
    "# tab.children = grids\n"
   ]
  },
  {
   "cell_type": "code",
   "execution_count": 17,
   "metadata": {},
   "outputs": [],
   "source": [
    "def readPDF(file, start_page=0, end_page=-1):\n",
    "    '''\n",
    "    Will accept input of widget pdf file\n",
    "    start_page indicates starting page to start reading default=first page\n",
    "    end_page indicate last page to read default=last page\n",
    "    '''\n",
    "    doc = load_pdf(file)\n",
    "    if end_page == -1:\n",
    "        end_page = len(doc)-1\n",
    "    \n",
    "    # extracting text from page\n",
    "    doc_text = \"\"\n",
    "    for page in doc.pages(start_page, end_page):\n",
    "        \n",
    "        text = page.get_text(\"text\")\n",
    "        text = text.split('\\n')\n",
    "        text = \" \".join(text)\n",
    "        doc_text += text \n",
    "    doc_text = doc_text.strip()\n",
    "    doc.close()\n",
    "    return doc_text"
   ]
  },
  {
   "cell_type": "code",
   "execution_count": null,
   "metadata": {},
   "outputs": [],
   "source": [
    "def Process(raw_data, stop_word=True):\n",
    "    data = cleanLine(raw_data, stop_word)\n",
    "    data_id = tokenise(text_vocab, data)\n",
    "    return data_id"
   ]
  },
  {
   "cell_type": "code",
   "execution_count": null,
   "metadata": {},
   "outputs": [],
   "source": [
    "def Infer(model, data, max_size=100, temperature=0.5):\n",
    "    decoder_outputs = model(data, max_len=max_size, temperature=temperature)\n",
    "    decoder_outputs = torch.unbind(decoder_outputs, 1)\n",
    "    sentence = \"\"\n",
    "    for output in decoder_outputs:\n",
    "        token = output.argmax(1)\n",
    "        # if word is pad then replace with space\n",
    "        # if word is end then stop\n",
    "        if token == 2:\n",
    "            sentence += \" \"\n",
    "        elif token == 1:\n",
    "            break\n",
    "        else:\n",
    "            sentence += abstract_vocab.get_word(token.item()) + \" \"\n",
    "    sentence = sentence.strip()\n",
    "    return sentence"
   ]
  },
  {
   "cell_type": "code",
   "execution_count": 143,
   "metadata": {},
   "outputs": [],
   "source": [
    "raw_data = readPDF(uploader.value.values(), start_page=0, end_page=-1) # Obtain 1 long string\n",
    "data = Process(raw_data) # Clean string and convert to word_ids\n",
    "output = Infer(best_model, data, max_size=100, temperature=0.5)"
   ]
  },
  {
   "cell_type": "code",
   "execution_count": null,
   "metadata": {},
   "outputs": [],
   "source": []
  }
 ],
 "metadata": {
  "colab": {
   "name": "COMP5623M_CW1_Q2.ipynb",
   "provenance": []
  },
  "kernelspec": {
   "display_name": "Python 3 (ipykernel)",
   "language": "python",
   "name": "python3"
  },
  "language_info": {
   "codemirror_mode": {
    "name": "ipython",
    "version": 3
   },
   "file_extension": ".py",
   "mimetype": "text/x-python",
   "name": "python",
   "nbconvert_exporter": "python",
   "pygments_lexer": "ipython3",
   "version": "3.9.12"
  },
  "vscode": {
   "interpreter": {
    "hash": "31f2aee4e71d21fbe5cf8b01ff0e069b9275f58929596ceb00d14d90e3e16cd6"
   }
  }
 },
 "nbformat": 4,
 "nbformat_minor": 1
}
