{
 "cells": [
  {
   "cell_type": "markdown",
   "metadata": {
    "id": "LR4bovYL4CJz"
   },
   "source": [
    "## Dissertation Project - News Summary Dissertation [100 marks]\n",
    "\n",
    "### Motivation \n",
    "\n",
    "> 1. Provide tools for anyone needing to speed up their research process\n",
    "> 2. Providing ways for user to quickly determine whether a piece of research is beneficial for their specific search terms\n",
    "\n",
    "\n"
   ]
  },
  {
   "cell_type": "code",
   "execution_count": 290,
   "metadata": {},
   "outputs": [
    {
     "data": {
      "text/html": [
       "<script>\n",
       "code_show=true; \n",
       "function code_toggle() {\n",
       " if (code_show){\n",
       " $('div.input').hide();\n",
       " } else {\n",
       " $('div.input').show();\n",
       " }\n",
       " code_show = !code_show\n",
       "} \n",
       "$( document ).ready(code_toggle);\n",
       "</script>\n",
       "<form action=\"javascript:code_toggle()\"><input type=\"submit\" value=\"Toggle code.\"></form>"
      ],
      "text/plain": [
       "<IPython.core.display.HTML object>"
      ]
     },
     "execution_count": 290,
     "metadata": {},
     "output_type": "execute_result"
    }
   ],
   "source": [
    "from IPython.display import HTML\n",
    "\n",
    "HTML('''<script>\n",
    "code_show=true; \n",
    "function code_toggle() {\n",
    " if (code_show){\n",
    " $('div.input').hide();\n",
    " } else {\n",
    " $('div.input').show();\n",
    " }\n",
    " code_show = !code_show\n",
    "} \n",
    "$( document ).ready(code_toggle);\n",
    "</script>\n",
    "<form action=\"javascript:code_toggle()\"><input type=\"submit\" value=\"Toggle code.\"></form>''')"
   ]
  },
  {
   "cell_type": "markdown",
   "metadata": {},
   "source": [
    "### Imports"
   ]
  },
  {
   "cell_type": "code",
   "execution_count": 1,
   "metadata": {},
   "outputs": [],
   "source": [
    "import torch\n",
    "import torch.nn as nn\n",
    "import torchvision\n",
    "from torchvision import transforms\n",
    "import torchvision.models as models\n",
    "from torch.utils.data import Dataset, DataLoader, random_split\n",
    "from torch.nn.utils.rnn import pack_padded_sequence, pad_packed_sequence\n",
    "import pandas as pd\n",
    "import matplotlib.pyplot as plt\n",
    "from collections import Counter\n",
    "import os\n",
    "import numpy as np\n",
    "from PIL import Image\n",
    "from sklearn.model_selection import train_test_split\n",
    "from sklearn.feature_extraction.text import ENGLISH_STOP_WORDS\n",
    "import string\n",
    "import random\n",
    "from tqdm.notebook import tqdm\n",
    "import ipywidgets as widgets\n",
    "import fitz\n",
    "\n",
    "import numpy as np \n",
    "import pandas as pd\n",
    "import math\n",
    "import time\n",
    "\n",
    "import json\n",
    "import pickle\n",
    "import _pickle as pickle\n",
    "\n",
    "DATASET = \"./Dataset/\""
   ]
  },
  {
   "cell_type": "markdown",
   "metadata": {},
   "source": [
    "Detect which device (CPU/GPU) to use."
   ]
  },
  {
   "cell_type": "code",
   "execution_count": 2,
   "metadata": {},
   "outputs": [
    {
     "name": "stdout",
     "output_type": "stream",
     "text": [
      "Using device: cuda\n"
     ]
    }
   ],
   "source": [
    "seed = 0\n",
    "random.seed(seed)\n",
    "torch.manual_seed(seed)\n",
    "torch.cuda.manual_seed(seed) \n",
    "torch.cuda.manual_seed_all(seed)\n",
    "device = torch.device('cuda' if torch.cuda.is_available() else 'cpu')\n",
    "print('Using device:', device)"
   ]
  },
  {
   "cell_type": "markdown",
   "metadata": {},
   "source": [
    "### Overview\n",
    "\n",
    "Summarisation model\n",
    "> 1. Dataset preprocessing\n",
    "> 2. Dataloader\n",
    "> 3. RNN model definition\n",
    "> 4. Model training\n",
    "> 5. Model prediction evaluation\n",
    "> 6. Dataset Exploration\n",
    "> 7. Dataset modification/Data Augmentation\n",
    "> 8. Model improvement\n",
    "> 9. Model finalisation and evaluation\n",
    "\n",
    "Paper querying\n",
    "> 1. Attention on query (Return usefulness percentage\n",
    "> 2. Evaluate performance\n"
   ]
  },
  {
   "cell_type": "markdown",
   "metadata": {},
   "source": [
    "# Data preprocessing"
   ]
  },
  {
   "cell_type": "code",
   "execution_count": 5,
   "metadata": {},
   "outputs": [],
   "source": [
    "# # Comment this block if dataset is reorganised\n",
    "# DATA_DIR = \"SSN/papers.SSN.jsonl\"\n",
    "# dataset_path = DATASET+DATA_DIR\n",
    "# with open(dataset_path) as f:\n",
    "#     lines = f.read().splitlines()\n",
    "# df_inter = pd.DataFrame(lines)\n",
    "# df_inter.columns = ['json_element']\n",
    "# df_final = pd.json_normalize(df_inter['json_element'].apply(json.loads))\n",
    "# df_final.to_json(\"./Dataset/SSN/SSN_Dataset.json\")\n",
    "# df_final"
   ]
  },
  {
   "cell_type": "code",
   "execution_count": null,
   "metadata": {},
   "outputs": [],
   "source": [
    "# for i,summary in df_final.iterrows():\n",
    "#     temp = summary[\"abstract\"]\n",
    "#     print(type(summary[\"abstract\"]))\n",
    "#     break"
   ]
  },
  {
   "cell_type": "code",
   "execution_count": 236,
   "metadata": {},
   "outputs": [],
   "source": [
    "# #Comment this block if dataset is shortened\n",
    "# DATA_DIR = \"SSN/SSN_Dataset.json\"\n",
    "# dataset_path = DATASET+DATA_DIR\n",
    "# df = pd.read_json(dataset_path)\n",
    "# df"
   ]
  },
  {
   "cell_type": "code",
   "execution_count": 32,
   "metadata": {},
   "outputs": [
    {
     "data": {
      "text/plain": [
       "['introduction',\n",
       " 'quantum information theory preliminaries',\n",
       " 'kk-minimal and kk-maximal operator spaces',\n",
       " 'kk-super minimal and kk-super maximal operator systems',\n",
       " 'norms on operator systems',\n",
       " 'contractive maps as separability criteria']"
      ]
     },
     "execution_count": 32,
     "metadata": {},
     "output_type": "execute_result"
    }
   ],
   "source": [
    "# df.iloc[140794][\"section_names\"]"
   ]
  },
  {
   "cell_type": "markdown",
   "metadata": {},
   "source": [
    "Function to return index for conclusion section"
   ]
  },
  {
   "cell_type": "code",
   "execution_count": 12,
   "metadata": {},
   "outputs": [],
   "source": [
    "# def trim_index(row):\n",
    "#     return [row.index(x)+1 for x in row if x.startswith('conclusion') or x.startswith(\"summar\")]"
   ]
  },
  {
   "cell_type": "code",
   "execution_count": 13,
   "metadata": {},
   "outputs": [],
   "source": [
    "# def trim_text(text, index):\n",
    "#     return text[0:index]"
   ]
  },
  {
   "cell_type": "code",
   "execution_count": 14,
   "metadata": {},
   "outputs": [
    {
     "name": "stdout",
     "output_type": "stream",
     "text": [
      "49413\n"
     ]
    }
   ],
   "source": [
    "# # Comment this block if dataset is shortened\n",
    "# # Trim text after conclusion\n",
    "# indexes = []\n",
    "# for i, row in df.iterrows():\n",
    "#     section = row[\"section_names\"]\n",
    "#     #print(section)\n",
    "#     index = trim_index(section)\n",
    "#     #print(index)\n",
    "#     if not index:\n",
    "#         indexes.append(i)\n",
    "#     # if section can be filtered\n",
    "#     else:\n",
    "#         index = index[0]\n",
    "#         abstract = row[\"abstract\"]\n",
    "#         text = row[\"text\"]\n",
    "#         section = row[\"section_names\"]\n",
    "#         df.at[i, \"section_names\"] = trim_text(section, index)\n",
    "#         df.at[i, \"abstract\"] = trim_text(abstract, index)\n",
    "#         df.at[i, \"text\"] = trim_text(text, index)\n",
    "# # dropping rows in dataframe that can't easily filter out reference section\n",
    "# print(len(indexes))\n",
    "# df.drop(indexes, inplace=True)\n",
    "# df.to_json(\"./Dataset/SSN/SSN_Dataset_Short.json\")"
   ]
  },
  {
   "cell_type": "markdown",
   "metadata": {},
   "source": [
    "35% of paper will be removed from the dataset due to it not having conclusion(s) and summary(ies) in their section titles, making it difficult to filter out the reference and appendix text"
   ]
  },
  {
   "cell_type": "code",
   "execution_count": 259,
   "metadata": {
    "scrolled": true
   },
   "outputs": [],
   "source": [
    "# DATA_DIR = \"SSN/SSN_Dataset_Short.json\"\n",
    "# dataset_path = DATASET+DATA_DIR\n",
    "# df = pd.read_json(dataset_path)\n",
    "# df.reset_index(drop=True, inplace=True)\n",
    "# df"
   ]
  },
  {
   "cell_type": "markdown",
   "metadata": {},
   "source": [
    "See diversity in papers, select only computer science"
   ]
  },
  {
   "cell_type": "code",
   "execution_count": 249,
   "metadata": {},
   "outputs": [
    {
     "data": {
      "text/plain": [
       "[Physics]                          41291\n",
       "[Computer science]                 19695\n",
       "[Mathematics]                      17047\n",
       "[Computer science, Mathematics]     5075\n",
       "[]                                  3162\n",
       "                                   ...  \n",
       "[Geology, Philosophy]                  1\n",
       "[Computer science, Philosophy]         1\n",
       "[Art, Computer science]                1\n",
       "[Materials science, Geography]         1\n",
       "[Biology, Computer science]            1\n",
       "Name: domain, Length: 156, dtype: int64"
      ]
     },
     "execution_count": 249,
     "metadata": {},
     "output_type": "execute_result"
    }
   ],
   "source": [
    "# plot_points = df['domain'].value_counts()\n",
    "# plot_points"
   ]
  },
  {
   "cell_type": "code",
   "execution_count": 260,
   "metadata": {},
   "outputs": [],
   "source": [
    "# df = df.loc[df['domain'].isin([['Computer science']])]\n",
    "# df.to_json(\"./Dataset/SSN/SSN_Dataset_CompSci_Short.json\")\n",
    "# df"
   ]
  },
  {
   "cell_type": "code",
   "execution_count": 3,
   "metadata": {},
   "outputs": [
    {
     "data": {
      "text/html": [
       "<div>\n",
       "<style scoped>\n",
       "    .dataframe tbody tr th:only-of-type {\n",
       "        vertical-align: middle;\n",
       "    }\n",
       "\n",
       "    .dataframe tbody tr th {\n",
       "        vertical-align: top;\n",
       "    }\n",
       "\n",
       "    .dataframe thead th {\n",
       "        text-align: right;\n",
       "    }\n",
       "</style>\n",
       "<table border=\"1\" class=\"dataframe\">\n",
       "  <thead>\n",
       "    <tr style=\"text-align: right;\">\n",
       "      <th></th>\n",
       "      <th>id</th>\n",
       "      <th>text</th>\n",
       "      <th>abstract</th>\n",
       "    </tr>\n",
       "  </thead>\n",
       "  <tbody>\n",
       "    <tr>\n",
       "      <th>0</th>\n",
       "      <td>0001d1afc246a7964130f43ae940af6bc6c57f01</td>\n",
       "      <td>By . Associated Press . PUBLISHED: . 14:11 EST...</td>\n",
       "      <td>Bishop John Folda, of North Dakota, is taking ...</td>\n",
       "    </tr>\n",
       "    <tr>\n",
       "      <th>1</th>\n",
       "      <td>0002095e55fcbd3a2f366d9bf92a95433dc305ef</td>\n",
       "      <td>(CNN) -- Ralph Mata was an internal affairs li...</td>\n",
       "      <td>Criminal complaint: Cop used his role to help ...</td>\n",
       "    </tr>\n",
       "    <tr>\n",
       "      <th>2</th>\n",
       "      <td>00027e965c8264c35cc1bc55556db388da82b07f</td>\n",
       "      <td>A drunk driver who killed a young woman in a h...</td>\n",
       "      <td>Craig Eccleston-Todd, 27, had drunk at least t...</td>\n",
       "    </tr>\n",
       "    <tr>\n",
       "      <th>3</th>\n",
       "      <td>0002c17436637c4fe1837c935c04de47adb18e9a</td>\n",
       "      <td>(CNN) -- With a breezy sweep of his pen Presid...</td>\n",
       "      <td>Nina dos Santos says Europe must be ready to a...</td>\n",
       "    </tr>\n",
       "    <tr>\n",
       "      <th>4</th>\n",
       "      <td>0003ad6ef0c37534f80b55b4235108024b407f0b</td>\n",
       "      <td>Fleetwood are the only team still to have a 10...</td>\n",
       "      <td>Fleetwood top of League One after 2-0 win at S...</td>\n",
       "    </tr>\n",
       "    <tr>\n",
       "      <th>...</th>\n",
       "      <td>...</td>\n",
       "      <td>...</td>\n",
       "      <td>...</td>\n",
       "    </tr>\n",
       "    <tr>\n",
       "      <th>287108</th>\n",
       "      <td>fffdfb56fdf1a12d364562cc2b9b1d4de7481dee</td>\n",
       "      <td>By . James Rush . Former first daughter Chelse...</td>\n",
       "      <td>Chelsea Clinton said question of running for o...</td>\n",
       "    </tr>\n",
       "    <tr>\n",
       "      <th>287109</th>\n",
       "      <td>fffeecb8690b85de8c3faed80adbc7a978f9ae2a</td>\n",
       "      <td>An apologetic Vanilla Ice has given his first ...</td>\n",
       "      <td>Vanilla Ice, 47 - real name Robert Van Winkle ...</td>\n",
       "    </tr>\n",
       "    <tr>\n",
       "      <th>287110</th>\n",
       "      <td>ffff5231e4c71544bc6c97015cdb16c60e42b3f4</td>\n",
       "      <td>America's most lethal sniper claimed he wished...</td>\n",
       "      <td>America's most lethal sniper made comment in i...</td>\n",
       "    </tr>\n",
       "    <tr>\n",
       "      <th>287111</th>\n",
       "      <td>ffff924b14a8d82058b6c1c5368ff1113c1632af</td>\n",
       "      <td>By . Sara Malm . PUBLISHED: . 12:19 EST, 8 Mar...</td>\n",
       "      <td>A swarm of more than one million has crossed b...</td>\n",
       "    </tr>\n",
       "    <tr>\n",
       "      <th>287112</th>\n",
       "      <td>ffffd563a96104f5cf4493cfa701a65f31b06abf</td>\n",
       "      <td>(CNN)Former Florida Gov. Jeb Bush has decided ...</td>\n",
       "      <td>Other 2016 hopefuls maintain that Bush's annou...</td>\n",
       "    </tr>\n",
       "  </tbody>\n",
       "</table>\n",
       "<p>287113 rows × 3 columns</p>\n",
       "</div>"
      ],
      "text/plain": [
       "                                              id  \\\n",
       "0       0001d1afc246a7964130f43ae940af6bc6c57f01   \n",
       "1       0002095e55fcbd3a2f366d9bf92a95433dc305ef   \n",
       "2       00027e965c8264c35cc1bc55556db388da82b07f   \n",
       "3       0002c17436637c4fe1837c935c04de47adb18e9a   \n",
       "4       0003ad6ef0c37534f80b55b4235108024b407f0b   \n",
       "...                                          ...   \n",
       "287108  fffdfb56fdf1a12d364562cc2b9b1d4de7481dee   \n",
       "287109  fffeecb8690b85de8c3faed80adbc7a978f9ae2a   \n",
       "287110  ffff5231e4c71544bc6c97015cdb16c60e42b3f4   \n",
       "287111  ffff924b14a8d82058b6c1c5368ff1113c1632af   \n",
       "287112  ffffd563a96104f5cf4493cfa701a65f31b06abf   \n",
       "\n",
       "                                                     text  \\\n",
       "0       By . Associated Press . PUBLISHED: . 14:11 EST...   \n",
       "1       (CNN) -- Ralph Mata was an internal affairs li...   \n",
       "2       A drunk driver who killed a young woman in a h...   \n",
       "3       (CNN) -- With a breezy sweep of his pen Presid...   \n",
       "4       Fleetwood are the only team still to have a 10...   \n",
       "...                                                   ...   \n",
       "287108  By . James Rush . Former first daughter Chelse...   \n",
       "287109  An apologetic Vanilla Ice has given his first ...   \n",
       "287110  America's most lethal sniper claimed he wished...   \n",
       "287111  By . Sara Malm . PUBLISHED: . 12:19 EST, 8 Mar...   \n",
       "287112  (CNN)Former Florida Gov. Jeb Bush has decided ...   \n",
       "\n",
       "                                                 abstract  \n",
       "0       Bishop John Folda, of North Dakota, is taking ...  \n",
       "1       Criminal complaint: Cop used his role to help ...  \n",
       "2       Craig Eccleston-Todd, 27, had drunk at least t...  \n",
       "3       Nina dos Santos says Europe must be ready to a...  \n",
       "4       Fleetwood top of League One after 2-0 win at S...  \n",
       "...                                                   ...  \n",
       "287108  Chelsea Clinton said question of running for o...  \n",
       "287109  Vanilla Ice, 47 - real name Robert Van Winkle ...  \n",
       "287110  America's most lethal sniper made comment in i...  \n",
       "287111  A swarm of more than one million has crossed b...  \n",
       "287112  Other 2016 hopefuls maintain that Bush's annou...  \n",
       "\n",
       "[287113 rows x 3 columns]"
      ]
     },
     "execution_count": 3,
     "metadata": {},
     "output_type": "execute_result"
    }
   ],
   "source": [
    "# DATA_DIR = \"cnn_dailymail/train.csv\"\n",
    "# dataset_path = DATASET+DATA_DIR\n",
    "# df = pd.read_csv(dataset_path)\n",
    "# df = df.rename(columns={'article': 'text', 'highlights': 'abstract'})\n",
    "# df"
   ]
  },
  {
   "cell_type": "code",
   "execution_count": 15,
   "metadata": {},
   "outputs": [
    {
     "data": {
      "text/html": [
       "<div>\n",
       "<style scoped>\n",
       "    .dataframe tbody tr th:only-of-type {\n",
       "        vertical-align: middle;\n",
       "    }\n",
       "\n",
       "    .dataframe tbody tr th {\n",
       "        vertical-align: top;\n",
       "    }\n",
       "\n",
       "    .dataframe thead th {\n",
       "        text-align: right;\n",
       "    }\n",
       "</style>\n",
       "<table border=\"1\" class=\"dataframe\">\n",
       "  <thead>\n",
       "    <tr style=\"text-align: right;\">\n",
       "      <th></th>\n",
       "      <th>paper_id</th>\n",
       "      <th>title</th>\n",
       "      <th>abstract</th>\n",
       "      <th>section_names</th>\n",
       "      <th>domain</th>\n",
       "      <th>text</th>\n",
       "    </tr>\n",
       "  </thead>\n",
       "  <tbody>\n",
       "    <tr>\n",
       "      <th>0</th>\n",
       "      <td>9195903</td>\n",
       "      <td>Robust Face Alignment Using a Mixture of Invar...</td>\n",
       "      <td>[face alignment , which is the task of finding...</td>\n",
       "      <td>[introduction, previous work, our approach, su...</td>\n",
       "      <td>[Computer science]</td>\n",
       "      <td>[[face alignment refers to finding the pixel l...</td>\n",
       "    </tr>\n",
       "    <tr>\n",
       "      <th>1</th>\n",
       "      <td>56895423</td>\n",
       "      <td>TEST: A Terminology Extraction System for Tech...</td>\n",
       "      <td>[tracking developments in the highly dynamic d...</td>\n",
       "      <td>[introduction, related work, dataset preparati...</td>\n",
       "      <td>[Computer science]</td>\n",
       "      <td>[[with the ubiquity of online resources and th...</td>\n",
       "    </tr>\n",
       "    <tr>\n",
       "      <th>2</th>\n",
       "      <td>15943840</td>\n",
       "      <td>Dynamic autotuning of adaptive fast multipole ...</td>\n",
       "      <td>[we discuss an implementation of adaptive fast...</td>\n",
       "      <td>[introduction, fast multipole methods, well-se...</td>\n",
       "      <td>[Computer science]</td>\n",
       "      <td>[[the inlineform0 -body simulation is an ubiqu...</td>\n",
       "    </tr>\n",
       "    <tr>\n",
       "      <th>3</th>\n",
       "      <td>189927954</td>\n",
       "      <td>NLH: A Blind Pixel-level Non-local Method for ...</td>\n",
       "      <td>[non - local self similarity ( nss ) is a powe...</td>\n",
       "      <td>[introduction, related work, proposed blind pi...</td>\n",
       "      <td>[Computer science]</td>\n",
       "      <td>[[digital images are often subject to noise de...</td>\n",
       "    </tr>\n",
       "    <tr>\n",
       "      <th>4</th>\n",
       "      <td>202120843</td>\n",
       "      <td>Adversarial Examples with Difficult Common Wor...</td>\n",
       "      <td>[despite the success of deep models for paraph...</td>\n",
       "      <td>[introduction, deep paraphrase identification,...</td>\n",
       "      <td>[Computer science]</td>\n",
       "      <td>[[paraphrase identification is to determine wh...</td>\n",
       "    </tr>\n",
       "    <tr>\n",
       "      <th>...</th>\n",
       "      <td>...</td>\n",
       "      <td>...</td>\n",
       "      <td>...</td>\n",
       "      <td>...</td>\n",
       "      <td>...</td>\n",
       "      <td>...</td>\n",
       "    </tr>\n",
       "    <tr>\n",
       "      <th>19690</th>\n",
       "      <td>16595919</td>\n",
       "      <td>Domain Adaptation of Recurrent Neural Networks...</td>\n",
       "      <td>[the goal of this paper is to use multi - task...</td>\n",
       "      <td>[introduction, model, data, experiments, train...</td>\n",
       "      <td>[Computer science]</td>\n",
       "      <td>[[slot filling models are a useful method for ...</td>\n",
       "    </tr>\n",
       "    <tr>\n",
       "      <th>19691</th>\n",
       "      <td>54202209</td>\n",
       "      <td>Anchor Box Optimization for Object Detection</td>\n",
       "      <td>[in this paper , we propose a general approach...</td>\n",
       "      <td>[introduction, related work, relative offset p...</td>\n",
       "      <td>[Computer science]</td>\n",
       "      <td>[[object detection plays an important role in ...</td>\n",
       "    </tr>\n",
       "    <tr>\n",
       "      <th>19692</th>\n",
       "      <td>1853209</td>\n",
       "      <td>Construction of polar codes for arbitrary disc...</td>\n",
       "      <td>[it is known that polar codes can be efficient...</td>\n",
       "      <td>[introduction, preliminaries on polar coding, ...</td>\n",
       "      <td>[Computer science]</td>\n",
       "      <td>[[arıkan 's polar codes   form the first expli...</td>\n",
       "    </tr>\n",
       "    <tr>\n",
       "      <th>19693</th>\n",
       "      <td>16428243</td>\n",
       "      <td>Action Recognition with Joint Attention on Mul...</td>\n",
       "      <td>[we propose a novel deep supervised neural net...</td>\n",
       "      <td>[introduction, related work, integrating track...</td>\n",
       "      <td>[Computer science]</td>\n",
       "      <td>[[action recognition and description   of vide...</td>\n",
       "    </tr>\n",
       "    <tr>\n",
       "      <th>19694</th>\n",
       "      <td>182952990</td>\n",
       "      <td>UBC-NLP at SemEval-2019 Task 6:Ensemble Learni...</td>\n",
       "      <td>[we examine learning offensive content on twit...</td>\n",
       "      <td>[introduction, data, pre-processing, data inte...</td>\n",
       "      <td>[Computer science]</td>\n",
       "      <td>[[with the proliferation of social media , mil...</td>\n",
       "    </tr>\n",
       "  </tbody>\n",
       "</table>\n",
       "<p>19695 rows × 6 columns</p>\n",
       "</div>"
      ],
      "text/plain": [
       "        paper_id                                              title  \\\n",
       "0        9195903  Robust Face Alignment Using a Mixture of Invar...   \n",
       "1       56895423  TEST: A Terminology Extraction System for Tech...   \n",
       "2       15943840  Dynamic autotuning of adaptive fast multipole ...   \n",
       "3      189927954  NLH: A Blind Pixel-level Non-local Method for ...   \n",
       "4      202120843  Adversarial Examples with Difficult Common Wor...   \n",
       "...          ...                                                ...   \n",
       "19690   16595919  Domain Adaptation of Recurrent Neural Networks...   \n",
       "19691   54202209       Anchor Box Optimization for Object Detection   \n",
       "19692    1853209  Construction of polar codes for arbitrary disc...   \n",
       "19693   16428243  Action Recognition with Joint Attention on Mul...   \n",
       "19694  182952990  UBC-NLP at SemEval-2019 Task 6:Ensemble Learni...   \n",
       "\n",
       "                                                abstract  \\\n",
       "0      [face alignment , which is the task of finding...   \n",
       "1      [tracking developments in the highly dynamic d...   \n",
       "2      [we discuss an implementation of adaptive fast...   \n",
       "3      [non - local self similarity ( nss ) is a powe...   \n",
       "4      [despite the success of deep models for paraph...   \n",
       "...                                                  ...   \n",
       "19690  [the goal of this paper is to use multi - task...   \n",
       "19691  [in this paper , we propose a general approach...   \n",
       "19692  [it is known that polar codes can be efficient...   \n",
       "19693  [we propose a novel deep supervised neural net...   \n",
       "19694  [we examine learning offensive content on twit...   \n",
       "\n",
       "                                           section_names              domain  \\\n",
       "0      [introduction, previous work, our approach, su...  [Computer science]   \n",
       "1      [introduction, related work, dataset preparati...  [Computer science]   \n",
       "2      [introduction, fast multipole methods, well-se...  [Computer science]   \n",
       "3      [introduction, related work, proposed blind pi...  [Computer science]   \n",
       "4      [introduction, deep paraphrase identification,...  [Computer science]   \n",
       "...                                                  ...                 ...   \n",
       "19690  [introduction, model, data, experiments, train...  [Computer science]   \n",
       "19691  [introduction, related work, relative offset p...  [Computer science]   \n",
       "19692  [introduction, preliminaries on polar coding, ...  [Computer science]   \n",
       "19693  [introduction, related work, integrating track...  [Computer science]   \n",
       "19694  [introduction, data, pre-processing, data inte...  [Computer science]   \n",
       "\n",
       "                                                    text  \n",
       "0      [[face alignment refers to finding the pixel l...  \n",
       "1      [[with the ubiquity of online resources and th...  \n",
       "2      [[the inlineform0 -body simulation is an ubiqu...  \n",
       "3      [[digital images are often subject to noise de...  \n",
       "4      [[paraphrase identification is to determine wh...  \n",
       "...                                                  ...  \n",
       "19690  [[slot filling models are a useful method for ...  \n",
       "19691  [[object detection plays an important role in ...  \n",
       "19692  [[arıkan 's polar codes   form the first expli...  \n",
       "19693  [[action recognition and description   of vide...  \n",
       "19694  [[with the proliferation of social media , mil...  \n",
       "\n",
       "[19695 rows x 6 columns]"
      ]
     },
     "execution_count": 15,
     "metadata": {},
     "output_type": "execute_result"
    }
   ],
   "source": [
    "# DATA_DIR = \"SSN/SSN_Dataset_CompSci_Short.json\"\n",
    "# dataset_path = DATASET+DATA_DIR\n",
    "# df = pd.read_json(dataset_path)\n",
    "# df.reset_index(drop=True, inplace=True)\n",
    "# df"
   ]
  },
  {
   "cell_type": "code",
   "execution_count": 4,
   "metadata": {},
   "outputs": [
    {
     "data": {
      "text/html": [
       "<div>\n",
       "<style scoped>\n",
       "    .dataframe tbody tr th:only-of-type {\n",
       "        vertical-align: middle;\n",
       "    }\n",
       "\n",
       "    .dataframe tbody tr th {\n",
       "        vertical-align: top;\n",
       "    }\n",
       "\n",
       "    .dataframe thead th {\n",
       "        text-align: right;\n",
       "    }\n",
       "</style>\n",
       "<table border=\"1\" class=\"dataframe\">\n",
       "  <thead>\n",
       "    <tr style=\"text-align: right;\">\n",
       "      <th></th>\n",
       "      <th>abstract</th>\n",
       "      <th>text</th>\n",
       "    </tr>\n",
       "  </thead>\n",
       "  <tbody>\n",
       "    <tr>\n",
       "      <th>0</th>\n",
       "      <td>Bishop John Folda, of North Dakota, is taking ...</td>\n",
       "      <td>By . Associated Press . PUBLISHED: . 14:11 EST...</td>\n",
       "    </tr>\n",
       "    <tr>\n",
       "      <th>1</th>\n",
       "      <td>Criminal complaint: Cop used his role to help ...</td>\n",
       "      <td>(CNN) -- Ralph Mata was an internal affairs li...</td>\n",
       "    </tr>\n",
       "    <tr>\n",
       "      <th>2</th>\n",
       "      <td>Craig Eccleston-Todd, 27, had drunk at least t...</td>\n",
       "      <td>A drunk driver who killed a young woman in a h...</td>\n",
       "    </tr>\n",
       "    <tr>\n",
       "      <th>3</th>\n",
       "      <td>Nina dos Santos says Europe must be ready to a...</td>\n",
       "      <td>(CNN) -- With a breezy sweep of his pen Presid...</td>\n",
       "    </tr>\n",
       "    <tr>\n",
       "      <th>4</th>\n",
       "      <td>Fleetwood top of League One after 2-0 win at S...</td>\n",
       "      <td>Fleetwood are the only team still to have a 10...</td>\n",
       "    </tr>\n",
       "    <tr>\n",
       "      <th>...</th>\n",
       "      <td>...</td>\n",
       "      <td>...</td>\n",
       "    </tr>\n",
       "    <tr>\n",
       "      <th>287108</th>\n",
       "      <td>Chelsea Clinton said question of running for o...</td>\n",
       "      <td>By . James Rush . Former first daughter Chelse...</td>\n",
       "    </tr>\n",
       "    <tr>\n",
       "      <th>287109</th>\n",
       "      <td>Vanilla Ice, 47 - real name Robert Van Winkle ...</td>\n",
       "      <td>An apologetic Vanilla Ice has given his first ...</td>\n",
       "    </tr>\n",
       "    <tr>\n",
       "      <th>287110</th>\n",
       "      <td>America's most lethal sniper made comment in i...</td>\n",
       "      <td>America's most lethal sniper claimed he wished...</td>\n",
       "    </tr>\n",
       "    <tr>\n",
       "      <th>287111</th>\n",
       "      <td>A swarm of more than one million has crossed b...</td>\n",
       "      <td>By . Sara Malm . PUBLISHED: . 12:19 EST, 8 Mar...</td>\n",
       "    </tr>\n",
       "    <tr>\n",
       "      <th>287112</th>\n",
       "      <td>Other 2016 hopefuls maintain that Bush's annou...</td>\n",
       "      <td>(CNN)Former Florida Gov. Jeb Bush has decided ...</td>\n",
       "    </tr>\n",
       "  </tbody>\n",
       "</table>\n",
       "<p>287113 rows × 2 columns</p>\n",
       "</div>"
      ],
      "text/plain": [
       "                                                 abstract  \\\n",
       "0       Bishop John Folda, of North Dakota, is taking ...   \n",
       "1       Criminal complaint: Cop used his role to help ...   \n",
       "2       Craig Eccleston-Todd, 27, had drunk at least t...   \n",
       "3       Nina dos Santos says Europe must be ready to a...   \n",
       "4       Fleetwood top of League One after 2-0 win at S...   \n",
       "...                                                   ...   \n",
       "287108  Chelsea Clinton said question of running for o...   \n",
       "287109  Vanilla Ice, 47 - real name Robert Van Winkle ...   \n",
       "287110  America's most lethal sniper made comment in i...   \n",
       "287111  A swarm of more than one million has crossed b...   \n",
       "287112  Other 2016 hopefuls maintain that Bush's annou...   \n",
       "\n",
       "                                                     text  \n",
       "0       By . Associated Press . PUBLISHED: . 14:11 EST...  \n",
       "1       (CNN) -- Ralph Mata was an internal affairs li...  \n",
       "2       A drunk driver who killed a young woman in a h...  \n",
       "3       (CNN) -- With a breezy sweep of his pen Presid...  \n",
       "4       Fleetwood are the only team still to have a 10...  \n",
       "...                                                   ...  \n",
       "287108  By . James Rush . Former first daughter Chelse...  \n",
       "287109  An apologetic Vanilla Ice has given his first ...  \n",
       "287110  America's most lethal sniper claimed he wished...  \n",
       "287111  By . Sara Malm . PUBLISHED: . 12:19 EST, 8 Mar...  \n",
       "287112  (CNN)Former Florida Gov. Jeb Bush has decided ...  \n",
       "\n",
       "[287113 rows x 2 columns]"
      ]
     },
     "execution_count": 4,
     "metadata": {},
     "output_type": "execute_result"
    }
   ],
   "source": [
    "# summary_df = df[[\"abstract\", \"text\"]]\n",
    "# summary_df"
   ]
  },
  {
   "cell_type": "markdown",
   "metadata": {},
   "source": [
    "Check if any columns contain empty values"
   ]
  },
  {
   "cell_type": "code",
   "execution_count": 8,
   "metadata": {},
   "outputs": [
    {
     "data": {
      "text/plain": [
       "abstract    False\n",
       "text        False\n",
       "dtype: bool"
      ]
     },
     "execution_count": 8,
     "metadata": {},
     "output_type": "execute_result"
    }
   ],
   "source": [
    "# summary_df.isnull().any()"
   ]
  },
  {
   "cell_type": "markdown",
   "metadata": {},
   "source": [
    "\\'hi\\' \\ is used for space <br>\n",
    "random space, which is used for reference [15] quote box <br>\n",
    "sec ref is hyperlink to a section <br>\n",
    "fig ref is hyperlink to a figure <br>\n",
    "inlineform <br>\n",
    "displayform are both symbols, both contains numbers in string <br>\n",
    "remove all forms and remove all symbols but keep numbers <br>"
   ]
  },
  {
   "cell_type": "code",
   "execution_count": 5,
   "metadata": {},
   "outputs": [],
   "source": [
    "# def contain_let(string):\n",
    "#     return any(char.isalpha() for char in string)"
   ]
  },
  {
   "cell_type": "code",
   "execution_count": 6,
   "metadata": {},
   "outputs": [],
   "source": [
    "# def contain_num(string):\n",
    "#     return any(char.isdigit() for char in string)"
   ]
  },
  {
   "cell_type": "code",
   "execution_count": 7,
   "metadata": {},
   "outputs": [],
   "source": [
    "# def contain_special(string, allowed):\n",
    "#     '''\n",
    "#     allowed is a list containing allowed symbols to pass detection\n",
    "#     '''\n",
    "#     return any(not(char.isalpha() or char.isdigit()) and (char not in allowed) for char in string)"
   ]
  },
  {
   "cell_type": "code",
   "execution_count": 8,
   "metadata": {},
   "outputs": [],
   "source": [
    "# def cleanLine(line, text=True, aug=False):\n",
    "#     \"text parameter is to indicate whether the line is from text or abstract\"\n",
    "#     symbols = [\"'\", \"’\"]\n",
    "#     stop_words = list(ENGLISH_STOP_WORDS)\n",
    "    \n",
    "#     clean_line = line.lower()\n",
    "\n",
    "#     # fix apostrophes in line by removing apostrophe with no following alphabet character\n",
    "#     clean_line = clean_line.replace(\"'\", \" \")\n",
    "#     clean_line = clean_line.replace(\",\", \" \")\n",
    "# #     # remove apostrophe if last character is apostrophe\n",
    "# #     if clean_line and (clean_line[-1] == \"'\"):\n",
    "# #         clean_line = clean_line[0:len(clean_line)-1]\n",
    "# #     # fix apostrophes in line by removing space before single quote\n",
    "# #     clean_line = clean_line.replace(\" '\", \"'\")\n",
    "\n",
    "\n",
    "#     # clean line = clean line remove forms\n",
    "#     words = clean_line.split()\n",
    "#     #  remove forms, words with special characters inside\n",
    "#     # if contain letter and number\n",
    "#     # if contain special character not in allowed symbols and removing punctuations\n",
    "#     # then remove\n",
    "#     words = [x.replace(x, \"\") if (contain_let(x) and contain_num(x))\n",
    "#              or contain_special(x, symbols)\n",
    "#              else x for x in words]\n",
    "\n",
    "#     # remove empty strings\n",
    "#     words = filter(None, words)\n",
    "\n",
    "#     # stop words from sklearn, remove stop words\n",
    "#     if text:\n",
    "#         words = [x for x in words if not x in stop_words]\n",
    "#     # remove from line randomly\n",
    "#     if text and aug:\n",
    "#         choices = random.choices(words, k=math.floor(len(line)*0.2))\n",
    "#         words.remove(choices)\n",
    "        \n",
    "#      # combine the items into 1 string\n",
    "#     clean_line = ' '.join(words)\n",
    "\n",
    "    \n",
    "\n",
    "#     return clean_line"
   ]
  },
  {
   "cell_type": "code",
   "execution_count": 13,
   "metadata": {},
   "outputs": [],
   "source": [
    "# def concatParagraph(paragraph, text=True):\n",
    "#     clean_paragraph = \"\"\n",
    "#     for line in paragraph:\n",
    "#         lines = cleanLine(line)\n",
    "#         clean_paragraph += cleanLine(lines, text) + \" \"\n",
    "#         #print(clean_paragraph)\n",
    "        \n",
    "#     return(clean_paragraph.strip())"
   ]
  },
  {
   "cell_type": "code",
   "execution_count": 14,
   "metadata": {},
   "outputs": [],
   "source": [
    "# def concatPaper(paper, text=True):\n",
    "#     clean_paper = \"\"\n",
    "#     for paragraph in paper:\n",
    "#         clean_paper += concatParagraph(paragraph, text) + \" \"\n",
    "#     return(clean_paper.strip())"
   ]
  },
  {
   "cell_type": "code",
   "execution_count": 23,
   "metadata": {
    "scrolled": true
   },
   "outputs": [
    {
     "data": {
      "application/vnd.jupyter.widget-view+json": {
       "model_id": "f30fb65217c94eea8eb479f7b22a0cd9",
       "version_major": 2,
       "version_minor": 0
      },
      "text/plain": [
       "  0%|          | 0/287113 [00:00<?, ?it/s]"
      ]
     },
     "metadata": {},
     "output_type": "display_data"
    }
   ],
   "source": [
    "# import time\n",
    "# interval = 0.0001\n",
    "# aug_chance = 0.5\n",
    "# for i, row in tqdm(summary_df.iterrows(), total=summary_df.shape[0]):\n",
    "#     abstract = row[\"abstract\"]\n",
    "#     paper = row[\"text\"]\n",
    "    \n",
    "# #     summary_df.at[i, \"abstract\"] = concatParagraph(abstract, text=False)\n",
    "# #     summary_df.at[i, \"text\"] = concatPaper(paper)\n",
    "#     if random.random() > aug_chance:\n",
    "#         row_val = cleanLine(paper, text=True, aug=True)\n",
    "#         new_row = pd.Series([abstract, row_val], index=summary_df.columns)\n",
    "#         df_summary = df_summary.append(row1,ignore_index=True) \n",
    "#         df_summary\n",
    "#     summary_df.at[i, \"abstract\"] = cleanLine(abstract, text=True)\n",
    "#     summary_df.at[i, \"text\"] = cleanLine(paper)\n",
    "#     time.sleep(interval)"
   ]
  },
  {
   "cell_type": "code",
   "execution_count": 24,
   "metadata": {},
   "outputs": [
    {
     "data": {
      "text/html": [
       "<div>\n",
       "<style scoped>\n",
       "    .dataframe tbody tr th:only-of-type {\n",
       "        vertical-align: middle;\n",
       "    }\n",
       "\n",
       "    .dataframe tbody tr th {\n",
       "        vertical-align: top;\n",
       "    }\n",
       "\n",
       "    .dataframe thead th {\n",
       "        text-align: right;\n",
       "    }\n",
       "</style>\n",
       "<table border=\"1\" class=\"dataframe\">\n",
       "  <thead>\n",
       "    <tr style=\"text-align: right;\">\n",
       "      <th></th>\n",
       "      <th>abstract</th>\n",
       "      <th>text</th>\n",
       "    </tr>\n",
       "  </thead>\n",
       "  <tbody>\n",
       "    <tr>\n",
       "      <th>0</th>\n",
       "      <td>bishop john folda of north dakota is taking ti...</td>\n",
       "      <td>associated press est 25 october 2013 est 25 oc...</td>\n",
       "    </tr>\n",
       "    <tr>\n",
       "      <th>1</th>\n",
       "      <td>criminal cop used his role to help cocaine tra...</td>\n",
       "      <td>ralph mata internal affairs lieutenant police ...</td>\n",
       "    </tr>\n",
       "    <tr>\n",
       "      <th>2</th>\n",
       "      <td>craig 27 had drunk at least three pints before...</td>\n",
       "      <td>drunk driver killed young woman crash checking...</td>\n",
       "    </tr>\n",
       "    <tr>\n",
       "      <th>3</th>\n",
       "      <td>nina dos santos says europe must be ready to a...</td>\n",
       "      <td>breezy sweep pen president vladimir putin wrot...</td>\n",
       "    </tr>\n",
       "    <tr>\n",
       "      <th>4</th>\n",
       "      <td>fleetwood top of league one after win at scunt...</td>\n",
       "      <td>fleetwood team record sky bet league win scunt...</td>\n",
       "    </tr>\n",
       "    <tr>\n",
       "      <th>...</th>\n",
       "      <td>...</td>\n",
       "      <td>...</td>\n",
       "    </tr>\n",
       "    <tr>\n",
       "      <th>287108</th>\n",
       "      <td>chelsea clinton said question of running for o...</td>\n",
       "      <td>james rush daughter chelsea clinton indicated ...</td>\n",
       "    </tr>\n",
       "    <tr>\n",
       "      <th>287109</th>\n",
       "      <td>vanilla ice 47 real name robert van winkle was...</td>\n",
       "      <td>apologetic vanilla ice given proper interview ...</td>\n",
       "    </tr>\n",
       "    <tr>\n",
       "      <th>287110</th>\n",
       "      <td>america s most lethal sniper made comment in i...</td>\n",
       "      <td>america s lethal sniper claimed wished d kille...</td>\n",
       "    </tr>\n",
       "    <tr>\n",
       "      <th>287111</th>\n",
       "      <td>a swarm of more than one million has crossed b...</td>\n",
       "      <td>sara malm est 8 march 2013 est 8 march 2013 is...</td>\n",
       "    </tr>\n",
       "    <tr>\n",
       "      <th>287112</th>\n",
       "      <td>other 2016 hopefuls maintain that bush s annou...</td>\n",
       "      <td>florida jeb bush decided presidential bid conv...</td>\n",
       "    </tr>\n",
       "  </tbody>\n",
       "</table>\n",
       "<p>287113 rows × 2 columns</p>\n",
       "</div>"
      ],
      "text/plain": [
       "                                                 abstract  \\\n",
       "0       bishop john folda of north dakota is taking ti...   \n",
       "1       criminal cop used his role to help cocaine tra...   \n",
       "2       craig 27 had drunk at least three pints before...   \n",
       "3       nina dos santos says europe must be ready to a...   \n",
       "4       fleetwood top of league one after win at scunt...   \n",
       "...                                                   ...   \n",
       "287108  chelsea clinton said question of running for o...   \n",
       "287109  vanilla ice 47 real name robert van winkle was...   \n",
       "287110  america s most lethal sniper made comment in i...   \n",
       "287111  a swarm of more than one million has crossed b...   \n",
       "287112  other 2016 hopefuls maintain that bush s annou...   \n",
       "\n",
       "                                                     text  \n",
       "0       associated press est 25 october 2013 est 25 oc...  \n",
       "1       ralph mata internal affairs lieutenant police ...  \n",
       "2       drunk driver killed young woman crash checking...  \n",
       "3       breezy sweep pen president vladimir putin wrot...  \n",
       "4       fleetwood team record sky bet league win scunt...  \n",
       "...                                                   ...  \n",
       "287108  james rush daughter chelsea clinton indicated ...  \n",
       "287109  apologetic vanilla ice given proper interview ...  \n",
       "287110  america s lethal sniper claimed wished d kille...  \n",
       "287111  sara malm est 8 march 2013 est 8 march 2013 is...  \n",
       "287112  florida jeb bush decided presidential bid conv...  \n",
       "\n",
       "[287113 rows x 2 columns]"
      ]
     },
     "execution_count": 24,
     "metadata": {},
     "output_type": "execute_result"
    }
   ],
   "source": [
    "# summary_df.to_csv(\"./Dataset/cnn_dailymail/cleaned_cnn_train.csv\")\n",
    "# summary_df"
   ]
  },
  {
   "cell_type": "code",
   "execution_count": 264,
   "metadata": {},
   "outputs": [
    {
     "data": {
      "text/html": [
       "<div>\n",
       "<style scoped>\n",
       "    .dataframe tbody tr th:only-of-type {\n",
       "        vertical-align: middle;\n",
       "    }\n",
       "\n",
       "    .dataframe tbody tr th {\n",
       "        vertical-align: top;\n",
       "    }\n",
       "\n",
       "    .dataframe thead th {\n",
       "        text-align: right;\n",
       "    }\n",
       "</style>\n",
       "<table border=\"1\" class=\"dataframe\">\n",
       "  <thead>\n",
       "    <tr style=\"text-align: right;\">\n",
       "      <th></th>\n",
       "      <th>abstract</th>\n",
       "      <th>text</th>\n",
       "    </tr>\n",
       "  </thead>\n",
       "  <tbody>\n",
       "    <tr>\n",
       "      <th>0</th>\n",
       "      <td>face alignment task finding locations set faci...</td>\n",
       "      <td>face alignment refers finding pixel locations ...</td>\n",
       "    </tr>\n",
       "    <tr>\n",
       "      <th>1</th>\n",
       "      <td>tracking developments highly dynamic data tech...</td>\n",
       "      <td>ubiquity online resources massive growth news ...</td>\n",
       "    </tr>\n",
       "    <tr>\n",
       "      <th>2</th>\n",
       "      <td>discuss implementation adaptive fast multipole...</td>\n",
       "      <td>simulation ubiquitous problem computational sc...</td>\n",
       "    </tr>\n",
       "    <tr>\n",
       "      <th>3</th>\n",
       "      <td>non local self similarity nss powerful prior n...</td>\n",
       "      <td>digital images subject noise degradation acqui...</td>\n",
       "    </tr>\n",
       "    <tr>\n",
       "      <th>4</th>\n",
       "      <td>despite success deep models paraphrase identif...</td>\n",
       "      <td>paraphrase identification determine pair sente...</td>\n",
       "    </tr>\n",
       "    <tr>\n",
       "      <th>...</th>\n",
       "      <td>...</td>\n",
       "      <td>...</td>\n",
       "    </tr>\n",
       "    <tr>\n",
       "      <th>19690</th>\n",
       "      <td>goal paper use multi task learning efficiently...</td>\n",
       "      <td>slot filling models useful method simple natur...</td>\n",
       "    </tr>\n",
       "    <tr>\n",
       "      <th>19691</th>\n",
       "      <td>paper propose general approach optimize anchor...</td>\n",
       "      <td>object detection plays important role real app...</td>\n",
       "    </tr>\n",
       "    <tr>\n",
       "      <th>19692</th>\n",
       "      <td>known polar codes efficiently constructed bina...</td>\n",
       "      <td>arıkan's polar codes form explicit family bina...</td>\n",
       "    </tr>\n",
       "    <tr>\n",
       "      <th>19693</th>\n",
       "      <td>propose novel deep supervised neural network t...</td>\n",
       "      <td>action recognition description videos fundamen...</td>\n",
       "    </tr>\n",
       "    <tr>\n",
       "      <th>19694</th>\n",
       "      <td>examine learning offensive content twitter lim...</td>\n",
       "      <td>proliferation social media millions people cur...</td>\n",
       "    </tr>\n",
       "  </tbody>\n",
       "</table>\n",
       "<p>19695 rows × 2 columns</p>\n",
       "</div>"
      ],
      "text/plain": [
       "                                                abstract  \\\n",
       "0      face alignment task finding locations set faci...   \n",
       "1      tracking developments highly dynamic data tech...   \n",
       "2      discuss implementation adaptive fast multipole...   \n",
       "3      non local self similarity nss powerful prior n...   \n",
       "4      despite success deep models paraphrase identif...   \n",
       "...                                                  ...   \n",
       "19690  goal paper use multi task learning efficiently...   \n",
       "19691  paper propose general approach optimize anchor...   \n",
       "19692  known polar codes efficiently constructed bina...   \n",
       "19693  propose novel deep supervised neural network t...   \n",
       "19694  examine learning offensive content twitter lim...   \n",
       "\n",
       "                                                    text  \n",
       "0      face alignment refers finding pixel locations ...  \n",
       "1      ubiquity online resources massive growth news ...  \n",
       "2      simulation ubiquitous problem computational sc...  \n",
       "3      digital images subject noise degradation acqui...  \n",
       "4      paraphrase identification determine pair sente...  \n",
       "...                                                  ...  \n",
       "19690  slot filling models useful method simple natur...  \n",
       "19691  object detection plays important role real app...  \n",
       "19692  arıkan's polar codes form explicit family bina...  \n",
       "19693  action recognition description videos fundamen...  \n",
       "19694  proliferation social media millions people cur...  \n",
       "\n",
       "[19695 rows x 2 columns]"
      ]
     },
     "execution_count": 264,
     "metadata": {},
     "output_type": "execute_result"
    }
   ],
   "source": [
    "DATA_DIR = \"SSN/SSN_Dataset_CompSci_Short_Clean_HalfStop_180.json\"\n",
    "dataset_path = DATASET+DATA_DIR\n",
    "df = pd.read_json(dataset_path)\n",
    "df"
   ]
  },
  {
   "cell_type": "code",
   "execution_count": 265,
   "metadata": {},
   "outputs": [
    {
     "data": {
      "text/html": [
       "<div>\n",
       "<style scoped>\n",
       "    .dataframe tbody tr th:only-of-type {\n",
       "        vertical-align: middle;\n",
       "    }\n",
       "\n",
       "    .dataframe tbody tr th {\n",
       "        vertical-align: top;\n",
       "    }\n",
       "\n",
       "    .dataframe thead th {\n",
       "        text-align: right;\n",
       "    }\n",
       "</style>\n",
       "<table border=\"1\" class=\"dataframe\">\n",
       "  <thead>\n",
       "    <tr style=\"text-align: right;\">\n",
       "      <th></th>\n",
       "      <th>abstract</th>\n",
       "      <th>text</th>\n",
       "    </tr>\n",
       "  </thead>\n",
       "  <tbody>\n",
       "    <tr>\n",
       "      <th>0</th>\n",
       "      <td>tracking developments highly dynamic data tech...</td>\n",
       "      <td>ubiquity online resources massive growth news ...</td>\n",
       "    </tr>\n",
       "    <tr>\n",
       "      <th>1</th>\n",
       "      <td>non local self similarity nss powerful prior n...</td>\n",
       "      <td>digital images subject noise degradation acqui...</td>\n",
       "    </tr>\n",
       "    <tr>\n",
       "      <th>2</th>\n",
       "      <td>despite success deep models paraphrase identif...</td>\n",
       "      <td>paraphrase identification determine pair sente...</td>\n",
       "    </tr>\n",
       "    <tr>\n",
       "      <th>3</th>\n",
       "      <td>temporal action proposal generation challengin...</td>\n",
       "      <td>number videos internet growing rapidly video c...</td>\n",
       "    </tr>\n",
       "    <tr>\n",
       "      <th>4</th>\n",
       "      <td>graph convolutional networks gcns widely studi...</td>\n",
       "      <td>compact data representation learning fundament...</td>\n",
       "    </tr>\n",
       "    <tr>\n",
       "      <th>...</th>\n",
       "      <td>...</td>\n",
       "      <td>...</td>\n",
       "    </tr>\n",
       "    <tr>\n",
       "      <th>13179</th>\n",
       "      <td>ability detect pedestrians moving objects cruc...</td>\n",
       "      <td>autonomous cars currently primed mass adoption...</td>\n",
       "    </tr>\n",
       "    <tr>\n",
       "      <th>13180</th>\n",
       "      <td>goal paper use multi task learning efficiently...</td>\n",
       "      <td>slot filling models useful method simple natur...</td>\n",
       "    </tr>\n",
       "    <tr>\n",
       "      <th>13181</th>\n",
       "      <td>paper propose general approach optimize anchor...</td>\n",
       "      <td>object detection plays important role real app...</td>\n",
       "    </tr>\n",
       "    <tr>\n",
       "      <th>13182</th>\n",
       "      <td>known polar codes efficiently constructed bina...</td>\n",
       "      <td>arıkan's polar codes form explicit family bina...</td>\n",
       "    </tr>\n",
       "    <tr>\n",
       "      <th>13183</th>\n",
       "      <td>propose novel deep supervised neural network t...</td>\n",
       "      <td>action recognition description videos fundamen...</td>\n",
       "    </tr>\n",
       "  </tbody>\n",
       "</table>\n",
       "<p>13184 rows × 2 columns</p>\n",
       "</div>"
      ],
      "text/plain": [
       "                                                abstract  \\\n",
       "0      tracking developments highly dynamic data tech...   \n",
       "1      non local self similarity nss powerful prior n...   \n",
       "2      despite success deep models paraphrase identif...   \n",
       "3      temporal action proposal generation challengin...   \n",
       "4      graph convolutional networks gcns widely studi...   \n",
       "...                                                  ...   \n",
       "13179  ability detect pedestrians moving objects cruc...   \n",
       "13180  goal paper use multi task learning efficiently...   \n",
       "13181  paper propose general approach optimize anchor...   \n",
       "13182  known polar codes efficiently constructed bina...   \n",
       "13183  propose novel deep supervised neural network t...   \n",
       "\n",
       "                                                    text  \n",
       "0      ubiquity online resources massive growth news ...  \n",
       "1      digital images subject noise degradation acqui...  \n",
       "2      paraphrase identification determine pair sente...  \n",
       "3      number videos internet growing rapidly video c...  \n",
       "4      compact data representation learning fundament...  \n",
       "...                                                  ...  \n",
       "13179  autonomous cars currently primed mass adoption...  \n",
       "13180  slot filling models useful method simple natur...  \n",
       "13181  object detection plays important role real app...  \n",
       "13182  arıkan's polar codes form explicit family bina...  \n",
       "13183  action recognition description videos fundamen...  \n",
       "\n",
       "[13184 rows x 2 columns]"
      ]
     },
     "execution_count": 265,
     "metadata": {},
     "output_type": "execute_result"
    }
   ],
   "source": [
    "rows = []\n",
    "t_max= 2524\n",
    "a_max=  118\n",
    "t_min=  668\n",
    "a_min=  39\n",
    "for i, row in df.iterrows():\n",
    "    t_word = len(row[\"text\"].split())\n",
    "    a_word = len(row[\"abstract\"].split())\n",
    "    if ((t_word > t_max or t_word < t_min) or (a_word > a_max or a_word < a_min)):\n",
    "        rows.append(i)\n",
    "\n",
    "df.drop(rows, inplace=True)\n",
    "df.reset_index(drop=True, inplace=True)\n",
    "df.to_json(DATASET+\"SSN/SSN_Dataset_CompSci_Short_Clean_HalfStop_180.json\")\n",
    "df"
   ]
  },
  {
   "cell_type": "code",
   "execution_count": 266,
   "metadata": {},
   "outputs": [],
   "source": [
    "class Vocabulary(object):\n",
    "    \"\"\" Simple vocabulary wrapper which maps every unique word to an integer ID. \"\"\"\n",
    "    def __init__(self):\n",
    "        # intially, set both the IDs and words to dictionaries with special tokens\n",
    "        self.word2idx = {'<start>': 0, '<end>': 1, '<pad>':2, '<unk>':3}\n",
    "        self.idx2word = {0: '<start>', 1: '<end>', 2: '<pad>', 3: '<unk>'}\n",
    "        self.idx = 4\n",
    "\n",
    "    def add_word(self, word):\n",
    "        # if the word does not already exist in the dictionary, add it\n",
    "        if not word in self.word2idx:\n",
    "            # this will convert each word to index and index to word as you saw in the tutorials\n",
    "            self.word2idx[word] = self.idx\n",
    "            self.idx2word[self.idx] = word\n",
    "            # increment the ID for the next word\n",
    "            self.idx += 1\n",
    "\n",
    "    def __call__(self, word):\n",
    "        # if we try to access a word not in the dictionary, return the id for <unk>\n",
    "        if not word in self.word2idx:\n",
    "            return self.word2idx['<unk>']\n",
    "        return self.word2idx[word]\n",
    "    \n",
    "    ## added function for utility\n",
    "    def get_word(self,index):\n",
    "        # this returns the word when given an index\n",
    "        return self.idx2word[index]\n",
    "\n",
    "    def __len__(self):\n",
    "        return len(self.word2idx)\n"
   ]
  },
  {
   "cell_type": "code",
   "execution_count": 267,
   "metadata": {},
   "outputs": [],
   "source": [
    "def build_vocab(data, freq):\n",
    "    \"\"\" \n",
    "    Parses training set token file captions and builds a Vocabulary object and dataframe for \n",
    "    the image and caption data\n",
    "\n",
    "    Returns:\n",
    "        vocab (Vocabulary): Vocabulary object containing all words appearing more than min_frequency\n",
    "    \"\"\"\n",
    "    MIN_FREQUENCY = freq\n",
    "    word_mapping = Counter()\n",
    "\n",
    "    # for index in df.index:\n",
    "    for text in tqdm(data):\n",
    "        for word in text.split():\n",
    "            #print(word)\n",
    "            if word in word_mapping:\n",
    "                word_mapping[word] += 1\n",
    "            else:\n",
    "                word_mapping[word] = 1\n",
    "\n",
    "    # create a vocab instance\n",
    "    vocab = Vocabulary()\n",
    "\n",
    "    # add the words to the vocabulary\n",
    "    for word in word_mapping:\n",
    "        if word_mapping[word] > MIN_FREQUENCY:\n",
    "            vocab.add_word(word)\n",
    "\n",
    "    return vocab\n"
   ]
  },
  {
   "cell_type": "markdown",
   "metadata": {},
   "source": [
    "Convert DF to text"
   ]
  },
  {
   "cell_type": "code",
   "execution_count": 147,
   "metadata": {},
   "outputs": [],
   "source": [
    "# text_txt = df['text']\n",
    "# text_txt.to_csv(\"text_cnn.txt\", header=False,index=False)\n",
    "# abstract_txt = df['abstract']\n",
    "# abstract_txt.to_csv(\"abstract_cnn.txt\", header=False,index=False)\n",
    "\n",
    "# # write to file. "
   ]
  },
  {
   "cell_type": "code",
   "execution_count": 148,
   "metadata": {},
   "outputs": [],
   "source": [
    "# vocab_model = fasttext.train_unsupervised('text_NoStop.txt', minn=2, epoch=10)\n",
    "# vocab_model.save_model(\"fastText_NoStop.bin\")"
   ]
  },
  {
   "cell_type": "code",
   "execution_count": 272,
   "metadata": {},
   "outputs": [],
   "source": [
    "# abstract_vocab = build_vocab(df[\"abstract\"], 0)\n",
    "# text_vocab = build_vocab(df[\"text\"], 0)\n",
    "# print(\"abstract vocab\", len(abstract_vocab))\n",
    "# print(\"text vocab\", len(text_vocab))\n",
    "# def save_object(objects, filename):\n",
    "#     with open(filename, 'wb') as outp:  # Overwrites any existing file.\n",
    "#         pickle.dump(objects, outp, -1)\n",
    "# vocabs = [abstract_vocab, text_vocab]\n",
    "# save_object(vocabs, 'SSNvocabs180_0F.pkl')"
   ]
  },
  {
   "cell_type": "code",
   "execution_count": 273,
   "metadata": {},
   "outputs": [
    {
     "name": "stdout",
     "output_type": "stream",
     "text": [
      "abstract vocab 26967\n",
      "text vocab 116158\n"
     ]
    }
   ],
   "source": [
    "with open('SSNvocabs180_0F.pkl', 'rb') as inp:\n",
    "    abstract_vocab, text_vocab = pickle.load(inp)\n",
    "print(\"abstract vocab\", len(abstract_vocab))\n",
    "print(\"text vocab\", len(text_vocab))"
   ]
  },
  {
   "cell_type": "code",
   "execution_count": 276,
   "metadata": {},
   "outputs": [],
   "source": [
    "def tokenise(vocab, text, max_len):\n",
    "    word_ids = []\n",
    "    for word in text.split():\n",
    "        word_ids.append(vocab(word))\n",
    "    word_ids.append(vocab(\"<end>\"))\n",
    "    while len(word_ids) < max_len:\n",
    "            word_ids.append(vocab(\"<pad>\"))\n",
    "    return word_ids"
   ]
  },
  {
   "cell_type": "code",
   "execution_count": 277,
   "metadata": {},
   "outputs": [],
   "source": [
    "ABSTRACT_MAX = 120\n",
    "TEXT_MAX = 2600"
   ]
  },
  {
   "cell_type": "code",
   "execution_count": 278,
   "metadata": {},
   "outputs": [],
   "source": [
    "class SSNDataset(Dataset):\n",
    "    def __init__(self, df, a_vocab, t_vocab):\n",
    "\n",
    "        self.df = df\n",
    "        self.a_vocab = a_vocab\n",
    "        self.t_vocab = t_vocab\n",
    "        self.abstract_max_len = ABSTRACT_MAX\n",
    "        self.text_max_len = TEXT_MAX\n",
    "\n",
    "    def __getitem__(self, index):\n",
    "        # return word_id\n",
    "        abstract = self.df.iloc[index][\"abstract\"]\n",
    "        text = self.df.iloc[index][\"text\"]\n",
    "        \n",
    "        a_word_ids = tokenise(self.a_vocab, abstract, self.abstract_max_len)\n",
    "        t_word_ids = tokenise(self.t_vocab, text, self.text_max_len)\n",
    "\n",
    "        a_length = len(a_word_ids)\n",
    "        t_length = len(t_word_ids)\n",
    "    \n",
    "        return torch.tensor(a_word_ids), torch.tensor(t_word_ids)#a_word_ids, t_word_ids\n",
    "\n",
    "    def __len__(self):\n",
    "        return len(self.df)\n"
   ]
  },
  {
   "cell_type": "code",
   "execution_count": 279,
   "metadata": {},
   "outputs": [],
   "source": [
    "def text_collate_fn(data):\n",
    "    \"\"\" Creates mini-batch tensors from the list of tuples (image, caption).\n",
    "    Args:\n",
    "        data: list of tuple of 2 word ids\n",
    "        - abstract id\n",
    "        - text id\n",
    "    Returns:\n",
    "        abstract list ids\n",
    "        text list ids\n",
    "    \"\"\"\n",
    "\n",
    "    \n",
    "    abstracts, texts = zip(*data)\n",
    "#     abstract_list = []\n",
    "#     text_list = []\n",
    "#     for i in range(len(texts)):\n",
    "#         text_list.append(torch.tensor(texts[i]))\n",
    "#         abstract_list.append(torch.tensor(abstracts[i]))\n",
    "\n",
    "\n",
    "#     abstracts = torch.tensor(abstracts)\n",
    "#     texts = torch.tensor(texts)\n",
    "#     abstracts = [ torch.Tensor(abstract).to(device) for abstract in abstracts ]\n",
    "# if batch size is 1 then use [0]\n",
    "#     abstracts = torch.stack(tuple(abstract_list), 0)\n",
    "#     texts = torch.stack(tuple(text_list), 0)\n",
    "    #abstracts = abstracts.unsqueeze(0)\n",
    "    abstracts = torch.stack(abstracts, 0)\n",
    "    texts = torch.stack(texts, 0)\n",
    "    #texts = texts.unsqueeze(0)\n",
    "\n",
    "    return abstracts, texts\n"
   ]
  },
  {
   "cell_type": "markdown",
   "metadata": {},
   "source": [
    "# Dataloader"
   ]
  },
  {
   "cell_type": "markdown",
   "metadata": {},
   "source": [
    "Split dataset"
   ]
  },
  {
   "cell_type": "code",
   "execution_count": 280,
   "metadata": {},
   "outputs": [],
   "source": [
    "train_data, test_data = train_test_split(df, random_state=seed, train_size = 0.7)\n",
    "train_data, valid_data = train_test_split(train_data, random_state=seed, train_size=0.8)"
   ]
  },
  {
   "cell_type": "code",
   "execution_count": 281,
   "metadata": {},
   "outputs": [],
   "source": [
    "train_set = SSNDataset(train_data, abstract_vocab, text_vocab)\n",
    "valid_set = SSNDataset(test_data, abstract_vocab, text_vocab)\n",
    "test_set = SSNDataset(test_data, abstract_vocab, text_vocab)"
   ]
  },
  {
   "cell_type": "code",
   "execution_count": 282,
   "metadata": {},
   "outputs": [],
   "source": [
    "train_loader = DataLoader(train_set, batch_size=16, shuffle=True, collate_fn=text_collate_fn) # num_worker can't be 2+ as the time it \n",
    "                                                                 # takes to build iter is much longer\n",
    "valid_loader = DataLoader(valid_set, batch_size=16, shuffle=True, collate_fn=text_collate_fn)"
   ]
  },
  {
   "cell_type": "code",
   "execution_count": null,
   "metadata": {},
   "outputs": [],
   "source": []
  },
  {
   "cell_type": "code",
   "execution_count": 217,
   "metadata": {
    "scrolled": true
   },
   "outputs": [
    {
     "data": {
      "application/vnd.jupyter.widget-view+json": {
       "model_id": "4a87aa027c644cf6b125fd52395ba403",
       "version_major": 2,
       "version_minor": 0
      },
      "text/plain": [
       "  0%|          | 0/19695 [00:00<?, ?it/s]"
      ]
     },
     "metadata": {},
     "output_type": "display_data"
    }
   ],
   "source": [
    "all_set = SSNDataset(df, abstract_vocab, text_vocab)\n",
    "all_loader = DataLoader(all_set, batch_size=1, shuffle=True, collate_fn=text_collate_fn)\n",
    "abstracts = []\n",
    "texts = []\n",
    "for i, (abstract, text) in tqdm(enumerate(all_loader), total=len(all_loader)):\n",
    "    a_size = list(abstract.size())[1]\n",
    "\n",
    "    t_size = list(text.size())[1]\n",
    "    abstracts.append(a_size)\n",
    "    texts.append(t_size)\n",
    "numbers = list(range(len(all_loader)))"
   ]
  },
  {
   "cell_type": "code",
   "execution_count": 218,
   "metadata": {},
   "outputs": [
    {
     "name": "stdout",
     "output_type": "stream",
     "text": [
      "max length for abstract:  187\n",
      "max length for text:  4540\n",
      "min length for abstract:  9\n",
      "min length for text:  12\n",
      "average length for abstract:  95\n",
      "average length for text:  2000\n"
     ]
    }
   ],
   "source": [
    "from statistics import mean\n",
    "print(\"max length for abstract: \",max(abstracts))\n",
    "print(\"max length for text: \",max(texts))\n",
    "print(\"min length for abstract: \",min(abstracts))\n",
    "print(\"min length for text: \",min(texts))\n",
    "print(\"average length for abstract: \",math.floor(mean(abstracts)))\n",
    "print(\"average length for text: \",math.floor(mean(texts)))"
   ]
  },
  {
   "cell_type": "code",
   "execution_count": 243,
   "metadata": {},
   "outputs": [
    {
     "name": "stdout",
     "output_type": "stream",
     "text": [
      "1973\n",
      "93\n",
      "668\n",
      "39\n"
     ]
    }
   ],
   "source": [
    "print(math.floor(np.percentile(texts, 50)))\n",
    "print(math.floor(np.percentile(abstracts, 50)))\n",
    "print(math.floor(np.percentile(texts, 1)))\n",
    "print(math.floor(np.percentile(abstracts, 1)))"
   ]
  },
  {
   "cell_type": "code",
   "execution_count": 220,
   "metadata": {},
   "outputs": [],
   "source": [
    "a_perc = []\n",
    "t_perc = []\n",
    "for i in range(100):\n",
    "    i +=1\n",
    "    a_perc.append(np.percentile(abstracts, i))\n",
    "    t_perc.append(np.percentile(texts,i))"
   ]
  },
  {
   "cell_type": "code",
   "execution_count": 221,
   "metadata": {},
   "outputs": [
    {
     "data": {
      "image/png": "[encoded data removed]",
      "text/plain": [
       "<Figure size 640x480 with 1 Axes>"
      ]
     },
     "metadata": {},
     "output_type": "display_data"
    }
   ],
   "source": [
    "plt.scatter(range(len(a_perc)),a_perc)\n",
    "plt.show()"
   ]
  },
  {
   "cell_type": "code",
   "execution_count": 222,
   "metadata": {},
   "outputs": [
    {
     "data": {
      "image/png": "[encoded data removed]",
      "text/plain": [
       "<Figure size 640x480 with 1 Axes>"
      ]
     },
     "metadata": {},
     "output_type": "display_data"
    }
   ],
   "source": [
    "plt.scatter(range(len(t_perc)), t_perc)\n",
    "plt.show()"
   ]
  },
  {
   "cell_type": "markdown",
   "metadata": {},
   "source": [
    "# RNN Model definition"
   ]
  },
  {
   "cell_type": "code",
   "execution_count": 93,
   "metadata": {},
   "outputs": [],
   "source": [
    "from gensim.models import Word2Vec\n",
    "vec = Word2Vec(sentences=\"text_cnn.txt\", vector_size=300, window=5, min_count=2)"
   ]
  },
  {
   "cell_type": "code",
   "execution_count": 89,
   "metadata": {},
   "outputs": [
    {
     "data": {
      "text/plain": [
       "{'t': 0, 'n': 1, 'x': 2}"
      ]
     },
     "execution_count": 89,
     "metadata": {},
     "output_type": "execute_result"
    }
   ],
   "source": [
    "text_vocab = vec.wv.key_to_index\n",
    "text_vocab"
   ]
  },
  {
   "cell_type": "code",
   "execution_count": 320,
   "metadata": {},
   "outputs": [],
   "source": [
    "def create_mask(tensor, pad_idx):\n",
    "    return (tensor != pad_idx)"
   ]
  },
  {
   "cell_type": "code",
   "execution_count": 321,
   "metadata": {},
   "outputs": [],
   "source": [
    "class EncoderNet(nn.Module):\n",
    "    def __init__(self, text_vocab, embed_dim, pad_idx, hidden_size, nheads, n_layers, max_text_len, \n",
    "                 dropout):\n",
    "        super(EncoderNet, self).__init__()\n",
    "        self.pad_idx = pad_idx\n",
    "        # embedding layers\n",
    "        self.enc_embedding = nn.Embedding(text_vocab, embed_dim)\n",
    "        # positional encoding layer\n",
    "        self.enc_pe = PositionalEncoding(embed_dim, max_len = max_text_len)\n",
    "        # encoder layers\n",
    "        enc_layer = nn.TransformerEncoderLayer(embed_dim, nheads, hidden_size, dropout)\n",
    "        self.encoder = nn.TransformerEncoder(enc_layer, num_layers = n_layers)\n",
    "    \n",
    "    def forward(self, x):\n",
    "        mask = create_mask(x, self.pad_idx)\n",
    "        enc_embed = self.enc_embedding(x).permute(1, 0, 2)\n",
    "        enc_pe = self.enc_pe(enc_embed)\n",
    "        memory = self.encoder(enc_pe, src_key_padding_mask=mask)\n",
    "        return memory"
   ]
  },
  {
   "cell_type": "code",
   "execution_count": 322,
   "metadata": {},
   "outputs": [],
   "source": [
    "class DecoderNet(nn.Module):\n",
    "    def __init__(self, abstract_vocab, embed_dim, pad_idx, hidden_size, nheads, n_layers, max_abs_len, \n",
    "                 dropout):\n",
    "        super(DecoderNet, self).__init__()\n",
    "        self.pad_idx = pad_idx\n",
    "        # embedding layers\n",
    "        self.dec_embedding = nn.Embedding(abstract_vocab, embed_dim)\n",
    "        # positional encoding layer\n",
    "        self.dec_pe = PositionalEncoding(embed_dim, max_len = max_abs_len)\n",
    "        # decoder layers\n",
    "        dec_layer = nn.TransformerDecoderLayer(embed_dim, nheads, hidden_size, dropout)\n",
    "        self.decoder = nn.TransformerDecoder(dec_layer, num_layers = n_layers)\n",
    "    \n",
    "    def forward(self, x, enc_output):\n",
    "        mask = create_mask(x, self.pad_idx)\n",
    "        dec_embed = self.dec_embedding(x).permute(1, 0, 2)\n",
    "        dec_pe = self.dec_pe(dec_embed)\n",
    "        dec_out = self.decoder(dec_pe, enc_output, tgt_key_padding_mask=mask)\n",
    "        return dec_out"
   ]
  },
  {
   "cell_type": "code",
   "execution_count": 323,
   "metadata": {},
   "outputs": [],
   "source": [
    "class TransformerNet(nn.Module):\n",
    "  def __init__(self, text_vocab, abstract_vocab, embed_dim, pad_idx, hidden_size, nheads, n_layers, \n",
    "               max_text_len, max_abs_len, dropout):\n",
    "    super(TransformerNet, self).__init__()\n",
    "    self.EncoderNet = EncoderNet(text_vocab, embed_dim, pad_idx, hidden_size, nheads, n_layers, \n",
    "                                 max_text_len, dropout)\n",
    "    self.DecoderNet = DecoderNet(abstract_vocab, embed_dim, pad_idx, hidden_size, nheads, n_layers, \n",
    "                                 max_abs_len, dropout)\n",
    "    # final dense layer\n",
    "    self.fc = nn.Linear(embed_dim, abstract_vocab)\n",
    "    #self.log_softmax = nn.LogSoftmax()\n",
    "\n",
    "  def forward(self, text, abstract):\n",
    "    enc_output = self.EncoderNet(text)\n",
    "    dec_output = self.DecoderNet(abstract, enc_output)\n",
    "    \n",
    "    output = self.fc(dec_output)\n",
    "    return output #self.log_softmax(output)"
   ]
  },
  {
   "cell_type": "code",
   "execution_count": 324,
   "metadata": {},
   "outputs": [],
   "source": [
    "# See Pytorch tutorial for details\n",
    "class PositionalEncoding(nn.Module):\n",
    "\n",
    "    def __init__(self, d_model: int, dropout: float = 0.1, max_len: int = 5000):\n",
    "        super().__init__()\n",
    "        self.dropout = nn.Dropout(p=dropout)\n",
    "\n",
    "        position = torch.arange(max_len).unsqueeze(1)\n",
    "        div_term = torch.exp(torch.arange(0, d_model, 2) * (-math.log(10000.0) / d_model))\n",
    "        pe = torch.zeros(max_len, 1, d_model)\n",
    "        pe[:, 0, 0::2] = torch.sin(position * div_term)\n",
    "        pe[:, 0, 1::2] = torch.cos(position * div_term)\n",
    "        self.register_buffer('pe', pe)\n",
    "\n",
    "    def forward(self, x):\n",
    "        \"\"\"\n",
    "        Arguments:\n",
    "            x: Tensor, shape ``[seq_len, batch_size, embedding_dim]``\n",
    "        \"\"\"\n",
    "        x = x + self.pe[:x.size(0)]\n",
    "        return self.dropout(x)"
   ]
  },
  {
   "cell_type": "code",
   "execution_count": 325,
   "metadata": {},
   "outputs": [],
   "source": [
    "def get_model(text_size,abstract_size,pad_idx, embed_size, hid_dim, \n",
    "                       n_head, n_layer, TEXT_MAX, ABSTRACT_MAX, dropout, path=None):\n",
    "    if path == None:\n",
    "        model = TransformerNet(text_size,abstract_size,pad_idx, embed_size, hid_dim, \n",
    "                       n_head, n_layer, TEXT_MAX, ABSTRACT_MAX, dropout).to(device)\n",
    "\n",
    "        for p in model.parameters():\n",
    "            if p.dim() > 1:\n",
    "                nn.init.xavier_uniform_(p)\n",
    "        return model\n",
    "    else:\n",
    "        model.load_state_dict(torch.load(best_path))\n",
    "        return model"
   ]
  },
  {
   "cell_type": "code",
   "execution_count": 326,
   "metadata": {
    "scrolled": true
   },
   "outputs": [],
   "source": [
    "text_size = len(text_vocab)\n",
    "abstract_size = len(abstract_vocab)\n",
    "pad_idx = 2\n",
    "embed_size = 300  # embedding dimension\n",
    "hid_dim = 256  # dimension of the feedforward network model in ``nn.TransformerEncoder``\n",
    "n_head = 2\n",
    "n_layer = 4  # number of ``nn.TransformerEncoderLayer`` in ``nn.TransformerEncoder``\n",
    "dropout = 0.2  # dropout probability"
   ]
  },
  {
   "cell_type": "code",
   "execution_count": 327,
   "metadata": {
    "scrolled": true
   },
   "outputs": [
    {
     "data": {
      "text/plain": [
       "TransformerNet(\n",
       "  (EncoderNet): EncoderNet(\n",
       "    (enc_embedding): Embedding(116158, 2)\n",
       "    (enc_pe): PositionalEncoding(\n",
       "      (dropout): Dropout(p=0.1, inplace=False)\n",
       "    )\n",
       "    (encoder): TransformerEncoder(\n",
       "      (layers): ModuleList(\n",
       "        (0-3): 4 x TransformerEncoderLayer(\n",
       "          (self_attn): MultiheadAttention(\n",
       "            (out_proj): NonDynamicallyQuantizableLinear(in_features=2, out_features=2, bias=True)\n",
       "          )\n",
       "          (linear1): Linear(in_features=2, out_features=256, bias=True)\n",
       "          (dropout): Dropout(p=0.2, inplace=False)\n",
       "          (linear2): Linear(in_features=256, out_features=2, bias=True)\n",
       "          (norm1): LayerNorm((2,), eps=1e-05, elementwise_affine=True)\n",
       "          (norm2): LayerNorm((2,), eps=1e-05, elementwise_affine=True)\n",
       "          (dropout1): Dropout(p=0.2, inplace=False)\n",
       "          (dropout2): Dropout(p=0.2, inplace=False)\n",
       "        )\n",
       "      )\n",
       "    )\n",
       "  )\n",
       "  (DecoderNet): DecoderNet(\n",
       "    (dec_embedding): Embedding(26967, 2)\n",
       "    (dec_pe): PositionalEncoding(\n",
       "      (dropout): Dropout(p=0.1, inplace=False)\n",
       "    )\n",
       "    (decoder): TransformerDecoder(\n",
       "      (layers): ModuleList(\n",
       "        (0-3): 4 x TransformerDecoderLayer(\n",
       "          (self_attn): MultiheadAttention(\n",
       "            (out_proj): NonDynamicallyQuantizableLinear(in_features=2, out_features=2, bias=True)\n",
       "          )\n",
       "          (multihead_attn): MultiheadAttention(\n",
       "            (out_proj): NonDynamicallyQuantizableLinear(in_features=2, out_features=2, bias=True)\n",
       "          )\n",
       "          (linear1): Linear(in_features=2, out_features=256, bias=True)\n",
       "          (dropout): Dropout(p=0.2, inplace=False)\n",
       "          (linear2): Linear(in_features=256, out_features=2, bias=True)\n",
       "          (norm1): LayerNorm((2,), eps=1e-05, elementwise_affine=True)\n",
       "          (norm2): LayerNorm((2,), eps=1e-05, elementwise_affine=True)\n",
       "          (norm3): LayerNorm((2,), eps=1e-05, elementwise_affine=True)\n",
       "          (dropout1): Dropout(p=0.2, inplace=False)\n",
       "          (dropout2): Dropout(p=0.2, inplace=False)\n",
       "          (dropout3): Dropout(p=0.2, inplace=False)\n",
       "        )\n",
       "      )\n",
       "    )\n",
       "  )\n",
       "  (fc): Linear(in_features=2, out_features=26967, bias=True)\n",
       ")"
      ]
     },
     "execution_count": 327,
     "metadata": {},
     "output_type": "execute_result"
    }
   ],
   "source": [
    "# best_path = \"transformer_SSN_256_Batch_32_28lr0.0001.pth\"\n",
    "# model = TransformerNet(text_size,abstract_size,pad_idx, embed_size, hid_dim, \n",
    "#                        n_head, n_layer, TEXT_MAX, ABSTRACT_MAX, dropout, best_path).to(device)\n",
    "\n",
    "model = get_model(text_size,abstract_size,pad_idx, embed_size, hid_dim, \n",
    "                       n_head, n_layer, TEXT_MAX, ABSTRACT_MAX, dropout).to(device)\n",
    "\n",
    "model"
   ]
  },
  {
   "cell_type": "code",
   "execution_count": 206,
   "metadata": {
    "scrolled": false
   },
   "outputs": [],
   "source": [
    "for i, (abstract, text) in tqdm(enumerate(train_loader), total=len(train_loader)):\n",
    "    # send batch data to device\n",
    "    print(\"i\", i)\n",
    "    src = text.to(device)\n",
    "    trg = abstract.to(device)\n",
    "    \n",
    "    \n",
    "#     src_mask, trg_mask = create_masks(src, trg)\n",
    "#     src_mask.to(device)\n",
    "#     trg_mask.to(device)\n",
    "    \n",
    "    preds = model(src, trg)\n",
    "    print(preds.shape)\n",
    "    # this gives topk, then select the top1 result, then review it as a list\n",
    "    # then select the last item, this would be the highest prob\n",
    "    # only work in inference as this requires no batch\n",
    "    token = preds.topk(1)[1].view(-1)[-1].item()\n",
    "    print(token)\n",
    "    print(abstract_vocab.get_word(token))\n",
    "    \n",
    "    "
   ]
  },
  {
   "cell_type": "markdown",
   "metadata": {},
   "source": [
    "# Tasks\n",
    "~~1 - Complete model definition~~ <br>\n",
    "~~2 - fix word vocab~~ <br>\n",
    "~~3 - Define Attention model and combine with Decoder~~ <br>\n",
    "    ~~1 - Adjust to allow for batch ~~<br>\n",
    "4 - trace through program to see where it starts to have the same tensor <br>\n",
    "~~5 - use mask to hide paddings~~ switch on off to see difference<br>\n",
    "~~6 - Switch from GRU to LSTM~~<br>\n",
    "~~7 - Add training script to train ~~<br>\n",
    " "
   ]
  },
  {
   "cell_type": "markdown",
   "metadata": {},
   "source": [
    "# Model training"
   ]
  },
  {
   "cell_type": "code",
   "execution_count": 204,
   "metadata": {
    "scrolled": true
   },
   "outputs": [],
   "source": [
    "def train(train_loader, valid_loader, model):\n",
    "    lr = 0.0001\n",
    "    criterion = nn.CrossEntropyLoss(ignore_index=2) # ignore pad\n",
    "    optimizer = torch.optim.Adam(model.parameters(), lr=lr) # learning rate also affects overfitting\n",
    "    epoch_size = 25\n",
    "    loss_epoch = []\n",
    "    loss_accuracy = []\n",
    "    eval_loss_epoch = []\n",
    "    eval_accuracy = []\n",
    "    best_loss = 1000\n",
    "    \n",
    "    for epoch in range(1,epoch_size+1):\n",
    "        \n",
    "        model.train()\n",
    "        loss_batch = []\n",
    "        batch_acc = []\n",
    "        for i, (abstract, text) in tqdm(enumerate(train_loader), total=len(train_loader)):\n",
    "            # send batch data to device\n",
    "            abstract = abstract.to(device)\n",
    "            text = text.to(device)\n",
    "            #print(text)\n",
    "            outputs = model(text, abstract=abstract).to(device).permute(1,2,0)\n",
    "            decode(outputs, abstract)\n",
    "            loss = criterion(outputs, abstract)\n",
    "            batch_acc.append(get_accuracy(outputs, abstract))\n",
    "            #print(loss.item())\n",
    "            \n",
    "            # Optimise\n",
    "            del abstract\n",
    "            del text\n",
    "            del outputs\n",
    "\n",
    "            loss_batch.append(loss.item())\n",
    "            optimizer.zero_grad()\n",
    "            loss.backward()\n",
    "\n",
    "            #plot_grad_flow(model.named_parameters())\n",
    "            #torch.nn.utils.clip_grad_norm_(model.parameters(), 0.5)\n",
    "            optimizer.step()\n",
    "            del loss\n",
    "            torch.cuda.empty_cache()\n",
    "        #return model\n",
    "            #print(loss.item())\n",
    "        current_loss = np.average(loss_batch)\n",
    "        current_acc = np.average(batch_acc)\n",
    "        loss_epoch.append(current_loss)\n",
    "        loss_accuracy.append(current_acc)\n",
    "\n",
    "        print('Epoch [{}/{}], Loss: {:.4f}, Acc: {:.2f}'\n",
    "            .format(epoch, epoch_size, current_loss, current_acc*100))\n",
    "\n",
    "        eval_loss_batch = []\n",
    "        eval_batch_acc = []\n",
    "\n",
    "        model.eval()\n",
    "        with torch.no_grad():\n",
    "            for j, (abstract, text) in enumerate(valid_loader):\n",
    "                abstract = abstract.to(device)\n",
    "                text = text.to(device)\n",
    "\n",
    "                scores = model(text, abstract=abstract).permute(1,2,0)\n",
    "                #decode(scores, abstract)\n",
    "                eval_loss = criterion(scores, abstract)\n",
    "                #print(eval_loss.item())\n",
    "                eval_loss_batch.append(eval_loss.item())\n",
    "                eval_batch_acc.append(get_accuracy(scores, abstract))\n",
    "                del abstract\n",
    "                del text\n",
    "                del scores\n",
    "                del eval_loss\n",
    "                torch.cuda.empty_cache()\n",
    "        \n",
    "        current_eval_loss = np.average(eval_loss_batch)\n",
    "        current_eval_acc = np.average(eval_batch_acc)\n",
    "        \n",
    "        eval_loss_epoch.append(current_eval_loss)\n",
    "        eval_accuracy.append(current_eval_acc)\n",
    "        \n",
    "        if (current_eval_loss < best_loss):\n",
    "            best_loss = current_eval_loss\n",
    "            torch.save(model.state_dict(), 'transformer_SSN_256_Batch_32_'+str(epoch)+'lr'+str(lr)+'.pth')\n",
    "            print(\"Best eval loss updated!\")\n",
    "            \n",
    "        print('Valid Epoch [{}/{}], Loss: {:.4f}, Acc: {:.2f}'\n",
    "            .format(epoch, epoch_size, current_eval_loss, current_eval_acc*100))\n",
    "    return loss_epoch, eval_loss_epoch, loss_accuracy, eval_accuracy\n",
    "def get_accuracy(preds, abstracts):\n",
    "#     print(\"preds: \", preds.shape)\n",
    "#     print(\"abstracts:\", abstracts.shape)\n",
    "    pred_ids = preds.argmax(1)\n",
    "    correct_preds = (pred_ids == abstracts).sum().item()\n",
    "    # Calculate the total number of samples\n",
    "    total_samples = abstracts.shape[0] * abstracts.shape[1]\n",
    "    \n",
    "    # Calculate accuracy as the ratio of correct predictions to total samples\n",
    "    accuracy = correct_preds / total_samples\n",
    "    return accuracy\n",
    "def decode(preds, abstracts):\n",
    "    pred_ids = preds.argmax(1)\n",
    "    for i in range(len(pred_ids)):\n",
    "        sentence = \"\"\n",
    "        sentence2 = \"\"\n",
    "        for j in range(ABSTRACT_MAX):\n",
    "            sentence += abstract_vocab.get_word(pred_ids[i][j].item()) + \" \"\n",
    "            sentence2 += abstract_vocab.get_word(abstracts[i][j].item()) + \" \"\n",
    "        print(\"pred: \",sentence)\n",
    "        print(\"abstract: \",sentence2)"
   ]
  },
  {
   "cell_type": "code",
   "execution_count": 205,
   "metadata": {
    "scrolled": true
   },
   "outputs": [
    {
     "data": {
      "application/vnd.jupyter.widget-view+json": {
       "model_id": "1206f508de884e01a94d2df4fe0ab53f",
       "version_major": 2,
       "version_minor": 0
      },
      "text/plain": [
       "  0%|          | 0/608 [00:00<?, ?it/s]"
      ]
     },
     "metadata": {},
     "output_type": "display_data"
    },
    {
     "name": "stdout",
     "output_type": "stream",
     "text": [
      "pred:  populist radio 1 drops behind its more staid counterpart shows like the archers today and women s hour behind figures <end> wrangler soldier near finishes finishes coventry died leading stockton hurdle adjustments voiceover <end> <end> <end> <end> measure surface illinois felony community airport airport states right right right right right \n",
      "abstract:  populist radio 1 drops behind its more staid counterpart shows like the archers today and women s hour behind figures <end> <pad> <pad> <pad> <pad> <pad> <pad> <pad> <pad> <pad> <pad> <pad> <pad> <pad> <pad> <pad> <pad> <pad> <pad> <pad> <pad> <pad> <pad> <pad> <pad> <pad> <pad> <pad> <pad> <pad> \n",
      "pred:  josh mason took photo during tour of crematorium in north yorkshire the liberal democrat is pictured posing in front of furnace today he said he deeply regretted any offence he may have caused <end> embryo smiths ship felony felony felony illinois community area community old right right right right right \n",
      "abstract:  josh mason took photo during tour of crematorium in north yorkshire the liberal democrat is pictured posing in front of furnace today he said he deeply regretted any offence he may have caused <end> <pad> <pad> <pad> <pad> <pad> <pad> <pad> <pad> <pad> <pad> <pad> <pad> <pad> <pad> <pad> <pad> \n",
      "pred:  star trek star plans to ride from chicago to los angeles this summer two seater tricycle inspired by bomber s metal wing rivet tricycle set to go on sale following shatner s trip <end> mytablet oil test measure measure joined measure area child community airport right right right right right \n",
      "abstract:  star trek star plans to ride from chicago to los angeles this summer two seater tricycle inspired by bomber s metal wing rivet tricycle set to go on sale following shatner s trip <end> <pad> <pad> <pad> <pad> <pad> <pad> <pad> <pad> <pad> <pad> <pad> <pad> <pad> <pad> <pad> <pad> \n",
      "pred:  harry redknapp is hopeful qpr will sign jermain defoe in january qpr boss tried all day to sign defoe on transfer deadline day defoe was keen to join qpr from toronto according to redknapp <end> beijing lane felony felony felony measure area community community child right right right right right \n",
      "abstract:  harry redknapp is hopeful qpr will sign jermain defoe in january qpr boss tried all day to sign defoe on transfer deadline day defoe was keen to join qpr from toronto according to redknapp <end> <pad> <pad> <pad> <pad> <pad> <pad> <pad> <pad> <pad> <pad> <pad> <pad> <pad> <pad> <pad> \n",
      "pred:  sudanese government darfur rebel group sign deal government justice and equality movement holding further talks in two weeks analyst calls agreement step in the right around 300 000 people estimated to have died in conflict <end> kayak measure serving measure measure area community area states right right right right right \n",
      "abstract:  sudanese government darfur rebel group sign deal government justice and equality movement holding further talks in two weeks analyst calls agreement step in the right around 300 000 people estimated to have died in conflict <end> <pad> <pad> <pad> <pad> <pad> <pad> <pad> <pad> <pad> <pad> <pad> <pad> <pad> <pad> \n",
      "pred:  apple unveils ibooks author creation kit kit lets anyone make ebooks can add pictures video <end> joins sales department bottom scholes joins reported manayunk currently finishes call finishes stomachs headset bomb manayunk fiasco <end> <end> <end> <end> <end> illinois measure measure community community community leave right right right right right \n",
      "abstract:  apple unveils ibooks author creation kit kit lets anyone make ebooks can add pictures video <end> <pad> <pad> <pad> <pad> <pad> <pad> <pad> <pad> <pad> <pad> <pad> <pad> <pad> <pad> <pad> <pad> <pad> <pad> <pad> <pad> <pad> <pad> <pad> <pad> <pad> <pad> <pad> <pad> <pad> <pad> <pad> <pad> <pad> <pad> \n",
      "pred:  26 000 fewer people saw rory mcilroy win than tiger woods in 2006 hoylake hosted both events numbers are still up on last year at muirfield <end> syndicate exterminated exterminated exterminated workload mousse appetite <end> <end> <end> <end> measure measure youngsters community community area area right right right right right \n",
      "abstract:  26 000 fewer people saw rory mcilroy win than tiger woods in 2006 hoylake hosted both events numbers are still up on last year at muirfield <end> <pad> <pad> <pad> <pad> <pad> <pad> <pad> <pad> <pad> <pad> <pad> <pad> <pad> <pad> <pad> <pad> <pad> <pad> <pad> <pad> <pad> <pad> <pad> \n",
      "pred:  the pop singer s new album sold almost million copies that hasn t happened since eminem in 2002 swift is now the seller of the year <end> acclaimed munoz browns shakeup browns precedent precedent precedent <end> <end> youngsters illinois felony 2002 area area area area right right right right right \n",
      "abstract:  the pop singer s new album sold almost million copies that hasn t happened since eminem in 2002 swift is now the seller of the year <end> <pad> <pad> <pad> <pad> <pad> <pad> <pad> <pad> <pad> <pad> <pad> <pad> <pad> <pad> <pad> <pad> <pad> <pad> <pad> <pad> <pad> <pad> <pad> \n",
      "pred:  queen mother warned against sending charles to scottish boarding school asked the queen to send the prince to eton instead letters reveal but prince philip ruled he should attend his old school <end> kent smiths price smiths trains felony illinois qualifier area airport community airport right right right right right \n",
      "abstract:  queen mother warned against sending charles to scottish boarding school asked the queen to send the prince to eton instead letters reveal but prince philip ruled he should attend his old school <end> <pad> <pad> <pad> <pad> <pad> <pad> <pad> <pad> <pad> <pad> <pad> <pad> <pad> <pad> <pad> <pad> <pad> \n",
      "pred:  bat was last seen clinging on space shuttle discovery before launch wildlife expert says bat appeared to have broken wing or injured shoulder discovery is on mission to deliver supplies to international space station <end> insurance beijing measure felony felony measure leave area area community right right right right right \n",
      "abstract:  bat was last seen clinging on space shuttle discovery before launch wildlife expert says bat appeared to have broken wing or injured shoulder discovery is on mission to deliver supplies to international space station <end> <pad> <pad> <pad> <pad> <pad> <pad> <pad> <pad> <pad> <pad> <pad> <pad> <pad> <pad> <pad> \n",
      "pred:  baby weighing pounds born in indonesia baby is three times the typical size of a newborn infant doctor who delivered was very i thought it was <end> guarantees luz shakeup precedent precedent lantern precedent appetite <end> <end> illinois measure measure illinois community area area airport right right right right right \n",
      "abstract:  baby weighing pounds born in indonesia baby is three times the typical size of a newborn infant doctor who delivered was very i thought it was <end> <pad> <pad> <pad> <pad> <pad> <pad> <pad> <pad> <pad> <pad> <pad> <pad> <pad> <pad> <pad> <pad> <pad> <pad> <pad> <pad> <pad> <pad> <pad> \n",
      "pred:  russian youtube user posted a video showing the small feline hopping into a box with the birds <end> favourites comes department named footage call iran finishes create finishes leading finishes pathetic morals <end> bubbly <end> <end> <end> felony joined measure serving states area community area right right right right right \n",
      "abstract:  russian youtube user posted a video showing the small feline hopping into a box with the birds <end> <pad> <pad> <pad> <pad> <pad> <pad> <pad> <pad> <pad> <pad> <pad> <pad> <pad> <pad> <pad> <pad> <pad> <pad> <pad> <pad> <pad> <pad> <pad> <pad> <pad> <pad> <pad> <pad> <pad> <pad> <pad> <pad> \n",
      "pred:  austrian joe toedtling 33 managed to stay alight for he broke record for the longest duration full body burn mr toedtling has appeared in films like the monuments men <end> finishes kent reported rhetoric <end> <end> embryo serving measure measure measure area area area community right right right right right \n",
      "abstract:  austrian joe toedtling 33 managed to stay alight for he broke record for the longest duration full body burn mr toedtling has appeared in films like the monuments men <end> <pad> <pad> <pad> <pad> <pad> <pad> <pad> <pad> <pad> <pad> <pad> <pad> <pad> <pad> <pad> <pad> <pad> <pad> <pad> <pad> \n",
      "pred:  fury over police officers reckless behaviour after video is shown on tv they were chasing suspected drug dealer through rio shanty town thermal imaging shows car being shot at as it speeds through streets <end> insurance test trains felony illinois measure community area community community right right right right right \n",
      "abstract:  fury over police officers reckless behaviour after video is shown on tv they were chasing suspected drug dealer through rio shanty town thermal imaging shows car being shot at as it speeds through streets <end> <pad> <pad> <pad> <pad> <pad> <pad> <pad> <pad> <pad> <pad> <pad> <pad> <pad> <pad> <pad> \n",
      "pred:  retired farmer dhaqabo ebba from ethiopia claims to be 160 years old he would take title from misao okawa from japan if true there is no birth certificate to prove his claim <end> embryo smiths embryo <end> measure measure measure felony area community area community right right right right right \n",
      "abstract:  retired farmer dhaqabo ebba from ethiopia claims to be 160 years old he would take title from misao okawa from japan if true there is no birth certificate to prove his claim <end> <pad> <pad> <pad> <pad> <pad> <pad> <pad> <pad> <pad> <pad> <pad> <pad> <pad> <pad> <pad> <pad> <pad> \n",
      "pred:  circus owner violated the animal welfare act regulators say feld entertainment agrees to pay 000 but admits no wrongdoing the company agrees to a new training protocol for animal handlers <end> finishes plea ve appetite <end> <end> illinois felony youngsters youngsters community leave area leave right right right right right \n",
      "abstract:  circus owner violated the animal welfare act regulators say feld entertainment agrees to pay 000 but admits no wrongdoing the company agrees to a new training protocol for animal handlers <end> <pad> <pad> <pad> <pad> <pad> <pad> <pad> <pad> <pad> <pad> <pad> <pad> <pad> <pad> <pad> <pad> <pad> <pad> <pad> \n",
      "pred:  photographer konrad wothe took the photographs in indonesia the brown gardener bird spends up to ten months making the display found in indonesia the birds bower is built to attract a mate <end> <end> smiths <end> <end> measure measure measure youngsters leave community community area right right right right right \n",
      "abstract:  photographer konrad wothe took the photographs in indonesia the brown gardener bird spends up to ten months making the display found in indonesia the birds bower is built to attract a mate <end> <pad> <pad> <pad> <pad> <pad> <pad> <pad> <pad> <pad> <pad> <pad> <pad> <pad> <pad> <pad> <pad> <pad> \n",
      "pred:  tourists ruled out possibility of strike action ahead of qbe international samoans had threatened to boycott game at twickenham this weekend boss sami leoti says the autumn international will go ahead as planned <end> insurance smiths test illinois measure felony felony states child leave states right right right right right \n",
      "abstract:  tourists ruled out possibility of strike action ahead of qbe international samoans had threatened to boycott game at twickenham this weekend boss sami leoti says the autumn international will go ahead as planned <end> <pad> <pad> <pad> <pad> <pad> <pad> <pad> <pad> <pad> <pad> <pad> <pad> <pad> <pad> <pad> <pad> \n",
      "pred:  dani king crashed during training in south wales last thursday the world team pursuit champion says the smile is back she has been treated for five broken ribs and a collapsed lung <end> smiths smiths shops smiths measure 2002 measure serving area area community area right right right right right \n",
      "abstract:  dani king crashed during training in south wales last thursday the world team pursuit champion says the smile is back she has been treated for five broken ribs and a collapsed lung <end> <pad> <pad> <pad> <pad> <pad> <pad> <pad> <pad> <pad> <pad> <pad> <pad> <pad> <pad> <pad> <pad> <pad> \n",
      "pred:  romney says he is not offended at palin s appearance in new hampshire she didn t ruin my day he tells piers morgan he intends to lie greatest enemy is overexposure he says <end> insurance legal test measure felony felony measure area area airport area right right right right right \n",
      "abstract:  romney says he is not offended at palin s appearance in new hampshire she didn t ruin my day he tells piers morgan he intends to lie greatest enemy is overexposure he says <end> <pad> <pad> <pad> <pad> <pad> <pad> <pad> <pad> <pad> <pad> <pad> <pad> <pad> <pad> <pad> <pad> \n",
      "pred:  uk family forced from home as poisonous insect hitches in from afghanistan camel spider believed to have stowed away in soldier s luggage family blames creature for death of pet dog cassie <end> smiths shots <end> smiths serving felony measure 2002 community area area states right right right right right \n",
      "abstract:  uk family forced from home as poisonous insect hitches in from afghanistan camel spider believed to have stowed away in soldier s luggage family blames creature for death of pet dog cassie <end> <pad> <pad> <pad> <pad> <pad> <pad> <pad> <pad> <pad> <pad> <pad> <pad> <pad> <pad> <pad> <pad> <pad> \n",
      "pred:  nigeria aims to make huge oil deals with china and peace with militants government brokers peace with bandits whose attacks cost oil industry millions chinese oil company negotiating with nigeria over billion oil deal reports say <end> measure measure measure measure community area area area right right right right right \n",
      "abstract:  nigeria aims to make huge oil deals with china and peace with militants government brokers peace with bandits whose attacks cost oil industry millions chinese oil company negotiating with nigeria over billion oil deal reports say <end> <pad> <pad> <pad> <pad> <pad> <pad> <pad> <pad> <pad> <pad> <pad> <pad> <pad> \n",
      "pred:  graeme storm holes tee shot on par 3 storm wins sports car worth over 000 for the shot englishman leads by from countryman tommy fleetwood <end> followed browns arbitrator shakeup precedent removal precedent precedent <end> solar vessel 2002 measure measure felony leave area area community right right right right right \n",
      "abstract:  graeme storm holes tee shot on par 3 storm wins sports car worth over 000 for the shot englishman leads by from countryman tommy fleetwood <end> <pad> <pad> <pad> <pad> <pad> <pad> <pad> <pad> <pad> <pad> <pad> <pad> <pad> <pad> <pad> <pad> <pad> <pad> <pad> <pad> <pad> <pad> <pad> <pad> \n",
      "pred:  fargo forum rejects couple s wedding announcement image of shared on twitter facebook ireport prompts petition fargo forum editor and publisher meet with couple promise to review decision couple says ensuing support outweighs initial disappointment <end> beijing youngsters illinois felony felony community airport area community right right right right right \n",
      "abstract:  fargo forum rejects couple s wedding announcement image of shared on twitter facebook ireport prompts petition fargo forum editor and publisher meet with couple promise to review decision couple says ensuing support outweighs initial disappointment <end> <pad> <pad> <pad> <pad> <pad> <pad> <pad> <pad> <pad> <pad> <pad> <pad> <pad> <pad> \n",
      "pred:  nurudeen was engineering student when he met the woman online in 2007 nurudeen pretended to be a british engineer working in nigeria authorities do not say how he was caught <end> agree agree says <end> <end> <end> measure measure youngsters measure community community leave community right right right right right \n",
      "abstract:  nurudeen was engineering student when he met the woman online in 2007 nurudeen pretended to be a british engineer working in nigeria authorities do not say how he was caught <end> <pad> <pad> <pad> <pad> <pad> <pad> <pad> <pad> <pad> <pad> <pad> <pad> <pad> <pad> <pad> <pad> <pad> <pad> <pad> \n",
      "pred:  delta flight attendants describe how their jobs changed over the years for more than two decades flight attendants could not be married delta allowed men to become flight attendants in 1973 <end> agree stealing stealing embryo <end> serving youngsters illinois surface community community community states right right right right right \n",
      "abstract:  delta flight attendants describe how their jobs changed over the years for more than two decades flight attendants could not be married delta allowed men to become flight attendants in 1973 <end> <pad> <pad> <pad> <pad> <pad> <pad> <pad> <pad> <pad> <pad> <pad> <pad> <pad> <pad> <pad> <pad> <pad> <pad> \n",
      "pred:  piglet came into the world in nanchang china among a litter of 10 farmer du gensheng the others were normal except this one unfortunately vets say the piggy will find it difficult to survive <end> 375 developing felony measure trains felony list area area area right right right right right \n",
      "abstract:  piglet came into the world in nanchang china among a litter of 10 farmer du gensheng the others were normal except this one unfortunately vets say the piggy will find it difficult to survive <end> <pad> <pad> <pad> <pad> <pad> <pad> <pad> <pad> <pad> <pad> <pad> <pad> <pad> <pad> <pad> \n",
      "pred:  health officials find 8 cases of the disease including the two deaths the disease affected people who stayed at the jw marriott chicago legionnaires disease is a respiratory bacterial infection <end> finishes steve agree <end> <end> did serving measure measure measure community community community community right right right right right \n",
      "abstract:  health officials find 8 cases of the disease including the two deaths the disease affected people who stayed at the jw marriott chicago legionnaires disease is a respiratory bacterial infection <end> <pad> <pad> <pad> <pad> <pad> <pad> <pad> <pad> <pad> <pad> <pad> <pad> <pad> <pad> <pad> <pad> <pad> <pad> <pad> \n",
      "pred:  the earliest known photograph to show a person was published online this week it was taken in paris france in 1838 by louis daguerre the image shows a man getting his boots cleaned on the sidewalk <end> serving serving measure serving leave area area area right right right right right \n",
      "abstract:  the earliest known photograph to show a person was published online this week it was taken in paris france in 1838 by louis daguerre the image shows a man getting his boots cleaned on the sidewalk <end> <pad> <pad> <pad> <pad> <pad> <pad> <pad> <pad> <pad> <pad> <pad> <pad> <pad> \n",
      "pred:  mary beard has declared she wants to create an old movement hopes to take away negative connotations from the word old she by the time i die i want to be something we say with pride <end> measure serving measure serving area area area community right right right right right \n",
      "abstract:  mary beard has declared she wants to create an old movement hopes to take away negative connotations from the word old she by the time i die i want to be something we say with pride <end> <pad> <pad> <pad> <pad> <pad> <pad> <pad> <pad> <pad> <pad> <pad> <pad> <pad> \n",
      "pred:  singer and actress olivia speaks to cnn s connect the world star of hit musical a prominent campaigner for breast cancer awareness also a passionate advocate of rainforest protection <end> mexicans adhesive cars hamilton bath <end> <end> surface measure illinois measure leave community airport community right right right right right \n",
      "abstract:  singer and actress olivia speaks to cnn s connect the world star of hit musical a prominent campaigner for breast cancer awareness also a passionate advocate of rainforest protection <end> <pad> <pad> <pad> <pad> <pad> <pad> <pad> <pad> <pad> <pad> <pad> <pad> <pad> <pad> <pad> <pad> <pad> <pad> <pad> <pad> \n",
      "pred:  jackson mukasa received bail after fulfilling conditions for his release his hakim mukisa remains in jail their trial is set to start on june 12 <end> acclaimed spark’ exterminated cosmopolitan workload jiroemon storeys <end> <end> <end> <end> measure measure felony measure community community area community right right right right right \n",
      "abstract:  jackson mukasa received bail after fulfilling conditions for his release his hakim mukisa remains in jail their trial is set to start on june 12 <end> <pad> <pad> <pad> <pad> <pad> <pad> <pad> <pad> <pad> <pad> <pad> <pad> <pad> <pad> <pad> <pad> <pad> <pad> <pad> <pad> <pad> <pad> <pad> <pad> \n"
     ]
    },
    {
     "ename": "TypeError",
     "evalue": "cannot unpack non-iterable NoneType object",
     "output_type": "error",
     "traceback": [
      "\u001b[1;31m---------------------------------------------------------------------------\u001b[0m",
      "\u001b[1;31mTypeError\u001b[0m                                 Traceback (most recent call last)",
      "Cell \u001b[1;32mIn[205], line 1\u001b[0m\n\u001b[1;32m----> 1\u001b[0m train_loss, eval_loss, train_acc, eval_acc \u001b[38;5;241m=\u001b[39m train(train_loader, valid_loader, model)\n",
      "\u001b[1;31mTypeError\u001b[0m: cannot unpack non-iterable NoneType object"
     ]
    }
   ],
   "source": [
    "train_loss, eval_loss, train_acc, eval_acc = train(train_loader, valid_loader, model)"
   ]
  },
  {
   "cell_type": "code",
   "execution_count": 194,
   "metadata": {},
   "outputs": [
    {
     "data": {
      "image/png": "[encoded data removed]",
      "text/plain": [
       "<Figure size 640x480 with 1 Axes>"
      ]
     },
     "metadata": {},
     "output_type": "display_data"
    }
   ],
   "source": [
    "plot_grad_flow(model.named_parameters())"
   ]
  },
  {
   "cell_type": "code",
   "execution_count": 195,
   "metadata": {},
   "outputs": [],
   "source": [
    "import time\n",
    "def writeLoss(filename, loss):\n",
    "    # filename in format losstype+layer+dim, validL2D256\n",
    "    timestr = time.strftime(\"%Y%m%d-%H%M%S\")\n",
    "    filename = filename + \"_\" + timestr + \".txt\"\n",
    "    with open(filename, \"a\") as myfile:\n",
    "        for item in loss:\n",
    "            myfile.write(str(item)+\"\\n\")\n"
   ]
  },
  {
   "cell_type": "code",
   "execution_count": 196,
   "metadata": {},
   "outputs": [],
   "source": [
    "writeLoss(\"Train\", train_loss)\n",
    "writeLoss(\"Valid\", eval_loss)\n",
    "writeLoss(\"Train_acc\", train_acc)\n",
    "writeLoss(\"Valid_acc\", eval_acc)"
   ]
  },
  {
   "cell_type": "code",
   "execution_count": 345,
   "metadata": {},
   "outputs": [],
   "source": [
    "torch.save(model.state_dict(), 'best_decoder20230729_epoch500.pth')"
   ]
  },
  {
   "cell_type": "code",
   "execution_count": 180,
   "metadata": {},
   "outputs": [],
   "source": [
    "def plot_grad_flow(named_parameters):\n",
    "    ave_grads = []\n",
    "    layers = []\n",
    "    for n, p in named_parameters:\n",
    "        #print(n)\n",
    "        if(p.requires_grad) and (\"bias\" not in n):\n",
    "            layers.append(n)\n",
    "            #print(type(p.grad))\n",
    "            ave_grads.append(torch.mean(torch.abs(p.grad)).cpu())\n",
    "    plt.plot(ave_grads, alpha=0.3, color=\"b\")\n",
    "    plt.hlines(0, 0, len(ave_grads)+1, linewidth=1, color=\"k\" )\n",
    "    plt.xticks(range(0,len(ave_grads), 1), layers, rotation=\"vertical\")\n",
    "    plt.xlim(xmin=0, xmax=len(ave_grads))\n",
    "    plt.xlabel(\"Layers\")\n",
    "    plt.ylabel(\"average gradient\")\n",
    "    plt.title(\"Gradient flow\")\n",
    "    plt.grid(True)"
   ]
  },
  {
   "cell_type": "code",
   "execution_count": 197,
   "metadata": {},
   "outputs": [
    {
     "data": {
      "text/plain": [
       "<matplotlib.legend.Legend at 0x262b22273d0>"
      ]
     },
     "execution_count": 197,
     "metadata": {},
     "output_type": "execute_result"
    },
    {
     "data": {
      "image/png": "[encoded data removed]",
      "text/plain": [
       "<Figure size 640x480 with 1 Axes>"
      ]
     },
     "metadata": {},
     "output_type": "display_data"
    }
   ],
   "source": [
    "plt.plot(train_loss)\n",
    "plt.plot(eval_loss)\n",
    "plt.xlabel('epochs')\n",
    "plt.ylabel('loss')\n",
    "plt.legend(['train loss','Valid loss'])"
   ]
  },
  {
   "cell_type": "markdown",
   "metadata": {},
   "source": [
    "# Model Evaluation"
   ]
  },
  {
   "cell_type": "code",
   "execution_count": 289,
   "metadata": {},
   "outputs": [],
   "source": [
    "import gc\n",
    "gc.collect()\n",
    "torch.cuda.empty_cache()"
   ]
  },
  {
   "cell_type": "code",
   "execution_count": null,
   "metadata": {},
   "outputs": [],
   "source": []
  },
  {
   "cell_type": "markdown",
   "metadata": {},
   "source": [
    "# FastText"
   ]
  },
  {
   "cell_type": "markdown",
   "metadata": {},
   "source": [
    "## Model for querying"
   ]
  },
  {
   "cell_type": "markdown",
   "metadata": {},
   "source": [
    "train fasttext model\n",
    "obtain weight from fasttest\n",
    "then embedding can load weights\n",
    "\n",
    "- train 2 fasttext model, 1 for text and another for abstract\n",
    "- obtain weights for both vocab\n",
    "- put in encoder and decoder like normal\n",
    "- https://stackoverflow.com/questions/31440803/how-to-fetch-vectors-for-a-word-list-with-word2vec\n",
    "- use this to update the vocab class to update ways to fetch words\n",
    "- to solve querying, use the model and use function to find cosine"
   ]
  },
  {
   "cell_type": "code",
   "execution_count": 6,
   "metadata": {},
   "outputs": [],
   "source": [
    "import fasttext\n",
    "model = fasttext.train_unsupervised('data/fil9')\n",
    "model.save_model(\"result/fil9.bin\")\n",
    "model = fasttext.load_model(\"result/fil9.bin\")\n",
    "# EXPECTS TEXT FILE FORMAT WHERE 1 TEXT PER ROW\n",
    "# IMPORTANT, NEED TO REDESIGN CLEANING PROCESS "
   ]
  },
  {
   "cell_type": "markdown",
   "metadata": {},
   "source": [
    "# Dataset Exploration"
   ]
  },
  {
   "cell_type": "markdown",
   "metadata": {},
   "source": [
    "After exploring, all highlight:article ratio being more than 1.0 means the summary text is producing more text than the original text, this defeats the purpose of the model, therefore all data with a ratio of more than or equal to 1.0 will be omitted."
   ]
  },
  {
   "cell_type": "code",
   "execution_count": null,
   "metadata": {},
   "outputs": [],
   "source": []
  },
  {
   "cell_type": "markdown",
   "metadata": {},
   "source": [
    "# Model improvement/Retrain"
   ]
  },
  {
   "cell_type": "code",
   "execution_count": null,
   "metadata": {},
   "outputs": [],
   "source": []
  },
  {
   "cell_type": "code",
   "execution_count": null,
   "metadata": {},
   "outputs": [],
   "source": []
  },
  {
   "cell_type": "markdown",
   "metadata": {},
   "source": [
    "# Model Finalisation and Evaluation"
   ]
  },
  {
   "cell_type": "markdown",
   "metadata": {},
   "source": [
    "## Inference Script"
   ]
  },
  {
   "cell_type": "code",
   "execution_count": null,
   "metadata": {},
   "outputs": [],
   "source": [
    "# Load model\n",
    "best_model_path = \"best_decoder20230719.pth\"\n",
    "best_model = Model(len(text_vocab),len(abstract_vocab),2,256)\n",
    "best_model.load_state_dict(torch.load(best_model_path))"
   ]
  }
 ],
 "metadata": {
  "colab": {
   "name": "COMP5623M_CW1_Q2.ipynb",
   "provenance": []
  },
  "kernelspec": {
   "display_name": "Python 3 (ipykernel)",
   "language": "python",
   "name": "python3"
  },
  "language_info": {
   "codemirror_mode": {
    "name": "ipython",
    "version": 3
   },
   "file_extension": ".py",
   "mimetype": "text/x-python",
   "name": "python",
   "nbconvert_exporter": "python",
   "pygments_lexer": "ipython3",
   "version": "3.9.12"
  },
  "vscode": {
   "interpreter": {
    "hash": "31f2aee4e71d21fbe5cf8b01ff0e069b9275f58929596ceb00d14d90e3e16cd6"
   }
  }
 },
 "nbformat": 4,
 "nbformat_minor": 1
}
