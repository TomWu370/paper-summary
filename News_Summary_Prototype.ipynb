{
 "cells": [
  {
   "cell_type": "markdown",
   "metadata": {
    "id": "LR4bovYL4CJz"
   },
   "source": [
    "## Dissertation Project - News Summary Dissertation [100 marks]\n",
    "\n",
    "### Motivation \n",
    "\n",
    "> 1. Provide tools for anyone needing to speed up their research process\n",
    "> 2. Providing ways for user to quickly determine whether a piece of research is beneficial for their specific search terms\n",
    "\n",
    "\n"
   ]
  },
  {
   "cell_type": "markdown",
   "metadata": {},
   "source": [
    "### Imports"
   ]
  },
  {
   "cell_type": "code",
   "execution_count": 127,
   "metadata": {},
   "outputs": [],
   "source": [
    "import torch\n",
    "import torch.nn as nn\n",
    "import torchvision\n",
    "from torchvision import transforms\n",
    "import torchvision.models as models\n",
    "from torch.utils.data import Dataset, DataLoader, random_split\n",
    "from torch.nn.utils.rnn import pack_padded_sequence, pad_packed_sequence\n",
    "import pandas as pd\n",
    "import matplotlib.pyplot as plt\n",
    "from collections import Counter\n",
    "import os\n",
    "import numpy as np\n",
    "from PIL import Image\n",
    "from sklearn.model_selection import train_test_split\n",
    "from sklearn.feature_extraction.text import ENGLISH_STOP_WORDS\n",
    "import string\n",
    "import random\n",
    "from tqdm.notebook import tqdm\n",
    "import ipywidgets as widgets\n",
    "import fitz\n",
    "\n",
    "import numpy as np \n",
    "import pandas as pd\n",
    "import math\n",
    "\n",
    "import json\n",
    "\n",
    "DATASET = \"./Dataset/\""
   ]
  },
  {
   "cell_type": "markdown",
   "metadata": {},
   "source": [
    "Detect which device (CPU/GPU) to use."
   ]
  },
  {
   "cell_type": "code",
   "execution_count": 9,
   "metadata": {},
   "outputs": [
    {
     "name": "stdout",
     "output_type": "stream",
     "text": [
      "Using device: cuda\n"
     ]
    }
   ],
   "source": [
    "seed = 0\n",
    "random.seed(seed)\n",
    "torch.manual_seed(seed)\n",
    "torch.cuda.manual_seed(seed) \n",
    "torch.cuda.manual_seed_all(seed)\n",
    "device = torch.device('cuda' if torch.cuda.is_available() else 'cpu')\n",
    "print('Using device:', device)"
   ]
  },
  {
   "cell_type": "markdown",
   "metadata": {},
   "source": [
    "### Overview\n",
    "\n",
    "Summarisation model\n",
    "> 1. Dataset preprocessing\n",
    "> 2. Dataloader\n",
    "> 3. RNN model definition\n",
    "> 4. Model training\n",
    "> 5. Model prediction evaluation\n",
    "> 6. Dataset Exploration\n",
    "> 7. Dataset modification/Data Augmentation\n",
    "> 8. Model improvement\n",
    "> 9. Model finalisation and evaluation\n",
    "\n",
    "Paper querying\n",
    "> 1. Attention on query (Return usefulness percentage\n",
    "> 2. Evaluate performance\n"
   ]
  },
  {
   "cell_type": "markdown",
   "metadata": {},
   "source": [
    "# Data preprocessing"
   ]
  },
  {
   "cell_type": "code",
   "execution_count": 5,
   "metadata": {},
   "outputs": [],
   "source": [
    "# # Comment this block if dataset is reorganised\n",
    "# DATA_DIR = \"SSN/papers.SSN.jsonl\"\n",
    "# dataset_path = DATASET+DATA_DIR\n",
    "# with open(dataset_path) as f:\n",
    "#     lines = f.read().splitlines()\n",
    "# df_inter = pd.DataFrame(lines)\n",
    "# df_inter.columns = ['json_element']\n",
    "# df_final = pd.json_normalize(df_inter['json_element'].apply(json.loads))\n",
    "# df_final.to_json(\"./Dataset/SSN/SSN_Dataset.json\")\n",
    "# df_final"
   ]
  },
  {
   "cell_type": "code",
   "execution_count": null,
   "metadata": {},
   "outputs": [],
   "source": [
    "# for i,summary in df_final.iterrows():\n",
    "#     temp = summary[\"abstract\"]\n",
    "#     print(type(summary[\"abstract\"]))\n",
    "#     break"
   ]
  },
  {
   "cell_type": "code",
   "execution_count": 28,
   "metadata": {},
   "outputs": [
    {
     "data": {
      "text/html": [
       "<div>\n",
       "<style scoped>\n",
       "    .dataframe tbody tr th:only-of-type {\n",
       "        vertical-align: middle;\n",
       "    }\n",
       "\n",
       "    .dataframe tbody tr th {\n",
       "        vertical-align: top;\n",
       "    }\n",
       "\n",
       "    .dataframe thead th {\n",
       "        text-align: right;\n",
       "    }\n",
       "</style>\n",
       "<table border=\"1\" class=\"dataframe\">\n",
       "  <thead>\n",
       "    <tr style=\"text-align: right;\">\n",
       "      <th></th>\n",
       "      <th>paper_id</th>\n",
       "      <th>title</th>\n",
       "      <th>abstract</th>\n",
       "      <th>section_names</th>\n",
       "      <th>domain</th>\n",
       "      <th>text</th>\n",
       "    </tr>\n",
       "  </thead>\n",
       "  <tbody>\n",
       "    <tr>\n",
       "      <th>0</th>\n",
       "      <td>4650265</td>\n",
       "      <td>XGBoost: A Scalable Tree Boosting System</td>\n",
       "      <td>[tree boosting is a highly effective and widel...</td>\n",
       "      <td>[introduction, tree boosting in a nutshell, re...</td>\n",
       "      <td>[]</td>\n",
       "      <td>[[machine learning and data - driven approache...</td>\n",
       "    </tr>\n",
       "    <tr>\n",
       "      <th>1</th>\n",
       "      <td>9195903</td>\n",
       "      <td>Robust Face Alignment Using a Mixture of Invar...</td>\n",
       "      <td>[face alignment , which is the task of finding...</td>\n",
       "      <td>[introduction, previous work, our approach, su...</td>\n",
       "      <td>[Computer science]</td>\n",
       "      <td>[[face alignment refers to finding the pixel l...</td>\n",
       "    </tr>\n",
       "    <tr>\n",
       "      <th>2</th>\n",
       "      <td>119332442</td>\n",
       "      <td>Modulation instability associated nonlinear dy...</td>\n",
       "      <td>[we study pattern - forming nonlinear dynamics...</td>\n",
       "      <td>[introduction, modulation instability of becs ...</td>\n",
       "      <td>[Physics]</td>\n",
       "      <td>[[modulation instability ( mi ) is one of the ...</td>\n",
       "    </tr>\n",
       "    <tr>\n",
       "      <th>3</th>\n",
       "      <td>13494452</td>\n",
       "      <td>Free evolution on algebras with two states</td>\n",
       "      <td>[the key result in the paper concerns two tran...</td>\n",
       "      <td>[introduction, preliminaries, polynomials and ...</td>\n",
       "      <td>[Mathematics]</td>\n",
       "      <td>[[in a series of papers belinschi and nica int...</td>\n",
       "    </tr>\n",
       "    <tr>\n",
       "      <th>4</th>\n",
       "      <td>119269876</td>\n",
       "      <td>Light Dilaton at Fixed Points and Ultra Light ...</td>\n",
       "      <td>[we investigate the infrared dynamics of a non...</td>\n",
       "      <td>[introduction, a comment on the large nn and n...</td>\n",
       "      <td>[Physics]</td>\n",
       "      <td>[[understanding strong dynamics constitutes a ...</td>\n",
       "    </tr>\n",
       "    <tr>\n",
       "      <th>...</th>\n",
       "      <td>...</td>\n",
       "      <td>...</td>\n",
       "      <td>...</td>\n",
       "      <td>...</td>\n",
       "      <td>...</td>\n",
       "      <td>...</td>\n",
       "    </tr>\n",
       "    <tr>\n",
       "      <th>140794</th>\n",
       "      <td>12157610</td>\n",
       "      <td>Minimal and Maximal Operator Spaces and Operat...</td>\n",
       "      <td>[we examine k - minimal and k - maximal operat...</td>\n",
       "      <td>[introduction, quantum information theory prel...</td>\n",
       "      <td>[Mathematics]</td>\n",
       "      <td>[[a primary goal of this paper is to formally ...</td>\n",
       "    </tr>\n",
       "    <tr>\n",
       "      <th>140795</th>\n",
       "      <td>14690185</td>\n",
       "      <td>AN OBSTRUCTION TO ASYMPTOTIC SEMISTABILITY AND...</td>\n",
       "      <td>[in this paper , we consider an obstruction to...</td>\n",
       "      <td>[introduction, statement of results, an obstru...</td>\n",
       "      <td>[Mathematics]</td>\n",
       "      <td>[[for a polarized algebraic manifold inlinefor...</td>\n",
       "    </tr>\n",
       "    <tr>\n",
       "      <th>140796</th>\n",
       "      <td>15296646</td>\n",
       "      <td>Direct Detection of Neutralino Dark Matter and...</td>\n",
       "      <td>[we compare predictions for the spin - indepen...</td>\n",
       "      <td>[introduction, msugra, more general models, co...</td>\n",
       "      <td>[Physics]</td>\n",
       "      <td>[[the minimal supersymmetric standard model ( ...</td>\n",
       "    </tr>\n",
       "    <tr>\n",
       "      <th>140797</th>\n",
       "      <td>119576690</td>\n",
       "      <td>PCA by Optimisation of Symmetric Functions has...</td>\n",
       "      <td>[principal component analysis ( pca ) finds th...</td>\n",
       "      <td>[introduction, pca by determinant optimisation...</td>\n",
       "      <td>[Mathematics]</td>\n",
       "      <td>[[let inlineform0 be a data matrix , with rows...</td>\n",
       "    </tr>\n",
       "    <tr>\n",
       "      <th>140798</th>\n",
       "      <td>119301470</td>\n",
       "      <td>Turbulent fluxes of entropy and internal energ...</td>\n",
       "      <td>[we derive equations for the mean entropy and,...</td>\n",
       "      <td>[introduction, turbulent convective flux of me...</td>\n",
       "      <td>[Physics]</td>\n",
       "      <td>[[temperature stratified turbulence ( e.g. , t...</td>\n",
       "    </tr>\n",
       "  </tbody>\n",
       "</table>\n",
       "<p>140799 rows × 6 columns</p>\n",
       "</div>"
      ],
      "text/plain": [
       "         paper_id                                              title  \\\n",
       "0         4650265           XGBoost: A Scalable Tree Boosting System   \n",
       "1         9195903  Robust Face Alignment Using a Mixture of Invar...   \n",
       "2       119332442  Modulation instability associated nonlinear dy...   \n",
       "3        13494452         Free evolution on algebras with two states   \n",
       "4       119269876  Light Dilaton at Fixed Points and Ultra Light ...   \n",
       "...           ...                                                ...   \n",
       "140794   12157610  Minimal and Maximal Operator Spaces and Operat...   \n",
       "140795   14690185  AN OBSTRUCTION TO ASYMPTOTIC SEMISTABILITY AND...   \n",
       "140796   15296646  Direct Detection of Neutralino Dark Matter and...   \n",
       "140797  119576690  PCA by Optimisation of Symmetric Functions has...   \n",
       "140798  119301470  Turbulent fluxes of entropy and internal energ...   \n",
       "\n",
       "                                                 abstract  \\\n",
       "0       [tree boosting is a highly effective and widel...   \n",
       "1       [face alignment , which is the task of finding...   \n",
       "2       [we study pattern - forming nonlinear dynamics...   \n",
       "3       [the key result in the paper concerns two tran...   \n",
       "4       [we investigate the infrared dynamics of a non...   \n",
       "...                                                   ...   \n",
       "140794  [we examine k - minimal and k - maximal operat...   \n",
       "140795  [in this paper , we consider an obstruction to...   \n",
       "140796  [we compare predictions for the spin - indepen...   \n",
       "140797  [principal component analysis ( pca ) finds th...   \n",
       "140798  [we derive equations for the mean entropy and,...   \n",
       "\n",
       "                                            section_names              domain  \\\n",
       "0       [introduction, tree boosting in a nutshell, re...                  []   \n",
       "1       [introduction, previous work, our approach, su...  [Computer science]   \n",
       "2       [introduction, modulation instability of becs ...           [Physics]   \n",
       "3       [introduction, preliminaries, polynomials and ...       [Mathematics]   \n",
       "4       [introduction, a comment on the large nn and n...           [Physics]   \n",
       "...                                                   ...                 ...   \n",
       "140794  [introduction, quantum information theory prel...       [Mathematics]   \n",
       "140795  [introduction, statement of results, an obstru...       [Mathematics]   \n",
       "140796  [introduction, msugra, more general models, co...           [Physics]   \n",
       "140797  [introduction, pca by determinant optimisation...       [Mathematics]   \n",
       "140798  [introduction, turbulent convective flux of me...           [Physics]   \n",
       "\n",
       "                                                     text  \n",
       "0       [[machine learning and data - driven approache...  \n",
       "1       [[face alignment refers to finding the pixel l...  \n",
       "2       [[modulation instability ( mi ) is one of the ...  \n",
       "3       [[in a series of papers belinschi and nica int...  \n",
       "4       [[understanding strong dynamics constitutes a ...  \n",
       "...                                                   ...  \n",
       "140794  [[a primary goal of this paper is to formally ...  \n",
       "140795  [[for a polarized algebraic manifold inlinefor...  \n",
       "140796  [[the minimal supersymmetric standard model ( ...  \n",
       "140797  [[let inlineform0 be a data matrix , with rows...  \n",
       "140798  [[temperature stratified turbulence ( e.g. , t...  \n",
       "\n",
       "[140799 rows x 6 columns]"
      ]
     },
     "execution_count": 28,
     "metadata": {},
     "output_type": "execute_result"
    }
   ],
   "source": [
    "# #Comment this block if dataset is shortened\n",
    "# DATA_DIR = \"SSN/SSN_Dataset.json\"\n",
    "# dataset_path = DATASET+DATA_DIR\n",
    "# df = pd.read_json(dataset_path)\n",
    "# df"
   ]
  },
  {
   "cell_type": "code",
   "execution_count": 32,
   "metadata": {},
   "outputs": [
    {
     "data": {
      "text/plain": [
       "['introduction',\n",
       " 'quantum information theory preliminaries',\n",
       " 'kk-minimal and kk-maximal operator spaces',\n",
       " 'kk-super minimal and kk-super maximal operator systems',\n",
       " 'norms on operator systems',\n",
       " 'contractive maps as separability criteria']"
      ]
     },
     "execution_count": 32,
     "metadata": {},
     "output_type": "execute_result"
    }
   ],
   "source": [
    "# df.iloc[140794][\"section_names\"]"
   ]
  },
  {
   "cell_type": "markdown",
   "metadata": {},
   "source": [
    "Function to return index for conclusion section"
   ]
  },
  {
   "cell_type": "code",
   "execution_count": 12,
   "metadata": {},
   "outputs": [],
   "source": [
    "# def trim_index(row):\n",
    "#     return [row.index(x)+1 for x in row if x.startswith('conclusion') or x.startswith(\"summar\")]"
   ]
  },
  {
   "cell_type": "code",
   "execution_count": 13,
   "metadata": {},
   "outputs": [],
   "source": [
    "# def trim_text(text, index):\n",
    "#     return text[0:index]"
   ]
  },
  {
   "cell_type": "code",
   "execution_count": 14,
   "metadata": {},
   "outputs": [
    {
     "name": "stdout",
     "output_type": "stream",
     "text": [
      "49413\n"
     ]
    }
   ],
   "source": [
    "# # Comment this block if dataset is shortened\n",
    "# # Trim text after conclusion\n",
    "# indexes = []\n",
    "# for i, row in df.iterrows():\n",
    "#     section = row[\"section_names\"]\n",
    "#     #print(section)\n",
    "#     index = trim_index(section)\n",
    "#     #print(index)\n",
    "#     if not index:\n",
    "#         indexes.append(i)\n",
    "#     # if section can be filtered\n",
    "#     else:\n",
    "#         index = index[0]\n",
    "#         abstract = row[\"abstract\"]\n",
    "#         text = row[\"text\"]\n",
    "#         section = row[\"section_names\"]\n",
    "#         df.at[i, \"section_names\"] = trim_text(section, index)\n",
    "#         df.at[i, \"abstract\"] = trim_text(abstract, index)\n",
    "#         df.at[i, \"text\"] = trim_text(text, index)\n",
    "# # dropping rows in dataframe that can't easily filter out reference section\n",
    "# print(len(indexes))\n",
    "# df.drop(indexes, inplace=True)\n",
    "# df.to_json(\"./Dataset/SSN/SSN_Dataset_Short.json\")"
   ]
  },
  {
   "cell_type": "markdown",
   "metadata": {},
   "source": [
    "35% of paper will be removed from the dataset due to it not having conclusion(s) and summary(ies) in their section titles, making it difficult to filter out the reference and appendix text"
   ]
  },
  {
   "cell_type": "code",
   "execution_count": 23,
   "metadata": {
    "scrolled": true
   },
   "outputs": [
    {
     "data": {
      "text/html": [
       "<div>\n",
       "<style scoped>\n",
       "    .dataframe tbody tr th:only-of-type {\n",
       "        vertical-align: middle;\n",
       "    }\n",
       "\n",
       "    .dataframe tbody tr th {\n",
       "        vertical-align: top;\n",
       "    }\n",
       "\n",
       "    .dataframe thead th {\n",
       "        text-align: right;\n",
       "    }\n",
       "</style>\n",
       "<table border=\"1\" class=\"dataframe\">\n",
       "  <thead>\n",
       "    <tr style=\"text-align: right;\">\n",
       "      <th></th>\n",
       "      <th>paper_id</th>\n",
       "      <th>title</th>\n",
       "      <th>abstract</th>\n",
       "      <th>section_names</th>\n",
       "      <th>domain</th>\n",
       "      <th>text</th>\n",
       "    </tr>\n",
       "  </thead>\n",
       "  <tbody>\n",
       "    <tr>\n",
       "      <th>0</th>\n",
       "      <td>4650265</td>\n",
       "      <td>XGBoost: A Scalable Tree Boosting System</td>\n",
       "      <td>[tree boosting is a highly effective and widel...</td>\n",
       "      <td>[introduction, tree boosting in a nutshell, re...</td>\n",
       "      <td>[]</td>\n",
       "      <td>[[machine learning and data - driven approache...</td>\n",
       "    </tr>\n",
       "    <tr>\n",
       "      <th>1</th>\n",
       "      <td>9195903</td>\n",
       "      <td>Robust Face Alignment Using a Mixture of Invar...</td>\n",
       "      <td>[face alignment , which is the task of finding...</td>\n",
       "      <td>[introduction, previous work, our approach, su...</td>\n",
       "      <td>[Computer science]</td>\n",
       "      <td>[[face alignment refers to finding the pixel l...</td>\n",
       "    </tr>\n",
       "    <tr>\n",
       "      <th>2</th>\n",
       "      <td>119332442</td>\n",
       "      <td>Modulation instability associated nonlinear dy...</td>\n",
       "      <td>[we study pattern - forming nonlinear dynamics...</td>\n",
       "      <td>[introduction, modulation instability of becs ...</td>\n",
       "      <td>[Physics]</td>\n",
       "      <td>[[modulation instability ( mi ) is one of the ...</td>\n",
       "    </tr>\n",
       "    <tr>\n",
       "      <th>3</th>\n",
       "      <td>119269876</td>\n",
       "      <td>Light Dilaton at Fixed Points and Ultra Light ...</td>\n",
       "      <td>[we investigate the infrared dynamics of a non...</td>\n",
       "      <td>[introduction, a comment on the large nn and n...</td>\n",
       "      <td>[Physics]</td>\n",
       "      <td>[[understanding strong dynamics constitutes a ...</td>\n",
       "    </tr>\n",
       "    <tr>\n",
       "      <th>4</th>\n",
       "      <td>59413881</td>\n",
       "      <td>Decoder-tailored Polar Code Design Using the G...</td>\n",
       "      <td>[we propose a new framework for constructing p...</td>\n",
       "      <td>[introduction, polar codes, polar code constru...</td>\n",
       "      <td>[Computer science, Mathematics]</td>\n",
       "      <td>[[polar codes   are the first family of codes ...</td>\n",
       "    </tr>\n",
       "    <tr>\n",
       "      <th>...</th>\n",
       "      <td>...</td>\n",
       "      <td>...</td>\n",
       "      <td>...</td>\n",
       "      <td>...</td>\n",
       "      <td>...</td>\n",
       "      <td>...</td>\n",
       "    </tr>\n",
       "    <tr>\n",
       "      <th>91381</th>\n",
       "      <td>1520660</td>\n",
       "      <td>Dirichlet Process Mixtures of Generalized Line...</td>\n",
       "      <td>[we propose dirichlet process mixtures of gene...</td>\n",
       "      <td>[introduction, related work, mathematical back...</td>\n",
       "      <td>[Mathematics, Computer science]</td>\n",
       "      <td>[[in this paper , we examine the general regre...</td>\n",
       "    </tr>\n",
       "    <tr>\n",
       "      <th>91382</th>\n",
       "      <td>118501110</td>\n",
       "      <td>Minimal Matter at the Large Hadron Collider</td>\n",
       "      <td>[we classify all possible new u(1 ) x su(2 ), ...</td>\n",
       "      <td>[introduction, new matter and its production, ...</td>\n",
       "      <td>[Physics]</td>\n",
       "      <td>[[the higgs mass hierarchy puzzle suggests new...</td>\n",
       "    </tr>\n",
       "    <tr>\n",
       "      <th>91383</th>\n",
       "      <td>16180248</td>\n",
       "      <td>On simulations of the classical harmonic oscil...</td>\n",
       "      <td>[we show that any second order linear ordinary...</td>\n",
       "      <td>[introduction, simplest discretizations of the...</td>\n",
       "      <td>[Physics, Mathematics]</td>\n",
       "      <td>[[the motivation for writing this paper is an ...</td>\n",
       "    </tr>\n",
       "    <tr>\n",
       "      <th>91384</th>\n",
       "      <td>15296646</td>\n",
       "      <td>Direct Detection of Neutralino Dark Matter and...</td>\n",
       "      <td>[we compare predictions for the spin - indepen...</td>\n",
       "      <td>[introduction, msugra, more general models, co...</td>\n",
       "      <td>[Physics]</td>\n",
       "      <td>[[the minimal supersymmetric standard model ( ...</td>\n",
       "    </tr>\n",
       "    <tr>\n",
       "      <th>91385</th>\n",
       "      <td>119301470</td>\n",
       "      <td>Turbulent fluxes of entropy and internal energ...</td>\n",
       "      <td>[we derive equations for the mean entropy and,...</td>\n",
       "      <td>[introduction, turbulent convective flux of me...</td>\n",
       "      <td>[Physics]</td>\n",
       "      <td>[[temperature stratified turbulence ( e.g. , t...</td>\n",
       "    </tr>\n",
       "  </tbody>\n",
       "</table>\n",
       "<p>91386 rows × 6 columns</p>\n",
       "</div>"
      ],
      "text/plain": [
       "        paper_id                                              title  \\\n",
       "0        4650265           XGBoost: A Scalable Tree Boosting System   \n",
       "1        9195903  Robust Face Alignment Using a Mixture of Invar...   \n",
       "2      119332442  Modulation instability associated nonlinear dy...   \n",
       "3      119269876  Light Dilaton at Fixed Points and Ultra Light ...   \n",
       "4       59413881  Decoder-tailored Polar Code Design Using the G...   \n",
       "...          ...                                                ...   \n",
       "91381    1520660  Dirichlet Process Mixtures of Generalized Line...   \n",
       "91382  118501110        Minimal Matter at the Large Hadron Collider   \n",
       "91383   16180248  On simulations of the classical harmonic oscil...   \n",
       "91384   15296646  Direct Detection of Neutralino Dark Matter and...   \n",
       "91385  119301470  Turbulent fluxes of entropy and internal energ...   \n",
       "\n",
       "                                                abstract  \\\n",
       "0      [tree boosting is a highly effective and widel...   \n",
       "1      [face alignment , which is the task of finding...   \n",
       "2      [we study pattern - forming nonlinear dynamics...   \n",
       "3      [we investigate the infrared dynamics of a non...   \n",
       "4      [we propose a new framework for constructing p...   \n",
       "...                                                  ...   \n",
       "91381  [we propose dirichlet process mixtures of gene...   \n",
       "91382  [we classify all possible new u(1 ) x su(2 ), ...   \n",
       "91383  [we show that any second order linear ordinary...   \n",
       "91384  [we compare predictions for the spin - indepen...   \n",
       "91385  [we derive equations for the mean entropy and,...   \n",
       "\n",
       "                                           section_names  \\\n",
       "0      [introduction, tree boosting in a nutshell, re...   \n",
       "1      [introduction, previous work, our approach, su...   \n",
       "2      [introduction, modulation instability of becs ...   \n",
       "3      [introduction, a comment on the large nn and n...   \n",
       "4      [introduction, polar codes, polar code constru...   \n",
       "...                                                  ...   \n",
       "91381  [introduction, related work, mathematical back...   \n",
       "91382  [introduction, new matter and its production, ...   \n",
       "91383  [introduction, simplest discretizations of the...   \n",
       "91384  [introduction, msugra, more general models, co...   \n",
       "91385  [introduction, turbulent convective flux of me...   \n",
       "\n",
       "                                domain  \\\n",
       "0                                   []   \n",
       "1                   [Computer science]   \n",
       "2                            [Physics]   \n",
       "3                            [Physics]   \n",
       "4      [Computer science, Mathematics]   \n",
       "...                                ...   \n",
       "91381  [Mathematics, Computer science]   \n",
       "91382                        [Physics]   \n",
       "91383           [Physics, Mathematics]   \n",
       "91384                        [Physics]   \n",
       "91385                        [Physics]   \n",
       "\n",
       "                                                    text  \n",
       "0      [[machine learning and data - driven approache...  \n",
       "1      [[face alignment refers to finding the pixel l...  \n",
       "2      [[modulation instability ( mi ) is one of the ...  \n",
       "3      [[understanding strong dynamics constitutes a ...  \n",
       "4      [[polar codes   are the first family of codes ...  \n",
       "...                                                  ...  \n",
       "91381  [[in this paper , we examine the general regre...  \n",
       "91382  [[the higgs mass hierarchy puzzle suggests new...  \n",
       "91383  [[the motivation for writing this paper is an ...  \n",
       "91384  [[the minimal supersymmetric standard model ( ...  \n",
       "91385  [[temperature stratified turbulence ( e.g. , t...  \n",
       "\n",
       "[91386 rows x 6 columns]"
      ]
     },
     "execution_count": 23,
     "metadata": {},
     "output_type": "execute_result"
    }
   ],
   "source": [
    "# DATA_DIR = \"SSN/SSN_Dataset_Short.json\"\n",
    "# dataset_path = DATASET+DATA_DIR\n",
    "# df = pd.read_json(dataset_path)\n",
    "# df.reset_index(drop=True, inplace=True)\n",
    "# df"
   ]
  },
  {
   "cell_type": "code",
   "execution_count": 24,
   "metadata": {},
   "outputs": [
    {
     "data": {
      "text/html": [
       "<div>\n",
       "<style scoped>\n",
       "    .dataframe tbody tr th:only-of-type {\n",
       "        vertical-align: middle;\n",
       "    }\n",
       "\n",
       "    .dataframe tbody tr th {\n",
       "        vertical-align: top;\n",
       "    }\n",
       "\n",
       "    .dataframe thead th {\n",
       "        text-align: right;\n",
       "    }\n",
       "</style>\n",
       "<table border=\"1\" class=\"dataframe\">\n",
       "  <thead>\n",
       "    <tr style=\"text-align: right;\">\n",
       "      <th></th>\n",
       "      <th>abstract</th>\n",
       "      <th>text</th>\n",
       "    </tr>\n",
       "  </thead>\n",
       "  <tbody>\n",
       "    <tr>\n",
       "      <th>0</th>\n",
       "      <td>[tree boosting is a highly effective and widel...</td>\n",
       "      <td>[[machine learning and data - driven approache...</td>\n",
       "    </tr>\n",
       "    <tr>\n",
       "      <th>1</th>\n",
       "      <td>[face alignment , which is the task of finding...</td>\n",
       "      <td>[[face alignment refers to finding the pixel l...</td>\n",
       "    </tr>\n",
       "    <tr>\n",
       "      <th>2</th>\n",
       "      <td>[we study pattern - forming nonlinear dynamics...</td>\n",
       "      <td>[[modulation instability ( mi ) is one of the ...</td>\n",
       "    </tr>\n",
       "    <tr>\n",
       "      <th>3</th>\n",
       "      <td>[we investigate the infrared dynamics of a non...</td>\n",
       "      <td>[[understanding strong dynamics constitutes a ...</td>\n",
       "    </tr>\n",
       "    <tr>\n",
       "      <th>4</th>\n",
       "      <td>[we propose a new framework for constructing p...</td>\n",
       "      <td>[[polar codes   are the first family of codes ...</td>\n",
       "    </tr>\n",
       "    <tr>\n",
       "      <th>...</th>\n",
       "      <td>...</td>\n",
       "      <td>...</td>\n",
       "    </tr>\n",
       "    <tr>\n",
       "      <th>91381</th>\n",
       "      <td>[we propose dirichlet process mixtures of gene...</td>\n",
       "      <td>[[in this paper , we examine the general regre...</td>\n",
       "    </tr>\n",
       "    <tr>\n",
       "      <th>91382</th>\n",
       "      <td>[we classify all possible new u(1 ) x su(2 ), ...</td>\n",
       "      <td>[[the higgs mass hierarchy puzzle suggests new...</td>\n",
       "    </tr>\n",
       "    <tr>\n",
       "      <th>91383</th>\n",
       "      <td>[we show that any second order linear ordinary...</td>\n",
       "      <td>[[the motivation for writing this paper is an ...</td>\n",
       "    </tr>\n",
       "    <tr>\n",
       "      <th>91384</th>\n",
       "      <td>[we compare predictions for the spin - indepen...</td>\n",
       "      <td>[[the minimal supersymmetric standard model ( ...</td>\n",
       "    </tr>\n",
       "    <tr>\n",
       "      <th>91385</th>\n",
       "      <td>[we derive equations for the mean entropy and,...</td>\n",
       "      <td>[[temperature stratified turbulence ( e.g. , t...</td>\n",
       "    </tr>\n",
       "  </tbody>\n",
       "</table>\n",
       "<p>91386 rows × 2 columns</p>\n",
       "</div>"
      ],
      "text/plain": [
       "                                                abstract  \\\n",
       "0      [tree boosting is a highly effective and widel...   \n",
       "1      [face alignment , which is the task of finding...   \n",
       "2      [we study pattern - forming nonlinear dynamics...   \n",
       "3      [we investigate the infrared dynamics of a non...   \n",
       "4      [we propose a new framework for constructing p...   \n",
       "...                                                  ...   \n",
       "91381  [we propose dirichlet process mixtures of gene...   \n",
       "91382  [we classify all possible new u(1 ) x su(2 ), ...   \n",
       "91383  [we show that any second order linear ordinary...   \n",
       "91384  [we compare predictions for the spin - indepen...   \n",
       "91385  [we derive equations for the mean entropy and,...   \n",
       "\n",
       "                                                    text  \n",
       "0      [[machine learning and data - driven approache...  \n",
       "1      [[face alignment refers to finding the pixel l...  \n",
       "2      [[modulation instability ( mi ) is one of the ...  \n",
       "3      [[understanding strong dynamics constitutes a ...  \n",
       "4      [[polar codes   are the first family of codes ...  \n",
       "...                                                  ...  \n",
       "91381  [[in this paper , we examine the general regre...  \n",
       "91382  [[the higgs mass hierarchy puzzle suggests new...  \n",
       "91383  [[the motivation for writing this paper is an ...  \n",
       "91384  [[the minimal supersymmetric standard model ( ...  \n",
       "91385  [[temperature stratified turbulence ( e.g. , t...  \n",
       "\n",
       "[91386 rows x 2 columns]"
      ]
     },
     "execution_count": 24,
     "metadata": {},
     "output_type": "execute_result"
    }
   ],
   "source": [
    "# summary_df = df[[\"abstract\", \"text\"]]\n",
    "# summary_df"
   ]
  },
  {
   "cell_type": "markdown",
   "metadata": {},
   "source": [
    "Check if any columns contain empty values"
   ]
  },
  {
   "cell_type": "code",
   "execution_count": 17,
   "metadata": {},
   "outputs": [
    {
     "data": {
      "text/plain": [
       "abstract    False\n",
       "text        False\n",
       "dtype: bool"
      ]
     },
     "execution_count": 17,
     "metadata": {},
     "output_type": "execute_result"
    }
   ],
   "source": [
    "# summary_df.isnull().any()"
   ]
  },
  {
   "cell_type": "markdown",
   "metadata": {},
   "source": [
    "\\'hi\\' \\ is used for space <br>\n",
    "random space, which is used for reference [15] quote box <br>\n",
    "sec ref is hyperlink to a section <br>\n",
    "fig ref is hyperlink to a figure <br>\n",
    "inlineform <br>\n",
    "displayform are both symbols, both contains numbers in string <br>\n",
    "remove all forms and remove all symbols but keep numbers <br>"
   ]
  },
  {
   "cell_type": "code",
   "execution_count": 139,
   "metadata": {},
   "outputs": [],
   "source": [
    "def contain_let(string):\n",
    "    return any(char.isalpha() for char in string)"
   ]
  },
  {
   "cell_type": "code",
   "execution_count": 140,
   "metadata": {},
   "outputs": [],
   "source": [
    "def contain_num(string):\n",
    "    return any(char.isdigit() for char in string)"
   ]
  },
  {
   "cell_type": "code",
   "execution_count": 141,
   "metadata": {},
   "outputs": [],
   "source": [
    "def cleanLine(line, text=True):\n",
    "    \"Text parameter is to indicate whether the line is from text or abstract\"\n",
    "    alphabet = list(string.ascii_lowercase)\n",
    "    number = list(map(str, range(10)))\n",
    "    symbols = [\"'\", \"’\"]\n",
    "    valid_char = alphabet + number + symbols\n",
    "    stop_words = list(ENGLISH_STOP_WORDS)\n",
    "    \n",
    "    clean_line = line.lower()\n",
    "    clean_line = clean_line.strip()\n",
    "    \n",
    "    # fix apostrophes in line by removing apostrophe with no following alphabet character\n",
    "    clean_line = clean_line.replace(\"' \", \" \")\n",
    "    if clean_line and clean_line[-1] == \"'\":\n",
    "        clean_line = clean_line[0:len(clean_line)-1]\n",
    "    # fix apostrophes in line by removing space before single quote\n",
    "    clean_line = clean_line.replace(\" '\", \"'\")\n",
    "    #remove punctuation\n",
    "    # replace all non alphabet character with space\n",
    "    difference = list(set(clean_line).symmetric_difference(valid_char))\n",
    "\n",
    "    for dif in difference:\n",
    "        clean_line = clean_line.replace(dif, \" \")\n",
    "    \n",
    "    # clean line = clean line remove forms\n",
    "    words = clean_line.split()\n",
    "\n",
    "    #  remove forms\n",
    "    words = [x.replace(x, \"\") if contain_let(x) and contain_num(x) else x for x in words]\n",
    "    # remove empty strings\n",
    "    words = filter(None, words)\n",
    "\n",
    "    # stop words from sklearn, remove stop words\n",
    "    if text:\n",
    "        words = [x for x in words if not x in stop_words]\n",
    "\n",
    "    # combine the items into 1 string\n",
    "    clean_line = ' '.join(words)\n",
    "    return clean_line"
   ]
  },
  {
   "cell_type": "code",
   "execution_count": 134,
   "metadata": {},
   "outputs": [],
   "source": [
    "def concatParagraph(paragraph, text):\n",
    "    clean_paragraph = \"\"\n",
    "    for line in paragraph:\n",
    "        lines = cleanLine(line)\n",
    "        clean_paragraph += cleanLine(lines, text) + \" \"\n",
    "        #print(clean_paragraph)\n",
    "        \n",
    "    return(clean_paragraph.strip())"
   ]
  },
  {
   "cell_type": "code",
   "execution_count": 135,
   "metadata": {},
   "outputs": [],
   "source": [
    "def concatPaper(paper, text):\n",
    "    clean_paper = \"\"\n",
    "    for paragraph in paper:\n",
    "        clean_paper += concatParagraph(paragraph, text) + \" \"\n",
    "    return(clean_paper.strip())"
   ]
  },
  {
   "cell_type": "code",
   "execution_count": 34,
   "metadata": {
    "scrolled": true
   },
   "outputs": [
    {
     "data": {
      "application/vnd.jupyter.widget-view+json": {
       "model_id": "06c747d1730049bb899ed98de284d97b",
       "version_major": 2,
       "version_minor": 0
      },
      "text/plain": [
       "  0%|          | 0/91386 [00:00<?, ?it/s]"
      ]
     },
     "metadata": {},
     "output_type": "display_data"
    }
   ],
   "source": [
    "for i, row in tqdm(summary_df.iterrows(), total=df.shape[0]):\n",
    "    abstract = row[\"abstract\"]\n",
    "    paper = row[\"text\"]\n",
    "    \n",
    "    summary_df.at[i, \"abstract\"] = concatParagraph(abstract, text=False)\n",
    "    summary_df.at[i, \"text\"] = concatPaper(paper)"
   ]
  },
  {
   "cell_type": "code",
   "execution_count": 35,
   "metadata": {},
   "outputs": [
    {
     "data": {
      "text/html": [
       "<div>\n",
       "<style scoped>\n",
       "    .dataframe tbody tr th:only-of-type {\n",
       "        vertical-align: middle;\n",
       "    }\n",
       "\n",
       "    .dataframe tbody tr th {\n",
       "        vertical-align: top;\n",
       "    }\n",
       "\n",
       "    .dataframe thead th {\n",
       "        text-align: right;\n",
       "    }\n",
       "</style>\n",
       "<table border=\"1\" class=\"dataframe\">\n",
       "  <thead>\n",
       "    <tr style=\"text-align: right;\">\n",
       "      <th></th>\n",
       "      <th>abstract</th>\n",
       "      <th>text</th>\n",
       "    </tr>\n",
       "  </thead>\n",
       "  <tbody>\n",
       "    <tr>\n",
       "      <th>0</th>\n",
       "      <td>tree boosting is a highly effective and widely...</td>\n",
       "      <td>machine learning and data driven approaches ar...</td>\n",
       "    </tr>\n",
       "    <tr>\n",
       "      <th>1</th>\n",
       "      <td>face alignment which is the task of finding th...</td>\n",
       "      <td>face alignment refers to finding the pixel loc...</td>\n",
       "    </tr>\n",
       "    <tr>\n",
       "      <th>2</th>\n",
       "      <td>we study pattern forming nonlinear dynamics st...</td>\n",
       "      <td>modulation instability mi is one of the most f...</td>\n",
       "    </tr>\n",
       "    <tr>\n",
       "      <th>3</th>\n",
       "      <td>we investigate the infrared dynamics of a nons...</td>\n",
       "      <td>understanding strong dynamics constitutes a co...</td>\n",
       "    </tr>\n",
       "    <tr>\n",
       "      <th>4</th>\n",
       "      <td>we propose a new framework for constructing po...</td>\n",
       "      <td>polar codes are the first family of codes prov...</td>\n",
       "    </tr>\n",
       "    <tr>\n",
       "      <th>...</th>\n",
       "      <td>...</td>\n",
       "      <td>...</td>\n",
       "    </tr>\n",
       "    <tr>\n",
       "      <th>91381</th>\n",
       "      <td>we propose dirichlet process mixtures of gener...</td>\n",
       "      <td>in this paper we examine the general regressio...</td>\n",
       "    </tr>\n",
       "    <tr>\n",
       "      <th>91382</th>\n",
       "      <td>we classify all possible new u 1 x su 2 x su 3...</td>\n",
       "      <td>the higgs mass hierarchy puzzle suggests new p...</td>\n",
       "    </tr>\n",
       "    <tr>\n",
       "      <th>91383</th>\n",
       "      <td>we show that any second order linear ordinary ...</td>\n",
       "      <td>the motivation for writing this paper is an ob...</td>\n",
       "    </tr>\n",
       "    <tr>\n",
       "      <th>91384</th>\n",
       "      <td>we compare predictions for the spin independen...</td>\n",
       "      <td>the minimal supersymmetric standard model mssm...</td>\n",
       "    </tr>\n",
       "    <tr>\n",
       "      <th>91385</th>\n",
       "      <td>we derive equations for the mean entropy and t...</td>\n",
       "      <td>temperature stratified turbulence e g turbulen...</td>\n",
       "    </tr>\n",
       "  </tbody>\n",
       "</table>\n",
       "<p>91386 rows × 2 columns</p>\n",
       "</div>"
      ],
      "text/plain": [
       "                                                abstract  \\\n",
       "0      tree boosting is a highly effective and widely...   \n",
       "1      face alignment which is the task of finding th...   \n",
       "2      we study pattern forming nonlinear dynamics st...   \n",
       "3      we investigate the infrared dynamics of a nons...   \n",
       "4      we propose a new framework for constructing po...   \n",
       "...                                                  ...   \n",
       "91381  we propose dirichlet process mixtures of gener...   \n",
       "91382  we classify all possible new u 1 x su 2 x su 3...   \n",
       "91383  we show that any second order linear ordinary ...   \n",
       "91384  we compare predictions for the spin independen...   \n",
       "91385  we derive equations for the mean entropy and t...   \n",
       "\n",
       "                                                    text  \n",
       "0      machine learning and data driven approaches ar...  \n",
       "1      face alignment refers to finding the pixel loc...  \n",
       "2      modulation instability mi is one of the most f...  \n",
       "3      understanding strong dynamics constitutes a co...  \n",
       "4      polar codes are the first family of codes prov...  \n",
       "...                                                  ...  \n",
       "91381  in this paper we examine the general regressio...  \n",
       "91382  the higgs mass hierarchy puzzle suggests new p...  \n",
       "91383  the motivation for writing this paper is an ob...  \n",
       "91384  the minimal supersymmetric standard model mssm...  \n",
       "91385  temperature stratified turbulence e g turbulen...  \n",
       "\n",
       "[91386 rows x 2 columns]"
      ]
     },
     "execution_count": 35,
     "metadata": {},
     "output_type": "execute_result"
    }
   ],
   "source": [
    "summary_df.to_json(\"./Dataset/SSN/SSN_Dataset_Short_Clean_NoStop.json\")\n",
    "summary_df"
   ]
  },
  {
   "cell_type": "code",
   "execution_count": 36,
   "metadata": {},
   "outputs": [
    {
     "data": {
      "text/html": [
       "<div>\n",
       "<style scoped>\n",
       "    .dataframe tbody tr th:only-of-type {\n",
       "        vertical-align: middle;\n",
       "    }\n",
       "\n",
       "    .dataframe tbody tr th {\n",
       "        vertical-align: top;\n",
       "    }\n",
       "\n",
       "    .dataframe thead th {\n",
       "        text-align: right;\n",
       "    }\n",
       "</style>\n",
       "<table border=\"1\" class=\"dataframe\">\n",
       "  <thead>\n",
       "    <tr style=\"text-align: right;\">\n",
       "      <th></th>\n",
       "      <th>abstract</th>\n",
       "      <th>text</th>\n",
       "    </tr>\n",
       "  </thead>\n",
       "  <tbody>\n",
       "    <tr>\n",
       "      <th>0</th>\n",
       "      <td>tree boosting is a highly effective and widely...</td>\n",
       "      <td>machine learning and data driven approaches ar...</td>\n",
       "    </tr>\n",
       "    <tr>\n",
       "      <th>1</th>\n",
       "      <td>face alignment which is the task of finding th...</td>\n",
       "      <td>face alignment refers to finding the pixel loc...</td>\n",
       "    </tr>\n",
       "    <tr>\n",
       "      <th>2</th>\n",
       "      <td>we study pattern forming nonlinear dynamics st...</td>\n",
       "      <td>modulation instability mi is one of the most f...</td>\n",
       "    </tr>\n",
       "    <tr>\n",
       "      <th>3</th>\n",
       "      <td>we investigate the infrared dynamics of a nons...</td>\n",
       "      <td>understanding strong dynamics constitutes a co...</td>\n",
       "    </tr>\n",
       "    <tr>\n",
       "      <th>4</th>\n",
       "      <td>we propose a new framework for constructing po...</td>\n",
       "      <td>polar codes are the first family of codes prov...</td>\n",
       "    </tr>\n",
       "    <tr>\n",
       "      <th>...</th>\n",
       "      <td>...</td>\n",
       "      <td>...</td>\n",
       "    </tr>\n",
       "    <tr>\n",
       "      <th>91381</th>\n",
       "      <td>we propose dirichlet process mixtures of gener...</td>\n",
       "      <td>in this paper we examine the general regressio...</td>\n",
       "    </tr>\n",
       "    <tr>\n",
       "      <th>91382</th>\n",
       "      <td>we classify all possible new u 1 x su 2 x su 3...</td>\n",
       "      <td>the higgs mass hierarchy puzzle suggests new p...</td>\n",
       "    </tr>\n",
       "    <tr>\n",
       "      <th>91383</th>\n",
       "      <td>we show that any second order linear ordinary ...</td>\n",
       "      <td>the motivation for writing this paper is an ob...</td>\n",
       "    </tr>\n",
       "    <tr>\n",
       "      <th>91384</th>\n",
       "      <td>we compare predictions for the spin independen...</td>\n",
       "      <td>the minimal supersymmetric standard model mssm...</td>\n",
       "    </tr>\n",
       "    <tr>\n",
       "      <th>91385</th>\n",
       "      <td>we derive equations for the mean entropy and t...</td>\n",
       "      <td>temperature stratified turbulence e g turbulen...</td>\n",
       "    </tr>\n",
       "  </tbody>\n",
       "</table>\n",
       "<p>91386 rows × 2 columns</p>\n",
       "</div>"
      ],
      "text/plain": [
       "                                                abstract  \\\n",
       "0      tree boosting is a highly effective and widely...   \n",
       "1      face alignment which is the task of finding th...   \n",
       "2      we study pattern forming nonlinear dynamics st...   \n",
       "3      we investigate the infrared dynamics of a nons...   \n",
       "4      we propose a new framework for constructing po...   \n",
       "...                                                  ...   \n",
       "91381  we propose dirichlet process mixtures of gener...   \n",
       "91382  we classify all possible new u 1 x su 2 x su 3...   \n",
       "91383  we show that any second order linear ordinary ...   \n",
       "91384  we compare predictions for the spin independen...   \n",
       "91385  we derive equations for the mean entropy and t...   \n",
       "\n",
       "                                                    text  \n",
       "0      machine learning and data driven approaches ar...  \n",
       "1      face alignment refers to finding the pixel loc...  \n",
       "2      modulation instability mi is one of the most f...  \n",
       "3      understanding strong dynamics constitutes a co...  \n",
       "4      polar codes are the first family of codes prov...  \n",
       "...                                                  ...  \n",
       "91381  in this paper we examine the general regressio...  \n",
       "91382  the higgs mass hierarchy puzzle suggests new p...  \n",
       "91383  the motivation for writing this paper is an ob...  \n",
       "91384  the minimal supersymmetric standard model mssm...  \n",
       "91385  temperature stratified turbulence e g turbulen...  \n",
       "\n",
       "[91386 rows x 2 columns]"
      ]
     },
     "execution_count": 36,
     "metadata": {},
     "output_type": "execute_result"
    }
   ],
   "source": [
    "DATA_DIR = \"SSN/SSN_Dataset_Short_Clean_NoStop.json\"\n",
    "dataset_path = DATASET+DATA_DIR\n",
    "df = pd.read_json(dataset_path)\n",
    "df"
   ]
  },
  {
   "cell_type": "code",
   "execution_count": 4,
   "metadata": {},
   "outputs": [
    {
     "data": {
      "text/html": [
       "<div>\n",
       "<style scoped>\n",
       "    .dataframe tbody tr th:only-of-type {\n",
       "        vertical-align: middle;\n",
       "    }\n",
       "\n",
       "    .dataframe tbody tr th {\n",
       "        vertical-align: top;\n",
       "    }\n",
       "\n",
       "    .dataframe thead th {\n",
       "        text-align: right;\n",
       "    }\n",
       "</style>\n",
       "<table border=\"1\" class=\"dataframe\">\n",
       "  <thead>\n",
       "    <tr style=\"text-align: right;\">\n",
       "      <th></th>\n",
       "      <th>abstract</th>\n",
       "      <th>text</th>\n",
       "    </tr>\n",
       "  </thead>\n",
       "  <tbody>\n",
       "    <tr>\n",
       "      <th>0</th>\n",
       "      <td>study pattern forming nonlinear dynamics start...</td>\n",
       "      <td>modulation instability mi fundamental process ...</td>\n",
       "    </tr>\n",
       "    <tr>\n",
       "      <th>1</th>\n",
       "      <td>investigate infrared dynamics nonsupersymmetri...</td>\n",
       "      <td>understanding strong dynamics constitutes cont...</td>\n",
       "    </tr>\n",
       "    <tr>\n",
       "      <th>2</th>\n",
       "      <td>derive present expressions kinematic endpoints...</td>\n",
       "      <td>standard model sm particle physics enormously ...</td>\n",
       "    </tr>\n",
       "    <tr>\n",
       "      <th>3</th>\n",
       "      <td>compute strange quark mass m s average u d qua...</td>\n",
       "      <td>masses strange light quarks fundamental parame...</td>\n",
       "    </tr>\n",
       "    <tr>\n",
       "      <th>4</th>\n",
       "      <td>qcd analysis world data inclusive polarized de...</td>\n",
       "      <td>remarkable growth experimental data inclusive ...</td>\n",
       "    </tr>\n",
       "    <tr>\n",
       "      <th>...</th>\n",
       "      <td>...</td>\n",
       "      <td>...</td>\n",
       "    </tr>\n",
       "    <tr>\n",
       "      <th>29799</th>\n",
       "      <td>goal paper use multi task learning efficiently...</td>\n",
       "      <td>slot filling models useful method simple natur...</td>\n",
       "    </tr>\n",
       "    <tr>\n",
       "      <th>29800</th>\n",
       "      <td>consider source alice trying communicate desti...</td>\n",
       "      <td>information secrecy challenge wireless communi...</td>\n",
       "    </tr>\n",
       "    <tr>\n",
       "      <th>29801</th>\n",
       "      <td>propose novel deep supervised neural network t...</td>\n",
       "      <td>action recognition description videos fundamen...</td>\n",
       "    </tr>\n",
       "    <tr>\n",
       "      <th>29802</th>\n",
       "      <td>examine learning offensive content twitter lim...</td>\n",
       "      <td>proliferation social media millions people cur...</td>\n",
       "    </tr>\n",
       "    <tr>\n",
       "      <th>29803</th>\n",
       "      <td>second order linear ordinary diffrential equat...</td>\n",
       "      <td>motivation writing paper observation small app...</td>\n",
       "    </tr>\n",
       "  </tbody>\n",
       "</table>\n",
       "<p>29804 rows × 2 columns</p>\n",
       "</div>"
      ],
      "text/plain": [
       "                                                abstract  \\\n",
       "0      study pattern forming nonlinear dynamics start...   \n",
       "1      investigate infrared dynamics nonsupersymmetri...   \n",
       "2      derive present expressions kinematic endpoints...   \n",
       "3      compute strange quark mass m s average u d qua...   \n",
       "4      qcd analysis world data inclusive polarized de...   \n",
       "...                                                  ...   \n",
       "29799  goal paper use multi task learning efficiently...   \n",
       "29800  consider source alice trying communicate desti...   \n",
       "29801  propose novel deep supervised neural network t...   \n",
       "29802  examine learning offensive content twitter lim...   \n",
       "29803  second order linear ordinary diffrential equat...   \n",
       "\n",
       "                                                    text  \n",
       "0      modulation instability mi fundamental process ...  \n",
       "1      understanding strong dynamics constitutes cont...  \n",
       "2      standard model sm particle physics enormously ...  \n",
       "3      masses strange light quarks fundamental parame...  \n",
       "4      remarkable growth experimental data inclusive ...  \n",
       "...                                                  ...  \n",
       "29799  slot filling models useful method simple natur...  \n",
       "29800  information secrecy challenge wireless communi...  \n",
       "29801  action recognition description videos fundamen...  \n",
       "29802  proliferation social media millions people cur...  \n",
       "29803  motivation writing paper observation small app...  \n",
       "\n",
       "[29804 rows x 2 columns]"
      ]
     },
     "execution_count": 4,
     "metadata": {},
     "output_type": "execute_result"
    }
   ],
   "source": [
    "rows = []\n",
    "t_max= 1983.0\n",
    "a_max=  82.0\n",
    "t_min=  250.108\n",
    "a_min=  20.0\n",
    "for i, row in df.iterrows():\n",
    "    t_word = len(row[\"text\"].split())\n",
    "    a_word = len(row[\"abstract\"].split())\n",
    "    if (t_word >= t_max or t_word <=t_min or a_word>=a_max or a_word <= a_min):\n",
    "        rows.append(i)\n",
    "df.drop(rows, inplace=True)\n",
    "df.reset_index(drop=True, inplace=True)\n",
    "df"
   ]
  },
  {
   "cell_type": "code",
   "execution_count": 37,
   "metadata": {},
   "outputs": [],
   "source": [
    "class Vocabulary(object):\n",
    "    \"\"\" Simple vocabulary wrapper which maps every unique word to an integer ID. \"\"\"\n",
    "    def __init__(self):\n",
    "        # intially, set both the IDs and words to dictionaries with special tokens\n",
    "        self.word2idx = {'<start>': 0, '<end>': 1, '<pad>':2, '<unk>':3}\n",
    "        self.idx2word = {0: '<start>', 1: '<end>', 2: '<pad>', 3: '<unk>'}\n",
    "        self.idx = 4\n",
    "\n",
    "    def add_word(self, word):\n",
    "        # if the word does not already exist in the dictionary, add it\n",
    "        if not word in self.word2idx:\n",
    "            # this will convert each word to index and index to word as you saw in the tutorials\n",
    "            self.word2idx[word] = self.idx\n",
    "            self.idx2word[self.idx] = word\n",
    "            # increment the ID for the next word\n",
    "            self.idx += 1\n",
    "\n",
    "    def __call__(self, word):\n",
    "        # if we try to access a word not in the dictionary, return the id for <unk>\n",
    "        if not word in self.word2idx:\n",
    "            return self.word2idx['<unk>']\n",
    "        return self.word2idx[word]\n",
    "    \n",
    "    ## added function for utility\n",
    "    def get_word(self,index):\n",
    "        # this returns the word when given an index\n",
    "        return self.idx2word[index]\n",
    "\n",
    "    def __len__(self):\n",
    "        return len(self.word2idx)\n"
   ]
  },
  {
   "cell_type": "code",
   "execution_count": 38,
   "metadata": {},
   "outputs": [],
   "source": [
    "def build_vocab(data):\n",
    "    \"\"\" \n",
    "    Parses training set token file captions and builds a Vocabulary object and dataframe for \n",
    "    the image and caption data\n",
    "\n",
    "    Returns:\n",
    "        vocab (Vocabulary): Vocabulary object containing all words appearing more than min_frequency\n",
    "    \"\"\"\n",
    "    MIN_FREQUENCY = 0\n",
    "    word_mapping = Counter()\n",
    "\n",
    "    # for index in df.index:\n",
    "    for text in tqdm(data):\n",
    "        for word in text.split():\n",
    "            #print(word)\n",
    "            if word in word_mapping:\n",
    "                word_mapping[word] += 1\n",
    "            else:\n",
    "                word_mapping[word] = 1\n",
    "\n",
    "    # create a vocab instance\n",
    "    vocab = Vocabulary()\n",
    "\n",
    "    # add the words to the vocabulary\n",
    "    for word in word_mapping:\n",
    "        if word_mapping[word] > MIN_FREQUENCY:\n",
    "            vocab.add_word(word)\n",
    "\n",
    "    return vocab\n"
   ]
  },
  {
   "cell_type": "markdown",
   "metadata": {},
   "source": [
    "Convert DF to text"
   ]
  },
  {
   "cell_type": "code",
   "execution_count": 21,
   "metadata": {},
   "outputs": [],
   "source": [
    "text_txt = df['text']\n",
    "text_txt.to_csv(\"text_NoStop.txt\", header=False,index=False)\n",
    "# write to file. "
   ]
  },
  {
   "cell_type": "code",
   "execution_count": 36,
   "metadata": {},
   "outputs": [],
   "source": [
    "vocab_model = fasttext.train_unsupervised('text_NoStop.txt', minn=2, epoch=10)\n",
    "vocab_model.save_model(\"fastText_NoStop.bin\")"
   ]
  },
  {
   "cell_type": "code",
   "execution_count": 79,
   "metadata": {},
   "outputs": [
    {
     "data": {
      "text/plain": [
       "7835723"
      ]
     },
     "execution_count": 79,
     "metadata": {},
     "output_type": "execute_result"
    }
   ],
   "source": [
    "# dir(vocab_model.get_words)\n",
    "# import numpy as np\n",
    "# import gc\n",
    "# import sys\n",
    "\n",
    "# def get_obj_size(obj):\n",
    "#     marked = {id(obj)}\n",
    "#     obj_q = [obj]\n",
    "#     sz = 0\n",
    "\n",
    "#     while obj_q:\n",
    "#         sz += sum(map(sys.getsizeof, obj_q))\n",
    "\n",
    "#         # Lookup all the object referred to by the object in obj_q.\n",
    "#         # See: https://docs.python.org/3.7/library/gc.html#gc.get_referents\n",
    "#         all_refr = ((id(o), o) for o in gc.get_referents(*obj_q))\n",
    "\n",
    "#         # Filter object that are already marked.\n",
    "#         # Using dict notation will prevent repeated objects.\n",
    "#         new_refr = {o_id: o for o_id, o in all_refr if o_id not in marked and not isinstance(o, type)}\n",
    "\n",
    "#         # The new obj_q will be the ones that were not marked,\n",
    "#         # and we will update marked with their ids so we will\n",
    "#         # not traverse them again.\n",
    "#         obj_q = new_refr.values()\n",
    "#         marked.update(new_refr.keys())\n",
    "\n",
    "#     return sz\n",
    "# x = np.random.rand(1024).astype(np.float64)\n",
    "# y = np.random.rand(1024).astype(np.float64)\n",
    "# a = {'x': x, 'y': y}\n",
    "# get_obj_size(vocab_model)"
   ]
  },
  {
   "cell_type": "code",
   "execution_count": null,
   "metadata": {},
   "outputs": [],
   "source": []
  },
  {
   "cell_type": "code",
   "execution_count": null,
   "metadata": {},
   "outputs": [],
   "source": [
    "getWordVector"
   ]
  },
  {
   "cell_type": "code",
   "execution_count": 39,
   "metadata": {},
   "outputs": [
    {
     "data": {
      "application/vnd.jupyter.widget-view+json": {
       "model_id": "326814c7aa9743c68bd49bd627d8fc47",
       "version_major": 2,
       "version_minor": 0
      },
      "text/plain": [
       "  0%|          | 0/91386 [00:00<?, ?it/s]"
      ]
     },
     "metadata": {},
     "output_type": "display_data"
    }
   ],
   "source": [
    "abstract_vocab = build_vocab(df[\"abstract\"])"
   ]
  },
  {
   "cell_type": "code",
   "execution_count": 40,
   "metadata": {},
   "outputs": [
    {
     "data": {
      "application/vnd.jupyter.widget-view+json": {
       "model_id": "7cbbb88a87f946a18b87810a64da1b2b",
       "version_major": 2,
       "version_minor": 0
      },
      "text/plain": [
       "  0%|          | 0/91386 [00:00<?, ?it/s]"
      ]
     },
     "metadata": {},
     "output_type": "display_data"
    }
   ],
   "source": [
    "text_vocab = build_vocab(df[\"text\"])"
   ]
  },
  {
   "cell_type": "code",
   "execution_count": 145,
   "metadata": {},
   "outputs": [],
   "source": [
    "def tokenise(vocab, text):\n",
    "    word_ids = [vocab(\"<start>\")]\n",
    "    for word in text.split():\n",
    "        word_ids.append(vocab(word))\n",
    "    word_ids.append(vocab(\"<end>\"))\n",
    "#     while len(word_ids) < max_len:\n",
    "#             word_ids.append(vocab(\"<pad>\"))\n",
    "    return word_ids"
   ]
  },
  {
   "cell_type": "code",
   "execution_count": 42,
   "metadata": {},
   "outputs": [],
   "source": [
    "ABSTRACT_MAX = 82\n",
    "TEXT_MAX = 1983"
   ]
  },
  {
   "cell_type": "code",
   "execution_count": 90,
   "metadata": {},
   "outputs": [
    {
     "data": {
      "application/vnd.jupyter.widget-view+json": {
       "model_id": "",
       "version_major": 2,
       "version_minor": 0
      },
      "text/plain": [
       "IntSlider(value=0)"
      ]
     },
     "metadata": {},
     "output_type": "display_data"
    },
    {
     "data": {
      "application/vnd.jupyter.widget-view+json": {
       "model_id": "",
       "version_major": 2,
       "version_minor": 0
      },
      "text/plain": [
       "Output(layout=Layout(border='1px solid black'))"
      ]
     },
     "metadata": {},
     "output_type": "display_data"
    }
   ],
   "source": [
    "import ipywidgets as widgets\n",
    "# https://ipywidgets.readthedocs.io/en/stable/examples/Widget%20List.html\n",
    "w= widgets.IntSlider()\n",
    "display(w)\n",
    "w.value\n",
    "out = widgets.Output(layout={'border': '1px solid black'})\n",
    "display(out)\n",
    "with out:\n",
    "    for i in range(10):\n",
    "        print(i, 'Hello world!')"
   ]
  },
  {
   "cell_type": "code",
   "execution_count": 92,
   "metadata": {},
   "outputs": [
    {
     "data": {
      "application/vnd.jupyter.widget-view+json": {
       "model_id": "de614e57abef4f1e8fdfeaa93d05e141",
       "version_major": 2,
       "version_minor": 0
      },
      "text/plain": [
       "IntSlider(value=0)"
      ]
     },
     "metadata": {},
     "output_type": "display_data"
    },
    {
     "data": {
      "application/vnd.jupyter.widget-view+json": {
       "model_id": "bab508313a4e45959643b8f3ef0ba1eb",
       "version_major": 2,
       "version_minor": 0
      },
      "text/plain": [
       "Output(layout=Layout(border='1px solid black'))"
      ]
     },
     "metadata": {},
     "output_type": "display_data"
    },
    {
     "data": {
      "text/html": [
       "<script>\n",
       "code_show=true; \n",
       "function code_toggle() {\n",
       " if (code_show){\n",
       " $('div.input').hide();\n",
       " } else {\n",
       " $('div.input').show();\n",
       " }\n",
       " code_show = !code_show\n",
       "} \n",
       "$( document ).ready(code_toggle);\n",
       "</script>\n",
       "<form action=\"javascript:code_toggle()\"><input type=\"submit\" value=\"Click here to toggle on/off the raw code.\"></form>"
      ],
      "text/plain": [
       "<IPython.core.display.HTML object>"
      ]
     },
     "execution_count": 92,
     "metadata": {},
     "output_type": "execute_result"
    }
   ],
   "source": [
    "from IPython.display import HTML\n",
    "\n",
    "HTML('''<script>\n",
    "code_show=true; \n",
    "function code_toggle() {\n",
    " if (code_show){\n",
    " $('div.input').hide();\n",
    " } else {\n",
    " $('div.input').show();\n",
    " }\n",
    " code_show = !code_show\n",
    "} \n",
    "$( document ).ready(code_toggle);\n",
    "</script>\n",
    "<form action=\"javascript:code_toggle()\"><input type=\"submit\" value=\"Click here to toggle on/off the raw code.\"></form>''')"
   ]
  },
  {
   "cell_type": "markdown",
   "metadata": {},
   "source": [
    "Run from here"
   ]
  },
  {
   "cell_type": "code",
   "execution_count": 94,
   "metadata": {},
   "outputs": [],
   "source": [
    "class SSNDataset(Dataset):\n",
    "    def __init__(self, df, a_vocab, t_vocab):\n",
    "\n",
    "        self.df = df\n",
    "        self.a_vocab = a_vocab\n",
    "        self.t_vocab = t_vocab\n",
    "        self.abstract_max_len = ABSTRACT_MAX\n",
    "        self.text_max_len = TEXT_MAX\n",
    "\n",
    "    def __getitem__(self, index):\n",
    "        # return word_id\n",
    "        abstract = self.df.iloc[index][\"abstract\"]\n",
    "        text = self.df.iloc[index][\"text\"]\n",
    "        \n",
    "        a_word_ids = tokenise(self.a_vocab, abstract, self.abstract_max_len)\n",
    "        t_word_ids = tokenise(self.t_vocab, text, self.text_max_len)\n",
    "\n",
    "        a_length = len(a_word_ids)\n",
    "        t_length = len(t_word_ids)\n",
    "    \n",
    "        return torch.tensor(a_word_ids), torch.tensor(t_word_ids)# torch.tensor(t_length)# torch.tensor(t_length)\n",
    "\n",
    "    def __len__(self):\n",
    "        return len(self.df)\n"
   ]
  },
  {
   "cell_type": "code",
   "execution_count": 66,
   "metadata": {},
   "outputs": [],
   "source": [
    "def find_max_list(lis):\n",
    "    list_len = [len(i) for i in lis]\n",
    "    return (max(list_len))"
   ]
  },
  {
   "cell_type": "code",
   "execution_count": 73,
   "metadata": {},
   "outputs": [],
   "source": [
    "def text_collate_fn(data):\n",
    "    \"\"\" Creates mini-batch tensors from the list of tuples (image, caption).\n",
    "    Args:\n",
    "        data: list of tuple of 2 word ids\n",
    "        - abstract id\n",
    "        - text id\n",
    "    Returns:\n",
    "        abstract list ids\n",
    "        text list ids\n",
    "    \"\"\"\n",
    "\n",
    "    \n",
    "    abstracts, texts = zip(*data)\n",
    "#     abstract_list = []\n",
    "#     text_list = []\n",
    "#     for i in range(len(texts)):\n",
    "#         while len(texts[i]) < find_max_list(texts):\n",
    "#             texts[i].append(text_vocab(\"<pad>\"))\n",
    "#         text_list.append(torch.tensor(texts[i]))\n",
    "        \n",
    "#     for i in range(len(abstracts)):\n",
    "#         while len(abstracts[i]) < 82:\n",
    "#             abstracts[i].append(abstract_vocab(\"<pad>\"))\n",
    "#         abstract_list.append(torch.tensor(abstracts[i]))\n",
    "\n",
    "\n",
    "#     abstracts = torch.tensor(abstracts)\n",
    "#     texts = torch.tensor(texts)\n",
    "#     abstracts = [ torch.Tensor(abstract).to(device) for abstract in abstracts ]\n",
    "# if batch size is 1 then use [0]\n",
    "    abstracts = torch.stack(abstracts, 0)\n",
    "    #abstracts = abstracts.unsqueeze(0)\n",
    "#     abstracts = torch.nn.utils.rnn.pad_sequence(abstracts)\n",
    "    texts = torch.stack(texts, 0)\n",
    "    #texts = texts.unsqueeze(0)\n",
    "\n",
    "    return abstracts, texts\n"
   ]
  },
  {
   "cell_type": "markdown",
   "metadata": {},
   "source": [
    "# Dataloader"
   ]
  },
  {
   "cell_type": "markdown",
   "metadata": {},
   "source": [
    "Split dataset"
   ]
  },
  {
   "cell_type": "code",
   "execution_count": 74,
   "metadata": {},
   "outputs": [],
   "source": [
    "train_data, test_data = train_test_split(df, random_state=seed, train_size = 0.7)\n",
    "train_data, valid_data = train_test_split(train_data, random_state=seed, train_size=0.8)"
   ]
  },
  {
   "cell_type": "code",
   "execution_count": 75,
   "metadata": {},
   "outputs": [],
   "source": [
    "train_set = SSNDataset(train_data, abstract_vocab, text_vocab)\n",
    "valid_set = SSNDataset(valid_data, abstract_vocab, text_vocab)\n",
    "test_set = SSNDataset(test_data, abstract_vocab, text_vocab)"
   ]
  },
  {
   "cell_type": "code",
   "execution_count": 76,
   "metadata": {},
   "outputs": [],
   "source": [
    "train_loader = DataLoader(train_set, batch_size=2, shuffle=True, collate_fn=text_collate_fn) # num_worker can't be 2+ as the time it \n",
    "                                                                 # takes to build iter is much longer"
   ]
  },
  {
   "cell_type": "code",
   "execution_count": 77,
   "metadata": {},
   "outputs": [],
   "source": [
    "valid_loader = DataLoader(valid_set, batch_size=2, shuffle=True, collate_fn=text_collate_fn)"
   ]
  },
  {
   "cell_type": "code",
   "execution_count": null,
   "metadata": {},
   "outputs": [],
   "source": []
  },
  {
   "cell_type": "code",
   "execution_count": 78,
   "metadata": {
    "scrolled": true
   },
   "outputs": [
    {
     "data": {
      "application/vnd.jupyter.widget-view+json": {
       "model_id": "8abfcd6f175a4bda8b438b9466a4fa97",
       "version_major": 2,
       "version_minor": 0
      },
      "text/plain": [
       "0it [00:00, ?it/s]"
      ]
     },
     "metadata": {},
     "output_type": "display_data"
    }
   ],
   "source": [
    "all_set = SSNDataset(df, abstract_vocab, text_vocab)\n",
    "all_loader = DataLoader(all_set, batch_size=1, shuffle=True, collate_fn=text_collate_fn)\n",
    "abstracts = []\n",
    "texts = []\n",
    "for i, (abstract, text) in tqdm(enumerate(all_loader)):\n",
    "    a_size = list(abstract.size())[1]\n",
    "\n",
    "    t_size = list(text.size())[1]\n",
    "    abstracts.append(a_size)\n",
    "    texts.append(t_size)\n",
    "numbers = list(range(len(all_loader)))"
   ]
  },
  {
   "cell_type": "code",
   "execution_count": 79,
   "metadata": {},
   "outputs": [
    {
     "data": {
      "image/png": "[encoded data removed]",
      "text/plain": [
       "<Figure size 432x288 with 1 Axes>"
      ]
     },
     "metadata": {
      "needs_background": "light"
     },
     "output_type": "display_data"
    }
   ],
   "source": [
    "plt.scatter(numbers, abstracts)\n",
    "plt.show()"
   ]
  },
  {
   "cell_type": "code",
   "execution_count": 80,
   "metadata": {},
   "outputs": [
    {
     "data": {
      "image/png": "[encoded data removed]",
      "text/plain": [
       "<Figure size 432x288 with 1 Axes>"
      ]
     },
     "metadata": {
      "needs_background": "light"
     },
     "output_type": "display_data"
    }
   ],
   "source": [
    "plt.scatter(numbers, texts)\n",
    "plt.show()"
   ]
  },
  {
   "cell_type": "code",
   "execution_count": 81,
   "metadata": {},
   "outputs": [
    {
     "name": "stdout",
     "output_type": "stream",
     "text": [
      "max length for abstract:  395\n",
      "max length for text:  8311\n",
      "min length for abstract:  2\n",
      "min length for text:  13\n",
      "average length for abstract:  144\n",
      "average length for text:  3899\n"
     ]
    }
   ],
   "source": [
    "from statistics import mean\n",
    "print(\"max length for abstract: \",max(abstracts))\n",
    "print(\"max length for text: \",max(texts))\n",
    "print(\"min length for abstract: \",min(abstracts))\n",
    "print(\"min length for text: \",min(texts))\n",
    "print(\"average length for abstract: \",math.floor(mean(abstracts)))\n",
    "print(\"average length for text: \",math.floor(mean(texts)))"
   ]
  },
  {
   "cell_type": "code",
   "execution_count": 82,
   "metadata": {},
   "outputs": [
    {
     "name": "stdout",
     "output_type": "stream",
     "text": [
      "50 percentile:  3800.0\n",
      "50 percentile:  140.0\n",
      "0.08 percentile:  702.3240000000001\n",
      "0.08 percentile:  31.0\n"
     ]
    }
   ],
   "source": [
    "print(\"50 percentile: \", np.percentile(texts, 50))\n",
    "print(\"50 percentile: \", np.percentile(abstracts, 50))\n",
    "print(\"0.08 percentile: \", np.percentile(texts, 0.08))\n",
    "print(\"0.08 percentile: \", np.percentile(abstracts, 0.08))"
   ]
  },
  {
   "cell_type": "markdown",
   "metadata": {},
   "source": [
    "# RNN Model definition"
   ]
  },
  {
   "cell_type": "code",
   "execution_count": 18,
   "metadata": {},
   "outputs": [],
   "source": [
    "class Encoder(nn.Module):\n",
    "    def __init__(self, voc_size, num_layer, hidden_dim, device):\n",
    "        super(Encoder, self).__init__()\n",
    "        self.device = device\n",
    "        self.hidden_dim = hidden_dim\n",
    "        self.num_layer = num_layer\n",
    "        \n",
    "        self.embeddings = nn.Embedding(\n",
    "            num_embeddings=voc_size,\n",
    "            embedding_dim=hidden_dim\n",
    "        )\n",
    "        self.lstm = nn.LSTM(\n",
    "            input_size=hidden_dim,\n",
    "            hidden_size=hidden_dim,\n",
    "            num_layers=num_layer,\n",
    "            bidirectional=False,\n",
    "            batch_first=True\n",
    "        )\n",
    "\n",
    "    def init_hidden(self, batch_size):\n",
    "        return (torch.zeros(self.num_layer, batch_size, self.hidden_dim, device=device),\n",
    "                torch.zeros(self.num_layer, batch_size, self.hidden_dim, device=device))\n",
    "\n",
    "    def forward(self, input):\n",
    "        #start = time.time()\n",
    "\n",
    "        #print(input.shape)\n",
    "        embedded = self.embeddings(input)\n",
    "        lengths = (input != 2).sum(1) # pad index = 2\n",
    "        #print(lengths)\n",
    "        batch_size = input.shape[0]\n",
    "        embedded = self.embeddings(input)\n",
    "        #print(\"lengths: \",lengths.shape)\n",
    "#         print(lengths)\n",
    "#         print(\"embedded: \",embedded.shape)\n",
    "#         print(\"embedded: \",embedded.view(1, 1, -1).shape)\n",
    "    \n",
    "#         print(\"initial_hidden\", initial_hidden.shape)\n",
    "        embedded = torch.nn.utils.rnn.pack_padded_sequence(embedded, lengths.cpu(), \n",
    "                                                           batch_first=True,enforce_sorted=False)\n",
    "#         print(\"embedded: \",embedded[0].shape)\n",
    "#         print(\"embedded: \",embedded[1].shape)\n",
    "        output, hidden = self.lstm(embedded)\n",
    "        #print(\"output: \",output.shape)\n",
    "        output, lengths = torch.nn.utils.rnn.pad_packed_sequence(output, batch_first=True,padding_value=2)\n",
    "        lengths = lengths.to(device)\n",
    "        return output, hidden, lengths"
   ]
  },
  {
   "cell_type": "code",
   "execution_count": 19,
   "metadata": {},
   "outputs": [],
   "source": [
    "class Decoder(nn.Module):\n",
    "    def __init__(self, voc_size, num_layer,hidden_dim):\n",
    "        super(Decoder, self).__init__()\n",
    "        self.embeddings = nn.Embedding(\n",
    "            num_embeddings=voc_size,\n",
    "            embedding_dim=hidden_dim\n",
    "        )\n",
    "        self.attention = Attention(hidden_dim,hidden_dim)\n",
    "        self.lstm = nn.LSTM(\n",
    "            input_size=hidden_dim*2,\n",
    "            hidden_size=hidden_dim,\n",
    "            num_layers=num_layer,\n",
    "            bidirectional=False,\n",
    "            batch_first=True\n",
    "        )\n",
    "        self.fc = nn.Linear(\n",
    "            in_features=hidden_dim * 2,\n",
    "            out_features=voc_size\n",
    "        )\n",
    "        self.logsoftmax = nn.LogSoftmax(dim=1)\n",
    "    \n",
    "\n",
    "    def forward(self, input, hidden, context, encoder_outputs, lengths): # also add in encoder outputs \n",
    "                                                                # to create context\n",
    "        #start = time.time()\n",
    "        embedded = self.embeddings(input) # [batch, 256]\n",
    "        # hidden = [bathc, seq_len, hidden_dim]\n",
    "        # print(hidden[0])\n",
    "        #hidden_permute = hidden.permute(0,1) # [1, 512]\n",
    "        decoder_input = torch.cat((embedded, context), -1).unsqueeze(1) # [batch, 1, 512]\n",
    "        decoder_output, hidden = self.lstm(decoder_input, hidden)\n",
    "        decoder_output = decoder_output.squeeze(1)\n",
    "        \n",
    "        # mask to block decoder from knowing future sequences/block padding\n",
    "        max_len = lengths.max().item()\n",
    "        #print(\"max len: \", max_len)\n",
    "        \n",
    "       \n",
    "    \n",
    "        mask = torch.arange(max_len).expand(len(lengths), max_len) < lengths.unsqueeze(1).cpu()\n",
    "        mask = mask.to(device)\n",
    "#         print(\"size: \", len(mask))\n",
    "#         print(\"mask 0\",mask[0])\n",
    "#         print(\"mask0 len\",len(mask[0]))\n",
    "#         print(\"mask0 = true\",torch.sum(mask[0] == True))\n",
    "#         print(\"mask1\",mask[1])\n",
    "#         print(\"mask1 len\",len(mask[1]))\n",
    "#         print(\"mask1 = true\",torch.sum(mask[1] == True))\n",
    "        attention = self.attention(decoder_output, encoder_outputs, mask).to(device)\n",
    "\n",
    "        context = attention.unsqueeze(1).bmm(encoder_outputs).squeeze(1)\n",
    "        #print(\"context shape: \", context.shape)\n",
    "        output_context = torch.cat((decoder_output, context), dim=1) # []\n",
    "        #output_context = torch.nn.functional.relu(output_context)\n",
    "        \n",
    "        output_context = self.fc(output_context)\n",
    "        #print(output[0])\n",
    "        output = self.logsoftmax(output_context)\n",
    "        #end = time.time()\n",
    "        #print(\"Decoder Time: \",end - start)\n",
    "#         print(\"decode output: \",output)\n",
    "#         print(\"output: \", output.shape)\n",
    "        # output is [batch, seq_len, hidden_dim]\n",
    "        # hidden = 2,2,256 [2, batch, hidden_dim]\n",
    "        return output, hidden, context, attention\n",
    "    "
   ]
  },
  {
   "cell_type": "code",
   "execution_count": 20,
   "metadata": {},
   "outputs": [],
   "source": [
    "class Attention(nn.Module):\n",
    "    def __init__(self, encoder_hidden_dim, decoder_hidden_dim):\n",
    "        super().__init__()\n",
    "        \n",
    "#         self.attn_hidden_vector = nn.Linear(encoder_hidden_dim + decoder_hidden_dim, decoder_hidden_dim)\n",
    "        \n",
    "#         self.attn_scoring_fn = nn.Linear(decoder_hidden_dim, decoder_hidden_dim, bias=False)\n",
    "        \n",
    "        \n",
    "    def forward(self, hidden, encoder_outputs, mask):\n",
    "        # hidden = [num_layer, batch size, decoder hidden dim]\n",
    "        # encoder_outputs [batch, seq_len, hidden_dim]\n",
    "        seq_len = encoder_outputs.shape[1] # 10000\n",
    "        batch_size = encoder_outputs.shape[0]\n",
    "        \n",
    "        #attention_scores = torch.zeros((batch_size, seq_len), device=device)\n",
    "\n",
    "        hidden = hidden.repeat(seq_len,1,1)\n",
    "        #print(hidden.shape)\n",
    "\n",
    "        encoder_outputs = encoder_outputs.permute(1,0,2)\n",
    "        #print(encoder_outputs.shape)\n",
    "\n",
    "        #print(\"attention score: \", attention_scores.shape)\n",
    "#         print(\"hidden atten: \",hidden.shape)\n",
    "#         print(\"encoder output: \", encoder_outputs.shape)\n",
    "\n",
    "\n",
    "        attention_scores = torch.einsum('sbd,sbd->bs',hidden, encoder_outputs) \n",
    "        # need to check if can use just lbd, sbd ->bs because hidden repeat don't work if more than 1 layer\n",
    "        #print(\"attention_scores: \",attention_scores.shape)\n",
    "\n",
    "            \n",
    "        attention_scores[~mask] = -float('inf')\n",
    "        #print(attention_scores)\n",
    "        #attention_scores = nn.functional.relu(attention_scores)\n",
    "        #end = time.time()\n",
    "        #print(\"Attention Time: \",end - start)\n",
    "        attention_scores = nn.functional.softmax(attention_scores, dim=1)\n",
    "        return attention_scores\n"
   ]
  },
  {
   "cell_type": "code",
   "execution_count": 21,
   "metadata": {},
   "outputs": [],
   "source": [
    "class Model(nn.Module):\n",
    "    def __init__(self, text_size, abstract_size, num_layer, hidden_dim):\n",
    "        super(Model, self).__init__()\n",
    "        self.encoder = Encoder(text_size, num_layer=num_layer, hidden_dim=hidden_dim).to(device)\n",
    "        self.decoder = Decoder(abstract_size, num_layer=num_layer, hidden_dim=hidden_dim).to(device)\n",
    "        self.hidden_dim = hidden_dim\n",
    "\n",
    "    def forward(self, text, max_len=82,abstract=None):\n",
    "        #decoder = Decoder(len(abstract_vocab), 512).to(device)\n",
    "        output, hidden, lengths = self.encoder(text) # [10000, 512] [seq_len, hidden_dim]\n",
    "        batch_size = output.shape[0]\n",
    "        \n",
    "        decoder_hidden = hidden\n",
    "        context = torch.zeros(batch_size, self.hidden_dim).to(device) # batch, hidden_dim\n",
    "        decoder_input = text[:,:0].long().to(device) # select first elements\n",
    "#         out1 = output[0] # varied\n",
    "#         out2 = output[1]\n",
    "#         out3 = output[2]\n",
    "        done = torch.BoolTensor(batch_size).fill_(False).to(device)\n",
    "        outputs = []\n",
    "        words = []\n",
    "        for t in range(max_len):\n",
    "            \n",
    "            decoder_output, decoder_hidden, context, attention = self.decoder(decoder_input, \n",
    "                                                            decoder_hidden, context, output, lengths)\n",
    "            \n",
    "            outputs.append(decoder_output)\n",
    "            \n",
    "            decoder_input = decoder_output.argmax(1)\n",
    "            \n",
    "            words.append(decoder_input)\n",
    "\n",
    "        sentence = \"\"\n",
    "        \n",
    "#         for i in words:\n",
    "#             sentence += abstract_vocab.get_word(i[0].item()) + \" \"\n",
    "#         print(\"predict:\", sentence)\n",
    "#         sentence = \"\"\n",
    "#         for i in abstract[0]:\n",
    "#             sentence += abstract_vocab.get_word(i.item()) + \" \"\n",
    "#         print(\"actual:\", sentence)\n",
    "        outputs = torch.stack(outputs, 1) # B x T x D\n",
    "        return outputs"
   ]
  },
  {
   "cell_type": "code",
   "execution_count": 22,
   "metadata": {},
   "outputs": [],
   "source": [
    "\n",
    "model = Model(len(text_vocab),len(abstract_vocab),2,256)\n",
    "model = model.to(device)\n",
    "#out1 = model(abstract, text)"
   ]
  },
  {
   "cell_type": "markdown",
   "metadata": {},
   "source": [
    "# Tasks\n",
    "~~1 - Complete model definition~~ <br>\n",
    "~~2 - fix word vocab~~ <br>\n",
    "~~3 - Define Attention model and combine with Decoder~~ <br>\n",
    "    ~~1 - Adjust to allow for batch ~~<br>\n",
    "4 - trace through program to see where it starts to have the same tensor <br>\n",
    "~~5 - use mask to hide paddings~~ switch on off to see difference<br>\n",
    "~~6 - Switch from GRU to LSTM~~<br>\n",
    "~~7 - Add training script to train ~~<br>\n",
    " "
   ]
  },
  {
   "cell_type": "markdown",
   "metadata": {},
   "source": [
    "# Model training"
   ]
  },
  {
   "cell_type": "code",
   "execution_count": 56,
   "metadata": {
    "scrolled": true
   },
   "outputs": [],
   "source": [
    "def train(train_loader, valid_loader, model):\n",
    "    criterion = nn.NLLLoss()\n",
    "    optimizer = torch.optim.Adam(model.parameters(), lr=0.01) # learning rate also affects overfitting\n",
    "    epoch_size = 150\n",
    "    loss_points = []\n",
    "    eval_loss_points = []\n",
    "    best_loss = 10000\n",
    "\n",
    "    for epoch in range(epoch_size):\n",
    "        \n",
    "        model.train()\n",
    "        loss_avg = []\n",
    "        for i, (abstract, text) in enumerate(train_loader):\n",
    "            # send batch data to device\n",
    "            abstract = abstract.to(device)\n",
    "            text = text.to(device)\n",
    "            \n",
    "            outputs = model(text, abstract=abstract).to(device).permute(0,2,1)\n",
    "            #print(\"output\",outputs[:,0,:])\n",
    "#             print(outputs.dtype)\n",
    "#             print(\"abstract\", abstract[:,0])\n",
    "#             print(abstract.dtype)\n",
    "\n",
    "            loss = 0\n",
    "\n",
    "            loss = criterion(outputs, abstract)\n",
    "            print(loss.item())\n",
    "\n",
    "            # Optimise\n",
    "            del abstract\n",
    "            del text\n",
    "            del outputs\n",
    "\n",
    "            loss_avg.append(loss.item())\n",
    "            optimizer.zero_grad()\n",
    "            loss.backward()\n",
    "\n",
    "           # plot_grad_flow(model.named_parameters())\n",
    "\n",
    "            del loss\n",
    "            torch.cuda.empty_cache()\n",
    "            optimizer.step()\n",
    "\n",
    "            #print(loss.item())\n",
    "        current_loss = np.average(loss_avg)\n",
    "        loss_points.append(current_loss)\n",
    "\n",
    "        print('Epoch [{}/{}], Loss: {:.4f}'\n",
    "            .format(epoch+1, epoch_size, current_loss))\n",
    "\n",
    "        eval_loss_avg = []\n",
    "\n",
    "        model.eval()\n",
    "        with torch.no_grad():\n",
    "            for j, (abstract, text) in enumerate(valid_loader):\n",
    "                abstract = abstract.to(device)\n",
    "                text = text.to(device)\n",
    "\n",
    "                scores = model(text, abstract=abstract).permute(0,2,1)\n",
    "                eval_loss = 0\n",
    "                \n",
    "                eval_loss = criterion(scores, abstract)\n",
    "                print(eval_loss.item())\n",
    "                eval_loss_avg.append(eval_loss.item())\n",
    "                del abstract\n",
    "                del text\n",
    "                del scores\n",
    "                del eval_loss\n",
    "                torch.cuda.empty_cache()\n",
    "\n",
    "        current_eval_loss = np.average(eval_loss_avg)\n",
    "        eval_loss_points.append(current_eval_loss)\n",
    "        if (current_eval_loss < best_loss):\n",
    "            best_loss = current_eval_loss\n",
    "            torch.save(model.state_dict(), 'best_decoder.pth')\n",
    "            print(\"Best eval loss updated!\")\n",
    "\n",
    "        print('Valid Epoch [{}/{}], Loss: {:.4f}'\n",
    "            .format(epoch+1, epoch_size, current_eval_loss))\n",
    "    return loss_points, eval_loss_points\n",
    "train_loss, eval_loss = train(train_loader, valid_loader, model)"
   ]
  },
  {
   "cell_type": "code",
   "execution_count": 55,
   "metadata": {},
   "outputs": [],
   "source": [
    "torch.save(model.state_dict(), 'best_decoder20230719.pth')"
   ]
  },
  {
   "cell_type": "code",
   "execution_count": null,
   "metadata": {},
   "outputs": [],
   "source": [
    "def plot_grad_flow(named_parameters):\n",
    "    ave_grads = []\n",
    "    layers = []\n",
    "    for n, p in named_parameters:\n",
    "        print(n)\n",
    "        if(p.requires_grad) and (\"bias\" not in n):\n",
    "            layers.append(n)\n",
    "            #print(type(p.grad))\n",
    "            ave_grads.append(torch.mean(torch.abs(p.grad)).cpu())\n",
    "    plt.plot(ave_grads, alpha=0.3, color=\"b\")\n",
    "    plt.hlines(0, 0, len(ave_grads)+1, linewidth=1, color=\"k\" )\n",
    "    plt.xticks(range(0,len(ave_grads), 1), layers, rotation=\"vertical\")\n",
    "    plt.xlim(xmin=0, xmax=len(ave_grads))\n",
    "    plt.xlabel(\"Layers\")\n",
    "    plt.ylabel(\"average gradient\")\n",
    "    plt.title(\"Gradient flow\")\n",
    "    plt.grid(True)"
   ]
  },
  {
   "cell_type": "code",
   "execution_count": 57,
   "metadata": {},
   "outputs": [
    {
     "data": {
      "text/plain": [
       "<matplotlib.legend.Legend at 0x1f8bb119ac0>"
      ]
     },
     "execution_count": 57,
     "metadata": {},
     "output_type": "execute_result"
    },
    {
     "data": {
      "image/png": "[encoded data removed]",
      "text/plain": [
       "<Figure size 432x288 with 1 Axes>"
      ]
     },
     "metadata": {
      "needs_background": "light"
     },
     "output_type": "display_data"
    }
   ],
   "source": [
    "plt.plot(train_loss)\n",
    "plt.plot(eval_loss)\n",
    "plt.xlabel('epochs')\n",
    "plt.ylabel('loss')\n",
    "plt.legend(['train loss','Valid loss'])"
   ]
  },
  {
   "cell_type": "markdown",
   "metadata": {},
   "source": [
    "# Model Evaluation"
   ]
  },
  {
   "cell_type": "code",
   "execution_count": 1020,
   "metadata": {},
   "outputs": [],
   "source": [
    "import gc\n",
    "gc.collect()\n",
    "torch.cuda.empty_cache()"
   ]
  },
  {
   "cell_type": "code",
   "execution_count": null,
   "metadata": {},
   "outputs": [],
   "source": []
  },
  {
   "cell_type": "code",
   "execution_count": null,
   "metadata": {},
   "outputs": [],
   "source": []
  },
  {
   "cell_type": "code",
   "execution_count": null,
   "metadata": {},
   "outputs": [],
   "source": []
  },
  {
   "cell_type": "markdown",
   "metadata": {},
   "source": [
    "# FastText"
   ]
  },
  {
   "cell_type": "markdown",
   "metadata": {},
   "source": [
    "## Model for querying"
   ]
  },
  {
   "cell_type": "markdown",
   "metadata": {},
   "source": [
    "train fasttext model\n",
    "obtain weight from fasttest\n",
    "then embedding can load weights\n",
    "\n",
    "- train 2 fasttext model, 1 for text and another for abstract\n",
    "- obtain weights for both vocab\n",
    "- put in encoder and decoder like normal\n",
    "- https://stackoverflow.com/questions/31440803/how-to-fetch-vectors-for-a-word-list-with-word2vec\n",
    "- use this to update the vocab class to update ways to fetch words\n",
    "- to solve querying, use the model and use function to find cosine"
   ]
  },
  {
   "cell_type": "code",
   "execution_count": 6,
   "metadata": {},
   "outputs": [],
   "source": [
    "import fasttext\n",
    "model = fasttext.train_unsupervised('data/fil9')\n",
    "model.save_model(\"result/fil9.bin\")\n",
    "model = fasttext.load_model(\"result/fil9.bin\")\n",
    "# EXPECTS TEXT FILE FORMAT WHERE 1 TEXT PER ROW\n",
    "# IMPORTANT, NEED TO REDESIGN CLEANING PROCESS "
   ]
  },
  {
   "cell_type": "markdown",
   "metadata": {},
   "source": [
    "# Dataset Exploration"
   ]
  },
  {
   "cell_type": "markdown",
   "metadata": {},
   "source": [
    "After exploring, all highlight:article ratio being more than 1.0 means the summary text is producing more text than the original text, this defeats the purpose of the model, therefore all data with a ratio of more than or equal to 1.0 will be omitted."
   ]
  },
  {
   "cell_type": "code",
   "execution_count": null,
   "metadata": {},
   "outputs": [],
   "source": []
  },
  {
   "cell_type": "markdown",
   "metadata": {},
   "source": [
    "# Model improvement/Retrain"
   ]
  },
  {
   "cell_type": "code",
   "execution_count": null,
   "metadata": {},
   "outputs": [],
   "source": []
  },
  {
   "cell_type": "code",
   "execution_count": null,
   "metadata": {},
   "outputs": [],
   "source": []
  },
  {
   "cell_type": "markdown",
   "metadata": {},
   "source": [
    "# Model Finalisation and Evaluation"
   ]
  },
  {
   "cell_type": "markdown",
   "metadata": {},
   "source": [
    "## Inference Script"
   ]
  },
  {
   "cell_type": "code",
   "execution_count": null,
   "metadata": {},
   "outputs": [],
   "source": [
    "# Load model\n",
    "best_model_path = \"best_decoder20230719.pth\"\n",
    "best_model = Model(len(text_vocab),len(abstract_vocab),2,256)\n",
    "best_model.load_state_dict(torch.load(best_model_path))"
   ]
  },
  {
   "cell_type": "code",
   "execution_count": 118,
   "metadata": {},
   "outputs": [],
   "source": [
    "def clear_upload(change):\n",
    "  uploader._counter=1"
   ]
  },
  {
   "cell_type": "code",
   "execution_count": 126,
   "metadata": {},
   "outputs": [
    {
     "data": {
      "application/vnd.jupyter.widget-view+json": {
       "model_id": "9b73eafbec174633be4cd1776e4b1e5b",
       "version_major": 2,
       "version_minor": 0
      },
      "text/plain": [
       "FileUpload(value={}, accept='.pdf', description='Upload')"
      ]
     },
     "metadata": {},
     "output_type": "display_data"
    }
   ],
   "source": [
    "uploader = widgets.FileUpload(multiple=False, accept='.pdf')\n",
    "uploader.observe(clear_upload, 'value')\n",
    "display(uploader)"
   ]
  },
  {
   "cell_type": "code",
   "execution_count": 129,
   "metadata": {},
   "outputs": [],
   "source": [
    "def readPDF(file, start_page=0, end_page=-1):\n",
    "    '''\n",
    "    Will accept input of widget pdf file\n",
    "    start_page indicates starting page to start reading default=first page\n",
    "    end_page indicate last page to read default=last page\n",
    "    '''\n",
    "    file_content = list(file)[0]\n",
    "    content = file_content[\"content\"]\n",
    "    doc = fitz.open(stream=content, filetype=\"pdf\")\n",
    "    if end_page == -1:\n",
    "        end_page = len(doc)-1\n",
    "    \n",
    "    # extracting text from page\n",
    "    doc_text = \"\"\n",
    "    for page in doc.pages(start_page, end_page):\n",
    "        \n",
    "        text = page.get_text(\"text\")\n",
    "        text = text.split('\\n')\n",
    "        text = \" \".join(text)\n",
    "        doc_text += text \n",
    "    doc_text = doc_text.strip()\n",
    "    doc.close()\n",
    "    return doc_text"
   ]
  },
  {
   "cell_type": "code",
   "execution_count": null,
   "metadata": {},
   "outputs": [],
   "source": [
    "def Process(raw_data):\n",
    "    data = cleanLine(raw_data)\n",
    "    data_id = tokenise"
   ]
  },
  {
   "cell_type": "code",
   "execution_count": null,
   "metadata": {},
   "outputs": [],
   "source": [
    "def Infer(model, data, max_size=100, temperature=0.5):\n",
    "    decoder_outputs = model(data, max_len=max_size)\n",
    "    decoder_outputs = torch.unbind(decoder_outputs, 1)\n",
    "    sentence = \"\"\n",
    "    for output in decoder_outputs:\n",
    "        token = output.argmax(1)\n",
    "        sentence += abstract_vocab.get_word(token.item()) + \" \"\n",
    "    sentence = sentence.strip()\n",
    "    return sentence"
   ]
  },
  {
   "cell_type": "code",
   "execution_count": 143,
   "metadata": {},
   "outputs": [],
   "source": [
    "raw_data = readPDF(uploader.value.values(), start_page=0, end_page=-1) # Obtain 1 long string\n",
    "data = Process(raw_data) # Clean string and convert to word_ids\n",
    "output = Infer(best_model, data, max_size=100, temperature=0.5)"
   ]
  },
  {
   "cell_type": "code",
   "execution_count": null,
   "metadata": {},
   "outputs": [],
   "source": []
  }
 ],
 "metadata": {
  "colab": {
   "name": "COMP5623M_CW1_Q2.ipynb",
   "provenance": []
  },
  "kernelspec": {
   "display_name": "Python 3 (ipykernel)",
   "language": "python",
   "name": "python3"
  },
  "language_info": {
   "codemirror_mode": {
    "name": "ipython",
    "version": 3
   },
   "file_extension": ".py",
   "mimetype": "text/x-python",
   "name": "python",
   "nbconvert_exporter": "python",
   "pygments_lexer": "ipython3",
   "version": "3.9.12"
  },
  "vscode": {
   "interpreter": {
    "hash": "31f2aee4e71d21fbe5cf8b01ff0e069b9275f58929596ceb00d14d90e3e16cd6"
   }
  }
 },
 "nbformat": 4,
 "nbformat_minor": 1
}
