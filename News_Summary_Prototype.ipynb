{
 "cells": [
  {
   "cell_type": "markdown",
   "metadata": {
    "id": "LR4bovYL4CJz"
   },
   "source": [
    "## Dissertation Project - News Summary Dissertation [100 marks]\n",
    "\n",
    "### Motivation \n",
    "\n",
    "> 1. Provide tools for anyone needing to speed up their research process\n",
    "> 2. Providing ways for user to quickly determine whether a piece of research is beneficial for their specific search terms\n",
    "\n",
    "\n"
   ]
  },
  {
   "cell_type": "code",
   "execution_count": 1,
   "metadata": {},
   "outputs": [],
   "source": [
    "# from IPython.display import HTML\n",
    "\n",
    "# HTML('''<script>\n",
    "# code_show=true; \n",
    "# function code_toggle() {\n",
    "#  if (code_show){\n",
    "#  $('div.input').hide();\n",
    "#  } else {\n",
    "#  $('div.input').show();\n",
    "#  }\n",
    "#  code_show = !code_show\n",
    "# } \n",
    "# $( document ).ready(code_toggle);\n",
    "# </script>\n",
    "# <form action=\"javascript:code_toggle()\"><input type=\"submit\" value=\"Toggle code\"></form>''')"
   ]
  },
  {
   "cell_type": "markdown",
   "metadata": {},
   "source": [
    "### Imports"
   ]
  },
  {
   "cell_type": "code",
   "execution_count": 1,
   "metadata": {},
   "outputs": [],
   "source": [
    "import torch\n",
    "import torch.nn as nn\n",
    "import torchvision\n",
    "from torchvision import transforms\n",
    "import torchvision.models as models\n",
    "from torch.utils.data import Dataset, DataLoader, random_split\n",
    "from torch.nn.utils.rnn import pack_padded_sequence, pad_packed_sequence\n",
    "import pandas as pd\n",
    "import matplotlib.pyplot as plt\n",
    "from collections import Counter\n",
    "import os\n",
    "import numpy as np\n",
    "from PIL import Image\n",
    "from sklearn.model_selection import train_test_split\n",
    "from sklearn.feature_extraction.text import ENGLISH_STOP_WORDS\n",
    "import string\n",
    "import random\n",
    "from tqdm.notebook import tqdm\n",
    "import ipywidgets as widgets\n",
    "import fitz\n",
    "\n",
    "import numpy as np \n",
    "import pandas as pd\n",
    "import math\n",
    "import time\n",
    "\n",
    "import json\n",
    "import pickle\n",
    "import _pickle as pickle\n",
    "\n",
    "import ray\n",
    "from ray import tune\n",
    "from ray.air import session\n",
    "from ray.air.checkpoint import Checkpoint\n",
    "from ray.tune.schedulers import ASHAScheduler\n",
    "\n",
    "DATASET = \"./Dataset/\""
   ]
  },
  {
   "cell_type": "markdown",
   "metadata": {},
   "source": [
    "Detect which device (CPU/GPU) to use."
   ]
  },
  {
   "cell_type": "code",
   "execution_count": 2,
   "metadata": {},
   "outputs": [
    {
     "name": "stdout",
     "output_type": "stream",
     "text": [
      "Using device: cuda\n"
     ]
    }
   ],
   "source": [
    "seed = 0\n",
    "random.seed(seed)\n",
    "torch.manual_seed(seed)\n",
    "torch.cuda.manual_seed(seed) \n",
    "torch.cuda.manual_seed_all(seed)\n",
    "device = torch.device('cuda' if torch.cuda.is_available() else 'cpu')\n",
    "print('Using device:', device)"
   ]
  },
  {
   "cell_type": "markdown",
   "metadata": {},
   "source": [
    "### Overview\n",
    "\n",
    "Summarisation model\n",
    "> 1. Dataset preprocessing\n",
    "> 2. Dataloader\n",
    "> 3. RNN model definition\n",
    "> 4. Model training\n",
    "> 5. Model prediction evaluation\n",
    "> 6. Dataset Exploration\n",
    "> 7. Dataset modification/Data Augmentation\n",
    "> 8. Model improvement\n",
    "> 9. Model finalisation and evaluation\n",
    "\n",
    "Paper querying\n",
    "> 1. Attention on query (Return usefulness percentage\n",
    "> 2. Evaluate performance\n"
   ]
  },
  {
   "cell_type": "markdown",
   "metadata": {},
   "source": [
    "# Data preprocessing"
   ]
  },
  {
   "cell_type": "code",
   "execution_count": 4,
   "metadata": {},
   "outputs": [],
   "source": [
    "# # Comment this block if dataset is reorganised\n",
    "# DATA_DIR = \"SSN/papers.SSN.jsonl\"\n",
    "# dataset_path = DATASET+DATA_DIR\n",
    "# with open(dataset_path) as f:\n",
    "#     lines = f.read().splitlines()\n",
    "# df_inter = pd.DataFrame(lines)\n",
    "# df_inter.columns = ['json_element']\n",
    "# df_final = pd.json_normalize(df_inter['json_element'].apply(json.loads))\n",
    "# df_final.to_json(\"./Dataset/SSN/SSN_Dataset.json\")\n",
    "# df_final"
   ]
  },
  {
   "cell_type": "code",
   "execution_count": 5,
   "metadata": {},
   "outputs": [],
   "source": [
    "# for i,summary in df_final.iterrows():\n",
    "#     temp = summary[\"abstract\"]\n",
    "#     print(type(summary[\"abstract\"]))\n",
    "#     break"
   ]
  },
  {
   "cell_type": "code",
   "execution_count": 6,
   "metadata": {},
   "outputs": [],
   "source": [
    "# #Comment this block if dataset is shortened\n",
    "# DATA_DIR = \"SSN/SSN_Dataset.json\"\n",
    "# dataset_path = DATASET+DATA_DIR\n",
    "# df = pd.read_json(dataset_path)\n",
    "# df"
   ]
  },
  {
   "cell_type": "code",
   "execution_count": 7,
   "metadata": {},
   "outputs": [],
   "source": [
    "# df.iloc[140794][\"section_names\"]"
   ]
  },
  {
   "cell_type": "markdown",
   "metadata": {},
   "source": [
    "Function to return index for conclusion section"
   ]
  },
  {
   "cell_type": "code",
   "execution_count": 8,
   "metadata": {},
   "outputs": [],
   "source": [
    "# def trim_index(row):\n",
    "#     return [row.index(x)+1 for x in row if x.startswith('conclusion') or x.startswith(\"summar\")]"
   ]
  },
  {
   "cell_type": "code",
   "execution_count": 9,
   "metadata": {},
   "outputs": [],
   "source": [
    "# def trim_text(text, index):\n",
    "#     return text[0:index]"
   ]
  },
  {
   "cell_type": "code",
   "execution_count": 10,
   "metadata": {},
   "outputs": [],
   "source": [
    "# # Comment this block if dataset is shortened\n",
    "# # Trim text after conclusion\n",
    "# indexes = []\n",
    "# for i, row in df.iterrows():\n",
    "#     section = row[\"section_names\"]\n",
    "#     #print(section)\n",
    "#     index = trim_index(section)\n",
    "#     #print(index)\n",
    "#     if not index:\n",
    "#         indexes.append(i)\n",
    "#     # if section can be filtered\n",
    "#     else:\n",
    "#         index = index[0]\n",
    "#         abstract = row[\"abstract\"]\n",
    "#         text = row[\"text\"]\n",
    "#         section = row[\"section_names\"]\n",
    "#         df.at[i, \"section_names\"] = trim_text(section, index)\n",
    "#         df.at[i, \"abstract\"] = trim_text(abstract, index)\n",
    "#         df.at[i, \"text\"] = trim_text(text, index)\n",
    "# # dropping rows in dataframe that can't easily filter out reference section\n",
    "# print(len(indexes))\n",
    "# df.drop(indexes, inplace=True)\n",
    "# df.to_json(\"./Dataset/SSN/SSN_Dataset_Short.json\")"
   ]
  },
  {
   "cell_type": "markdown",
   "metadata": {},
   "source": [
    "35% of paper will be removed from the dataset due to it not having conclusion(s) and summary(ies) in their section titles, making it difficult to filter out the reference and appendix text"
   ]
  },
  {
   "cell_type": "code",
   "execution_count": 11,
   "metadata": {
    "scrolled": true
   },
   "outputs": [],
   "source": [
    "# DATA_DIR = \"SSN/SSN_Dataset_Short.json\"\n",
    "# dataset_path = DATASET+DATA_DIR\n",
    "# df = pd.read_json(dataset_path)\n",
    "# df.reset_index(drop=True, inplace=True)\n",
    "# df"
   ]
  },
  {
   "cell_type": "markdown",
   "metadata": {},
   "source": [
    "See diversity in papers, select only computer science"
   ]
  },
  {
   "cell_type": "code",
   "execution_count": 12,
   "metadata": {},
   "outputs": [],
   "source": [
    "# plot_points = df['domain'].value_counts()\n",
    "# plot_points"
   ]
  },
  {
   "cell_type": "code",
   "execution_count": 13,
   "metadata": {},
   "outputs": [],
   "source": [
    "# df = df.loc[df['domain'].isin([['Computer science']])]\n",
    "# df.to_json(\"./Dataset/SSN/SSN_Dataset_CompSci_Short.json\")\n",
    "# df"
   ]
  },
  {
   "cell_type": "code",
   "execution_count": 14,
   "metadata": {},
   "outputs": [],
   "source": [
    "# DATA_DIR = \"cnn_dailymail/train.csv\"\n",
    "# dataset_path = DATASET+DATA_DIR\n",
    "# df = pd.read_csv(dataset_path)\n",
    "# df = df.rename(columns={'article': 'text', 'highlights': 'abstract'})\n",
    "# df"
   ]
  },
  {
   "cell_type": "code",
   "execution_count": 15,
   "metadata": {},
   "outputs": [],
   "source": [
    "# DATA_DIR = \"SSN/SSN_Dataset_CompSci_Short.json\"\n",
    "# dataset_path = DATASET+DATA_DIR\n",
    "# df = pd.read_json(dataset_path)\n",
    "# df.reset_index(drop=True, inplace=True)\n",
    "# df"
   ]
  },
  {
   "cell_type": "code",
   "execution_count": 16,
   "metadata": {},
   "outputs": [],
   "source": [
    "# summary_df = df[[\"abstract\", \"text\"]]\n",
    "# summary_df"
   ]
  },
  {
   "cell_type": "markdown",
   "metadata": {},
   "source": [
    "Check if any columns contain empty values"
   ]
  },
  {
   "cell_type": "code",
   "execution_count": 17,
   "metadata": {},
   "outputs": [],
   "source": [
    "# summary_df.isnull().any()"
   ]
  },
  {
   "cell_type": "markdown",
   "metadata": {},
   "source": [
    "\\'hi\\' \\ is used for space <br>\n",
    "random space, which is used for reference [15] quote box <br>\n",
    "sec ref is hyperlink to a section <br>\n",
    "fig ref is hyperlink to a figure <br>\n",
    "inlineform <br>\n",
    "displayform are both symbols, both contains numbers in string <br>\n",
    "remove all forms and remove all symbols but keep numbers <br>"
   ]
  },
  {
   "cell_type": "code",
   "execution_count": 18,
   "metadata": {},
   "outputs": [],
   "source": [
    "# def contain_let(string):\n",
    "#     return any(char.isalpha() for char in string)"
   ]
  },
  {
   "cell_type": "code",
   "execution_count": 19,
   "metadata": {},
   "outputs": [],
   "source": [
    "# def contain_num(string):\n",
    "#     return any(char.isdigit() for char in string)"
   ]
  },
  {
   "cell_type": "code",
   "execution_count": 20,
   "metadata": {},
   "outputs": [],
   "source": [
    "# def contain_special(string, allowed):\n",
    "#     '''\n",
    "#     allowed is a list containing allowed symbols to pass detection\n",
    "#     '''\n",
    "#     return any(not(char.isalpha() or char.isdigit()) and (char not in allowed) for char in string)"
   ]
  },
  {
   "cell_type": "code",
   "execution_count": 21,
   "metadata": {},
   "outputs": [],
   "source": [
    "# def cleanLine(line, text=True, aug=False):\n",
    "#     \"text parameter is to indicate whether the line is from text or abstract\"\n",
    "#     symbols = [\"'\", \"’\"]\n",
    "#     stop_words = list(ENGLISH_STOP_WORDS)\n",
    "    \n",
    "#     clean_line = line.lower()\n",
    "\n",
    "#     # fix apostrophes in line by removing apostrophe with no following alphabet character\n",
    "#     clean_line = clean_line.replace(\"'\", \" \")\n",
    "#     clean_line = clean_line.replace(\",\", \" \")\n",
    "# #     # remove apostrophe if last character is apostrophe\n",
    "# #     if clean_line and (clean_line[-1] == \"'\"):\n",
    "# #         clean_line = clean_line[0:len(clean_line)-1]\n",
    "# #     # fix apostrophes in line by removing space before single quote\n",
    "# #     clean_line = clean_line.replace(\" '\", \"'\")\n",
    "\n",
    "\n",
    "#     # clean line = clean line remove forms\n",
    "#     words = clean_line.split()\n",
    "#     #  remove forms, words with special characters inside\n",
    "#     # if contain letter and number\n",
    "#     # if contain special character not in allowed symbols and removing punctuations\n",
    "#     # then remove\n",
    "#     words = [x.replace(x, \"\") if (contain_let(x) and contain_num(x))\n",
    "#              or contain_special(x, symbols)\n",
    "#              else x for x in words]\n",
    "\n",
    "#     # remove empty strings\n",
    "#     words = filter(None, words)\n",
    "\n",
    "#     # stop words from sklearn, remove stop words\n",
    "#     if text:\n",
    "#         words = [x for x in words if not x in stop_words]\n",
    "#     # remove from line randomly\n",
    "#     if text and aug:\n",
    "#         choices = random.choices(words, k=math.floor(len(line)*0.2))\n",
    "#         words.remove(choices)\n",
    "        \n",
    "#      # combine the items into 1 string\n",
    "#     clean_line = ' '.join(words)\n",
    "\n",
    "    \n",
    "\n",
    "#     return clean_line"
   ]
  },
  {
   "cell_type": "code",
   "execution_count": 22,
   "metadata": {},
   "outputs": [],
   "source": [
    "# def concatParagraph(paragraph, text=True):\n",
    "#     clean_paragraph = \"\"\n",
    "#     for line in paragraph:\n",
    "#         lines = cleanLine(line)\n",
    "#         clean_paragraph += cleanLine(lines, text) + \" \"\n",
    "#         #print(clean_paragraph)\n",
    "        \n",
    "#     return(clean_paragraph.strip())"
   ]
  },
  {
   "cell_type": "code",
   "execution_count": 23,
   "metadata": {},
   "outputs": [],
   "source": [
    "# def concatPaper(paper, text=True):\n",
    "#     clean_paper = \"\"\n",
    "#     for paragraph in paper:\n",
    "#         clean_paper += concatParagraph(paragraph, text) + \" \"\n",
    "#     return(clean_paper.strip())"
   ]
  },
  {
   "cell_type": "code",
   "execution_count": 24,
   "metadata": {
    "scrolled": true
   },
   "outputs": [],
   "source": [
    "# import time\n",
    "# interval = 0.0001\n",
    "# aug_chance = 0.5\n",
    "# for i, row in tqdm(summary_df.iterrows(), total=summary_df.shape[0]):\n",
    "#     abstract = row[\"abstract\"]\n",
    "#     paper = row[\"text\"]\n",
    "    \n",
    "# #     summary_df.at[i, \"abstract\"] = concatParagraph(abstract, text=False)\n",
    "# #     summary_df.at[i, \"text\"] = concatPaper(paper)\n",
    "#     if random.random() > aug_chance:\n",
    "#         row_val = cleanLine(paper, text=True, aug=True)\n",
    "#         new_row = pd.Series([abstract, row_val], index=summary_df.columns)\n",
    "#         df_summary = df_summary.append(row1,ignore_index=True) \n",
    "#         df_summary\n",
    "#     summary_df.at[i, \"abstract\"] = cleanLine(abstract, text=True)\n",
    "#     summary_df.at[i, \"text\"] = cleanLine(paper)\n",
    "#     time.sleep(interval)"
   ]
  },
  {
   "cell_type": "code",
   "execution_count": 25,
   "metadata": {},
   "outputs": [],
   "source": [
    "# summary_df.to_csv(\"./Dataset/cnn_dailymail/cleaned_cnn_train.csv\")\n",
    "# summary_df"
   ]
  },
  {
   "cell_type": "code",
   "execution_count": 3,
   "metadata": {},
   "outputs": [
    {
     "data": {
      "text/html": [
       "<div>\n",
       "<style scoped>\n",
       "    .dataframe tbody tr th:only-of-type {\n",
       "        vertical-align: middle;\n",
       "    }\n",
       "\n",
       "    .dataframe tbody tr th {\n",
       "        vertical-align: top;\n",
       "    }\n",
       "\n",
       "    .dataframe thead th {\n",
       "        text-align: right;\n",
       "    }\n",
       "</style>\n",
       "<table border=\"1\" class=\"dataframe\">\n",
       "  <thead>\n",
       "    <tr style=\"text-align: right;\">\n",
       "      <th></th>\n",
       "      <th>abstract</th>\n",
       "      <th>text</th>\n",
       "    </tr>\n",
       "  </thead>\n",
       "  <tbody>\n",
       "    <tr>\n",
       "      <th>0</th>\n",
       "      <td>tracking developments highly dynamic data tech...</td>\n",
       "      <td>ubiquity online resources massive growth news ...</td>\n",
       "    </tr>\n",
       "    <tr>\n",
       "      <th>1</th>\n",
       "      <td>non local self similarity nss powerful prior n...</td>\n",
       "      <td>digital images subject noise degradation acqui...</td>\n",
       "    </tr>\n",
       "    <tr>\n",
       "      <th>2</th>\n",
       "      <td>despite success deep models paraphrase identif...</td>\n",
       "      <td>paraphrase identification determine pair sente...</td>\n",
       "    </tr>\n",
       "    <tr>\n",
       "      <th>3</th>\n",
       "      <td>temporal action proposal generation challengin...</td>\n",
       "      <td>number videos internet growing rapidly video c...</td>\n",
       "    </tr>\n",
       "    <tr>\n",
       "      <th>4</th>\n",
       "      <td>graph convolutional networks gcns widely studi...</td>\n",
       "      <td>compact data representation learning fundament...</td>\n",
       "    </tr>\n",
       "    <tr>\n",
       "      <th>...</th>\n",
       "      <td>...</td>\n",
       "      <td>...</td>\n",
       "    </tr>\n",
       "    <tr>\n",
       "      <th>13179</th>\n",
       "      <td>ability detect pedestrians moving objects cruc...</td>\n",
       "      <td>autonomous cars currently primed mass adoption...</td>\n",
       "    </tr>\n",
       "    <tr>\n",
       "      <th>13180</th>\n",
       "      <td>goal paper use multi task learning efficiently...</td>\n",
       "      <td>slot filling models useful method simple natur...</td>\n",
       "    </tr>\n",
       "    <tr>\n",
       "      <th>13181</th>\n",
       "      <td>paper propose general approach optimize anchor...</td>\n",
       "      <td>object detection plays important role real app...</td>\n",
       "    </tr>\n",
       "    <tr>\n",
       "      <th>13182</th>\n",
       "      <td>known polar codes efficiently constructed bina...</td>\n",
       "      <td>arıkan's polar codes form explicit family bina...</td>\n",
       "    </tr>\n",
       "    <tr>\n",
       "      <th>13183</th>\n",
       "      <td>propose novel deep supervised neural network t...</td>\n",
       "      <td>action recognition description videos fundamen...</td>\n",
       "    </tr>\n",
       "  </tbody>\n",
       "</table>\n",
       "<p>13184 rows × 2 columns</p>\n",
       "</div>"
      ],
      "text/plain": [
       "                                                abstract  \\\n",
       "0      tracking developments highly dynamic data tech...   \n",
       "1      non local self similarity nss powerful prior n...   \n",
       "2      despite success deep models paraphrase identif...   \n",
       "3      temporal action proposal generation challengin...   \n",
       "4      graph convolutional networks gcns widely studi...   \n",
       "...                                                  ...   \n",
       "13179  ability detect pedestrians moving objects cruc...   \n",
       "13180  goal paper use multi task learning efficiently...   \n",
       "13181  paper propose general approach optimize anchor...   \n",
       "13182  known polar codes efficiently constructed bina...   \n",
       "13183  propose novel deep supervised neural network t...   \n",
       "\n",
       "                                                    text  \n",
       "0      ubiquity online resources massive growth news ...  \n",
       "1      digital images subject noise degradation acqui...  \n",
       "2      paraphrase identification determine pair sente...  \n",
       "3      number videos internet growing rapidly video c...  \n",
       "4      compact data representation learning fundament...  \n",
       "...                                                  ...  \n",
       "13179  autonomous cars currently primed mass adoption...  \n",
       "13180  slot filling models useful method simple natur...  \n",
       "13181  object detection plays important role real app...  \n",
       "13182  arıkan's polar codes form explicit family bina...  \n",
       "13183  action recognition description videos fundamen...  \n",
       "\n",
       "[13184 rows x 2 columns]"
      ]
     },
     "execution_count": 3,
     "metadata": {},
     "output_type": "execute_result"
    }
   ],
   "source": [
    "DATA_DIR = \"SSN/SSN_Dataset_CompSci_Short_Clean_HalfStop_180.json\"\n",
    "dataset_path = DATASET+DATA_DIR\n",
    "df = pd.read_json(dataset_path)\n",
    "df"
   ]
  },
  {
   "cell_type": "code",
   "execution_count": 27,
   "metadata": {},
   "outputs": [],
   "source": [
    "# rows = []\n",
    "# t_max= 2524\n",
    "# a_max=  118\n",
    "# t_min=  668\n",
    "# a_min=  39\n",
    "# for i, row in df.iterrows():\n",
    "#     t_word = len(row[\"text\"].split())\n",
    "#     a_word = len(row[\"abstract\"].split())\n",
    "#     if ((t_word > t_max or t_word < t_min) or (a_word > a_max or a_word < a_min)):\n",
    "#         rows.append(i)\n",
    "\n",
    "# df.drop(rows, inplace=True)\n",
    "# df.reset_index(drop=True, inplace=True)\n",
    "# df.to_json(DATASET+\"SSN/SSN_Dataset_CompSci_Short_Clean_HalfStop_180.json\")\n",
    "# df"
   ]
  },
  {
   "cell_type": "code",
   "execution_count": 4,
   "metadata": {},
   "outputs": [],
   "source": [
    "class Vocabulary(object):\n",
    "    \"\"\" Simple vocabulary wrapper which maps every unique word to an integer ID. \"\"\"\n",
    "    def __init__(self):\n",
    "        # intially, set both the IDs and words to dictionaries with special tokens\n",
    "        self.word2idx = {'<start>': 0, '<end>': 1, '<pad>':2, '<unk>':3}\n",
    "        self.idx2word = {0: '<start>', 1: '<end>', 2: '<pad>', 3: '<unk>'}\n",
    "        self.idx = 4\n",
    "\n",
    "    def add_word(self, word):\n",
    "        # if the word does not already exist in the dictionary, add it\n",
    "        if not word in self.word2idx:\n",
    "            # this will convert each word to index and index to word as you saw in the tutorials\n",
    "            self.word2idx[word] = self.idx\n",
    "            self.idx2word[self.idx] = word\n",
    "            # increment the ID for the next word\n",
    "            self.idx += 1\n",
    "\n",
    "    def __call__(self, word):\n",
    "        # if we try to access a word not in the dictionary, return the id for <unk>\n",
    "        if not word in self.word2idx:\n",
    "            return self.word2idx['<unk>']\n",
    "        return self.word2idx[word]\n",
    "    \n",
    "    ## added function for utility\n",
    "    def get_word(self,index):\n",
    "        # this returns the word when given an index\n",
    "        return self.idx2word[index]\n",
    "\n",
    "    def __len__(self):\n",
    "        return len(self.word2idx)\n"
   ]
  },
  {
   "cell_type": "code",
   "execution_count": 5,
   "metadata": {},
   "outputs": [],
   "source": [
    "def build_vocab(data, freq):\n",
    "    \"\"\" \n",
    "    Parses training set token file captions and builds a Vocabulary object and dataframe for \n",
    "    the image and caption data\n",
    "\n",
    "    Returns:\n",
    "        vocab (Vocabulary): Vocabulary object containing all words appearing more than min_frequency\n",
    "    \"\"\"\n",
    "    MIN_FREQUENCY = freq\n",
    "    word_mapping = Counter()\n",
    "\n",
    "    # for index in df.index:\n",
    "    for text in tqdm(data):\n",
    "        for word in text.split():\n",
    "            #print(word)\n",
    "            if word in word_mapping:\n",
    "                word_mapping[word] += 1\n",
    "            else:\n",
    "                word_mapping[word] = 1\n",
    "\n",
    "    # create a vocab instance\n",
    "    vocab = Vocabulary()\n",
    "\n",
    "    # add the words to the vocabulary\n",
    "    for word in word_mapping:\n",
    "        if word_mapping[word] > MIN_FREQUENCY:\n",
    "            vocab.add_word(word)\n",
    "\n",
    "    return vocab\n"
   ]
  },
  {
   "cell_type": "markdown",
   "metadata": {},
   "source": [
    "Convert DF to text"
   ]
  },
  {
   "cell_type": "code",
   "execution_count": 6,
   "metadata": {},
   "outputs": [],
   "source": [
    "# text_txt = df['text']\n",
    "# text_txt.to_csv(\"text_cnn.txt\", header=False,index=False)\n",
    "# abstract_txt = df['abstract']\n",
    "# abstract_txt.to_csv(\"abstract_cnn.txt\", header=False,index=False)\n",
    "\n",
    "# # write to file. "
   ]
  },
  {
   "cell_type": "code",
   "execution_count": 7,
   "metadata": {},
   "outputs": [],
   "source": [
    "# vocab_model = fasttext.train_unsupervised('text_NoStop.txt', minn=2, epoch=10)\n",
    "# vocab_model.save_model(\"fastText_NoStop.bin\")"
   ]
  },
  {
   "cell_type": "code",
   "execution_count": 8,
   "metadata": {},
   "outputs": [],
   "source": [
    "# abstract_vocab = build_vocab(df[\"abstract\"], 0)\n",
    "# text_vocab = build_vocab(df[\"text\"], 0)\n",
    "# print(\"abstract vocab\", len(abstract_vocab))\n",
    "# print(\"text vocab\", len(text_vocab))\n",
    "# def save_object(objects, filename):\n",
    "#     with open(filename, 'wb') as outp:  # Overwrites any existing file.\n",
    "#         pickle.dump(objects, outp, -1)\n",
    "# vocabs = [abstract_vocab, text_vocab]\n",
    "# save_object(vocabs, 'SSNvocabs180_0F.pkl')"
   ]
  },
  {
   "cell_type": "code",
   "execution_count": 9,
   "metadata": {},
   "outputs": [
    {
     "name": "stdout",
     "output_type": "stream",
     "text": [
      "abstract vocab 26967\n",
      "text vocab 116158\n"
     ]
    }
   ],
   "source": [
    "with open('SSNvocabs180_0F.pkl', 'rb') as inp:\n",
    "    abstract_vocab, text_vocab = pickle.load(inp)\n",
    "print(\"abstract vocab\", len(abstract_vocab))\n",
    "print(\"text vocab\", len(text_vocab))"
   ]
  },
  {
   "cell_type": "code",
   "execution_count": 113,
   "metadata": {},
   "outputs": [],
   "source": [
    "def tokenise(vocab, text, max_len):\n",
    "    word_ids = [vocab(\"<start>\")]\n",
    "    for word in text.split():\n",
    "        word_ids.append(vocab(word))\n",
    "    word_ids.append(vocab(\"<end>\"))\n",
    "    while len(word_ids) < max_len:\n",
    "            word_ids.append(vocab(\"<pad>\"))\n",
    "    return word_ids"
   ]
  },
  {
   "cell_type": "code",
   "execution_count": 114,
   "metadata": {},
   "outputs": [],
   "source": [
    "ABSTRACT_MAX = 120\n",
    "TEXT_MAX = 2600"
   ]
  },
  {
   "cell_type": "code",
   "execution_count": 115,
   "metadata": {},
   "outputs": [],
   "source": [
    "class SSNDataset(Dataset):\n",
    "    def __init__(self, df, a_vocab, t_vocab):\n",
    "\n",
    "        self.df = df\n",
    "        self.a_vocab = a_vocab\n",
    "        self.t_vocab = t_vocab\n",
    "        self.abstract_max_len = ABSTRACT_MAX\n",
    "        self.text_max_len = TEXT_MAX\n",
    "\n",
    "    def __getitem__(self, index):\n",
    "        # return word_id\n",
    "        abstract = self.df.iloc[index][\"abstract\"]\n",
    "        text = self.df.iloc[index][\"text\"]\n",
    "        \n",
    "        a_word_ids = tokenise(self.a_vocab, abstract, self.abstract_max_len)\n",
    "        t_word_ids = tokenise(self.t_vocab, text, self.text_max_len)\n",
    "\n",
    "        a_length = len(a_word_ids)\n",
    "        t_length = len(t_word_ids)\n",
    "    \n",
    "        return torch.tensor(a_word_ids), torch.tensor(t_word_ids)#a_word_ids, t_word_ids\n",
    "\n",
    "    def __len__(self):\n",
    "        return len(self.df)\n"
   ]
  },
  {
   "cell_type": "code",
   "execution_count": 116,
   "metadata": {},
   "outputs": [],
   "source": [
    "def text_collate_fn(data):\n",
    "    \"\"\" Creates mini-batch tensors from the list of tuples (image, caption).\n",
    "    Args:\n",
    "        data: list of tuple of 2 word ids\n",
    "        - abstract id\n",
    "        - text id\n",
    "    Returns:\n",
    "        abstract list ids\n",
    "        text list ids\n",
    "    \"\"\"\n",
    "\n",
    "    \n",
    "    abstracts, texts = zip(*data)\n",
    "#     abstract_list = []\n",
    "#     text_list = []\n",
    "#     for i in range(len(texts)):\n",
    "#         text_list.append(torch.tensor(texts[i]))\n",
    "#         abstract_list.append(torch.tensor(abstracts[i]))\n",
    "\n",
    "\n",
    "#     abstracts = torch.tensor(abstracts)\n",
    "#     texts = torch.tensor(texts)\n",
    "#     abstracts = [ torch.Tensor(abstract).to(device) for abstract in abstracts ]\n",
    "# if batch size is 1 then use [0]\n",
    "#     abstracts = torch.stack(tuple(abstract_list), 0)\n",
    "#     texts = torch.stack(tuple(text_list), 0)\n",
    "    #abstracts = abstracts.unsqueeze(0)\n",
    "    abstracts = torch.stack(abstracts, 0)\n",
    "    texts = torch.stack(texts, 0)\n",
    "    #texts = texts.unsqueeze(0)\n",
    "\n",
    "    return abstracts, texts\n"
   ]
  },
  {
   "cell_type": "markdown",
   "metadata": {},
   "source": [
    "# Dataloader"
   ]
  },
  {
   "cell_type": "markdown",
   "metadata": {},
   "source": [
    "Split dataset"
   ]
  },
  {
   "cell_type": "code",
   "execution_count": 117,
   "metadata": {},
   "outputs": [],
   "source": [
    "train_data, test_data = train_test_split(df, random_state=seed, train_size = 0.7)\n",
    "train_data, valid_data = train_test_split(train_data, random_state=seed, train_size=0.8)"
   ]
  },
  {
   "cell_type": "code",
   "execution_count": 118,
   "metadata": {},
   "outputs": [],
   "source": [
    "train_set = SSNDataset(train_data, abstract_vocab, text_vocab)\n",
    "valid_set = SSNDataset(test_data, abstract_vocab, text_vocab)\n",
    "test_set = SSNDataset(test_data, abstract_vocab, text_vocab)"
   ]
  },
  {
   "cell_type": "code",
   "execution_count": 119,
   "metadata": {},
   "outputs": [],
   "source": [
    "train_loader = DataLoader(train_set, batch_size=8, shuffle=True, collate_fn=text_collate_fn) # num_worker can't be 2+ as the time it \n",
    "                                                                 # takes to build iter is much longer\n",
    "valid_loader = DataLoader(valid_set, batch_size=8, shuffle=True, collate_fn=text_collate_fn)\n"
   ]
  },
  {
   "cell_type": "code",
   "execution_count": null,
   "metadata": {},
   "outputs": [],
   "source": [
    "#test_loader = DataLoader(test_set, batch_size=1, shuffle=True, collate_fn=text_collate_fn)"
   ]
  },
  {
   "cell_type": "code",
   "execution_count": 41,
   "metadata": {
    "scrolled": true
   },
   "outputs": [],
   "source": [
    "# all_set = SSNDataset(df, abstract_vocab, text_vocab)\n",
    "# all_loader = DataLoader(all_set, batch_size=1, shuffle=True, collate_fn=text_collate_fn)\n",
    "# abstracts = []\n",
    "# texts = []\n",
    "# for i, (abstract, text) in tqdm(enumerate(all_loader), total=len(all_loader)):\n",
    "#     a_size = list(abstract.size())[1]\n",
    "\n",
    "#     t_size = list(text.size())[1]\n",
    "#     abstracts.append(a_size)\n",
    "#     texts.append(t_size)\n",
    "# numbers = list(range(len(all_loader)))"
   ]
  },
  {
   "cell_type": "code",
   "execution_count": 42,
   "metadata": {},
   "outputs": [],
   "source": [
    "# from statistics import mean\n",
    "# print(\"max length for abstract: \",max(abstracts))\n",
    "# print(\"max length for text: \",max(texts))\n",
    "# print(\"min length for abstract: \",min(abstracts))\n",
    "# print(\"min length for text: \",min(texts))\n",
    "# print(\"average length for abstract: \",math.floor(mean(abstracts)))\n",
    "# print(\"average length for text: \",math.floor(mean(texts)))"
   ]
  },
  {
   "cell_type": "code",
   "execution_count": 43,
   "metadata": {},
   "outputs": [],
   "source": [
    "# print(math.floor(np.percentile(texts, 50)))\n",
    "# print(math.floor(np.percentile(abstracts, 50)))\n",
    "# print(math.floor(np.percentile(texts, 1)))\n",
    "# print(math.floor(np.percentile(abstracts, 1)))"
   ]
  },
  {
   "cell_type": "code",
   "execution_count": 44,
   "metadata": {},
   "outputs": [],
   "source": [
    "# a_perc = []\n",
    "# t_perc = []\n",
    "# for i in range(100):\n",
    "#     i +=1\n",
    "#     a_perc.append(np.percentile(abstracts, i))\n",
    "#     t_perc.append(np.percentile(texts,i))"
   ]
  },
  {
   "cell_type": "code",
   "execution_count": 45,
   "metadata": {},
   "outputs": [],
   "source": [
    "# plt.scatter(range(len(a_perc)),a_perc)\n",
    "# plt.show()"
   ]
  },
  {
   "cell_type": "code",
   "execution_count": 46,
   "metadata": {},
   "outputs": [],
   "source": [
    "# plt.scatter(range(len(t_perc)), t_perc)\n",
    "# plt.show()"
   ]
  },
  {
   "cell_type": "markdown",
   "metadata": {},
   "source": [
    "# RNN Model definition"
   ]
  },
  {
   "cell_type": "code",
   "execution_count": 47,
   "metadata": {},
   "outputs": [],
   "source": [
    "# from gensim.models import Word2Vec\n",
    "# vec = Word2Vec(sentences=\"text_cnn.txt\", vector_size=300, window=5, min_count=2)"
   ]
  },
  {
   "cell_type": "code",
   "execution_count": 48,
   "metadata": {},
   "outputs": [],
   "source": [
    "# text_vocab = vec.wv.key_to_index\n",
    "# text_vocab"
   ]
  },
  {
   "cell_type": "code",
   "execution_count": 120,
   "metadata": {},
   "outputs": [],
   "source": [
    "def create_mask(data, pad_idx):\n",
    "    return (data != pad_idx)"
   ]
  },
  {
   "cell_type": "code",
   "execution_count": 121,
   "metadata": {},
   "outputs": [],
   "source": [
    "class EncoderNet(nn.Module):\n",
    "    def __init__(self, text_vocab, pad_idx, embed_dim, hidden_size, nheads, n_layers, max_text_len, \n",
    "                 dropout):\n",
    "        super(EncoderNet, self).__init__()\n",
    "        self.pad_idx = pad_idx\n",
    "        # embedding layers\n",
    "        self.enc_embedding = nn.Embedding(text_vocab, embed_dim)\n",
    "        # positional encoding layer\n",
    "        self.enc_pe = PositionalEncoding(embed_dim, max_len = max_text_len)\n",
    "        # encoder layers\n",
    "        enc_layer = nn.TransformerEncoderLayer(embed_dim, nheads, hidden_size, dropout)\n",
    "        self.encoder = nn.TransformerEncoder(enc_layer, num_layers = n_layers)\n",
    "    \n",
    "    def forward(self, x):\n",
    "        mask = create_mask(x, self.pad_idx)\n",
    "        enc_embed = self.enc_embedding(x).permute(1, 0, 2)\n",
    "        enc_pe = self.enc_pe(enc_embed)\n",
    "        memory = self.encoder(enc_pe, src_key_padding_mask=mask)\n",
    "        return memory"
   ]
  },
  {
   "cell_type": "code",
   "execution_count": 123,
   "metadata": {},
   "outputs": [],
   "source": [
    "class DecoderNet(nn.Module):\n",
    "    def __init__(self, abstract_vocab, pad_idx, embed_dim, hidden_size, nheads, n_layers, max_abs_len, \n",
    "                 dropout):\n",
    "        super(DecoderNet, self).__init__()\n",
    "        self.pad_idx = pad_idx\n",
    "        # embedding layers\n",
    "        self.dec_embedding = nn.Embedding(abstract_vocab, embed_dim)\n",
    "        # positional encoding layer\n",
    "        self.dec_pe = PositionalEncoding(embed_dim, max_len = max_abs_len)\n",
    "        # decoder layers\n",
    "        dec_layer = nn.TransformerDecoderLayer(embed_dim, nheads, hidden_size, dropout)\n",
    "        self.decoder = nn.TransformerDecoder(dec_layer, num_layers = n_layers)\n",
    "    \n",
    "    def forward(self, x, enc_output, inference=False):\n",
    "        if not inference:\n",
    "            mask = create_mask(x, self.pad_idx)\n",
    "        dec_embed = self.dec_embedding(x).permute(1, 0, 2)\n",
    "        dec_pe = self.dec_pe(dec_embed)\n",
    "        dec_out = self.decoder(dec_pe, enc_output, tgt_key_padding_mask=mask)\n",
    "        return dec_out"
   ]
  },
  {
   "cell_type": "code",
   "execution_count": 125,
   "metadata": {},
   "outputs": [],
   "source": [
    "class TransformerNet(nn.Module):\n",
    "  def __init__(self, text_vocab, abstract_vocab, pad_idx, embed_dim, hidden_size, nheads, n_layers, \n",
    "               max_text_len, max_abs_len, dropout):\n",
    "    super(TransformerNet, self).__init__()\n",
    "    self.EncoderNet = EncoderNet(text_vocab, pad_idx, embed_dim, hidden_size, nheads, n_layers, \n",
    "                                 max_text_len, dropout)\n",
    "    self.DecoderNet = DecoderNet(abstract_vocab, pad_idx, embed_dim, hidden_size, nheads, n_layers, \n",
    "                                 max_abs_len, dropout)\n",
    "    # final dense layer\n",
    "    self.fc = nn.Linear(embed_dim, abstract_vocab)\n",
    "    #self.log_softmax = nn.LogSoftmax()\n",
    "\n",
    "  def forward(self, text, abstract, inference=False):\n",
    "\n",
    "    enc_output = self.EncoderNet(text)\n",
    "\n",
    "    dec_output = self.DecoderNet(abstract, enc_output, inference)\n",
    "    \n",
    "    output = self.fc(dec_output)\n",
    "    return output #self.log_softmax(output)"
   ]
  },
  {
   "cell_type": "code",
   "execution_count": 126,
   "metadata": {},
   "outputs": [],
   "source": [
    "# See Pytorch tutorial for details\n",
    "class PositionalEncoding(nn.Module):\n",
    "\n",
    "    def __init__(self, d_model: int, dropout: float = 0.1, max_len: int = 5000):\n",
    "        super().__init__()\n",
    "        self.dropout = nn.Dropout(p=dropout)\n",
    "\n",
    "        position = torch.arange(max_len).unsqueeze(1)\n",
    "        div_term = torch.exp(torch.arange(0, d_model, 2) * (-np.log(10000.0) / d_model))\n",
    "        pe = torch.zeros(max_len, 1, d_model)\n",
    "        pe[:, 0, 0::2] = torch.sin(position * div_term)\n",
    "        pe[:, 0, 1::2] = torch.cos(position * div_term)\n",
    "        self.register_buffer('pe', pe)\n",
    "\n",
    "    def forward(self, x):\n",
    "        \"\"\"\n",
    "        Arguments:\n",
    "            x: Tensor, shape ``[seq_len, batch_size, embedding_dim]``\n",
    "        \"\"\"\n",
    "        x = x + self.pe[:x.size(0)]\n",
    "        return self.dropout(x)"
   ]
  },
  {
   "cell_type": "code",
   "execution_count": 127,
   "metadata": {},
   "outputs": [],
   "source": [
    "def get_model(text_size,abstract_size,pad_idx, embed_size, hid_dim, \n",
    "                       n_head, n_layer, TEXT_MAX, ABSTRACT_MAX, dropout, path=None):\n",
    "    \n",
    "    model = TransformerNet(text_size,abstract_size,pad_idx, embed_size, hid_dim, \n",
    "                       n_head, n_layer, TEXT_MAX, ABSTRACT_MAX, dropout).to(device)\n",
    "    if path == None:\n",
    "        for p in model.parameters():\n",
    "            if p.dim() > 1:\n",
    "                nn.init.xavier_uniform_(p)\n",
    "        return model\n",
    "    else:\n",
    "        model.load_state_dict(torch.load(best_path))\n",
    "        return model"
   ]
  },
  {
   "cell_type": "code",
   "execution_count": 128,
   "metadata": {
    "scrolled": true
   },
   "outputs": [],
   "source": [
    "text_size = len(text_vocab)\n",
    "abstract_size = len(abstract_vocab)\n",
    "pad_idx = 2\n",
    "embed_size = 300  # embedding dimension\n",
    "hid_dim = 256  # dimension of the feedforward network model in ``nn.TransformerEncoder``\n",
    "n_head = 4\n",
    "n_layer = 2  # number of ``nn.TransformerEncoderLayer`` in ``nn.TransformerEncoder``\n",
    "dropout = 0.2  # dropout probability"
   ]
  },
  {
   "cell_type": "code",
   "execution_count": 129,
   "metadata": {
    "scrolled": true
   },
   "outputs": [
    {
     "data": {
      "text/plain": [
       "TransformerNet(\n",
       "  (EncoderNet): EncoderNet(\n",
       "    (enc_embedding): Embedding(116158, 300)\n",
       "    (enc_pe): PositionalEncoding(\n",
       "      (dropout): Dropout(p=0.1, inplace=False)\n",
       "    )\n",
       "    (encoder): TransformerEncoder(\n",
       "      (layers): ModuleList(\n",
       "        (0-1): 2 x TransformerEncoderLayer(\n",
       "          (self_attn): MultiheadAttention(\n",
       "            (out_proj): NonDynamicallyQuantizableLinear(in_features=300, out_features=300, bias=True)\n",
       "          )\n",
       "          (linear1): Linear(in_features=300, out_features=256, bias=True)\n",
       "          (dropout): Dropout(p=0.2, inplace=False)\n",
       "          (linear2): Linear(in_features=256, out_features=300, bias=True)\n",
       "          (norm1): LayerNorm((300,), eps=1e-05, elementwise_affine=True)\n",
       "          (norm2): LayerNorm((300,), eps=1e-05, elementwise_affine=True)\n",
       "          (dropout1): Dropout(p=0.2, inplace=False)\n",
       "          (dropout2): Dropout(p=0.2, inplace=False)\n",
       "        )\n",
       "      )\n",
       "    )\n",
       "  )\n",
       "  (DecoderNet): DecoderNet(\n",
       "    (dec_embedding): Embedding(26967, 300)\n",
       "    (dec_pe): PositionalEncoding(\n",
       "      (dropout): Dropout(p=0.1, inplace=False)\n",
       "    )\n",
       "    (decoder): TransformerDecoder(\n",
       "      (layers): ModuleList(\n",
       "        (0-1): 2 x TransformerDecoderLayer(\n",
       "          (self_attn): MultiheadAttention(\n",
       "            (out_proj): NonDynamicallyQuantizableLinear(in_features=300, out_features=300, bias=True)\n",
       "          )\n",
       "          (multihead_attn): MultiheadAttention(\n",
       "            (out_proj): NonDynamicallyQuantizableLinear(in_features=300, out_features=300, bias=True)\n",
       "          )\n",
       "          (linear1): Linear(in_features=300, out_features=256, bias=True)\n",
       "          (dropout): Dropout(p=0.2, inplace=False)\n",
       "          (linear2): Linear(in_features=256, out_features=300, bias=True)\n",
       "          (norm1): LayerNorm((300,), eps=1e-05, elementwise_affine=True)\n",
       "          (norm2): LayerNorm((300,), eps=1e-05, elementwise_affine=True)\n",
       "          (norm3): LayerNorm((300,), eps=1e-05, elementwise_affine=True)\n",
       "          (dropout1): Dropout(p=0.2, inplace=False)\n",
       "          (dropout2): Dropout(p=0.2, inplace=False)\n",
       "          (dropout3): Dropout(p=0.2, inplace=False)\n",
       "        )\n",
       "      )\n",
       "    )\n",
       "  )\n",
       "  (fc): Linear(in_features=300, out_features=26967, bias=True)\n",
       ")"
      ]
     },
     "execution_count": 129,
     "metadata": {},
     "output_type": "execute_result"
    }
   ],
   "source": [
    "best_path = \"trans_SSN_300_256_Batch_8_4H23lr0.0001.pth\"\n",
    "# model = TransformerNet(text_size,abstract_size,pad_idx, embed_size, hid_dim, \n",
    "#                        n_head, n_layer, TEXT_MAX, ABSTRACT_MAX, dropout, best_path).to(device)\n",
    "\n",
    "model = get_model(text_size,abstract_size,pad_idx, embed_size, hid_dim, \n",
    "                       n_head, n_layer, TEXT_MAX, ABSTRACT_MAX, dropout).to(device)\n",
    "\n",
    "model"
   ]
  },
  {
   "cell_type": "code",
   "execution_count": 57,
   "metadata": {
    "scrolled": false
   },
   "outputs": [],
   "source": [
    "# for i, (abstract, text) in tqdm(enumerate(train_loader), total=len(train_loader)):\n",
    "#     # send batch data to device\n",
    "#     print(\"i\", i)\n",
    "#     src = text.to(device)\n",
    "#     trg = abstract.to(device)\n",
    "    \n",
    "    \n",
    "# #     src_mask, trg_mask = create_masks(src, trg)\n",
    "# #     src_mask.to(device)\n",
    "# #     trg_mask.to(device)\n",
    "    \n",
    "#     preds = model(src, trg)\n",
    "#     print(preds.shape)\n",
    "#     # this gives topk, then select the top1 result, then review it as a list\n",
    "#     # then select the last item, this would be the highest prob\n",
    "#     # only work in inference as this requires no batch\n",
    "#     token = preds.topk(1)[1].view(-1)[-1].item()\n",
    "#     print(token)\n",
    "#     print(abstract_vocab.get_word(token))\n",
    "    \n",
    "    "
   ]
  },
  {
   "cell_type": "markdown",
   "metadata": {},
   "source": [
    "# Tasks\n",
    "~~1 - Complete model definition~~ <br>\n",
    "~~2 - fix word vocab~~ <br>\n",
    "~~3 - Define Attention model and combine with Decoder~~ <br>\n",
    "    ~~1 - Adjust to allow for batch ~~<br>\n",
    "4 - trace through program to see where it starts to have the same tensor <br>\n",
    "~~5 - use mask to hide paddings~~ switch on off to see difference<br>\n",
    "~~6 - Switch from GRU to LSTM~~<br>\n",
    "~~7 - Add training script to train ~~<br>\n",
    " "
   ]
  },
  {
   "cell_type": "markdown",
   "metadata": {},
   "source": [
    "# Model training"
   ]
  },
  {
   "cell_type": "code",
   "execution_count": 130,
   "metadata": {
    "scrolled": true
   },
   "outputs": [],
   "source": [
    "def train(train_loader, valid_loader, model):\n",
    "    lr = 0.0001\n",
    "    criterion = nn.CrossEntropyLoss(ignore_index=pad_idx) # ignore pad\n",
    "    optimizer = torch.optim.Adam(model.parameters(), lr=lr) # learning rate also affects overfitting\n",
    "    #scheduler = ReduceLROnPlateau(optimizer, 'min')\n",
    "    epoch_size = 1\n",
    "    loss_epoch = []\n",
    "    loss_accuracy = []\n",
    "    eval_loss_epoch = []\n",
    "    eval_accuracy = []\n",
    "    best_loss = 1000\n",
    "    \n",
    "    for epoch in range(epoch_size,epoch_size+1):\n",
    "        \n",
    "        model.train()\n",
    "        loss_batch = []\n",
    "        batch_acc = []\n",
    "        for i, (abstract, text) in tqdm(enumerate(train_loader), total=len(train_loader)):\n",
    "            # send batch data to device\n",
    "            abstract = abstract.to(device)\n",
    "            text = text.to(device)\n",
    "            #print(text)\n",
    "            outputs = model(text, abstract=abstract).to(device).permute(1,2,0)\n",
    "            #print(outputs)\n",
    "            #decode(outputs, abstract)\n",
    "            loss = criterion(outputs, abstract)\n",
    "            batch_acc.append(get_accuracy(outputs, abstract))\n",
    "            #print(loss.item())\n",
    "            \n",
    "            # Optimise\n",
    "            del abstract\n",
    "            del text\n",
    "            del outputs\n",
    "\n",
    "            loss_batch.append(loss.item())\n",
    "            optimizer.zero_grad()\n",
    "            loss.backward()\n",
    "\n",
    "            #plot_grad_flow(model.named_parameters())\n",
    "            #torch.nn.utils.clip_grad_norm_(model.parameters(), 0.5)\n",
    "            optimizer.step()\n",
    "            del loss\n",
    "            torch.cuda.empty_cache()\n",
    "            \n",
    "        #return model\n",
    "            #print(loss.item())\n",
    "        current_loss = np.average(loss_batch)\n",
    "        current_acc = np.average(batch_acc)\n",
    "        loss_epoch.append(current_loss)\n",
    "        loss_accuracy.append(current_acc)\n",
    "\n",
    "        print('Epoch [{}/{}], Loss: {:.4f}, Acc: {:.2f}'\n",
    "            .format(epoch, epoch_size, current_loss, current_acc*100))\n",
    "\n",
    "        eval_loss_batch = []\n",
    "        eval_batch_acc = []\n",
    "\n",
    "        model.eval()\n",
    "        with torch.no_grad():\n",
    "            for j, (abstract, text) in enumerate(valid_loader):\n",
    "                abstract = abstract.to(device)\n",
    "                text = text.to(device)\n",
    "\n",
    "                scores = model(text, abstract=abstract).permute(1,2,0)\n",
    "                #decode(scores, abstract)\n",
    "                eval_loss = criterion(scores, abstract)\n",
    "                \n",
    "                #print(eval_loss.item())\n",
    "                eval_loss_batch.append(eval_loss.item())\n",
    "                eval_batch_acc.append(get_accuracy(scores, abstract))\n",
    "                del abstract\n",
    "                del text\n",
    "                del scores\n",
    "                del eval_loss\n",
    "                torch.cuda.empty_cache()\n",
    "        \n",
    "        current_eval_loss = np.average(eval_loss_batch)\n",
    "        current_eval_acc = np.average(eval_batch_acc)\n",
    "        \n",
    "        eval_loss_epoch.append(current_eval_loss)\n",
    "        eval_accuracy.append(current_eval_acc)\n",
    "        \n",
    "        #decrease learning\n",
    "        #scheduler.step(current_eval_loss)\n",
    "        \n",
    "        if (current_eval_loss < best_loss):\n",
    "            best_loss = current_eval_loss\n",
    "            torch.save(model.state_dict(), 'trans_SSN_300_256_Batch_8_4H'+str(epoch)+'lr'+str(lr)+'.pth')\n",
    "            print(\"Best eval loss updated!\")\n",
    "        else:\n",
    "            torch.save(model.state_dict(), 'Xtrans_SSN_300_256_Batch_8_4H'+str(epoch)+'lr'+str(lr)+'.pth')\n",
    "            \n",
    "        print('Valid Epoch [{}/{}], Loss: {:.4f}, Acc: {:.2f}'\n",
    "            .format(epoch, epoch_size, current_eval_loss, current_eval_acc*100))\n",
    "    return loss_epoch, eval_loss_epoch, loss_accuracy, eval_accuracy\n",
    "def get_accuracy(preds, abstracts):\n",
    "#     print(\"preds: \", preds.shape)\n",
    "#     print(\"abstracts:\", abstracts.shape)\n",
    "    pred_ids = preds.argmax(1)\n",
    "    correct_preds = (pred_ids == abstracts).sum().item()\n",
    "    # Calculate the total number of samples\n",
    "    total_samples = abstracts.shape[0] * abstracts.shape[1]\n",
    "    \n",
    "    # Calculate accuracy as the ratio of correct predictions to total samples\n",
    "    accuracy = correct_preds / total_samples\n",
    "    return accuracy\n",
    "def decode(preds, abstracts):\n",
    "    pred_ids = preds.argmax(1)\n",
    "    for i in range(len(pred_ids)):\n",
    "        sentence = \"\"\n",
    "        sentence2 = \"\"\n",
    "        for j in range(ABSTRACT_MAX):\n",
    "            sentence += abstract_vocab.get_word(pred_ids[i][j].item()) + \" \"\n",
    "            sentence2 += abstract_vocab.get_word(abstracts[i][j].item()) + \" \"\n",
    "        print(\"pred: \",sentence)\n",
    "        print(\"abstract: \",sentence2)"
   ]
  },
  {
   "cell_type": "code",
   "execution_count": 131,
   "metadata": {
    "scrolled": true
   },
   "outputs": [
    {
     "data": {
      "application/vnd.jupyter.widget-view+json": {
       "model_id": "e6212dbbdb9c40ec9aa096a299c1faca",
       "version_major": 2,
       "version_minor": 0
      },
      "text/plain": [
       "  0%|          | 0/923 [00:00<?, ?it/s]"
      ]
     },
     "metadata": {},
     "output_type": "display_data"
    },
    {
     "ename": "OutOfMemoryError",
     "evalue": "CUDA out of memory. Tried to allocate 826.00 MiB (GPU 0; 8.00 GiB total capacity; 6.29 GiB already allocated; 0 bytes free; 6.77 GiB reserved in total by PyTorch) If reserved memory is >> allocated memory try setting max_split_size_mb to avoid fragmentation.  See documentation for Memory Management and PYTORCH_CUDA_ALLOC_CONF",
     "output_type": "error",
     "traceback": [
      "\u001b[1;31m---------------------------------------------------------------------------\u001b[0m",
      "\u001b[1;31mOutOfMemoryError\u001b[0m                          Traceback (most recent call last)",
      "Cell \u001b[1;32mIn[131], line 1\u001b[0m\n\u001b[1;32m----> 1\u001b[0m train_loss, eval_loss, train_acc, eval_acc \u001b[38;5;241m=\u001b[39m \u001b[43mtrain\u001b[49m\u001b[43m(\u001b[49m\u001b[43mtrain_loader\u001b[49m\u001b[43m,\u001b[49m\u001b[43m \u001b[49m\u001b[43mvalid_loader\u001b[49m\u001b[43m,\u001b[49m\u001b[43m \u001b[49m\u001b[43mmodel\u001b[49m\u001b[43m)\u001b[49m\n",
      "Cell \u001b[1;32mIn[130], line 37\u001b[0m, in \u001b[0;36mtrain\u001b[1;34m(train_loader, valid_loader, model)\u001b[0m\n\u001b[0;32m     35\u001b[0m loss_batch\u001b[38;5;241m.\u001b[39mappend(loss\u001b[38;5;241m.\u001b[39mitem())\n\u001b[0;32m     36\u001b[0m optimizer\u001b[38;5;241m.\u001b[39mzero_grad()\n\u001b[1;32m---> 37\u001b[0m \u001b[43mloss\u001b[49m\u001b[38;5;241;43m.\u001b[39;49m\u001b[43mbackward\u001b[49m\u001b[43m(\u001b[49m\u001b[43m)\u001b[49m\n\u001b[0;32m     39\u001b[0m \u001b[38;5;66;03m#plot_grad_flow(model.named_parameters())\u001b[39;00m\n\u001b[0;32m     40\u001b[0m \u001b[38;5;66;03m#torch.nn.utils.clip_grad_norm_(model.parameters(), 0.5)\u001b[39;00m\n\u001b[0;32m     41\u001b[0m optimizer\u001b[38;5;241m.\u001b[39mstep()\n",
      "File \u001b[1;32m~\\AppData\\Roaming\\Python\\Python39\\site-packages\\torch\\_tensor.py:487\u001b[0m, in \u001b[0;36mTensor.backward\u001b[1;34m(self, gradient, retain_graph, create_graph, inputs)\u001b[0m\n\u001b[0;32m    477\u001b[0m \u001b[38;5;28;01mif\u001b[39;00m has_torch_function_unary(\u001b[38;5;28mself\u001b[39m):\n\u001b[0;32m    478\u001b[0m     \u001b[38;5;28;01mreturn\u001b[39;00m handle_torch_function(\n\u001b[0;32m    479\u001b[0m         Tensor\u001b[38;5;241m.\u001b[39mbackward,\n\u001b[0;32m    480\u001b[0m         (\u001b[38;5;28mself\u001b[39m,),\n\u001b[1;32m   (...)\u001b[0m\n\u001b[0;32m    485\u001b[0m         inputs\u001b[38;5;241m=\u001b[39minputs,\n\u001b[0;32m    486\u001b[0m     )\n\u001b[1;32m--> 487\u001b[0m \u001b[43mtorch\u001b[49m\u001b[38;5;241;43m.\u001b[39;49m\u001b[43mautograd\u001b[49m\u001b[38;5;241;43m.\u001b[39;49m\u001b[43mbackward\u001b[49m\u001b[43m(\u001b[49m\n\u001b[0;32m    488\u001b[0m \u001b[43m    \u001b[49m\u001b[38;5;28;43mself\u001b[39;49m\u001b[43m,\u001b[49m\u001b[43m \u001b[49m\u001b[43mgradient\u001b[49m\u001b[43m,\u001b[49m\u001b[43m \u001b[49m\u001b[43mretain_graph\u001b[49m\u001b[43m,\u001b[49m\u001b[43m \u001b[49m\u001b[43mcreate_graph\u001b[49m\u001b[43m,\u001b[49m\u001b[43m \u001b[49m\u001b[43minputs\u001b[49m\u001b[38;5;241;43m=\u001b[39;49m\u001b[43minputs\u001b[49m\n\u001b[0;32m    489\u001b[0m \u001b[43m\u001b[49m\u001b[43m)\u001b[49m\n",
      "File \u001b[1;32m~\\AppData\\Roaming\\Python\\Python39\\site-packages\\torch\\autograd\\__init__.py:200\u001b[0m, in \u001b[0;36mbackward\u001b[1;34m(tensors, grad_tensors, retain_graph, create_graph, grad_variables, inputs)\u001b[0m\n\u001b[0;32m    195\u001b[0m     retain_graph \u001b[38;5;241m=\u001b[39m create_graph\n\u001b[0;32m    197\u001b[0m \u001b[38;5;66;03m# The reason we repeat same the comment below is that\u001b[39;00m\n\u001b[0;32m    198\u001b[0m \u001b[38;5;66;03m# some Python versions print out the first line of a multi-line function\u001b[39;00m\n\u001b[0;32m    199\u001b[0m \u001b[38;5;66;03m# calls in the traceback and some print out the last line\u001b[39;00m\n\u001b[1;32m--> 200\u001b[0m \u001b[43mVariable\u001b[49m\u001b[38;5;241;43m.\u001b[39;49m\u001b[43m_execution_engine\u001b[49m\u001b[38;5;241;43m.\u001b[39;49m\u001b[43mrun_backward\u001b[49m\u001b[43m(\u001b[49m\u001b[43m  \u001b[49m\u001b[38;5;66;43;03m# Calls into the C++ engine to run the backward pass\u001b[39;49;00m\n\u001b[0;32m    201\u001b[0m \u001b[43m    \u001b[49m\u001b[43mtensors\u001b[49m\u001b[43m,\u001b[49m\u001b[43m \u001b[49m\u001b[43mgrad_tensors_\u001b[49m\u001b[43m,\u001b[49m\u001b[43m \u001b[49m\u001b[43mretain_graph\u001b[49m\u001b[43m,\u001b[49m\u001b[43m \u001b[49m\u001b[43mcreate_graph\u001b[49m\u001b[43m,\u001b[49m\u001b[43m \u001b[49m\u001b[43minputs\u001b[49m\u001b[43m,\u001b[49m\n\u001b[0;32m    202\u001b[0m \u001b[43m    \u001b[49m\u001b[43mallow_unreachable\u001b[49m\u001b[38;5;241;43m=\u001b[39;49m\u001b[38;5;28;43;01mTrue\u001b[39;49;00m\u001b[43m,\u001b[49m\u001b[43m \u001b[49m\u001b[43maccumulate_grad\u001b[49m\u001b[38;5;241;43m=\u001b[39;49m\u001b[38;5;28;43;01mTrue\u001b[39;49;00m\u001b[43m)\u001b[49m\n",
      "\u001b[1;31mOutOfMemoryError\u001b[0m: CUDA out of memory. Tried to allocate 826.00 MiB (GPU 0; 8.00 GiB total capacity; 6.29 GiB already allocated; 0 bytes free; 6.77 GiB reserved in total by PyTorch) If reserved memory is >> allocated memory try setting max_split_size_mb to avoid fragmentation.  See documentation for Memory Management and PYTORCH_CUDA_ALLOC_CONF"
     ]
    }
   ],
   "source": [
    "train_loss, eval_loss, train_acc, eval_acc = train(train_loader, valid_loader, model)"
   ]
  },
  {
   "cell_type": "code",
   "execution_count": 27,
   "metadata": {},
   "outputs": [
    {
     "data": {
      "image/png": "[encoded data removed]",
      "text/plain": [
       "<Figure size 640x480 with 1 Axes>"
      ]
     },
     "metadata": {},
     "output_type": "display_data"
    }
   ],
   "source": [
    "plot_grad_flow(model.named_parameters())"
   ]
  },
  {
   "cell_type": "code",
   "execution_count": 25,
   "metadata": {},
   "outputs": [],
   "source": [
    "import time\n",
    "def writeLoss(filename, loss):\n",
    "    # filename in format losstype+layer+dim, validL2D256\n",
    "    timestr = time.strftime(\"%Y%m%d-%H%M%S\")\n",
    "    filename = filename + \"_\" + timestr + \".txt\"\n",
    "    with open(filename, \"a\") as myfile:\n",
    "        for item in loss:\n",
    "            myfile.write(str(item)+\"\\n\")\n"
   ]
  },
  {
   "cell_type": "code",
   "execution_count": 26,
   "metadata": {},
   "outputs": [],
   "source": [
    "writeLoss(\"Train\", train_loss)\n",
    "writeLoss(\"Valid\", eval_loss)\n",
    "writeLoss(\"Train_acc\", train_acc)\n",
    "writeLoss(\"Valid_acc\", eval_acc)"
   ]
  },
  {
   "cell_type": "code",
   "execution_count": 345,
   "metadata": {},
   "outputs": [],
   "source": [
    "torch.save(model.state_dict(), 'best_decoder20230729_epoch500.pth')"
   ]
  },
  {
   "cell_type": "code",
   "execution_count": 23,
   "metadata": {},
   "outputs": [],
   "source": [
    "def plot_grad_flow(named_parameters):\n",
    "    ave_grads = []\n",
    "    layers = []\n",
    "    for n, p in named_parameters:\n",
    "        #print(n)\n",
    "        if(p.requires_grad) and (\"bias\" not in n):\n",
    "            layers.append(n)\n",
    "            #print(type(p.grad))\n",
    "            ave_grads.append(torch.mean(torch.abs(p.grad)).cpu())\n",
    "    plt.plot(ave_grads, alpha=0.3, color=\"b\")\n",
    "    plt.hlines(0, 0, len(ave_grads)+1, linewidth=1, color=\"k\" )\n",
    "    plt.xticks(range(0,len(ave_grads), 1), layers, rotation=\"vertical\")\n",
    "    plt.xlim(xmin=0, xmax=len(ave_grads))\n",
    "    plt.xlabel(\"Layers\")\n",
    "    plt.ylabel(\"average gradient\")\n",
    "    plt.title(\"Gradient flow\")\n",
    "    plt.grid(True)"
   ]
  },
  {
   "cell_type": "code",
   "execution_count": 28,
   "metadata": {},
   "outputs": [
    {
     "data": {
      "text/plain": [
       "<matplotlib.legend.Legend at 0x1d696d34d60>"
      ]
     },
     "execution_count": 28,
     "metadata": {},
     "output_type": "execute_result"
    },
    {
     "data": {
      "image/png": "[encoded data removed]",
      "text/plain": [
       "<Figure size 640x480 with 1 Axes>"
      ]
     },
     "metadata": {},
     "output_type": "display_data"
    }
   ],
   "source": [
    "plt.plot(train_loss)\n",
    "plt.plot(eval_loss)\n",
    "plt.xlabel('epochs')\n",
    "plt.ylabel('loss')\n",
    "plt.legend(['train loss','Valid loss'])"
   ]
  },
  {
   "cell_type": "markdown",
   "metadata": {},
   "source": [
    "# Model Evaluation"
   ]
  },
  {
   "cell_type": "code",
   "execution_count": 63,
   "metadata": {},
   "outputs": [],
   "source": [
    "import gc\n",
    "gc.collect()\n",
    "torch.cuda.empty_cache()"
   ]
  },
  {
   "cell_type": "code",
   "execution_count": null,
   "metadata": {},
   "outputs": [],
   "source": [
    "def get_accuracy(preds, abstracts):\n",
    "#     print(\"preds: \", preds.shape)\n",
    "#     print(\"abstracts:\", abstracts.shape)\n",
    "pred_ids = preds.argmax(1)\n",
    "correct_preds = (pred_ids == abstracts).sum().item()\n",
    "# Calculate the total number of samples\n",
    "total_samples = abstracts.shape[0] * abstracts.shape[1]\n",
    "\n",
    "# Calculate accuracy as the ratio of correct predictions to total samples\n",
    "accuracy = correct_preds / total_samples\n",
    "return accuracy"
   ]
  },
  {
   "cell_type": "code",
   "execution_count": 112,
   "metadata": {},
   "outputs": [
    {
     "data": {
      "application/vnd.jupyter.widget-view+json": {
       "model_id": "7074c720b5d34f74a53ef157b6a90f44",
       "version_major": 2,
       "version_minor": 0
      },
      "text/plain": [
       "  0%|          | 0/3956 [00:00<?, ?it/s]"
      ]
     },
     "metadata": {},
     "output_type": "display_data"
    },
    {
     "name": "stdout",
     "output_type": "stream",
     "text": [
      "preds tensor([[[ 1.1270,  0.7704,  1.1845,  ...,  1.1007,  1.1057,  1.1595]],\n",
      "\n",
      "        [[ 0.4905, -0.2710,  0.5507,  ...,  0.4738,  0.4692,  0.5227]],\n",
      "\n",
      "        [[ 0.1467,  0.1522,  0.2158,  ...,  0.1360,  0.1295,  0.1843]],\n",
      "\n",
      "        ...,\n",
      "\n",
      "        [[-3.2193,  1.0518, -3.1774,  ..., -3.2404, -3.2459, -3.1915]],\n",
      "\n",
      "        [[-3.2246,  1.6826, -3.1782,  ..., -3.2437, -3.2495, -3.1946]],\n",
      "\n",
      "        [[-3.0912,  1.6739, -3.0387,  ..., -3.1053, -3.1148, -3.0590]]],\n",
      "       device='cuda:0', grad_fn=<ViewBackward0>)\n",
      "tensor([[1376,  452,  247,  414,  702,  627,  510, 1616, 3098,  414,  702, 2414,\n",
      "         3173,  641, 2520, 1272, 2747, 1616,   26, 1030,  213,  445, 2405,  702,\n",
      "         3098,  173,  113,  143,  510, 1616,   28,  986, 6243,  173, 2583, 1368,\n",
      "          311,   48, 2747,   82,  515,  702,  226, 2824, 2575,  110, 1347,  283,\n",
      "           47,  101,  282, 2747,   82,  702,  631,   53,   48,  702, 1972, 4841,\n",
      "            1,    2,    2,    2,    2,    2,    2,    2,    2,    2,    2,    2,\n",
      "            2,    2,    2,    2,    2,    2,    2,    2,    2,    2,    2,    2,\n",
      "            2,    2,    2,    2,    2,    2,    2,    2,    2,    2,    2,    2,\n",
      "            2,    2,    2,    2,    2,    2,    2,    2,    2,    2,    2,    2,\n",
      "            2,    2,    2,    2,    2,    2,    2,    2,    2,    2,    2,    2]],\n",
      "       device='cuda:0')\n",
      "tensor([[ 9367],\n",
      "        [16916],\n",
      "        [16916],\n",
      "        [16916],\n",
      "        [ 5961],\n",
      "        [ 7298],\n",
      "        [ 7371],\n",
      "        [ 7371],\n",
      "        [ 7371],\n",
      "        [ 7371],\n",
      "        [16916],\n",
      "        [ 3776],\n",
      "        [16916],\n",
      "        [ 9417],\n",
      "        [13099],\n",
      "        [ 9417],\n",
      "        [ 8641],\n",
      "        [ 8641],\n",
      "        [16916],\n",
      "        [16916],\n",
      "        [16916],\n",
      "        [16916],\n",
      "        [ 6203],\n",
      "        [ 6203],\n",
      "        [ 5564],\n",
      "        [10304],\n",
      "        [10304],\n",
      "        [10304],\n",
      "        [10304],\n",
      "        [10304],\n",
      "        [16916],\n",
      "        [16916],\n",
      "        [16916],\n",
      "        [16916],\n",
      "        [16916],\n",
      "        [11477],\n",
      "        [ 9064],\n",
      "        [ 9064],\n",
      "        [ 5961],\n",
      "        [10304],\n",
      "        [10304],\n",
      "        [10304],\n",
      "        [10304],\n",
      "        [10304],\n",
      "        [10304],\n",
      "        [10304],\n",
      "        [10304],\n",
      "        [10304],\n",
      "        [10304],\n",
      "        [10304],\n",
      "        [10304],\n",
      "        [10304],\n",
      "        [ 3069],\n",
      "        [10304],\n",
      "        [10304],\n",
      "        [10304],\n",
      "        [10304],\n",
      "        [10304],\n",
      "        [10304],\n",
      "        [10304],\n",
      "        [10304],\n",
      "        [10304],\n",
      "        [10304],\n",
      "        [10304],\n",
      "        [10304],\n",
      "        [10304],\n",
      "        [10304],\n",
      "        [ 7535],\n",
      "        [ 9115],\n",
      "        [10304],\n",
      "        [10304],\n",
      "        [10304],\n",
      "        [10304],\n",
      "        [10304],\n",
      "        [ 9417],\n",
      "        [ 4203],\n",
      "        [ 4866],\n",
      "        [ 4866],\n",
      "        [ 4866],\n",
      "        [ 9115],\n",
      "        [ 7535],\n",
      "        [ 7535],\n",
      "        [16916],\n",
      "        [ 3183],\n",
      "        [ 3183],\n",
      "        [ 9063],\n",
      "        [ 9063],\n",
      "        [10304],\n",
      "        [10304],\n",
      "        [10304],\n",
      "        [10239],\n",
      "        [10239],\n",
      "        [ 7694],\n",
      "        [ 9064],\n",
      "        [ 8012],\n",
      "        [ 8012],\n",
      "        [ 8012],\n",
      "        [ 8012],\n",
      "        [ 9417],\n",
      "        [ 9417],\n",
      "        [ 9417],\n",
      "        [ 9064],\n",
      "        [ 9064],\n",
      "        [ 5564],\n",
      "        [ 5564],\n",
      "        [ 4447],\n",
      "        [ 6908],\n",
      "        [ 9794],\n",
      "        [ 3578],\n",
      "        [ 1755],\n",
      "        [ 8240],\n",
      "        [ 4889],\n",
      "        [10304],\n",
      "        [10304],\n",
      "        [10304],\n",
      "        [10304],\n",
      "        [ 4424],\n",
      "        [ 4424],\n",
      "        [ 1952],\n",
      "        [ 7700]], device='cuda:0')\n"
     ]
    }
   ],
   "source": [
    "model.eval()\n",
    "for i, (abstract, text) in tqdm(enumerate(test_loader), total=len(test_loader)):\n",
    "    output_sequence = torch.full((1,120), 0, dtype=torch.long, device=device)\n",
    "    output_sequence[:,0] = 0\n",
    "    text = text.to(device)\n",
    "    abstract = abstract.to(device)\n",
    " \n",
    "\n",
    "    preds = model(text, output_sequence)\n",
    "    print(\"preds\", preds)\n",
    "    next_tokens = preds.argmax(-1)\n",
    "    print(next_tokens)\n",
    "    sentence = \"\"\n",
    "    sentence2 = \"\"\n",
    "    for j in range(120):\n",
    "        print(j)\n",
    "        sentence += abstract_vocab.get_word(abstract[0][j].item()) + \" \"\n",
    "        sentence2 += abstract_vocab.get_word(next_tokens[j].item()) + \" \"\n",
    "    print(\"abs: \",sentence)\n",
    "    print(\"pred: \",sentence2)\n",
    "    break\n",
    "\n",
    "def decode(preds, abstracts):\n",
    "    pred_ids = preds.argmax(1)\n",
    "    for i in range(len(pred_ids)):\n",
    "        sentence = \"\"\n",
    "        sentence2 = \"\"\n",
    "        for j in range(ABSTRACT_MAX):\n",
    "            sentence += abstract_vocab.get_word(pred_ids[i][j].item()) + \" \"\n",
    "            sentence2 += abstract_vocab.get_word(abstracts[i][j].item()) + \" \"\n",
    "        print(\"pred: \",sentence)\n",
    "        print(\"abstract: \",sentence2)"
   ]
  },
  {
   "cell_type": "markdown",
   "metadata": {},
   "source": [
    "# FastText"
   ]
  },
  {
   "cell_type": "markdown",
   "metadata": {},
   "source": [
    "## Model for querying"
   ]
  },
  {
   "cell_type": "markdown",
   "metadata": {},
   "source": [
    "train fasttext model\n",
    "obtain weight from fasttest\n",
    "then embedding can load weights\n",
    "\n",
    "- train 2 fasttext model, 1 for text and another for abstract\n",
    "- obtain weights for both vocab\n",
    "- put in encoder and decoder like normal\n",
    "- https://stackoverflow.com/questions/31440803/how-to-fetch-vectors-for-a-word-list-with-word2vec\n",
    "- use this to update the vocab class to update ways to fetch words\n",
    "- to solve querying, use the model and use function to find cosine"
   ]
  },
  {
   "cell_type": "code",
   "execution_count": 6,
   "metadata": {},
   "outputs": [],
   "source": [
    "import fasttext\n",
    "model = fasttext.train_unsupervised('data/fil9')\n",
    "model.save_model(\"result/fil9.bin\")\n",
    "model = fasttext.load_model(\"result/fil9.bin\")\n",
    "# EXPECTS TEXT FILE FORMAT WHERE 1 TEXT PER ROW\n",
    "# IMPORTANT, NEED TO REDESIGN CLEANING PROCESS "
   ]
  },
  {
   "cell_type": "markdown",
   "metadata": {},
   "source": [
    "# Dataset Exploration"
   ]
  },
  {
   "cell_type": "markdown",
   "metadata": {},
   "source": [
    "After exploring, all highlight:article ratio being more than 1.0 means the summary text is producing more text than the original text, this defeats the purpose of the model, therefore all data with a ratio of more than or equal to 1.0 will be omitted."
   ]
  },
  {
   "cell_type": "code",
   "execution_count": null,
   "metadata": {},
   "outputs": [],
   "source": []
  },
  {
   "cell_type": "markdown",
   "metadata": {},
   "source": [
    "# Model improvement/Retrain"
   ]
  },
  {
   "cell_type": "markdown",
   "metadata": {},
   "source": [
    "# Model Finalisation and Evaluation"
   ]
  },
  {
   "cell_type": "code",
   "execution_count": 29,
   "metadata": {},
   "outputs": [],
   "source": [
    "import os\n",
    "os.makedirs(\"my_model\", exist_ok=True)"
   ]
  },
  {
   "cell_type": "markdown",
   "metadata": {},
   "source": [
    "## Inference Script"
   ]
  },
  {
   "cell_type": "code",
   "execution_count": null,
   "metadata": {},
   "outputs": [],
   "source": [
    "# Load model\n",
    "best_model_path = \"best_decoder20230719.pth\"\n",
    "best_model = Model(len(text_vocab),len(abstract_vocab),2,256)\n",
    "best_model.load_state_dict(torch.load(best_model_path))"
   ]
  }
 ],
 "metadata": {
  "colab": {
   "name": "COMP5623M_CW1_Q2.ipynb",
   "provenance": []
  },
  "kernelspec": {
   "display_name": "Python 3 (ipykernel)",
   "language": "python",
   "name": "python3"
  },
  "language_info": {
   "codemirror_mode": {
    "name": "ipython",
    "version": 3
   },
   "file_extension": ".py",
   "mimetype": "text/x-python",
   "name": "python",
   "nbconvert_exporter": "python",
   "pygments_lexer": "ipython3",
   "version": "3.9.12"
  },
  "vscode": {
   "interpreter": {
    "hash": "31f2aee4e71d21fbe5cf8b01ff0e069b9275f58929596ceb00d14d90e3e16cd6"
   }
  }
 },
 "nbformat": 4,
 "nbformat_minor": 1
}
